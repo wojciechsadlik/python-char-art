{
 "cells": [
  {
   "cell_type": "code",
   "execution_count": 1,
   "metadata": {},
   "outputs": [],
   "source": [
    "from PIL import Image, ImageOps, ImageFont\n",
    "import matplotlib.pyplot as plt\n",
    "import numpy as np\n",
    "import ipywidgets\n",
    "from ipywidgets import interactive, HBox, VBox\n",
    "from mono_char_art_conversion_wxh import quantize_grayscale_wxh\n",
    "from img_processing import preprocess_img, DITHER_MODES\n",
    "from braille_art import get_braille_chars\n",
    "from generate_char_palette import *\n",
    "from mono_char_art_conversion_mlp import train_classifier"
   ]
  },
  {
   "cell_type": "code",
   "execution_count": 2,
   "metadata": {},
   "outputs": [],
   "source": [
    "ASCII_SET = get_asciis()\n",
    "BRAILLE_SET = get_braille_chars()\n",
    "\n",
    "CHAR_SET = ASCII_SET\n",
    "W_H_WIN_SHAPE = (2,4)"
   ]
  },
  {
   "cell_type": "code",
   "execution_count": 3,
   "metadata": {},
   "outputs": [],
   "source": [
    "FONT = ImageFont.truetype(\"fonts/CascadiaMono.ttf\", 12)\n",
    "IMG_PATH = \"imgs/irad_grad.bmp\""
   ]
  },
  {
   "cell_type": "code",
   "execution_count": 4,
   "metadata": {},
   "outputs": [
    {
     "name": "stdout",
     "output_type": "stream",
     "text": [
      "(512, 512)\n"
     ]
    }
   ],
   "source": [
    "orig_img = Image.open(IMG_PATH).convert(\"L\")\n",
    "#orig_img = ImageOps.invert(orig_img)\n",
    "\n",
    "print(orig_img.size)"
   ]
  },
  {
   "cell_type": "code",
   "execution_count": 5,
   "metadata": {},
   "outputs": [
    {
     "data": {
      "application/vnd.jupyter.widget-view+json": {
       "model_id": "2a236c2833974c3aaed444fcba67d2c5",
       "version_major": 2,
       "version_minor": 0
      },
      "text/plain": [
       "HBox(children=(VBox(children=(FloatSlider(value=0.5, description='scale_factor', max=1.0, min=0.01, step=0.01)…"
      ]
     },
     "metadata": {},
     "output_type": "display_data"
    }
   ],
   "source": [
    "def i_preprocess_img(scale_factor, contrast, brightness, quantize_colors, eq, dither):\n",
    "    proc_img = preprocess_img(orig_img, scale_factor, contrast, brightness, eq, quantize_colors, dither)\n",
    "    plt.imshow(proc_img, cmap='gray', vmin=0, vmax=255, interpolation='none')\n",
    "\n",
    "    plt.figure(figsize=(9, 3))\n",
    "    plt.xticks([x for x in range(0, len(proc_img.histogram()), 25)])\n",
    "    plt.bar([x for x in range(0, len(proc_img.histogram()))], proc_img.histogram())\n",
    "    plt.grid()\n",
    "    plt.show()\n",
    "\n",
    "    return proc_img\n",
    "\n",
    "interactive_preprocess = interactive(i_preprocess_img,\n",
    "            scale_factor=(0.01, 1, 0.01),\n",
    "            contrast=(0, 2, 0.01),\n",
    "            brightness=(0, 2, 0.01),\n",
    "            eq=(0, 1, 0.01),\n",
    "            quantize_colors=(1, 256, 1),\n",
    "            dither=DITHER_MODES)\n",
    "\n",
    "controls = VBox(interactive_preprocess.children[:-1])\n",
    "display(HBox((controls, interactive_preprocess.children[-1])))"
   ]
  },
  {
   "cell_type": "code",
   "execution_count": 6,
   "metadata": {},
   "outputs": [],
   "source": [
    "proc_img = interactive_preprocess.result"
   ]
  },
  {
   "cell_type": "code",
   "execution_count": 7,
   "metadata": {},
   "outputs": [
    {
     "name": "stdout",
     "output_type": "stream",
     "text": [
      "      .....:::::::::::::::|:||||||||||||]|]|]]]]]]]]]]]]]]]]]]]]]]]]]]]]]]]]]]]]]]]]]|]||||||||||||||::::::::::::::::.....     \n",
      "    ....::::::::::::::|:|||||||||||]|]]]]]]]]]]]]]]]]]]]]]]]]]]]]]]]]]]]]]]]]]]]]]]]]]]]]]]]|]|||||||||||:::::::::::::::.....  \n",
      "  ....:::::::::::::|:||||||||||]|]]]]]]]]]]]]]]]]]]]]]]]]]]]]]]]]]]]]]]]]]]]]]]]]]]]]]]]]]]]]]]]|]||||||||||::::::::::::::.... \n",
      "....:::::::::::::|:||||||||]|]]]]]]]]]]]]]]]]]]]]]]]]]]]]]]]]]]]]]]]]]]]]]]]]]]]]]]]]]]]]]]]]]]]]]]]||||||||||:|::::::::::::...\n",
      "..:::::::::::::|||||||||]|]]]]]]]]]]]]]]]]]]]]]]]]]]]]]]]]]]]]]]]]]]]]]]]]]]]]]]]]]]]]]]]]]]]]]]]]]]]]]||||||||||:::::::::::::.\n",
      ".::::::::::::|||||||||]|]]]]]]]]]]]]]]]]]]]]]]]]]]]]]]]]]]]]]]]]]]]]]]]]]]]]]]]]]]]]]]]]]]]]]]]]]]]]]]]]]||||||||||::::::::::::\n",
      ":::::::::::||||||||]|]]]]]]]]]]]]]]]]]]]]]]]]]]]]]]]]]]]]]]]]]]]]]]]]]]]]]]]]]]]]]]]]]]]]]]]]]]]]]]]]]]]]]]]|||||||||::::::::::\n",
      ":::::::::||||||||]|]]]]]]]]]]]]]]]]]]]]]]]]]]]]]]]]]]]]]]]]]]]]]]]]]]]]]]]]]]]]]]]]]]]]]]]]]]]]]]]]]]]]]]]]]]]|||||||||::::::::\n",
      ":::::::||||||||]|]]]]]]]]]]]]]]]]]]]]]]]]]]]]]]]]]]]]]]]]]]]]]]]]]]]]]]]]]]]]]]]]]]]]]]]]]]]]]]]]]]]]]]]]]]]]]]]|||||||||::::::\n",
      ":::::|:||||||]|]]]]]]]]]]]]]]]]]]]]]]]]]]]]]]]]]]]]]]]]]]]]]]]]]]]]]]]]]]]]]]]]]]]]]]]]]]]]]]]]]]]]]]]]]]]]]]]]]]]||||||||:::::\n",
      "::::|:||||||]]]]]]]]]]]]]]]]]]]]]]]]]]]]]]]]]]]]]]]]]]]]]]]]]]]]]]]]]]]]]]]]]]]]]]]]]]]]]]]]]]]]]]]]]]]]]]]]]]]]]]]]||||||||:::\n",
      "::|:||||||]|]]]]]]]]]]]]]]]]]]]]]]]]]]]]]]]]]]]]]]]]]]]]]Q]]Q]Q]Q]Q]Q]]Q]]]]]]]]]]]]]]]]]]]]]]]]]]]]]]]]]]]]]]]]]]]]]||||||||::\n",
      "::|||||||]]]]]]]]]]]]]]]]]]]]]]]]]]]]]]]]]]]]]]]]]]Q]Q]Q]Q]Q]Q]Q]Q]Q]Q]Q]Q]Q]Q]]]]]]]]]]]]]]]]]]]]]]]]]]]]]]]]]]]]]]]]]|||||||:\n",
      "|||||||]|]]]]]]]]]]]]]]]]]]]]]]]]]]]]]]]]]]]]Q]Q]Q]Q]Q]Q]QQQQQQQQQQQQQQ]Q]Q]Q]Q]Q]Q]]]]]]]]]]]]]]]]]]]]]]]]]]]]]]]]]]]]]|||||||\n",
      ":|||||]|]]]]]]]]]]]]]]]]]]]]]]]]]]]]]]]]]]Q]Q]Q]Q]QQQQQQQQQQQQQQQQQQQQQQQQQQQQ]Q]Q]Q]Q]]]]]]]]]]]]]]]]]]]]]]]]]]]]]]]]]]]||||||\n",
      "|||||]|]]]]]]]]]]]]]]]]]]]]]]]]]]]]]]]]Q]Q]Q]QQQQQQQQQQQQQQQQQQQQQQQQQQQQQQQQQQQQQQ]Q]Q]Q]]]]]]]]]]]]]]]]]]]]]]]]]]]]]]]]]]||||\n",
      "||||]]]]]]]]]]]]]]]]]]]]]]]]]]]]]]]]]Q]Q]Q]QQQQQQQQQQQQQQQQQ$Q$Q$Q$Q$QQQQQQQQQQQQQQQQQ]Q]Q]]]]]]]]]]]]]]]]]]]]]]]]]]]]]]]]]]|||\n",
      "|||]]]]]]]]]]]]]]]]]]]]]]]]]]]]]]]]Q]Q]QQQQQQQQQQQQ$QQQ$Q$QQQ$QQQ$Q$Q$Q$Q$Q$QQQQQQQQQQQQ]Q]Q]]]]]]]]]]]]]]]]]]]]]]]]]]]]]]]]]||\n",
      "||]|]]]]]]]]]]]]]]]]]]]]]]]]]]]]]Q]Q]QQ]QQQQQQQQ$QQQ$Q$Q$Q$$Q$$$Q$Q$Q$Q$Q$QQ$Q$Q$QQQQQQQQQ]Q]Q]]]]]]]]]]]]]]]]]]]]]]]]]]]]]]]]|\n",
      "|]|]]]]]]]]]]]]]]]]]]]]]]]]]]]]Q]Q]QQ]QQQQQQQ$QQQ$Q$Q$Q$Q$Q$$Q$Q$Q$Q$Q$Q$Q$Q$Q$QQ$Q$QQQQQQQQ]Q]Q]]]]]]]]]]]]]]]]]]]]]]]]]]]]]]|\n",
      "|]]]]]]]]]]]]]]]]]]]]]]]]]]]]]]]Q]Q]QQQQQQ$QQQ$Q$Q$Q$Q$$$$$$$$$$$$$$$$$$$$$$Q$Q$Q$Q$Q$QQQQQQQQ]Q]Q]]]]]]]]]]]]]]]]]]]]]]]]]]]]]\n",
      "]]]]]]]]]]]]]]]]]]]]]]]]]]]]Q]Q]QQQQQQQQ$QQ$Q$Q$Q$Q$$$$$$$$$$$$$$$$$$$$$$$Q$$$$Q$Q$Q$Q$Q$QQQQQQ]Q]Q]]]]]]]]]]]]]]]]]]]]]]]]]]]]\n",
      "]]]]]]]]]]]]]]]]]]]]]]]]]]]]]Q]Q]QQQQQ$QQ$Q$Q$$$$$$$$$$$$$$$$$$$$$$$$$$$$$$$$$$$$$$Q$Q$QQ$QQQQQQQ]Q]Q]]]]]]]]]]]]]]]]]]]]]]]]]]\n",
      "]]]]]]]]]]]]]]]]]]]]]]]]]]]Q]Q]QQQQQQQQ$Q$Q$$Q$Q$$$$$$$$$$$$$$$$$$$$$$$$$$$$$$$$$$$$$Q$Q$Q$QQQQQQQ]Q]]]]]]]]]]]]]]]]]]]]]]]]]]]\n",
      "]]]]]]]]]]]]]]]]]]]]]]]]]]]Q]QQQQQQQQ$Q$Q$Q$$$$$$$$$$$$$$$$$$$$$$$$$$$$$$$$$$$$$$$$$$$Q$Q$Q$Q$QQQQQ]Q]Q]]]]]]]]]]]]]]]]]]]]]]]]\n",
      "]]]]]]]]]]]]]]]]]]]]]]]]]Q]Q]QQQQQQ$QQ$Q$Q$Q$$$$$$$$$$$$$$$$$$$$$$$$$$$$$$$$$$$$$$$$Q$$$Q$QQ$QQQQQQ]Q]]]]]]]]]]]]]]]]]]]]]]]]]]\n",
      "]]]]]]]]]]]]]]]]]]]]]]]]]]Q]Q]QQQQQQ$Q$Q$$$$$$$$$$$$$$$$$$$$$$$$$$$$$$$$$$$$$$$$$$$$$$Q$$$$QQ$QQQQQQ]Q]Q]]]]]]]]]]]]]]]]]]]]]]]\n",
      "]]]]]]]]]]]]]]]]]]]]]]]]Q]Q]QQQQQ$Q$Q$Q$Q$$$$$$$$$$$$$$$$$$$$$$$$$$$$$$$$$$$$$$$$$$$$$$$Q$Q$QQ$QQQQQ]Q]]]]]]]]]]]]]]]]]]]]]]]]]\n",
      "]]]]]]]]]]]]]]]]]]]]]]]]]Q]Q]QQQQQQ$Q$Q$$$$$$$$$$$$$$$$$$$$$$$$$$$$$$$$$$$$$$$$$$$$$$$$$$$Q$$Q$Q$QQQQ]Q]Q]]]]]]]]]]]]]]]]]]]]]]\n",
      "]]]]]]]]]]]]]]]]]]]]]]]Q]Q]QQQQQ$Q$Q$Q$Q$$$$$$$$$$$$$$$$$$$$$$$$$$$$$$$$$$$$$$$$$$$$$$$$$$$Q$QQ$QQQQ]Q]Q]]]]]]]]]]]]]]]]]]]]]]]\n",
      "]]]]]]]]]]]]]]]]]]]]]]]]]Q]Q]QQQQQ$Q$Q$$$$$$$$$$$$$$$$$$$$$$$$$@$@$$$$$$$$$$$$$$$$$$$$$$$$Q$Q$QQ$QQQQ]Q]Q]]]]]]]]]]]]]]]]]]]]]]\n",
      "]]]]]]]]]]]]]]]]]]]]]]]Q]Q]QQQQQ$QQ$Q$$Q$$$$$$$$$$$$$$$$$$$$$$$$@$$$$$$$$$$$$$$$$$$$$$$$$$$$$Q$QQ$QQQ]Q]]]]]]]]]]]]]]]]]]]]]]]]\n",
      "]]]]]]]]]]]]]]]]]]]]]]]]Q]Q]QQQQQ$Q$Q$$$$$$$$$$$$$$$$$$$$$$$$$$$$$$$$$$$$$$$$$$$$$$$$$$$$$Q$Q$Q$QQQQQ]Q]Q]]]]]]]]]]]]]]]]]]]]]]\n",
      "]]]]]]]]]]]]]]]]]]]]]]]]]Q]QQQQ$QQ$Q$Q$$$$$$$$$$$$$$$$$$$$$$$$$$$$$$$$$$$$$$$$$$$$$$$$$$$$$$$Q$Q$QQQQ]Q]]]]]]]]]]]]]]]]]]]]]]]]\n",
      "]]]]]]]]]]]]]]]]]]]]]]]Q]Q]Q]QQQ$Q$Q$$Q$$$$$$$$$$$$$$$$$$$$$$$$$$$$$$$$$$$$$$$$$$$$$$$$$$$Q$Q$Q$QQQQ]Q]Q]]]]]]]]]]]]]]]]]]]]]]]\n",
      "]]]]]]]]]]]]]]]]]]]]]]]]]]Q]QQQQQ$Q$Q$$Q$$$$$$$$$$$$$$$$$$$$$$$$$$$$$$$$$$$$$$$$$$$$$$$$$$$Q$Q$Q$QQQQ]Q]]]]]]]]]]]]]]]]]]]]]]]]\n",
      "]]]]]]]]]]]]]]]]]]]]]]]]Q]Q]Q]QQQQQ$Q$Q$Q$$$$$$$$$$$$$$$$$$$$$$$$$$$$$$$$$$$$$$$$$$$$$$$$Q$$Q$QQQQQ]Q]]Q]]]]]]]]]]]]]]]]]]]]]]]\n",
      "]]]]]]]]]]]]]]]]]]]]]]]]]]Q]QQQQQ$QQ$Q$$$$$$$$$$$$$$$$$$$$$$$$$$$$$$$$$$$$$$$$$$$$$$$$$$$$Q$Q$Q$Q$QQ]Q]]]]]]]]]]]]]]]]]]]]]]]]]\n",
      "]]]]]]]]]]]]]]]]]]]]]]]]]]]Q]Q]QQQ$QQ$Q$Q$$$$$$$$$$$$$$$$$$$$$$$$$$$$$$$$$$$$$$$$$$$$$$Q$Q$Q$Q$QQ]Q]Q]Q]]]]]]]]]]]]]]]]]]]]]]]]\n",
      "]]]]]]]]]]]]]]]]]]]]]]]]]]]]Q]QQQQQ$Q$Q$$Q$Q$$$$$$$$$$$$$$$$$$$$$$$$$$$$$$$$$$$$$$$$$$$$$$Q$Q$QQQQ]Q]]]]]]]]]]]]]]]]]]]]]]]]]]]\n",
      "]]]]]]]]]]]]]]]]]]]]]]]]]]]]]Q]Q]QQQ$Q$Q$Q$$$$$$$$$$$$$$$$$$$$$$$$$$$$$$$$$$$$$$$$$$$$Q$Q$Q$QQQQ]Q]Q]]]]]]]]]]]]]]]]]]]]]]]]]]]\n",
      "]]]]]]]]]]]]]]]]]]]]]]]]]]]]]]Q]Q]QQQQQ$Q$Q$Q$$$$$$$$$$$$$$$$$$$$$$$$$$$$$$$$$$$$$$$Q$$Q$QQQ$Q]Q]Q]]]]]]]]]]]]]]]]]]]]]]]]]]]]]\n",
      "|]]]]]]]]]]]]]]]]]]]]]]]]]]]]]]Q]Q]QQ$QQ$Q$Q$Q$Q$$$$$$$$$$$$$$$$$$$$$$$$$$$$$$$$$$Q$$Q$Q$Q$QQQQ]Q]Q]]]]]]]]]]]]]]]]]]]]]]]]]]]]\n",
      "|]]]]]]]]]]]]]]]]]]]]]]]]]]]]]]]Q]Q]QQQQQ$Q$Q$Q$Q$$$$$$$$$$$$$$$$$$$$$$$$$$$$$$Q$$$Q$Q$QQQQ]Q]Q]]]]]]]]]]]]]]]]]]]]]]]]]]]]]]]|\n",
      "||]]]]]]]]]]]]]]]]]]]]]]]]]]]]]]]]Q]Q]QQQQQQ$Q$Q$Q$Q$$$$$$$$$$$$$$$$$$$$$$$$Q$$$QQ$Q$QQ$Q]QQ]Q]Q]]]]]]]]]]]]]]]]]]]]]]]]]]]]]]|\n",
      "||]]]]]]]]]]]]]]]]]]]]]]]]]]]]]]]]]]Q]Q]QQ$QQQQ$Q$Q$Q$Q$Q$Q$$$Q$$Q$$$Q$Q$Q$Q$QQ$$QQQQ$Q]QQ]Q]]]]]]]]]]]]]]]]]]]]]]]]]]]]]]]]]||\n",
      "|||]]]]]]]]]]]]]]]]]]]]]]]]]]]]]]]]]]]Q]Q]Q]Q$QQQ$Q$Q$Q$$Q$Q$Q$Q$$Q$Q$Q$Q$Q$Q$QQQ$Q$Q]QQ]Q]]]]]]]]]]]]]]]]]]]]]]]]]]]]]]]]]]|]|\n",
      "||||]]]]]]]]]]]]]]]]]]]]]]]]]]]]]]]]]]]]Q]Q]Q]QQQQQQQQ$QQ$Q$Q$Q$Q$Q$Q$Q$Q$Q$QQ$QQ]Q]Q]Q]]]]]]]]]]]]]]]]]]]]]]]]]]]]]]]]]]]]|]||\n",
      "|||||]|]]]]]]]]]]]]]]]]]]]]]]]]]]]]]]]]]]]]Q]Q]Q]Q]Q$QQ$QQ$QQQ$Q$Q$QQ$QQQQQQ$]Q]QQ]Q]Q]]]]]]]]]]]]]]]]]]]]]]]]]]]]]]]]]]]]|||||\n",
      "||||||]]]]]]]]]]]]]]]]]]]]]]]]]]]]]]]]]]]]]]]]Q]Q]Q]Q]Q]Q]QQ$QQQQQQ$Q]QQ]Q]Q]Q]Q]]]]]]]]]]]]]]]]]]]]]]]]]]]]]]]]]]]]]]]]]||||||\n",
      ":|||||||]]]]]]]]]]]]]]]]]]]]]]]]]]]]]]]]]]]]]]]]]]]Q]Q]Q]Q]Q]Q]Q]Q]Q]Q]Q]Q]Q]]]]]Q]]]]]]]]]]]]]]]]]]]]]]]]]]]]]]]]]]]]]||||||||\n",
      "::|||||||]]]]]]]]]]]]]]]]]]]]]]]]]]]]]]]]]]]]]]]]]]]]]]]]]]]Q]Q]Q]Q]Q]]]]]]]]]]]]]]]]]]]]]]]]]]]]]]]]]]]]]]]]]]]]]]]]]|]||||||:\n",
      ":::||||||||]]]]]]]]]]]]]]]]]]]]]]]]]]]]]]]]]]]]]]]]]]]]]]]]]]]]]]]]]]]]]]]]]]]]]]]]]]]]]]]]]]]]]]]]]]]]]]]]]]]]]]]]]|]||||||:|:\n",
      ":::::|||||||]]]]]]]]]]]]]]]]]]]]]]]]]]]]]]]]]]]]]]]]]]]]]]]]]]]]]]]]]]]]]]]]]]]]]]]]]]]]]]]]]]]]]]]]]]]]]]]]]]]]]]]|]||||||:|::\n",
      "::::::||||||||]]]]]]]]]]]]]]]]]]]]]]]]]]]]]]]]]]]]]]]]]]]]]]]]]]]]]]]]]]]]]]]]]]]]]]]]]]]]]]]]]]]]]]]]]]]]]]]]]]]||||||||:|::::\n",
      "::::::::||||||||]]]]]]]]]]]]]]]]]]]]]]]]]]]]]]]]]]]]]]]]]]]]]]]]]]]]]]]]]]]]]]]]]]]]]]]]]]]]]]]]]]]]]]]]]]]]]]]|||||||||:|:::::\n",
      ":::::::::|:|||||||]]]]]]]]]]]]]]]]]]]]]]]]]]]]]]]]]]]]]]]]]]]]]]]]]]]]]]]]]]]]]]]]]]]]]]]]]]]]]]]]]]]]]]]]]]]|||||||||:|:::::::\n",
      ":::::::::::|:|||||||]]]]]]]]]]]]]]]]]]]]]]]]]]]]]]]]]]]]]]]]]]]]]]]]]]]]]]]]]]]]]]]]]]]]]]]]]]]]]]]]]]]]]]]|||||||||:|:::::::::\n",
      ".::::::::::::|:||||||||]]]]]]]]]]]]]]]]]]]]]]]]]]]]]]]]]]]]]]]]]]]]]]]]]]]]]]]]]]]]]]]]]]]]]]]]]]]]]]]]]||||||||||:|:::::::::::\n",
      "..:::::::::::::|:||||||||]|]]]]]]]]]]]]]]]]]]]]]]]]]]]]]]]]]]]]]]]]]]]]]]]]]]]]]]]]]]]]]]]]]]]]]]]]]]|]|||||||||:|::::::::::::.\n",
      " ...:::::::::::::|:|||||||||]|]]]]]]]]]]]]]]]]]]]]]]]]]]]]]]]]]]]]]]]]]]]]]]]]]]]]]]]]]]]]]]]]]]]]|]||||||||||::::::::::::::...\n",
      "   ...::::::::::::::|:||||||||||]]]]]]]]]]]]]]]]]]]]]]]]]]]]]]]]]]]]]]]]]]]]]]]]]]]]]]]]]]]]]]]||||||||||||:::::::::::::::...  \n",
      "     ...:::::::::::::::|||||||||||||]|]]]]]]]]]]]]]]]]]]]]]]]]]]]]]]]]]]]]]]]]]]]]]]]]]]]]|]||||||||||||:|::::::::::::::...    \n"
     ]
    }
   ],
   "source": [
    "\n",
    "\n",
    "char_to_brightness_map = generate_brightness_map(CHAR_SET, FONT, W_H_WIN_SHAPE, normalize=True)\n",
    "ascii_arr = quantize_grayscale_wxh(proc_img, char_to_brightness_map, (W_H_WIN_SHAPE[1], W_H_WIN_SHAPE[0]), DITHER_MODES.FS, 0.0)\n",
    "for i in range(len(ascii_arr)):\n",
    "    for j in range(len(ascii_arr[i])):\n",
    "        print(ascii_arr[i][j], sep='', end='')\n",
    "    print('\\n', end='')"
   ]
  },
  {
   "cell_type": "code",
   "execution_count": 8,
   "metadata": {},
   "outputs": [
    {
     "name": "stdout",
     "output_type": "stream",
     "text": [
      "classifier score no noise 0.968421052631579\n",
      "classifier score noise 0.4368421052631579\n",
      "    :   .... `.:::;;;;::;;;;;;;!|;|;|;/|||]||]|]]|]||])]{j]]]]]]]]|]|]|]]]|]|]]|]|]|\\|})\\|;||;|;|/;;;;;;;;;:;;,:::: . .. .. .  \n",
      "     .   `.::;:;;/;;;;;;;;;||;]|;|||])|}]]]|]||]{]}|]]j|])]]}}j)]}j]]]{j]]]]]]]])]]]]]]])])|\\||;/|;|;;;|;;!;;!;:;;:::.;.: ..  .\n",
      ":. .....:..::;:;!;;:;;;;/;);));{]\\]]]]]|]|]]]]j]]]j]]]]]j]]]]]]|]]]]]]j]]]]|][]]1|]}]|)||}i]|||]||)|||;;;;;:;:;;;::::::..... . \n",
      " .  .::.;:::;;:;;;;:;;\\;;[|]}|]|]]|]]|]|jj|]]{]]]]]])]]])]]]]|]]]]]j]]]]]}]]j]]]j]]]]]j]]j{|]])|||;||||||;;;|;;;;:;;;:.::.: . .\n",
      " . ...-.::;:;!;;;l;|;||||];||]])|)]]]]]]]]]j]j]]]]]]j]]]]]]]j]]]jj]]]]j]]j]]j]]]]]j]]]]]]]]])]]]]]|]||;||)|;/;|!;;;;:;:;:;:-:.:\n",
      " ..;:.;;::;!;:;!;/|;|]/||]]]]]]]]]])]]]j]]j]]]]j]j]]]j]j]]j]]]]j]]]]]j]]]]]]]]]]]jj]]j]]]]])})]j]||]|]]||)||||;;|;|;:;;:;:;:.::\n",
      "..:.;::!;!;;;;;;|;||/|]]|]|]|]|]]]]]]]]]]]]]]j]]]]]j]]j]]]]jj]]j]j]]]]]]]]]]j]j]]]]jj]]]]]]]]]]j]]|]]]]))]])|;|;|/;;;;;;::';:::\n",
      ".:.;:;;;;;;!;|;)\\]||||]]j)]]]]j]]]]]]]]j]j}]]j]]j]j]]]]]]]jj]]j]]]]jj]]]j]]]]]]jjj]]jj]]]]j]]]]jj]]]j]])])|||]||||||;;/;:;;!.;:\n",
      ":-:;:;,;!:;||||||)|]|]]]}]]]]]]]]]]j]]]j]]]]]]]]j]]Q]jj]jQ]Qj]jjQ]]]j]]Qj]j]]Qj]]j]]]]j]j]]]]j[j]]]]]]]]]])]][)|;||;|;!;;:;:;::\n",
      ".:;;;/;;/;|/};||)|]|]|]]]]]]]]j)]]]]]]]]]]j]]]]jj]]jQ]QjQ]QjQQQ]Q]jQjjj]jQ]]Qj]jjj]]]]j]j]]]]]]]]]]]]}]]j]]|]]\\j|])|||;;;;;;;;:\n",
      ";:;;;;;;/;||/]|])]])]]]]}]]]]]]]j]]j]]j]]j]jQjjQ]Q]]j]QQjQQ]QQ]QQQQ]QQQQQ]Q]QQ]QjQQ]j]]jj]]]]]]]]]]j]j]|[]]]]]]]|)]||;||;;:;;;:\n",
      "::;;;;/|;|]||]||])]]]]]]]]]]]j]]j]]]]]j]]]jj]]Q]QQQQQQQQQQQQQQQQQQjQQQQQQQ]QQ]Q]Qj]QQj]Q]]]jjj]]]]]jj]]]]]]|]j]]|[{]|||||;/;/;;\n",
      ";;;;;|;||)|])j|]]]]]]]]]]]]]]j]]j]]jj]QjQ]QQQQQQQQQQQQQQQQQQQQQQQQQQQQQQQQQQQQQQQQQQjQ]]j]]j]]]]jj]j]]]]j]]]]]]]}]]|))|]|;|;];:\n",
      ";;;\\|||]||])\\]]]]]]]]]j]]]]j]]]]jj]QjQQ]QQQQjQQQQQQQQQQQQQQQQQQQQQQQQQQQQQQQQQQQQQQQQQQQQ]jQ]j]]j]]]]]]]}]j]]}]j]]]]j|]|\\||/;;;\n",
      "/;;;;)|))]]]}]]jj]]]]]]j]j]]]]]Q]jQ]Q]QQQQQQQQQQQQQQQQQQQQQQQQQQQQQQQQQQQQQQQQQQQQQQQQjQQ]QQQ]Q]Qj]]jjj]]j]]j]]])]]]]]|]||||||;\n",
      ";|/||)]|]|Z{]|]]]])]]]]]]]]j]]Q]QjQQjQQQQQQQQQQQQQQQQQQQQQQQQ$QQQQQQQQQQQQQQQQQQQQQQQQQ]QQQQQjQjj]Q]]]]]]]]]]]]]j]j])])|)||)||;\n",
      ";\\;||]})]|]]]j]]]]]]j]]]]]]jQ]]Q]QQQQQQQQQQQQQQQQQQQQQQQQQQQQQQQQQQQQQQQQQQQQQQQQQQQQQQQQQQQQQjQQjjj]]]]]j]]]]]]]]}|]])||]{\\|;/\n",
      "|||]||]/]]|j]]]]])]]j]]]]j]]]QjQQQQQQQQQQQQQQQQQQQQQQQQQQQQQQQQQQQQQQQQQQQQQQQQQQQQQQQQQQQQQQQQQQ]Q]]]j]]j]]]]]j]]]]]j|]|]]])|]\n",
      "|||]|]]||]]]]]]]]]]]]2]]j]Q]Q]QQQQQQQQQQQQQQQQQQQQQQQQQQQQQQQQQQQQQQQQQQQQQQQQQQQQQQQQQQQQQQQQQQQQQQQ]]Q]]]]]]]]]]]]]]]||)j||||\n",
      ";|/]|]{]]]]]]]]j]]]]j]]]jj]QjQQQQQQQQQQQQQQQQQQQQQQQQQQQQQQQQQQQQQQQQQQQQQQQQQQQQQQQQQQQQQQQQQQQQQQ]QQjQ]]j]j]]]]]]]]]]])]]]|}|\n",
      "|;)/]{]]]]]]]]]]]j]j]]jQQQQQQQQQQQQQQQQQQQQQQQQQQQQQQQ$QQQQQQQQQQQQQQQQQQQQQQQQQQQQQQQQQQQQQQQQQQQQQjQQ]Qj]j]]]j]j]]j]j]]]j]]||\n",
      "|]]])])]{j]j]]}j]]]j]]Q]jQQQQQQQQQQQQQQQQQQQQQQQQQQQQQQQQQQQQQQQQQQQQQQQQQQQQQQQQQQQQQQQQQQQQQQQQQQQQ]QQ]j]jjj]j]]]]]]]]]|]])||\n",
      "|]]]]]]]j]]]]j]]j]]jjQjQ]QQQQQQQQQQQQQQQQQQQQQQQQQQQQQQQQQQQQQQQQQQQQQQQQQQQQQQQQQQQQQQQQQQQQQQQQQQQQQQ]QjQ]Q]]jjj]]]]]}]j]]})|\n",
      "|)]|jj]|]]]]]]]]j]jjj]QQQQQQQQQQQQQQQQQQQQQQQQQQQQQQQQQQQQQQQQQQQQQQQQQQQQQQQQQQQQQQQQQQQQQQQQQQQQQQQQQQQ]]]]]j]]]]j]]]]]|)|])|\n",
      "]]|]]]]]]]]j]]]]]]]Q]]QQ]QQQQQQQQQQQQQQQQQQQQQQQQQQQQQQQQQQQQQQQQQQQQQQQQQQQQQQQQQQQQQQQQQQQQQQQQQQQQQQ]QQ]Q]]jj]]]]j]]]]]]j]]]\n",
      "]|]|]]j]]]]]]j]]]j]Q]QQQQQQQQQQQQQQQQQQQQQQQQQQQQQQQQQQQQQQQQQQQQQQQQQQQQQQQQQQQQQQQQQQQQQQQQQQQQQQQQQQQQQQ]Q]j]]}]]]]]]]]]|]]]\n",
      "]}]]}]]]]j]]]]]]Q]]QQ]QjQQQQQQQQQQQQQQQQQQQQQQQQQQQQQQQQQQQQQQQQQ@QQQQQQQQQQQQQQQQQQQQQQQQQQQQQQQQQQQQQQQ]QQQj]]]]]]]]]]]{]]]|]\n",
      "||)]|]]]j]]jj]]j]j]QQjQQQQQQQQQQQQQQQQQQQQQQQQQQQQQQQQQQQQQQQQQQQQQQQQQQQQQQQQQQQQQQQQQQQQQQQQQQQQQQQQQQjQQ]Q]]j]j]]j]j]j|j|j]]\n",
      "]]]]]]]]]]]]]]]]jQ]QQQQQQQQQQQQQQQQQQQQQQQQQQQQQQQ@QQQQQQQQQQQQQQQQQQQ@QQQQQQQQQQQQQQQQQQQQQQQQQQQQQQQQQQQQjQ]Q]]j]]]]j]]]]]]]]\n",
      "]]]}[]]]]]]j]]]]]]]]QQ]QQQQQQQQQQQQQQQQQQQQQQQQQQQQQQQQQQQQQQ@QQQQQQQ@QQQQQQQQQQQQQQQQQQQQQQQQQQQQQQQQQQQQQQ]Qj]]jj]jj]]]]}]]]]\n",
      "|]]{j]]]]]]]]]]Q]]QjQQQQQQQQQQQQQQQQQQQQQQQQQQQQQQQQQQQQQQQQ@QQQQQQ@QQQQQQQQQQQQQQQQQQQQQQQQQQQQQQQQQQQQQQQQ]Q]j]j]j]]]j}]]}]]]\n",
      "||]]]]]]j]]]]]]]Q]]QjQQQQQQQQQQQQQQQQQQQQQQQQQQQQQQQQQQQQQ@Q@Q@@@QQQQQQQQQ@Q@QQQQQQQQQQQQQQQQQQQQQQQQQQQQ]QQQ]Q]]]]]j]]]]j])]|}\n",
      ")}]]]]]]]]]j]]]]Q]jQQ]QQQQQQQQQQQQQQQQQQQQQQQQQQQQQQQQQQQQQQQQ@Q@@@@QQQQQQQQQQQQQQQQQQQQQQQQQQQQQQQQQQQQQQQjQ]j]]]]j]]]]]j]]]]]\n",
      "|||]]]]]]]]j]]]]j]Qj]QQQQQQQQQQQQQQQQQQQQQQQQQQQQQQQQQQQQQQQQQQQQQQQ@QQ@QQQQQQQQQQQQQQQQQQQQQQQQQQQQQQQQQQQQjQ]Qjj]j]jj]]]]]}|]\n",
      "j]]]]j]j]j]j]]j]}]]QjQQQQQQQQQQQQQQQQQQQQQQQQQQQQQQQQQQQQQQ@QQQQQQQQQQQQQ@QQQQQQQQQQQQQQQQQQQQQQQQQQQQQQQQQQQ]]j]]]]]]]}]]]]]]|\n",
      "|}]}]]))]j]]]]]]jjQjQQ]QQQQQQQQQQQQQQQQQQQQQQQQQQQQQQQQQQQQQQQQQ@QQQQQQQQQQQQQQQQQQQQQQQQQQQQQQQQQQQQQQQQjQ]Q]QQj]]]]]]]]]}]]]}\n",
      "]|j]|j]]j]]]j]]]j]Q]QQQ]QQQQQQQQQQQQQQQQQQQQQQQQQQQQ@QQQQQQQQQQQQQQQQQQQQQQQQQQQQQQQQQQQQQQQQQQQQQQQQQQQQQ]jQ]]jj]]]]]]]]]]j}]]\n",
      "]j]]]]j]]]]j]]]j]]j]jQQQQQQQQQQQQQQQQQQQQQQQQQQQQQQQQQQQQQQQQQQQQQQQ@QQQQQQQQQQQQQQQQQQQQQQQQQQQQQQQQQQQQQQ]Qj]j]]]]]]]]]]]]]|]\n",
      "||]]]]]]j]]]]]jj]]]QjQ]QQQQQQQQQQQQQQQQQQQQQQQQQQQQQQQQQQQQQQQQQQQQQQQQQQQQQQQQQQQQQQQQQQQQQQQQQQQQQQQQQQ]Q]Q]]j]]]]j]]]]]jj]]|\n",
      ")\\]]]][]]]]]jj]]]]j]QjQjQQQQQQQQQQQQQQQQQQQQQQQQQQQQQQQQQQQQQQQQQQQQQQQQQQQQQQQQQQQQQQQQQQQQQQQQQQQQQQQ]QjQjj]Q]]]j]]]]j]]]]]]|\n",
      "|]]|)]]j]]]jj]]]j]j]]]QjQQQQQQQQQQQQQQQQQQQQQQQQQQQQQQQQQQQQQQQQQQQQQQQQQQQQQQQQQQQQQQQQQQQQQQQQQQQQQQQQQj]j]j]]]]]]]]]]]]]j}]|\n",
      "|})])]|]j]j]]]j}j]]]jQ]QQ]QQjQQQQQQQQQQQQQQQQQQQQQQQQQQQQQQQQQQQQQQQQQQQQQQQQQQQQQQQQQQQQQQQQQQQQQQQQQ]QQ]]]j]]j]]j]]]]]]]]2]|]\n",
      "|||]}]jj]]]]]]]]]]]]]j]]Q]QQQQQQQQQQQQQQQQQQQQQQQQQQQQQQQQQQQQQQQQQQQQQQQQQQQQQQQQQQQQQQQQQQQQQQQQQQQjQ]Qjj]]]j]]]]jj]]]]]||]||\n",
      "]|]]]]|]]]j]]]]]j]]]]jjQ]jQjQQQQQQQQQQQQQQQQQQQQQQQQQQQQQQQQQQQQQQQQQQQQQQQQQQQQQQQQQQQQQQQQQQQQQQQQQQjQj]]]]]j]j)j]]]Z]j||]]j)\n",
      "!||||]]]]]]]]]]]]]]]]]]j]Qj]QQ]QQQQQQQQQQQQQQQQQQQQQQQQQ$QQQQQQQQQQQQQQQQQQQQQQQQQQQQQQQQQQQQQQQQQQQ]]]]j]j]]]]]]]]]]]j)]]j]}||\n",
      ";|)]|]]]]|]]]j]]]]]]]]j]]jQ]QjQQQQQQQQQQQQQQQQQQQQQQQQQQQQQQQQQQQQQQQQQQQQQQQQQQQQQQQQQQQQQQQQQQQ]QQQjjj]j]]jj]]]j]|]j|]|||]||]\n",
      ";|||]||/]|]]]]}]]]]]]]]]]j]Q]]jQjQQQQQQQQQQQQQQQQQQQQQQQQQQQQQQQQQQQQQQQQQQQQQQQQQQQQQQQQQQQQQ]QQQ]Q]j]j]]]]j]]]]]]})}]])]/]\\|/\n",
      ";|)\\|]]]|]]]]]]j]]]j]]]j]]]]]Qj]QQQQQQQQQQQQQQQQQQQQQQQQQQQQQQQQQQQQQQQQQQQQQQQQQQQQQQQQQQQQQjjjQ]Q]j]]j]]j}]j]}]]]])}]|{||)]||\n",
      ";|;|\\||])])]]]]]]]]]]]j]]j]j]}]Qj]]jQQQQQQQQQQQQQQQQQQQQQQQQQQQQQQQQQQQQQQQQQQQQQQQQQQQQQQQQQQQ]jQ]jj]]]]]]]]]]]]]]j]]]]||]|||/\n",
      ";;;;||]|)]|]]|]j]){]]]]]]]]]]]jj]]Q]Qj]QjQQQQQQQQQQQQQQQQQQQQQQQQQQQQQQQQQQQQQQQQQQQQQ]QQQ]]]]]j]]j]j]]]]]]j]]]]]]1]{]|]))];/;|\n",
      ";;;/;);/)\\|j)]]]jj]{j]j]]]j]]]]]]]]jQjQQQ]QQQQjQQQQQQQQQQQQQQQQQQQQQQQQQQQQQQQQQQQQQQQQQ]]QjQj]j]]]]]]j]]]]{]]]][]]j|/]//|/;;;;\n",
      ":;;;;;|||||][|]]]|]]]]]]]]]]]]j]]]j]]jj]]Qj]QjQQQQQQQQQQQQQQQQQQQQQQQQQQQQQQQQQQQQQ]jQQ]Q]]]j]]jj]]]]]]j]{]]]]]]]][|}]|||];|!;!\n",
      "!;;|;;;;/|||{]]}{]]]]}]]]]]]]]j]]jj]j]]]]]Q]]Q]QjQQQjQ]QQQQQQQQQQQQQQQQQQ]QjQQQQ]QjQ]]]Q]]]]]j]]]]]]]]]]]]]]]j)])]j]\\\\||;)|;!:;\n",
      ":;:;;;|;;|||])[|]|]]]|j]]]]]]]]]]]]]]]jj]]]]jQ]Q]]]QQjQQQjQ]QQjQ]QQjQQ]QQQQQ]j]Q]j]]]j]]]]]]]]]]]]]]j]j]]]]]||]]]||||])\\;;;;:;:\n",
      "::;!;;;;;;)|];|||||]}]]]]]]]]j]]]]]]j}j]j]}]]]]]]Q]]]Q]Q]]]Q]QjQ]]QQ]Q]]]Qjjj]j]}]]]]]]]j]]jj]j]]]jj]]]]}]]]]]|||}|}|;|;;!;;:;!\n",
      "::::;:;;/;!;;|)||j|]]|]||]]]j]]]]]]j]]]j]jj]]j}]]j]j]]]j]j]]j]]j]]Q]Q]]]QjQj]]]]]]]jj]]]]]jj]]]]j]]]}j|]|j|j]]\\]|/|;;;;;;;;;:;:\n",
      ":.;::;:;;!!!;|;|\\\\]||{}|]])]]]]]{]]]]j]j]]]]]]]]]]j]]]]]j]Q]]]]jjj]j]]]j]j]]]]]]]]]j]]]]]]]]}]]]])j]]]]]]]|]||||||;/;\\\\;;:;:`-:\n",
      " .:::::;;;;;;/\\;;/]||)|]]]|]|]}]]|]j]])][]]]]]}]]]j]]]j]]]]]jj]jj]]jj]j]]]j]]]]]]]]j]]]j]j]]]]]]]]]]])|])|)[|)|;);;;;;;;;;::.:;\n",
      ".:.::::;::;!;;|;;;/||/|)]||])|]]]]]]]]]jj]j]]j]]]]])j]]]]]]]]]]]]]]]]]]]}]]]]]]]]]]]]]]]]j]}]}}]]]])|]|}]||/||||;|;/;:;!:'::::.\n",
      "  :..;:;:;:;;!;;;:;;;|/|;[|))]{|]j|]j]]j]]]{]]]j]]]]]]]]]]]]]]]]Z]j]]]j]]]]]]]]]]]}]]]]]]]j]]|]{]]))|)}||||\\;/;;;;;!;;!::::: . \n",
      "  ..:.:.:.:`::;;;;!;;|;|/|||||\\j]]|]|]j|}]}]]]]}]]]]]]]]]j]]}]]]]]]]j}]]]]]]]j]]]]]]]]|]]|]]]|]||||;}|||;/;|;/;;;::;;;!;:;.:.  \n",
      "    :.':;: .;::;:;!;;;;;;;||;|)|/]]]||]]|]]]]]]}]]]]j]]]]]]]]]]]j]j{]]]]]]])]]]][]]]]]]]|\\)]|]]|;];|;|;;!;!;`:!;:;;!:`.::. ... \n",
      "   ..  . ..':::.;;;;;;;;;;:;;;;;||||)]|]]||]]]]]]]]]]]]]]|]]]]]]]]]]]]j|]]]|]j|]]]|]|]]|))[]|{!||)|;||;;;;;;;:;:::::..'. -     \n"
     ]
    }
   ],
   "source": [
    "noise = 0.3\n",
    "cls, char_to_brightness_map = train_classifier(CHAR_SET, FONT, W_H_WIN_SHAPE, (8,8,8), 500, noise)\n",
    "\n",
    "brightness_X = np.array([b.flatten() for b in char_to_brightness_map.values()])\n",
    "brightness_y = list(char_to_brightness_map.keys())\n",
    "\n",
    "repetitions = 50\n",
    "\n",
    "test_X = np.tile(brightness_X, (repetitions,1))\n",
    "test_y = list(char_to_brightness_map.keys()) * repetitions\n",
    "test_X += ((np.random.random(test_X.shape)-0.5) * noise)\n",
    "test_X = np.clip(test_X, a_min=0, a_max=1)\n",
    "\n",
    "print('classifier score no noise', cls.score(brightness_X, brightness_y))\n",
    "print('classifier score noise', cls.score(test_X, test_y))\n",
    "\n",
    "ascii_arr = quantize_grayscale_wxh(proc_img, char_to_brightness_map, (W_H_WIN_SHAPE[1], W_H_WIN_SHAPE[0]), DITHER_MODES.FS, cls=cls)\n",
    "for i in range(len(ascii_arr)):\n",
    "    for j in range(len(ascii_arr[i])):\n",
    "        print(ascii_arr[i][j], sep='', end='')\n",
    "    print('\\n', end='')"
   ]
  }
 ],
 "metadata": {
  "kernelspec": {
   "display_name": "ascii_brightness_test",
   "language": "python",
   "name": "python3"
  },
  "language_info": {
   "codemirror_mode": {
    "name": "ipython",
    "version": 3
   },
   "file_extension": ".py",
   "mimetype": "text/x-python",
   "name": "python",
   "nbconvert_exporter": "python",
   "pygments_lexer": "ipython3",
   "version": "3.12.4"
  }
 },
 "nbformat": 4,
 "nbformat_minor": 2
}
