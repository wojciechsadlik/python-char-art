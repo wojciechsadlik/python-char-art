{
 "cells": [
  {
   "cell_type": "code",
   "execution_count": 1,
   "metadata": {},
   "outputs": [],
   "source": [
    "from PIL import Image, ImageOps, ImageFont\n",
    "import matplotlib.pyplot as plt\n",
    "import numpy as np\n",
    "import ipywidgets\n",
    "from ipywidgets import interactive, HBox, VBox\n",
    "from mono_char_art_conversion_wxh import quantize_grayscale_wxh\n",
    "from img_processing import preprocess_img, DITHER_MODES\n",
    "from braille_art import get_braille_chars\n",
    "from generate_char_palette import *\n",
    "from mono_char_art_conversion_mlp import train_classifier"
   ]
  },
  {
   "cell_type": "code",
   "execution_count": 2,
   "metadata": {},
   "outputs": [],
   "source": [
    "ASCII_SET = get_asciis()\n",
    "BRAILLE_SET = get_braille_chars()\n",
    "\n",
    "CHAR_SET = ASCII_SET\n",
    "W_H_WIN_SHAPE = (2,4)"
   ]
  },
  {
   "cell_type": "code",
   "execution_count": 3,
   "metadata": {},
   "outputs": [],
   "source": [
    "FONT = ImageFont.truetype(\"fonts/CascadiaMono.ttf\", 8)\n",
    "IMG_PATH = \"imgs/irad_grad.bmp\""
   ]
  },
  {
   "cell_type": "code",
   "execution_count": 4,
   "metadata": {},
   "outputs": [
    {
     "name": "stdout",
     "output_type": "stream",
     "text": [
      "(512, 512)\n"
     ]
    }
   ],
   "source": [
    "orig_img = Image.open(IMG_PATH).convert(\"L\")\n",
    "#orig_img = ImageOps.invert(orig_img)\n",
    "\n",
    "print(orig_img.size)"
   ]
  },
  {
   "cell_type": "code",
   "execution_count": 5,
   "metadata": {},
   "outputs": [
    {
     "data": {
      "application/vnd.jupyter.widget-view+json": {
       "model_id": "54ba0690b5614654bed5ca7735bb7cc0",
       "version_major": 2,
       "version_minor": 0
      },
      "text/plain": [
       "HBox(children=(VBox(children=(FloatSlider(value=0.5, description='scale_factor', max=1.0, min=0.01, step=0.01)…"
      ]
     },
     "metadata": {},
     "output_type": "display_data"
    }
   ],
   "source": [
    "def i_preprocess_img(scale_factor, contrast, brightness, quantize_colors, eq, dither):\n",
    "    proc_img = preprocess_img(\n",
    "        img=orig_img,\n",
    "        scale_factor=scale_factor,\n",
    "        contrast=contrast,\n",
    "        brightness=brightness,\n",
    "        eq=eq,\n",
    "        quantize_colors=quantize_colors,\n",
    "        dither=dither)\n",
    "    plt.imshow(proc_img, cmap='gray', vmin=0, vmax=255, interpolation='none')\n",
    "\n",
    "    plt.figure(figsize=(9, 3))\n",
    "    plt.xticks([x for x in range(0, len(proc_img.histogram()), 25)])\n",
    "    plt.bar([x for x in range(0, len(proc_img.histogram()))], proc_img.histogram())\n",
    "    plt.grid()\n",
    "    plt.show()\n",
    "\n",
    "    return proc_img\n",
    "\n",
    "interactive_preprocess = interactive(i_preprocess_img,\n",
    "            scale_factor=(0.01, 1, 0.01),\n",
    "            contrast=(0, 2, 0.01),\n",
    "            brightness=(0, 2, 0.01),\n",
    "            eq=(0, 1, 0.01),\n",
    "            quantize_colors=(1, 256, 1),\n",
    "            dither=DITHER_MODES)\n",
    "\n",
    "controls = VBox(interactive_preprocess.children[:-1])\n",
    "display(HBox((controls, interactive_preprocess.children[-1])))"
   ]
  },
  {
   "cell_type": "code",
   "execution_count": 6,
   "metadata": {},
   "outputs": [],
   "source": [
    "proc_img = interactive_preprocess.result"
   ]
  },
  {
   "cell_type": "code",
   "execution_count": 8,
   "metadata": {},
   "outputs": [
    {
     "name": "stdout",
     "output_type": "stream",
     "text": [
      "        :  : : :: ::::::~.~:~:~:~:~:~:~~:J~:~J:~~C~~J~~C~J~~C~J~~C~J~~C~J~~C~~J:~~C~~:J:~~:~:~:~:~:~::~.~.:::: :: : : :        \n",
      "   . : : : ~ ~.~ ~:~ J ~.~:J J.J:J:J~J:J~:J~C~JCJ~J:C~J~J:J~J~C~J~J:J~J~C-J~J:~JCJ:J-J~~CJ:J~J:J:J J:~:J ~~ ~~.~ ~.~ : : : : . \n",
      " . :  ~ :~ .~ ~ J J ~ J`J J`~:~~~~C~_~J:J\\~J~C~-~J~J~J\\J~C~CJ~J-CJ~C~J\\J~J~C~JC~~~J~C~C~~~J:C J~:~C J J`-`J J ~.~ ~ ~ ~ ~ : :  \n",
      " :  ~ .~ .~ J :~ ~ J:~:J:~~C~J_JC J~JC~CJ~C~J~J~J\\J\\J~J\\J~J~J\\J~J~JjJ\\J~C~J~J\\J~JC~J~J~J_J\\J~J\\JC~J~~C J:J C J J J C ~. : ~  ~ \n",
      "  ~ .~ .~ J :~.J C~ J_J:J_J J\\~CJ~J\\J~J~CJJ~CJ\\JCJ~JC~JCJjJ\\JjJCHCJ\\J~JCJJ\\JCJ~J\\J~CJ\\J~C~J:J\\~ J J:J~J:~_~~~.~`C ~ J ~.J .~ . \n",
      ": .~ .~ J :~ J C~ J\\~C J\\~C~J J~~J\\J:JCJ~~CJuJCJ~JC~JCHJjJCHJCHJuHJjJHCHUjJjJjJCJjJJ\\JCJ~JCJ~JCJ~C~C_~C~JC~_JC J J ~ C ~ ~ ~ ~ \n",
      " ~ .~ J `J J C~ J~_J J~~CJ J\\JCJ_JCJ~CJ~JJuCH~JjJjJHJHuCHJ4JjJ4CHCJHCJ4JCHJCHJjJHCUjJ~J~JC~JC~J~J~J~J~J_~~J~ J~_~:J J J C J :.~\n",
      ". ~ J `J ~.C~ J~_J~C~~CJ J~J~C~JjJ~CJ~J\\JCHJCJHCHJjJCHJHJCHCHJHJJHGJHGCHJGHJjJHCUJjJCHCJjJjJjJ\\JCJ\\J\\J\\JC_~CJ:~CJ \\~ ~.~ ~ C J \n",
      ":~ ~ C ~_~~_J~_J~:J J_J~J\\JCJ~JCJjJjJjJHCHJjJHJUCHJH4C4CH4JHGHCHGHCHJHJHUHC4HC4JHCHJHJUHCUJjJCJjJ\\JCJ~C~J~J.~J_~~J JC_~J J ~ : \n",
      " ~.J ~_~J J:~_J:CJ~CJ~C~JC~J\\JjJjJCUHJCHJUCHJCHGHJ4CHJHJ4JHJ4J4JHJ4JKGHC4JHJJHJHGJ4C4CHJUHCHCUHCJ~J~CJJ~CJ~JC~JC C~_~J C ~_~_J:\n",
      "::~ C~~ C~.JC~~J:~J_~J~J\\J~JjJCUCHUCJHUGHJHGH4JHJHCH4JHGHZGHZHRHZ4HZHJRJHRCH4C4CHHJHJHJCHGJUHJCUHCUJj~CJ~CJ\\J_~J~J~J C~~J J ~ ~\n",
      ":~.J J J JC~ JC~JC~JCJCJ~JCHJjJHJUHJHCHJCHJ4JHC4HGdJMGRHJMJRdGOGdORJNRHRGH4ORHRJ4ZHGHC4HJHCHCUHJCUHCJJjJCJ~J~CJ~C_JC~J J_~C J C\n",
      ":~`~_~C~C~_J~CJ_J~JC~JjJCHJCUCHJjCHC4JHGH4CHGH4JZHRRJMJRRdNOMORHRONNOOdOdORdOOdMJHGJRHJGHGJ4HJCHUHCJjUCJjJ\\CJ~CJ~J~.J:C~C J:~.~\n",
      ":J J:J J J~CJ~J~CJ\\J~JCjJjJjJHJCHJ4JHGHJ4JH4ZJMNOdONORNQNORONdORQNORdNONRONONRORNORHJRHGZHJHC4HJGJHUCHJjJjJJ~J~CJ\\JC~J~_J~:J_J \n",
      ":~ J:~C~J\\J J\\JC~J~JCHJjJjJHCUHU4HJHGHJZHGROHNJRdRONdBdRQNNQRN@dNRdBORBRQNQRdONOdROdRGdHJRHGHJGHCHCHJUjJCUCHCJCJ~C~J_CJ~~_J:C~:\n",
      "~.J:CJ J_~JC~J~JCJCJjJjJHCUHJHGHCJHGHZ4HGdMdORNQNONO@OR@NQ@N@QRQ@Q@R@Q@d@RN@O@dRQNONQM2RdOZdJMJH4J4JHCHJHUHCJjJ\\JJC~J~~CJ~C~ J:\n",
      "~C~_J:J\\JC~J~CJ\\JjJjJCUCJHJC4CHJ4HGdJNJNORORdQNRBR@O@RQN@R@O@d@@N@O@O@d@O@QN@ONBRBdRNQNONONORGRCHJHC4JHCUCJUjJjJC~J~CJ_J:J J~C \n",
      ":~~J:J~C~J~CJ~JCJjJjHJHHUGH4HJ4HGHZHRONRdONQ@R@Q@O@d@d@D@Q@d@D@O@D@@d@D@N@d@O@D@O@O@ORdRQNdROHddGHGHJHGHJHCHJCUjJjJCJ~C~JC~C_J~\n",
      "~J C~_J~J_J~JCJjJjJCJjJCHJCHJHGJMJNJNONQM@dRNQN@d@D@D@@@D@@@D@@@@@D@@D@@O@D@@d@D@d@O@d@ONRONOdORORJNC4JCHGJHCHJCJCU~CJ~J\\J~J~ J\n",
      ":~J J~C~CJ~CJjJjJCHUHCH4JH4JNGHZdRONRdBRQR@Q@@O@D@@N@D@D@@D@@@D@D@@D@@@D@@@D@D@@D@R@O@O@O@ONdROMdZHdHOH4JHC4JUCHUjJCJjJC~C_JC~~\n",
      "~C~J\\J~J~CJ~JCjJjJHCJ4JHGHGHGHdONONQNQR@d@O@O@@N@D@D@@@@@@@@D@@@@@@@@D@@@D@@@@D@@D@D@N@O@dNQ@ONQROORJRCHGHJHCHJjJCHJjCJ~J~J~~_J\n",
      "~.J:JC~JCJ~JjJJjJHCHJHC4JHCdRJRONORN@RQ@O@N@N@O@@@@@@D@@D@@@@@@@D@@D@@@@@@@D@@@R@@D@@O@d@O@RONRdONdONOdOZJHC4JHCHJCUJjCJCJC~JC~\n",
      "~J~C~J_J~JCUCHCHCJUHGHJHGdRJMdBRdRQ@O@d@ND@D@D@@D@D@@@@@@@D@@@D@@@@@@@@@D@@@@D@@D@@D@@D@D@O@NQ@ONORBONZH4HGHJHC4JjJjCJjJ\\~J_~J:\n",
      "~C J~CJ~CJjJjJUJHUHCJ4HGHJMdOROdBD@dND@O@@@D@@@D@@@@@D@@@@@@@@@@@@@@@@@@@@@@@@@@@@@@D@@R@R@O@Rd@O@OdROdOGJHJC4JHCHJjJjJCJ~CJC~J\n",
      "~J~J_J~JjJCHJCHCJC4HJHCdZNJRONOR@ON@D@@@O@D@@@@@@@@D@@@@@@@@@@@@@@@@@@@@@@@@D@@D@D@@@RD@D@D@d@O@ONRONONOMZ4H4HCJHJCHJCH~JCJ~J:~\n",
      "~_~CJ~CJCjJCHJUHHJHGHGdJMJMRBdBO@d@O@D@O@@@@D@D@@@@@@@@@@@@@@@@@@@@@@W@@W@W@@@@@@@@D@@@@@D@D@O@O@ONQNORdOdOZJHGHC4JCHJCJ\\J~C~JC\n",
      "~J~J~JjJjJjJCHCJGHCJ4HJMGROdOR@OND@D@R@@R@D@@@@@@@@@@@@@@@@@@@@@@@@@@@@@@@@@@@W@@@@@@D@D@@@R@D@NRd@RONOMOROHGJHJ4CHUCUjJCJjJC~~\n",
      "~CJ\\CJC~JCJHJUHUC4H4CHRJRdNONQN@O@R@D@D@D@@@@@@@@Q@@@@@@@@@@@@@@@@@@@@@@@@@@@@@@W@@@@@@@D@D@D@D@O@ONdRQRdONJMC4CHJHCUJCHJ\\JCJ_J\n",
      "~J:J~~JCJHCUCHCHJHJHJRONOMQR@RO@d@O@@D@@@@@D@@D@@@@@@@@@@@@@@@@@@@@@@@@@@@@@@@@@@@@Q@@D@@@@D@R@O@O@O@ONOROZHGHJHJC4JHCUCUC~J~C~\n",
      "~C~JCJ~JjJjJHJJGHC4GHJNOdRONQNd@O@D@D@@D@D@@@@@@@@@@@@@@@@@@@@@@@@@@@@@@@@@@@@W@@W@@@W@@D@R@@D@R@ONDNO@OdMJNJZHGH4CHJHJjJHCJ~J~\n",
      "~J~CJ~CJjJCHCUHC4JHJMZdOMONRd@O@O@R@@R@@@@@@@@@W@@@@@@@@@@@@@@@@@@@@@@@@@@@@@@@@@@@@W@@@@@Q@D@D@O@d@ORdMOdGMO4JZJHJCUCUCJCJ\\JC~\n",
      "~C~J~JjJCHJUJjJHJHGHJNORORQNQRD@ND@O@D@D@@D@@@@@@@@@@@@@@@@@@@@@@@@@@@@@@@@@@@@@@W@@@Q@@Q@@R@@D@RD@O@ONOROROdZHGHCHJHCHJjJjJC~J\n",
      "~J.J\\JCJjJCHCHGJHCHGZHGdNONR@O@O@R@D@@@@@@@@@@W@@W@@@@@@@@@@@@@@@@@@@@@@@@@@@@@@@@@@@@W@@R@Q@R@D@DRNO@OdONOdOHJHJ4CHJGJCUC~CJ~C\n",
      "~C~JCJ~CJjJUJUHC4J4HJROMOdQNO@dND@D@RD@D@D@@@Q@@@@@@@@@@@@@@@@@@@@@@@@@@@@@@@@@@@W@@W@@Q@@@@D@D@D@D@OdRDNOROZGHCRJHC4CHUjJJ~CJ~\n",
      "~J~J~CJjJjCHCHC4HCHJNOdORRNQNO@D@D@@@@@@@@@D@@@@@@@@@@@@@@@@@@@@@@@@@@@@@@@@@@@@@@@@Q@@@WQ@R@D@R@ORd@ONDROdMJMJRJHCJHJCJCjCJ~C~\n",
      "~C~CJ~JjJJHJUJHJHJGHZHGRQMQR@ON@O@ORD@O@D@@@@@W@W@@@@@@@@@@@@@@@@@@@@@@@@@@@@@@@@W@@@@W@@@RQ@@D@O@D@ORDNONOONJZHCHGHCJHCJJjJCJ~\n",
      "~J.J~CJCjCJCHCJC4HJRJROHdORdO@ONR@R@@D@@R@D@W@@@@@W@@@@@@@@@@@@@@@@@@@@@@@@@@@@@@@@@W@Q@D@@@RD@RD@4ONDNOdOROHGHJGJHJCUCUjJC~J\\J\n",
      "~CJ~J\\J~JUjJUHGHJCHGHJMJRONONRd@OD@O@D@D@@@@Q@@@@@@@@@@@@@@@@@@@@@@@@@@@@@@@@@@@W@Q@@@@@@D@D@@D@DRD@ONO@OMOdZJHGHCJCHJHCJjJC~J:\n",
      "~~~CJ~JCJCHCJCUCH4JHCNJNONONO@OD@ND@D@R@D@D@@@@Q@W@@W@@@@@@@@@@@@@@@@@@@@@@@@@@@@@@@D@D@R@D@DR@J@D@ONDROdOROHGZJHJH4CUCJjC~JC~J\n",
      "J.J~_JC~HJCJHUHJHCHJRJMZOdRQMONNO@D@R@D@@R@@D@W@@@Q@@@W@@@@@@@@@@@@@@@@@@@@@@@@@@@@W@@W@Q@W@RQ@RRDdRONOdROdOOHJHCHCJHJjJCJ~CJ~C\n",
      "~C~JC~JCJ\\JjCJCHJGJHCHGdOMORdRO@ONRD@O@D@D@D@@@D@@@@W@@@@@@@@@@@@@@@@@@@@@@@@@@Q@D@Q@D@D@RQ@D@D@O@ONDdROOMJMJZHC4JCHCJCU~JCJ\\J:\n",
      "~J J~J~JCJjJHUJCHJCH4JHORJNOONOdRD@O@O@R@D@@D@D@@W@Q@@Q@@W@@@@@@@@@@@@@@@@@@@@@@W@@@R@@R@D@RDRDRDRDdROOMOdOGHGJHCHJCUUCUC~J~C~J\n",
      ":~C~C~C~J~CJCjJHC4HJCHGHJMONOdRO@ONDNRD@O@D@R@@WQ@@@@@@W@@@@@@@@@@@@@@@@@@@@@Q@R@Q@RQ@D@Q@D@D@D@OdRODNOdORJHCHCJHJC4JCHJ~J\\J_J:\n",
      "~J J~J_JCJjJjJCUJCJHGJHZGZJMOROMONO@O@O@D@RD@D@D@R@D@R@Q@D@Q@@@@@@@@@@@@@@@Q@@R@D@R@@D@DRRDRDRD4D@ONORORJMJZJHJ4CJHCU~CJC~C~C~~\n",
      ":~J\\_JC~J\\JCJjJjHJHCHJCHJHGdOdOdORdONONDRD@D@D@R@Q@R@Q@@@@W@R@Q@D@@Q@@D@Q@D@R@Q@@D@QR@D@D@D@DWD@OdOROdOHOGHGHCHCJCUJCJ~CJCJ~J_J\n",
      "~C J~~J~CJ~JCJCJCUCJH4JHGHJMZOMONONO@ONR@O@RD@D@D@RQ@@RD@D@D@@R@@D@@R@@@R@@RQ@RD@RD@DRDRDRDWO@OORONOdOHJMJCHJJC4JHCUjJCJ~~_JC~:\n",
      ":J~:JC_J~CJ~CHCHJjJHCJCHJZHJHJROdOROdROdONO@DRRD@D@R@D@R@R@@D@Q@R@D@D@D@D@D@@D@RQ@RD@D@D@ORDRONONOOHOORJGHJCHCJHCJCJC~~CJC~~_J~\n",
      "~ J`J:J~CJ\\J~JCJCUCUJHGJHCJGRHGHOROMOdD@ORDdRD@DR@O@O@D@Q@D@D@R@Q@R@D@D@D@DRD@D@RD@DRDRD4DdDNOdOdORJMJHCHCHJ4JCUCU~~JCJ~_J_J~ C\n",
      ":~.J:C~_J~C~CJ~JjJjJCHCHC4HJCJHJROdORONONOND@ORD@J@ORDRD@DRD@DRD@DRQ@RDR@O@D@ORDRDRD@J@ORDNOONOROHJHJGHJJHCJCHCJjJCJ\\J_J~C~C~J \n",
      "~C~ J_J~C~J_J~C~JCJjJCJUJHCHHGZHJHOdOMJROdOROdDdDRDR@D@DRR@DR@D@RD@RD@D@JRRDRRD@O@JRORdOdOROdOOHJRJMG7JCHCJHCJUCJ~C~J~C~C~J C J\n",
      ". J:~C~ J JC~JCJC~JCHUCHCJJCJHJCHGJMJROMORONONORDNDdORORDDD@JRDRD@J@ORDR@O@OD@JROdDNOdORONOdOMJRJHGJHCHJGJCUUCU~CJ~JC~J_J C~J ~\n",
      "~~ J J JC~C~J_~CJ~CJCJjJUCHJHCHJGHCHJHJOdOMJNORONORDRDd@O@4O@O@ORORDRDROORORdONOROROdOROOdOHJRJHGHCHCJCHCUHCJ~CJ~C~_J_~C~~ J C \n",
      ".~ C ~C ~J J:JC~JCJ~CJCJCUCUCJGHCJHJGHGHJMJROOdOdONOdOROdORORO4OdDROdDdDNOdOROdOdOdOROOHOHJRJHG7JCJJHJCUJCUC~J~CJ~JC~C~ J J:~ J\n",
      ":`J J J~_C~C~CJ:J~CJ~~JjJjJHJCJCHJCHCJHCRJHJMJMOROONONOOROdOdOROROdONOROdOROdOROROMJMJNJRJHGHCJHCHJCCUUCU~J~JCJ~_C~_J JC C~ J ~\n",
      ": ~ ~ C J J J ~C~_J\\JC~CJC~CUHUJCHJ4JHCJHGJHGJHJHOHJRJMJNOOMOROdONOROONOROONOOHOOJNJOHJHGHCJCHJCJCHJjJCUC~CJ\\~_CJ~J:~C J~ J C :\n",
      ":~ J C J:~ C~CJ JC~C~JCJ~JCJCCJjJCUCHCJHJCHCHJRJHJRJMJOMJMJ4JHOOHJMJNJMJOHJHJRJH4HJHGJG7JCJHJCJHCJCUCU~J~JC~_J~J:C J J~ C C ~ J\n",
      "  ~ ~ J ~_J J ~C~ J~_J:C~CJ~J~CJCUCJCJHCJHJJCHCHGCHJHGHJ4JHOHJMJRJOHJMJHJRJMJHGJCJHCHCHCHJCJCHCJUjJ~JC~CC~J_7C C~J C~ C J ~ J  \n",
      ": : J :~ C ~ CJ JC JC~J~J_~C~JC~J~JjJCUCUCCHJGJCJHJCHJCHJCHJGHJGHJHGJGJRJHCJG7HJHCJGJJCJCHJjJCUC~JC~CJ~J_J:J~~J J C~.J ~ C J C \n",
      " ~ ~ C C J CJ ~ ~_J:~ C_~JCJ_J~JC~CJ~JCUJHJCUCHJCJHCJCHJCHJCHCJHCHCJHCHCHCHJCHCJCHCJCHJCJCUCU~J~J\\JC~_C~~C~_C C~ J J C J ~  : ~\n",
      "  .  ~  ~ ~ ~ CJ J'J J~JC ~~C~C~JCJ~CU~C~CUCJUCJHCJCHJCJHCJHJCHCJJGCHJCJJJCHJCJCJJCHJCU~U~J~CJ\\CJ_~J_J~J J J~J J:~ C ~ : C J . \n",
      " :`J  J .J C J  C ~ C~ C~J_J~J_J_~CJ~CJJCJ~J\\J~CUCUJCUJCJGCJCJJCJCHJCJHCjJCJCUjJjCUC~JC~CJ\\JC~J_~C~C~~ C~_C~ C ~ C ~ J C  ~ : :\n",
      "       ~   ~ :C ~J J J J C~ C J~CJ~_J~_~J\\JC~CJ~J~CU~CUjCJ~UCUCUjJCUCUCJCUjU~JC~J~J~J\\JCJ~_~J_~CJ J J J J~ J ~ J J C  ~ J    ~ \n",
      "   : ~  C J C ~   C C C J J J~C ~ JC~CJ~_~CJ~JC~CJ~CJ~CJ~JCU~J~CJ~J~J~J~J~CJC~JC~CJ_C~~_~CJ:C~J ~C~C C~C C C J C : ~ C   : C   \n"
     ]
    }
   ],
   "source": [
    "\n",
    "char_to_brightness_map = generate_brightness_map(CHAR_SET, FONT, W_H_WIN_SHAPE, normalize=True)\n",
    "ascii_arr = quantize_grayscale_wxh(\n",
    "    img=proc_img, \n",
    "    char_to_brightness_map=char_to_brightness_map,\n",
    "    brightness_hw_shape=(W_H_WIN_SHAPE[1], W_H_WIN_SHAPE[0]),\n",
    "    dither=DITHER_MODES.FS)\n",
    "for i in range(len(ascii_arr)):\n",
    "    for j in range(len(ascii_arr[i])):\n",
    "        print(ascii_arr[i][j], sep='', end='')\n",
    "    print('\\n', end='')"
   ]
  },
  {
   "cell_type": "code",
   "execution_count": 9,
   "metadata": {},
   "outputs": [
    {
     "name": "stdout",
     "output_type": "stream",
     "text": [
      "classifier score no noise 0.9157894736842105\n",
      "classifier score noise 0.5406315789473685\n",
      "        '.`.'.^-`/ ~'r'r'r^r^r/|/~~~/~~~/~Y~YYYYYYYYYYYYYYYYYYYYYYYYYYYYYYYYYYYYY~Y~Y~Y~~/~~~~/~~|/|/|/|/:^-'/:'-`.'.'.        \n",
      "    :'./././:/:^||/:/|<|/crrrrc<<~~C<~~F<~~~X<<<>X><2*G<2>2>2>2>2>2>2>2>XK<G<<G<<YX<YX<~~~F<~C~|/<<<<rcrcr<'r|<:/:/|/./:^- '.  \n",
      "  :'./.:::r,rc|<|<|rcc<<rr**><<<<~~<Y~X<YXX2<2>2>2<K>2<K>2>2>2>2>2>2>2>2>XK<2>2<0><2><YXX<<Y<<<Y<<<<<rrrrc<<<|<||<:|||,r.'./.'.\n",
      " './.:|<:rcc|c|rc|rcrrr**<<<<<><2<Y<2<2<0X2<K<2K22K<2K>222222222222222222G2>2<K<2<0<2KGY2<2<X<<<><<<<*><*<<<<|<|<|<|c:r|||::::'\n",
      " /.:<.|:rc.rrrrrrr*r**<<<<>YK<22<2KGYGYGYGYK02K2KKKKK2202KKKKKKKKKKKKKKK2222K2KKK22KK<2GYGYG2222<2<2<<<<<<<<<<<<<|<|<|c||<:/,<.\n",
      " :<.|<:<|rrrrrr**<<><<<2<22>YK<K2>Y2<22X22GY02KKK2K0202KKK02K0002K002K0020KKKKK02KKK2K2X2G2X<2>22<K<K<2<2<<<<<<<<<<|<|rr|||||.'\n",
      "'|:<:|<|rrrr***<<<<<<2<>2<22GYGYK2KKKKK02G2202K02K0202002020022002020020202K00202K02K02K2X22K22K2K<22>2<<K<<<<<<<<<<<<rcrc|c:<:\n",
      "./,<|<|<rr**r*<<<<<2<22<2K<2<2XGYKG22K2022Q20202002029DDDDDDDDDHDDDOHDDDDDDD2DD202020200202KKK2K>2KK<22K<2<2<2<<<<<<<<rrrrrrr||\n",
      "'rc||<<rr**<<<<<<K<2>2<K2<KK2K22K0YK02020202029D29DDOHHHHHHPHHHDPHHH2HPHHHHHHHHHDDDD2D220202K02222K2K2>22>2<K<<2<<<<<<rrrrccrc.\n",
      "'c|<<|<r*<<<<<<K<2<22<2K2K2KKG2K0202020202DDDDHHOHHH9HDH2JH9H9HH9H9HJH9HDH29HDH2HPHHHDDD2D202020KK2KK2222222<2<2<<</<<r**crrrrr\n",
      "/:<|<<<<<<<<<K<2<K<K<KK2KKK2222K202020DDDOHHHHDH9HDHH9H9HJH9HO9H9H9H9H9H9HJHH9HH9HDH2HPHHDDD220202KK2KKK<K<KK<K<22<><<><<<rrrcr\n",
      "|<rrr<<<<<<2<2<K2<K2K2K<K2KKKKK02029DHHPHH9HDJHJH9H9HO9H99O99H9999999999H9O9OH9HOJHJH9H9HHPHODD202KKKK2K2KK2K22K<K<2<2<<<<***rc\n",
      "/|rrrrr<<<2<K<K<K2K2K2KKKKK02K0DDDDHH2H9H9HH9H9H9H9O9O9O9O999999999999H9999H99D9O99H9HHOHDHOHPHDDDD202KKK2K2<K<K<2<2<<2<<<<<<rr\n",
      "|rr*>><>2<K<2>22K<KK2KK2K0200DDHHPHDH9H9HH9O9H9D9O99999999R9999999999999999999O9H9H9O9O9H9HH9HOPHHHD202KKKKKKK2K2K<K2<<2<<<<<<<\n",
      "/c*<<<Y<2<2<222>22K2KKKK0202DHH2H9H9HHOH999H9D99999999999RRdRRdRRdRRRdR9999999999999ODD9HD9HHDHHDHHPODDD202K2KK<K2K<K<K<2<2<<<<\n",
      "~<<<<<K<2<KK<K222KKKK2K029DOH2HHOHHH9O9999999999999999RdRdRRdRRd@RdRd@RdRdRdRR999999O9H9DDD9D2JH9PDHHPHH2D2KK2K2K<K2<22<K<<<<<<\n",
      "^r<<2<<2>2<2K2KKK2KKKK9DDDHHDH9H9H999OOOOO99999999RdRdRRRRd@RRd@J@RRRdRRRRRRdRdRdR999999ODDDDOD9HH9HDHDPODD202KKK2K2K<K<2<2<2<<\n",
      "<<<<<2K<22K2K<K2KKK0292DHH2HJHH9H99OO9D99RR999dRdRd@RRd@d@RRRR@R@RRRR@RRRRd@RR@d@RdRRdR99DDDDDDH9DHDHHHHHPHD292K2KK<K2K<K<K<<<<\n",
      "~~<2<2<2K<K<K2KKK2K9DDOHDHH9H9HD99O9O9O9O@dRdRRRRRRdRRRRRRRRRRRRRRRHRRRRRR@RRRRRd@Rd@RRdO99D0D99H9H29HDHDHHHH202KK2KK2K<22<2<2<\n",
      "/~Y>2<K<2K2KKKK2K902DHH2HH9HO9DDOD9O9O9@RRRRRd@dRRR@RRHHHHHHHHHHHHHHHHHHMHJHHRRRRRRRdRR@R@R@ODD99H0DH2DH2H2H2DD292K2K<2K<K<K<</\n",
      "~~Y<2K<K2K2K2KKK929DH2HJH9H9H9H99O9O9@RRdRd@d@RRRRHJMHJJJJJJJJJJJJJJJJJJJJJRHHMHHHR@RRdRdRRR@9OO9DD9DDD2H9HHHPHD202KKKK2K2<2K<<\n",
      "~~X2<K2K2KKKK2K90DDPHH9HHO9HD9999O9R@Rd@RRRRRRRHHHHJJJJJJJJJJJJJJJJJJJJJJJJJJJJJJJHHHH@R@dRd@RROD9ODDDH9HHDHDHHPD2022K2K<KK<2<2\n",
      "Y~YGYK<K2K2KKK02DHHDHHHO9HD9DDD99RRRdRRdR@RRRHHJJJJJJJJJJJJJJJJJJJJJJJJJJJJJJJJJJJJJJRHRRR@RRR@R@ODDD29HD2DPH2HHH2D2K2K2K2<K<K<\n",
      "YXXYGYK2K>22K29DH2HHDH9HD9ODD9O99Rd@RRR@RRRRMJJJJJJJJJJJJJJJJJJJJJJJJJJJJJJJJJJJJJJJJJRHHHRRdRd@RR@ODDD9H9HDHHDPDPD292KK2K22<2<\n",
      "Y<GYGYG<22KK902DPHHDPOD9HDD9D9ORRd@JRRRRRRHHJJJJJJJJJJJJJJJJJJJJJJJJJJJJJJJJJJJJJJJJJJJJJRHHR@RdRRR@ODDD9HD2DHHHHHPD2022K<KK<K/\n",
      "Y<<2X22K2KK202DHDHDPRHDH9DDDD9RRRRR@RRRRHHJJJJJJJJJJJJJJJJJJJJJJJJJJJJJJJJJJJJJJJJJJJJJJJJJRHRRRRd@R@ODDH9H9H2DH2H2H2202K2K<2K<\n",
      "Y>2<0XGYKK029DHHHHHOH9O9DD9D9O@Rd@dRRRRHJHJJJJJJJJJJJJJJJJJJJJJJJJJJJJJJJJJJJJJJJJJJJJJJJJJJRMHR@RdRRO9D9HDHDH2HHHHHH22K2K2K2<2\n",
      "Y<22X22K0202DH2H2H9HDH9H9DD9OR@dRRRRRHHHJJJJJJJJJJJJJJJJJJJJJJJJJJJJJJJJJJJJJJJJJJJJJJJJJJJJJJHRRRRd@ROD99H2D2HDH2H2H2D2K2K<K2<\n",
      "Y>2>22K2202DHHHHHHDH9DDDD9DD9@RRRd@RHJHJJJJJJJJJJJJJJJJJJJJJJJJJJJJJJJJJJJJJJJJJJJJJJJJJJJJJJJJHH@RRRR@OOO9H9HDH2HHH2H22K2K2K<2\n",
      "Y<222K2K202DP2HDH2O2H9H9DD9ORRRd@RRHHJJJJJJJJJJJJJJJJJJJJJJJJJJJJJJJJJJJJJJJJJJJJJJJJJJJJJJJJJJJRHRRd@R@H9H9HD2HDH2PHHH22K2K2<2\n",
      "Y>22K2KK202DHHHHDH9HDDDDDD9O@RRRRRRHJJJJJJJJJJJJJJJJJJJJJJJJJJJJJJJJJJJJJJJJJJJJJJJJJJJJJJJJJJJJJRMR@JRRRR9DDH9H2HHDP2H22K2K2K<\n",
      "Y<K<K2K2K2DH2H2HH2HDDD2O9O9ORRd@RRHHJJJJJJJJJJJJJJJJJJJJJJJJJJJJJJJJJJJJJJJJJJJJJJJJJJJJJJJJJJJJJJRHR@RdRdOD2OH2HDPHHHZD22K2<KY\n",
      "YGYK2K2K022DPHHH2O9H9H9ODD9@R@RdRRHJJJJJJJJJJJJJJJJJJJJJJJJJJJJJJJJJJJJJJJJJJJJJJJJJJJJJJJJJJJJJJJJ@HRRd@RROODHDHH2H2PH2D22K2K<\n",
      "Y<>22>22202DHDPOHHHDHDDD9OOR@JR@RHHJJJJJJJJJJJJJJJJJJJJJJJJJJJJJJJJJJJJJJJJJJJJJJJJJJJJJJJJJJJJJJJJRR@RRdRROOD2H2HHHH2PD22K2K<2\n",
      "Y2<222KK202DPHHHD2D29H9H9D9OR@RRRHJJJJJJJJJJJJJJJJJJJJJJJJJJJJJJJJJJJJJJJJJJJJJJJJJJJJJJJJJJJJJJJJJJHRRRRdROOH9PHDP2HHHP222K22<\n",
      "Y>22K2K2K2DHH2HHHHDHHD99H9O@RRRRRHJJJJJJJJJJJJJJJJJJJJJJJJJJJJJJJJJJJJJJJJJJJJJJJJJJJJJJJJJJJJJJJJJJRH@Rd@RODHHOHHDPHZ2H22K2K<2\n",
      "Y<2>22K2K2DPDPH2H2HD9HHD9O9O@J@J@RJJJJJJJJJJJJJJJJJJJJJJJJJJJJJJJJJJJJJJJJJJJJJJJJJJJJJJJJJJJJJJJJJJJ@RRRRdO9JH2H2PDPHHZ2022<K<\n",
      "Y>222K2K202DPHHHDH2HD29H9H9OR@RRRMJJJJJJJJJJJJJJJJJJJJJJJJJJJJJJJJJJJJJJJJJJJJJJJJJJJJJJJJJJJJJJJJJJJRH@d@RRHD9PHHHH2P22222K22<\n",
      "Y<<2<K2K222DH2HHH2HDHDHD99RRRRRRRHJJJJJJJJJJJJJJJJJJJJJJJJJJJJJJJJJJJJJJJJJJJJJJJJJJJJJJJJJJJJJJJJJJJRR@RRR9OPHHDH2PHHPD22K2<K<\n",
      "Y<K2K2<KKK2DPH2HHDH2D29HDOO@RdRRRHJJJJJJJJJJJJJJJJJJJJJJJJJJJJJJJJJJJJJJJJJJJJJJJJJJJJJJJJJJJJJJJJJJJRHRRdR9HOH2HPH2HZH2222K2<Y\n",
      "Y<>2<2K22K2D2HHHHH2HHHDDDDOORRd@RHRJJJJJJJJJJJJJJJJJJJJJJJJJJJJJJJJJJJJJJJJJJJJJJJJJJJJJJJJJJJJJJJJJJRR@R@R9OHDPDPHHZHP222K<2K<\n",
      "Y<2<2K2K2K22DP2P2HHD2OH2H9H9RRRd@RHJJJJJJJJJJJJJJJJJJJJJJJJJJJJJJJJJJJJJJJJJJJJJJJJJJJJJJJJJJJJJJJJJJRH@RdR9HHHHH2HZHZ22022K<<Y\n",
      "Y<<K2<2K2K22DHHHHH2HH2H9H9H9Rd@J@RHJJJJJJJJJJJJJJJJJJJJJJJJJJJJJJJJJJJJJJJJJJJJJJJJJJJJJJJJJJJJJJJJJJRRRR#9HDH2HHP2PDP2222<22K<\n",
      "~Y>YK<K<2K2222P2HHPDPOHHDHD99RRRRR@RJJJJJJJJJJJJJJJJJJJJJJJJJJJJJJJJJJJJJJJJJJJJJJJJJJJJJJJJJJJJJJJJJRMRdR9HH2P2HHPHP222K2K<<<Y\n",
      "~~Y>2<2K2K2K292H2PHHHH2H2OHO9RdRdRRHRJJJJJJJJJJJJJJJJJJJJJJJJJJJJJJJJJJJJJJJJJJJJJJJJJJJJJJJJJJJJJJJJ@R@R9OH2HHHZ2P2222K2<2<2K<\n",
      "~~YX<2<2<2K2K222H2HH2HDHHD2HH9RRRRR@RRJJJJJJJJJJJJJJJJJJJJJJJJJJJJJJJJJJJJJJJJJJJJJJJJJJJJJJJJJJJJJJJMRR99HHHHZHPHHP2222<K<2<<<\n",
      "~~YX2<2K2<K22K22DPHPHHPDHHDHDO9dRdRRHHRJJJJJJJJJJJJJJJJJJJJJJJJJJJJJJJJJJJJJJJJJJJJJJJJJJJJJJJJJJJJJHRMR9HH2P2H2P2P2222K<2<2<2/\n",
      "~~~Y<2<<K22K2K222DP2H2PH2HH2HHO9RRd@RRHRJJJJJJJJJJJJJJJJJJJJJJJJJJJJJJJJJJJJJJJJJJJJJJJJJJJJJJJJJJJHRH@R9HHHHPHPHZ2222<22<2<<<<\n",
      "^<~YX<2<2<<2<K2K22DPPHHHH2HHD2HO99Rd@R@RRJJJJJJJJJJJJJJJJJJJJJJJJJJJJJJJJJJJJJJJJJJJJJJJJJJJJJJJJHH@H@HOHHZ2P2P2P2222K<2<K<<2<<\n",
      "<~~~Y>Y>222K22K2222DP2P2PHH2HHDP99RRRRRH@RJJJJJJJJJJJJJJJJJJJJJJJJJJJJJJJJJJJJJJJJJJJJJJJJJJJJJHHRHOHHHHZHHP2PHP2222<22<<<2<<</\n",
      "^~~FXXXY<<<<2<2K2222DPHHH2PHHHHHHH99dRRR@H@RJJJJJJJJJJJJJJJJJJJJJJJJJJJJJJJJJJJJJJJJJJJJJJJJJHHRH@HOOHZOP2P2PHY2222<K<<22<<</><\n",
      "r^~F|~~X<2<2<K<2K22222HZPHH2P2H2HDPOO9dRRRH@HRJJJJJJJJJJJJJJJJJJJJJJJJJJJJJJJJJJJJJJJJJJJJHHHRH@HOOHHDPHHPHPHZ222<22<2<<<<<<<</\n",
      "'<~|~~~~Y<2<2<2<2K222222HZPHHHPHHHHHHOO9RRRH@RHRJJJJJJJJJJJJJJJJJJJJJJJJJJJJJJJJJJJJJJJHHHRH@HOHOHH2PPHZHZZ2Z2222<K<<2<2<</<<<<\n",
      "/|~C|FC~~Y<<2<K<2<2K222222HZHZH2P2HHHHHD99R@O@H@HRJJJJJJJJJJJJJJJJJJJJJJJJJJJJJJJJJHHHHRH@HOHOOHHHHPH2PHY22222<2<2<2<<<<<<<<<<|\n",
      ":||~|~|~~~Y>/>/K<2<2<K222222P2PHHPHZHZHPHDO9HOORH@MHHRHJJJJJJJJJJJJJJJJJJJJJJJHHHHHRH@H@HHOOHHH2PZHZPP2P22222<2<2<<<2<</<<<</r<\n",
      "^|~^|~CCC~~Y<<<<2<2<K<2222222DPZHZH2PH2HHPHHHOOOOHR@H@HHHHHHHHHRHHRHHHHHHHHHMHRH@H@HOHOHOHHH2HPPHZP2HZ22222<2<2<<2<<</><<</rrr|\n",
      "'|||~!|~|~~~Y<<2<<2<22<K<2222222P2PP2PHP2PHHHPHHOOHOHOO@H@R@HR@HRHHR@R@H@H@HRHOOHOHOOHHHHZHZPPZHZHZ2Y2222<2<2<<2<<</><</<<rrrc|\n",
      "'||||~!C|C|~~Y<<</>/>/K<2K<K2222222DPHZHPH2P2PHHPHHHOHHOOHHHOHHOH@HOHHHOHOHOOOOOHHHHHHZZHZPHZHPZ2Y2222<2<2<2<2<<<<<<</<<<<rcrc.\n",
      " /|||^|||~!F{<<<<<<<2<<2<<2<2<222222222P2PPHPHZHPH2PH2HHHHHHOHOHOHHQHHQHHHHHHHPH2PHZPZPHZP2P2Z222222<2<2<<2<<<<</<<<<<<<||rc.r.\n",
      " ::||||~!|~||<<<<<<<<<<<2<2<22<K<2222222222P2PHZ2PPHPPPP2PZHHZHHHZHHZHPHZHZHZP2PPPPZP2P222222222<2<2<2<<2<<<</<<<<</<<|||||||.|\n",
      " '|:|||!|!!~|~|~/<</<<2</>/>/>2<2<22<22222222222HP2P2P2PPHHZPHZPZHZPHZHZPZPZPPPPHZ22222222222<2<2<2<<<2<<<</><<<<<<<|||||||.<. \n",
      " '::'|!!|C!!C||~~~<<<</r><<<<2<<2<2<2<2222222222Y222222DPZP2PZHZP2P2P2P22D222222222222222<2<2<2<<2<<2<<<</></<<</<|<|||||:|..'.\n",
      "  ':|'|!!!|||||^|~^<<<rr<</>/<<<2<<2<2<<<2<2<22222222222222222Y222222222222222222Y222<2<2<2<<2<<2<<<<<</<<<<<<<|rr|||||:|:'/..'\n"
     ]
    }
   ],
   "source": [
    "noise = 0.2\n",
    "cls, char_to_brightness_map = train_classifier(CHAR_SET, FONT, W_H_WIN_SHAPE, (8,8,8), 100, noise)\n",
    "\n",
    "brightness_X = np.array([b.flatten() for b in char_to_brightness_map.values()])\n",
    "brightness_y = list(char_to_brightness_map.keys())\n",
    "\n",
    "repetitions = 50\n",
    "\n",
    "test_X = np.tile(brightness_X, (repetitions,1))\n",
    "test_y = list(char_to_brightness_map.keys()) * repetitions\n",
    "test_X += ((np.random.random(test_X.shape)-0.5) * noise)\n",
    "test_X = np.clip(test_X, a_min=0, a_max=1)\n",
    "\n",
    "print('classifier score no noise', cls.score(brightness_X, brightness_y))\n",
    "print('classifier score noise', cls.score(test_X, test_y))\n",
    "\n",
    "ascii_arr = quantize_grayscale_wxh(\n",
    "    img=proc_img, \n",
    "    char_to_brightness_map=char_to_brightness_map,\n",
    "    brightness_hw_shape=(W_H_WIN_SHAPE[1], W_H_WIN_SHAPE[0]),\n",
    "    dither=DITHER_MODES.FS,\n",
    "    cls=cls)\n",
    "for i in range(len(ascii_arr)):\n",
    "    for j in range(len(ascii_arr[i])):\n",
    "        print(ascii_arr[i][j], sep='', end='')\n",
    "    print('\\n', end='')"
   ]
  }
 ],
 "metadata": {
  "kernelspec": {
   "display_name": "ascii_brightness_test",
   "language": "python",
   "name": "python3"
  },
  "language_info": {
   "codemirror_mode": {
    "name": "ipython",
    "version": 3
   },
   "file_extension": ".py",
   "mimetype": "text/x-python",
   "name": "python",
   "nbconvert_exporter": "python",
   "pygments_lexer": "ipython3",
   "version": "3.12.5"
  }
 },
 "nbformat": 4,
 "nbformat_minor": 2
}
