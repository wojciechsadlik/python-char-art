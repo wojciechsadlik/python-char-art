{
 "cells": [
  {
   "cell_type": "code",
   "execution_count": 1,
   "metadata": {},
   "outputs": [],
   "source": [
    "from PIL import Image, ImageOps, ImageFont\n",
    "import matplotlib.pyplot as plt\n",
    "import numpy as np\n",
    "import ipywidgets\n",
    "from ipywidgets import interactive, HBox, VBox\n",
    "from ascii_art_conversion_wxh import quantize_grayscale_wxh\n",
    "from img_processing import preprocess_img, DITHER_MODES\n",
    "from braille_art import get_braille_chars\n",
    "from generate_char_palette import *\n",
    "from ascii_art_conversion_mlp import train_classifier"
   ]
  },
  {
   "cell_type": "code",
   "execution_count": 2,
   "metadata": {},
   "outputs": [],
   "source": [
    "ASCII_SET = get_asciis()\n",
    "BRAILLE_SET = get_braille_chars()\n",
    "\n",
    "CHAR_SET = ASCII_SET\n",
    "W_H_WIN_SHAPE = (3,6)"
   ]
  },
  {
   "cell_type": "code",
   "execution_count": 3,
   "metadata": {},
   "outputs": [],
   "source": [
    "FONT = ImageFont.truetype(\"fonts/CascadiaMono.ttf\", 12)\n",
    "IMG_PATH = \"imgs/irad_grad.bmp\""
   ]
  },
  {
   "cell_type": "code",
   "execution_count": 4,
   "metadata": {},
   "outputs": [
    {
     "name": "stdout",
     "output_type": "stream",
     "text": [
      "(512, 512)\n"
     ]
    }
   ],
   "source": [
    "orig_img = Image.open(IMG_PATH).convert(\"L\")\n",
    "#orig_img = ImageOps.invert(orig_img)\n",
    "\n",
    "print(orig_img.size)"
   ]
  },
  {
   "cell_type": "code",
   "execution_count": 5,
   "metadata": {},
   "outputs": [
    {
     "data": {
      "application/vnd.jupyter.widget-view+json": {
       "model_id": "a288ac973d0b4f5780b4bdddac016de0",
       "version_major": 2,
       "version_minor": 0
      },
      "text/plain": [
       "HBox(children=(VBox(children=(FloatSlider(value=0.5, description='scale_factor', max=1.0, min=0.01, step=0.01)…"
      ]
     },
     "metadata": {},
     "output_type": "display_data"
    }
   ],
   "source": [
    "def i_preprocess_img(scale_factor, contrast, brightness, quantize_colors, eq, dither):\n",
    "    proc_img = preprocess_img(orig_img, scale_factor, contrast, brightness, eq, quantize_colors, dither)\n",
    "    plt.imshow(proc_img, cmap='gray', vmin=0, vmax=255, interpolation='none')\n",
    "\n",
    "    plt.figure(figsize=(9, 3))\n",
    "    plt.xticks([x for x in range(0, len(proc_img.histogram()), 25)])\n",
    "    plt.bar([x for x in range(0, len(proc_img.histogram()))], proc_img.histogram())\n",
    "    plt.grid()\n",
    "    plt.show()\n",
    "\n",
    "    return proc_img\n",
    "\n",
    "interactive_preprocess = interactive(i_preprocess_img,\n",
    "            scale_factor=(0.01, 1, 0.01),\n",
    "            contrast=(0, 2, 0.01),\n",
    "            brightness=(0, 2, 0.01),\n",
    "            eq=(0, 1, 0.01),\n",
    "            quantize_colors=(1, 256, 1),\n",
    "            dither=DITHER_MODES)\n",
    "\n",
    "controls = VBox(interactive_preprocess.children[:-1])\n",
    "display(HBox((controls, interactive_preprocess.children[-1])))"
   ]
  },
  {
   "cell_type": "code",
   "execution_count": 6,
   "metadata": {},
   "outputs": [],
   "source": [
    "proc_img = interactive_preprocess.result"
   ]
  },
  {
   "cell_type": "code",
   "execution_count": 7,
   "metadata": {},
   "outputs": [
    {
     "name": "stdout",
     "output_type": "stream",
     "text": [
      "           _-_-___-_-__[_[[[[[[[[[[[[[[[[[[[[[[[[[[[[[[[[[[[[__-_-_-_-_-_-_          \n",
      "        _-_-_-_-_-_[[[[[[[[[[[[[[[[[[[[[[[[[[[[[[[[[[[[[[[[[[[[[[[__-_-_-_-_-_       \n",
      "      _-_-_-_-__[[[[[[[[[[[[[[[[[[[[[[[[[[[[[[[[[[[[[[[[[[[[[[[[[[[[[__-__-_-_-_     \n",
      "    _-_-_-__-_[[[[[[[[[[[[[[[[[[[[[[[[[[[[[[[[[[[[[[[[[[[[[[[[[[[[[[[[[_-_-_-_-_-_   \n",
      "  _-_-_-__-[[[[[[[[[[[[[[[[[[[[[[[[[[Q[Q[Q[Q[Q[Q[[[[[[[[[[[[[[[[[[[[[[[[[[_-_-_-_-_  \n",
      " -_-_-__-[[[[[[[[[[[[[[[[[[[[[Q[QQQQQQQQQQQQQQQQQQQQQ[Q[[[[[[[[[[[[[[[[[[[[[__-_-_-_-\n",
      "_-_-_-_[[[[[[[[[[[[[[[[[[[Q[QQQQQQQQQQQQQ@Q@QQQQQQQQQQQQQQ[Q[[[[[[[[[[[[[[[[[[_-_-_-_\n",
      "-_-_-_[[[[[[[[[[[[[[[[[QQQQQQQQQ@Q@Q@@@@@Q@Q@@@@@Q@Q@QQQQQQQQ[Q[[[[[[[[[[[[[[[[_-_-_-\n",
      "_-_-_[[[[[[[[[[[[[[[Q[QQQQQQ@Q@Q@@@@@@@@@@@@@@@@@@@@@@@@Q@QQQQQQ[[[[[[[[[[[[[[[[[_-_-\n",
      "_-_[[[[[[[[[[[[[[[Q[QQQQQ@Q@Q@@@@@@@@@@@@@@@@@@@@@@@@@@@@Q@Q@QQQQQ[[[[[[[[[[[[[[[[_-_\n",
      "_-[[[[[[[[[[[[[[Q[QQQQQ@Q@@@@@@@@@@@@@@@@@@@@@@@@@@@@@@@@@@@Q@QQQQQQ[[[[[[[[[[[[[[[_-\n",
      "_[[[[[[[[[[[[[[Q[QQQQ@Q@@@@@@@@@@@@@@@@@@@@@@@@@@@@@@@@@@@@@@@@@QQQQQ[Q[[[[[[[[[[[[[_\n",
      "-[[[[[[[[[[[[[QQQQQ@Q@@@@@@@@@@@@@@@@@@@@@@@@@@@@@@@@@@@@@@@@@@@@@QQQQ[Q[[[[[[[[[[[[[\n",
      "[[[[[[[[[[[[[Q[QQQ@Q@@@@@@@@@@@@@@@@@@@@@@@@@@@@@@@@@@@@@@@@@@@@@@@Q@QQ[Q[[[[[[[[[[[[\n",
      "[[[[[[[[[[[[QQQQQQ@@@@@@@@@@@@@@@@@@@@@@@@@@@@@@@@@@@@@@@@@@@@@@@@@Q@QQQ[Q[[[[[[[[[[[\n",
      "[[[[[[[[[[[Q[QQQ@Q@@@@@@@@@@@@@@@@@@@@@@@@@@@@@@@@@@@@@@@@@@@@@@@@@@Q@QQQ[[[[[[[[[[[[\n",
      "[[[[[[[[[[[QQQQ@Q@@@@@@@@@@@@@@@@@@@@@@@@@@@@@@@@@@@@@@@@@@@@@@@@@@@@Q@QQQ[[[[[[[[[[[\n",
      "[[[[[[[[[[Q[QQQ@Q@@@@@@@@@@@@@@@@@@@@@@@@@@@@@@@@@@@@@@@@@@@@@@@@@@@@@Q@QQQ[[[[[[[[[[\n",
      "[[[[[[[[[[QQQQ@Q@@@@@@@@@@@@@@@@@@@@@@@@@@@@@@@@@@@@@@@@@@@@@@@@@@@@@@QQQQ[Q[[[[[[[[[\n",
      "[[[[[[[[[Q[QQQQ@Q@@@@@@@@@@@@@@@@@@@@@@@@@@@@@@@@@@@@@@@@@@@@@@@@@@@@@@@QQQ[[[[[[[[[[\n",
      "[[[[[[[[[[QQQ@Q@@@@@@@@@@@@@@@@@@@@@@@@@@@@@@@@@@@@@@@@@@@@@@@@@@@@@@@Q@QQQ[Q[[[[[[[[\n",
      "[[[[[[[[[Q[QQQ@Q@@@@@@@@@@@@@@@@@@@@@@@@@@@@@@@@@@@@@@@@@@@@@@@@@@@@@@@Q@QQ[[[[[[[[[[\n",
      "[[[[[[[[[[QQQQQ@@@@@@@@@@@@@@@@@@@@@@@@@@@@@@@@@@@@@@@@@@@@@@@@@@@@@@@@QQQQ[Q[[[[[[[[\n",
      "[[[[[[[[[Q[QQ@Q@Q@@@@@@@@@@@@@@@@@@@@@@@@@@@@@@@@@@@@@@@@@@@@@@@@@@@@@Q@QQ[Q[[[[[[[[[\n",
      "[[[[[[[[[[QQQQQ@@@@@@@@@@@@@@@@@@@@@@@@@@@@@@@@@@@@@@@@@@@@@@@@@@@@@@@QQQQQ[[[[[[[[[[\n",
      "[[[[[[[[[[[QQQQQ@Q@@@@@@@@@@@@@@@@@@@@@@@@@@@@@@@@@@@@@@@@@@@@@@@@@@Q@Q@Q[Q[[[[[[[[[[\n",
      "[[[[[[[[[[[[QQQ@Q@@@@@@@@@@@@@@@@@@@@@@@@@@@@@@@@@@@@@@@@@@@@@@@@@@@@Q@QQ[[[[[[[[[[[[\n",
      "[[[[[[[[[[[[QQQQQQ@@@@@@@@@@@@@@@@@@@@@@@@@@@@@@@@@@@@@@@@@@@@@@@@@Q@QQQ[Q[[[[[[[[[[[\n",
      "[[[[[[[[[[[[[QQQQQ@Q@@@@@@@@@@@@@@@@@@@@@@@@@@@@@@@@@@@@@@@@@@@@@@@QQQQ[Q[[[[[[[[[[[[\n",
      "[[[[[[[[[[[[[[QQQQQ@Q@@@@@@@@@@@@@@@@@@@@@@@@@@@@@@@@@@@@@@@@@@@@Q@QQQ[Q[[[[[[[[[[[[[\n",
      "-[[[[[[[[[[[[[[[QQQQQQ@Q@@@@@@@@@@@@@@@@@@@@@@@@@@@@@@@@@@@@@@@Q@QQQQ[Q[[[[[[[[[[[[[[\n",
      "-_[[[[[[[[[[[[[[[QQQQQQ@Q@@@@@@@@@@@@@@@@@@@@@@@@@@@@@@@@@@@@Q@QQQQ[Q[[[[[[[[[[[[[[[-\n",
      "---[[[[[[[[[[[[[[[[QQQQQQ@Q@@@@@@@@@@@@@@@@@@@@@@@@@@@@@@@Q@Q@QQQ[Q[[[[[[[[[[[[[[[[-_\n",
      "-_--[[[[[[[[[[[[[[[[[QQQQQQQQ@Q@@@@@@@@@@@@@@@@@@@@@@@Q@Q@QQQQQ[Q[[[[[[[[[[[[[[[[--_-\n",
      "--_--[[[[[[[[[[[[[[[[[[[QQQQQQQQQ@Q@Q@@@@@@@@@@@Q@Q@Q@Q@QQQQ[Q[[[[[[[[[[[[[[[[[[-_---\n",
      "---_---[[[[[[[[[[[[[[[[[[[[Q[QQQQQQQ@QQQQQQQQQ@Q@QQQQQQQ[Q[[[[[[[[[[[[[[[[[[[[-[--_--\n",
      " ---_-_-[[[[[[[[[[[[[[[[[[[[[[[Q[QQQQQQQQQQQQQQQQQQ[Q[[[[[[[[[[[[[[[[[[[[[[[[-_-_--_-\n",
      "  --------[[[[[[[[[[[[[[[[[[[[[[[[[[[[[[[Q[Q[[[[[[[[[[[[[[[[[[[[[[[[[[[[[[[------_-- \n",
      "   -_-_-_---[[[[[[[[[[[[[[[[[[[[[[[[[[[[[[[[[[[[[[[[[[[[[[[[[[[[[[[[[[[[[--_-_-_--   \n",
      "     ----_-_---[[[[[[[[[[[[[[[[[[[[[[[[[[[[[[[[[[[[[[[[[[[[[[[[[[[[[[[---_------     \n",
      "       -----_----[-[[[[[[[[[[[[[[[[[[[[[[[[[[[[[[[[[[[[[[[[[[[[[[[[---_----_-_       \n",
      "         -_--_-_-----[[[[[[[[[[[[[[[[[[[[[[[[[[[[[[[[[[[[[[[[[[[---_----_---         \n"
     ]
    }
   ],
   "source": [
    "\n",
    "\n",
    "char_to_brightness_map = generate_brightness_map(CHAR_SET, FONT, W_H_WIN_SHAPE, normalize=True)\n",
    "ascii_arr = quantize_grayscale_wxh(proc_img, char_to_brightness_map, (W_H_WIN_SHAPE[1], W_H_WIN_SHAPE[0]), DITHER_MODES.FS, 0.0)\n",
    "for i in range(len(ascii_arr)):\n",
    "    for j in range(len(ascii_arr[i])):\n",
    "        print(ascii_arr[i][j], sep='', end='')\n",
    "    print('\\n', end='')"
   ]
  },
  {
   "cell_type": "code",
   "execution_count": 8,
   "metadata": {},
   "outputs": [
    {
     "name": "stdout",
     "output_type": "stream",
     "text": [
      "classifier score no noise 0.9894736842105263\n",
      "classifier score noise 0.8231578947368421\n",
      "        :..::::c:(((((((((((((((2((([g((g(g(gg[[g[g[((([((((((((((((_(_:::: :..      \n",
      "      .:::::__c(((((((((((ggg(gggggggggggggggggggggggggggg(g[[2[((((((((__:_::.      \n",
      "    .:::.__(((((((([((gg[g[ggggggggggggggggg5gggggggggggggg(((g([((((((((((_:::::.   \n",
      "  :::::_c(_((((((g((ggggg2ggggggggggggggggggQgggQggggggggggggggg[((((((((((((:::::.. \n",
      ".:.:::_(_(((([([[[gggggggg$gggQQgggQgQQQQQg5QgQgg@gQ5g@gQgggggggggg[g((((((((((__:.:.\n",
      "::::c((((((((([ggg2gggggggQg$QQQQg@QQQ@QQQQQ@QQQQQgQQQQQQQggggQggggg[gg((((((((c(::::\n",
      "::__((((((([[ggggggg5gQgggQQ@QQQQ@QQ@QQQQ@QQQQQ$QQQQQ@QQQgQQgQ@ggQggggggg(g((((((__::\n",
      ":c_((((((((gggggg@ggQggQ@gQQQQQQQQQQQQQ@QQ@QQ@QQQQQQQQQQQQQQQgQQQggggggggg((((((((((:\n",
      "((((((([((ggggggggQ5gQQQQQQQQ@QQQQQQQQQQQQQQ@QQQQQ@QQQQQQQQQQQ@gQg5gggggggggg((((((((\n",
      "(((((([ggggg[gggQ$QQQ@@Q@QQQQ@@Q@Q@QQQ@QQ@QQQQQQQQ@QQQQQ@QQQQ@QQ@QQgQggggggg[g[((((((\n",
      "((((((ggggggggQg@QQ@QQQQQ@Q@QQ@QQQQ@QQQQQQQQQQQQQQQQ@Q@QQQQQQQQ@QQQQQQQgg@ggg[gg(((((\n",
      "(((([g[ggggggQQQ@5QQ@Q@@QQQQQQQQQQQQQQQQQQ@Q@QQQQQQ@QQQQQQQQQQQQQQQQ5@QQggggggggg([((\n",
      "((((ggggggggg$QQQQQQQQQQQ@QQ@QQQ@Q@Q@QQQQ@@QQQQQQQQQQQQQQQ@Q@QQQQQQ@QQQQQgggggggg[[((\n",
      "(([([2ggggQ$Q5QQQ@@Q@@QQQQQQQQQQQQQ@QQQQQQQQQQQQQ@QQQQQQQQQQ@@QQQ@@QQQQQQgQggggg[2(((\n",
      "((gggggggQggg5QQQQQQQQQQQ@QQQQQQQ@QQQQQQQQQQ@QQQQQQQQQQQQQQQQQQQQQQQ@@@@QgQggggggg(((\n",
      "((ggggggg5gQQQQQQ@QQ@QQQQQQQQQQQQQ@QQQQQQQQQQQQQQQQQQQQQQQQQ@Q@QQQQQQQ@Q@QQ@gggggggg(\n",
      "(g[gggg@gg@QQ@QQQ@QQQQQQQQQQQQQQQ@QQQQQQQ@QQQQQQQQQQQQQ@QQQQQQQ@QQQQQQQQQQQQQgggggggg\n",
      "(ggggggg@QQQ@QQQQQQQQQQQQQQQQQ@QQQQ@QQ@QQQQQQQQQQQQ@Q@QQQ@QQQQQQ@QQQ@QQ@QgQgQgggggggg\n",
      "2gggggggQ$QQQQQQQQQQQQQ@QQQQQQQQQQQQQQQQQQQQQ@QQQQQQQQQQQQQQQQQQQ@QQQQ@QQQQQQgggg55[g\n",
      "2[ggggQgQQ@QQ@QQQ@QQQ@QQQQ@Q@@@QQ@QQQQQQQQQQQQQQQQQQQ@QQQQQQQQQQQQQQQQQQQQ@QQQ@gggggg\n",
      "(ggggggQ@QQ@Q@@QQQQ@QQQQQQQQQQQQQQQQQQQQQQQQQQQQQQQQQQQQQQQQQ@QQQQ@QQ@@QQQQgQQggggggI\n",
      "[ggggg@QgQQ@QQQ@QQQQQQQQQ@QQQQQQQQQQQQ@QQQ@@Q@QQQQQ@QQQ@QQ@Q@QQQ@@QQQQ5QQ@QQgQg@g@ggI\n",
      "(ggg2gg@Q@QQQ@QQQQQQQ@Q@QQQQQ@QQQ@QQQQQQQ@QQ@@QQQQQQQQQ@QQ@QQQQQQQQQQQQQQQgQ5Qggggggg\n",
      "[g[gggggQQ@5QQQQQQQ@QQQQ@Q@QQQQQQQQQ@Q@QQQ@@Q@QQQQQQQQQQQ@@QQQQQQQQQQ@QQ@@Q@Qg@ggggg[\n",
      "([gggggg$@QQ@QQQQQQ@QQQQQQQQQQQQQQQQQQQ@QQQQ@QQQQQQQQ@QQQQ@QQ@QQQQQQQQQQQQQQg@g5ggggg\n",
      "(ggggg5@gg@Q@@QQ@QQQQQQQQQ@QQQ@Q@Q@Q@QQQQ@QQQQ@QQQQQQQQQQQQQ@QQ@QQQQQ@QQQQ@Q@gggg2gg(\n",
      "((g[g5ggQQQQQQQQQQQQ@QQQ@Q@QQQQ@Q@QQQQQQQQQQ@QQQQQ@QQ@Q@@QQ@QQQQQQQ@QQQ@Q5QgQ@@ggg[2[\n",
      "((2ggggggg5QQQ5Q@QQQQ@Q@QQ@QQQQQQQQQQ@@QQQQQQ@QQQQQQQQQQQQ@Q@QQ@QQQQQQQQQ5Q@Qgggggg([\n",
      "([[(gggggggQQQQQQ@QQQQQQQQQ@Q@QQQQQ@Q@QQQQ@Q@QQ@QQQQQQQQ@QQ@QQQQ@Q@QQQ@@QgQggg$gg2[((\n",
      "(((ggggg5ggg@gQQ@QQ@@QQ@Q@QQQQQ@QQQQQQQQQ@QQQQ@QQQQ@QQQQQ@QQ@QQQ@@QQQ@QQ@Qggggg2g((((\n",
      "(((((ggggggQgQg@QQ@QQQQQQQQQQQ@QQ@QQQQQQQQ@@QQQ@@Q@@Q@QQ@QQ@Q@QQQ@QQQ@gQg@ggg@gggg(([\n",
      "((((([q[g2g@Q5QQ@QQQQQ@Q@QQQQQQ@QQQQ@QQQQQQQ@QQQ@@QQQQ@@QQQQ@@QQQQQQQQQ@$ggggg2g([(([\n",
      "(((((((gggg5g5@@Q@5QQ@QQQQQ@QQQQ@Q@QQQQ@QQ@@@@QQQ@Q@@QQQQQ@QQQQQQQ5Q@5gg5gggg2gg[((((\n",
      "((((([[gg[gggg5ggQ@@QQ5QQ@QQQ@QQQQQQ@@QQQ@QQQQQ@QQQQQQQQ@QQQ@QQQQQQQgg5gggggg(([(((((\n",
      ":_((((((2(gggggggQgg@QQg@@QQQQ@Q@QQ@Q@QQQQQQ@Q@QQ@QQQ@QQQQQQ5QQ@5gggg@gggg2g[g((((((_\n",
      ":cc((((((([[ggg2ggggQgg@Q@Q@Q@QQQQQQQQQ@Q@@QQ5QQQQQQQQ@QQ@Q@QQ@Q@Qg@gggg2[[g((q(((:(:\n",
      ":::_(_((((((((ggg5g$g55g$QQ$QQQ@@Q5@QQQQQQQQ@Q@@QQ@QQ@QQQ@@gQgggggggggg[g((((((((::::\n",
      ".::::c_((((((([g(gggg5g5g@gQ@QQQQQQQQ@Q5QQ@QQQQ@5Q@@Q@QQQ@Qg5ggggggg(gI([(((((((_(::.\n",
      " .::::::(((((((([2[[ggggggggQggg@g@Qg@QQQgQ@g@QQQ@QggQ5gggg5g5ggg[2g[((((((((:s::::. \n",
      "   ::::::(c(((((((((g(g2gg2ggggggggg@g55QgggQgggg@gggggggggggg22g[((((((((((:(::_:: .\n",
      " .   :.:::::c((((((((((([g(ggg5gggggggg[5ggggg5gggggggg2gZ[g(g[([((((((((c:::::. :   \n",
      "       ::::_/:(((((((([((([2([g2ggggggg2gggg2g[gggg[ggggZ[((((((((((_((_::::::       \n"
     ]
    }
   ],
   "source": [
    "noise = 0.3\n",
    "cls, char_to_brightness_map = train_classifier(CHAR_SET, FONT, W_H_WIN_SHAPE, (8,8,8), 500, noise)\n",
    "\n",
    "brightness_X = np.array([b.flatten() for b in char_to_brightness_map.values()])\n",
    "brightness_y = list(char_to_brightness_map.keys())\n",
    "\n",
    "repetitions = 50\n",
    "\n",
    "test_X = np.tile(brightness_X, (repetitions,1))\n",
    "test_y = list(char_to_brightness_map.keys()) * repetitions\n",
    "test_X += ((np.random.random(test_X.shape)-0.5) * noise)\n",
    "test_X = np.clip(test_X, a_min=0, a_max=1)\n",
    "\n",
    "print('classifier score no noise', cls.score(brightness_X, brightness_y))\n",
    "print('classifier score noise', cls.score(test_X, test_y))\n",
    "\n",
    "ascii_arr = quantize_grayscale_wxh(proc_img, char_to_brightness_map, (W_H_WIN_SHAPE[1], W_H_WIN_SHAPE[0]), DITHER_MODES.FS, cls=cls)\n",
    "for i in range(len(ascii_arr)):\n",
    "    for j in range(len(ascii_arr[i])):\n",
    "        print(ascii_arr[i][j], sep='', end='')\n",
    "    print('\\n', end='')"
   ]
  }
 ],
 "metadata": {
  "kernelspec": {
   "display_name": "ascii_brightness_test",
   "language": "python",
   "name": "python3"
  },
  "language_info": {
   "codemirror_mode": {
    "name": "ipython",
    "version": 3
   },
   "file_extension": ".py",
   "mimetype": "text/x-python",
   "name": "python",
   "nbconvert_exporter": "python",
   "pygments_lexer": "ipython3",
   "version": "3.12.4"
  }
 },
 "nbformat": 4,
 "nbformat_minor": 2
}
