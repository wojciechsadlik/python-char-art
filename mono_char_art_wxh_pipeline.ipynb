{
 "cells": [
  {
   "cell_type": "code",
   "execution_count": 1,
   "metadata": {},
   "outputs": [],
   "source": [
    "from PIL import Image, ImageOps, ImageFont\n",
    "import matplotlib.pyplot as plt\n",
    "import numpy as np\n",
    "import ipywidgets\n",
    "from ipywidgets import interactive, HBox, VBox\n",
    "from mono_char_art_conversion_wxh import quantize_grayscale_wxh\n",
    "from img_processing import preprocess_img, DITHER_MODES\n",
    "from braille_art import get_braille_chars\n",
    "from generate_char_palette import *\n",
    "from mono_char_art_conversion_mlp import train_classifier"
   ]
  },
  {
   "cell_type": "code",
   "execution_count": 2,
   "metadata": {},
   "outputs": [],
   "source": [
    "ASCII_SET = get_asciis()\n",
    "BRAILLE_SET = get_braille_chars()\n",
    "\n",
    "CHAR_SET = ASCII_SET\n",
    "W_H_WIN_SHAPE = (2,4)"
   ]
  },
  {
   "cell_type": "code",
   "execution_count": 3,
   "metadata": {},
   "outputs": [],
   "source": [
    "FONT = ImageFont.truetype(\"fonts/CascadiaMono.ttf\", 8)\n",
    "IMG_PATH = \"imgs/irad_grad.bmp\""
   ]
  },
  {
   "cell_type": "code",
   "execution_count": 4,
   "metadata": {},
   "outputs": [
    {
     "name": "stdout",
     "output_type": "stream",
     "text": [
      "(512, 512)\n"
     ]
    }
   ],
   "source": [
    "orig_img = Image.open(IMG_PATH).convert(\"L\")\n",
    "#orig_img = ImageOps.invert(orig_img)\n",
    "\n",
    "print(orig_img.size)"
   ]
  },
  {
   "cell_type": "code",
   "execution_count": 5,
   "metadata": {},
   "outputs": [
    {
     "data": {
      "application/vnd.jupyter.widget-view+json": {
       "model_id": "6a611302c1844684be4fe7a8aa805c4e",
       "version_major": 2,
       "version_minor": 0
      },
      "text/plain": [
       "HBox(children=(VBox(children=(FloatSlider(value=0.5, description='scale_factor', max=1.0, min=0.01, step=0.01)…"
      ]
     },
     "metadata": {},
     "output_type": "display_data"
    }
   ],
   "source": [
    "def i_preprocess_img(scale_factor, contrast, brightness, quantize_colors, eq, dither):\n",
    "    proc_img = preprocess_img(\n",
    "        img=orig_img,\n",
    "        scale_factor=scale_factor,\n",
    "        contrast=contrast,\n",
    "        brightness=brightness,\n",
    "        eq=eq,\n",
    "        quantize_colors=quantize_colors,\n",
    "        dither=dither)\n",
    "    plt.imshow(proc_img, cmap='gray', vmin=0, vmax=255, interpolation='none')\n",
    "\n",
    "    plt.figure(figsize=(9, 3))\n",
    "    plt.xticks([x for x in range(0, len(proc_img.histogram()), 25)])\n",
    "    plt.bar([x for x in range(0, len(proc_img.histogram()))], proc_img.histogram())\n",
    "    plt.grid()\n",
    "    plt.show()\n",
    "\n",
    "    return proc_img\n",
    "\n",
    "interactive_preprocess = interactive(i_preprocess_img,\n",
    "            scale_factor=(0.01, 1, 0.01),\n",
    "            contrast=(0, 2, 0.01),\n",
    "            brightness=(0, 2, 0.01),\n",
    "            eq=(0, 1, 0.01),\n",
    "            quantize_colors=(1, 256, 1),\n",
    "            dither=DITHER_MODES)\n",
    "\n",
    "controls = VBox(interactive_preprocess.children[:-1])\n",
    "display(HBox((controls, interactive_preprocess.children[-1])))"
   ]
  },
  {
   "cell_type": "code",
   "execution_count": 6,
   "metadata": {},
   "outputs": [],
   "source": [
    "proc_img = interactive_preprocess.result"
   ]
  },
  {
   "cell_type": "code",
   "execution_count": 7,
   "metadata": {},
   "outputs": [
    {
     "name": "stdout",
     "output_type": "stream",
     "text": [
      "        :  : : :: ::::::~.~:~:~:~:~:~:~~:J~:~J:~~C~~J~~C~J~~C~J~~C~J~~C~J~~C~~J:~~C~~:J:~~:~:~:~:~:~::~.~.:::: :: : : :         \n",
      "   . : : : ~ ~.~ ~:~ J ~.~:J J.J:J:J~J:J~:J~C~JCJ~J:C~J~J:J~J~C~J~J:J~J~C-J~J:~JCJ:J-J~~CJ:J~J:J:J J:~:J ~~ ~~.~ ~.~ : : : : .  \n",
      " . :  ~ :~ .~ ~ J J ~ J`J J`~:~~~~C~_~J:J\\~J~C~-~J~J~J\\J~C~CJ~J-CJ~C~J\\J~J~C~JC~~~J~C~C~~~J:C J~:~C J J`-`J J ~.~ ~ ~ ~ ~ : :  :\n",
      " :  ~ .~ .~ J :~ ~ J:~:J:~~C~J_JC J~JC~CJ~C~J~J~J\\J\\J~J\\J~J~J\\J~J~JjJ\\J~C~J~J\\J~JC~J~J~J_J\\J~J\\JC~J~~C J:J C J J J C ~. : ~  ~  \n",
      "  ~ .~ .~ J :~.J C~ J_J:J_J J\\~CJ~J\\J~J~CJJ~CJ\\JCJ~JC~JCJjJ\\JjJCHCJ\\J~JCJJ\\JCJ~J\\J~CJ\\J~C~J:J\\~ J J:J~J:~_~~~.~`C ~ J ~.J .~ . :\n",
      ": .~ .~ J :~ J C~ J\\~C J\\~C~J J~~J\\J:JCJ~~CJuJCJ~JC~JCHJjJCHJCHJuHJjJHCHUjJjJjJCJjJJ\\JCJ~JCJ~JCJ~C~C_~C~JC~_JC J J ~ C ~ ~ ~ ~ :\n",
      " ~ .~ J `J J C~ J~_J J~~CJ J\\JCJ_JCJ~CJ~JJuCH~JjJjJHJHuCHJ4JjJ4CHCJHCJ4JCHJCHJjJHCUjJ~J~JC~JC~J~J~J~J~J_~~J~ J~_~:J J J C J :.~ \n",
      ". ~ J `J ~.C~ J~_J~C~~CJ J~J~C~JjJ~CJ~J\\JCHJCJHCHJjJCHJHJCHCHJHJJHGJHGCHJGHJjJHCUJjJCHCJjJjJjJ\\JCJ\\J\\J\\JC_~CJ:~CJ \\~ ~.~ ~ C J :\n",
      ":~ ~ C ~_~~_J~_J~:J J_J~J\\JCJ~JCJjJjJjJHCHJjJHJUCHJH4C4CH4JHGHCHGHCHJHJHUHC4HC4JHCHJHJUHCUJjJCJjJ\\JCJ~C~J~J.~J_~~J JC_~J J ~ :~ \n",
      " ~.J ~_~J J:~_J:CJ~CJ~C~JC~J\\JjJjJCUHJCHJUCHJCHGHJ4CHJHJ4JHJ4J4JHJ4JKGHC4JHJJHJHGJ4C4CHJUHCHCUHCJ~J~CJJ~CJ~JC~JC C~_~J C ~_~_J ~\n",
      "::~ C~~ C~.JC~~J:~J_~J~J\\J~JjJCUCHUCJHUGHJHGH4JHJHCH4JHGHZGHZHRHZ4HZHJRJHRCH4C4CHHJHJHJCHGJUHJCUHCUJj~CJ~CJ\\J_~J~J~J C~~J J ~ C \n",
      ":~.J J J JC~ JC~JC~JCJCJ~JCHJjJHJUHJHCHJCHJ4JHC4HGdJMGRHJMJRdGOGdORJNRHRGH4ORHRJ4ZHGHC4HJHCHCUHJCUHCJJjJCJ~J~CJ~C_JC~J J_~C J ~.\n",
      ":~`~_~C~C~_J~CJ_J~JC~JjJCHJCUCHJjCHC4JHGH4CHGH4JZHRRJMJRRdNOMORHRONNOOdOdORdOOdMJHGJRHJGHGJ4HJCHUHCJjUCJjJ\\CJ~CJ~J~.J:C~C J:~C J\n",
      ":J J:J J J~CJ~J~CJ\\J~JCjJjJjJHJCHJ4JHGHJ4JH4ZJMNOdONORNQNORONdORQNORdNONRONONRORNORHJRHGZHJHC4HJGJHUCHJjJjJJ~J~CJ\\JC~J~_J~:J J ~\n",
      ":~ J:~C~J\\J J\\JC~J~JCHJjJjJHCUHU4HJHGHJZHGROHNJRdRONdBdRQNNQRN@dNRdBORBRQNQRdONOdROdRGdHJRHGHJGHCHCHJUjJCUCHCJCJ~C~J_CJ~~_J:C~_~\n",
      "~.J:CJ J_~JC~J~JCJCJjJjJHCUHJHGHCJHGHZ4HGdMdORNQNONO@OR@NQ@N@QRQ@Q@R@Q@d@RN@O@dRQNONQM2RdOZdJMJH4J4JHCHJHUHCJjJ\\JJC~J~~CJ~C~_J:~\n",
      "~C~_J:J\\JC~J~CJ\\JjJjJCUCJHJC4CHJ4HGdJNJNORORdQNRBR@O@RQN@R@O@d@@N@O@O@d@O@QN@ONBRBdRNQNONONORGRCHJHC4JHCUCJUjJjJC~J~CJ_J:J J~:J \n",
      ":~~J:J~C~J~CJ~JCJjJjHJHHUGH4HJ4HGHZHRONRdONQ@R@Q@O@d@d@D@Q@d@D@O@D@@d@D@N@d@O@D@O@O@ORdRQNdROHddGHGHJHGHJHCHJCUjJjJCJ~C~JC~CJ C~\n",
      "~J C~_J~J_J~JCJjJjJCJjJCHJCHJHGJMJNJNONQM@dRNQN@d@D@D@@@D@@@D@@@@@D@@D@@O@D@@d@D@d@O@d@ONRONOdORORJNC4JCHGJHCHJCJCU~CJ~J\\J~_~J~.\n",
      ":~J J~C~CJ~CJjJjJCHUHCH4JH4JNGHZdRONRdBRQR@Q@@O@D@@N@D@D@@D@@@D@D@@D@@@D@@@D@D@@D@R@O@O@O@ONdROMdZHdHOH4JHC4JUCHUjJCJjJC~CJ~C J~\n",
      "~C~J\\J~J~CJ~JCjJjJHCJ4JHGHGHGHdONONQNQR@d@O@O@@N@D@D@@@@@@@@D@@@@@@@@D@@@D@@@@D@@D@D@N@O@dNQ@ONQROORJRCHGHJHCHJjJCHJjCJ~J_J~JC~_\n",
      "~.J:JC~JCJ~JjJJjJHCHJHC4JHCdRJRONORN@RQ@O@N@N@O@@@@@@D@@D@@@@@@@D@@D@@@@@@@D@@@R@@D@@O@d@O@RONRdONdONOdOZJHC4JHCHJCUJjCJC~C~_J~C\n",
      "~J~C~J_J~JCUCHCHCJUHGHJHGdRJMdBRdRQ@O@d@ND@D@D@@D@D@@@@@@@D@@@D@@@@@@@@@D@@@@D@@D@@D@@D@D@O@NQ@ONORBONZH4HGHJHC4JjJjCJjJ~J~JC~J \n",
      "~C J~CJ~CJjJjJUJHUHCJ4HGHJMdOROdBD@dND@O@@@D@@@D@@@@@D@@@@@@@@@@@@@@@@@@@@@@@@@@@@@@D@@R@R@O@Rd@O@OdROdOGJHJC4JHCHJjJjJC~JC~J:C~\n",
      "~J~J_J~JjJCHJCHCJC4HJHCdZNJRONOR@ON@D@@@O@D@@@@@@@@D@@@@@@@@@@@@@@@@@@@@@@@@D@@D@D@@@RD@D@D@d@O@ONRONONOMZ4H4HCJHJCHJCHJCjJCJ~J~\n",
      "~_~CJ~CJCjJCHJUHHJHGHGdJMJMRBdBO@d@O@D@O@@@@D@D@@@@@@@@@@@@@@@@@@@@@@W@@W@W@@@@@@@@D@@@@@D@D@O@O@ONQNORdOdOZJHGHC4JCHJ\\JjJC~CJ_~\n",
      "~J~J~JjJjJjJCHCJGHCJ4HJMGROdOR@OND@D@R@@R@D@@@@@@@@@@@@@@@@@@@@@@@@@@@@@@@@@@@W@@@@@@D@D@@@R@D@NRd@RONOMOROHGJHJ4CHUCUCJCJ~J~CJ~\n",
      "~CJ\\CJC~JCJHJUHUC4H4CHRJRdNONQN@O@R@D@D@D@@@@@@@@Q@@@@@@@@@@@@@@@@@@@@@@@@@@@@@@W@@@@@@@D@D@D@D@O@ONdRQRdONJMC4CHJHCJHUjJ\\JCJ~C~\n",
      "~J:J~~JCJHCUCHCHJHJHJRONOMQR@RO@d@O@@D@@@@@D@@D@@@@@@@@@@@@@@@@@@@@@@@@@@@@@@@@@@@@Q@@D@@@@D@R@O@O@O@ONOROZHGHJHJC4JHCJCHJC~CJ_J\n",
      "~C~JCJ~JjJjJHJJGHC4GHJNOdRONQNd@O@D@D@@D@D@@@@@@@@@@@@@@@@@@@@@@@@@@@@@@@@@@@@W@@W@@@W@@D@R@@D@R@ONDNO@OdMJNJZHGH4CHJCHJCjJ~J~~~\n",
      "~J~CJ~CJjJCHCUHC4JHJMZdOMONRd@O@O@R@@R@@@@@@@@@W@@@@@@@@@@@@@@@@@@@@@@@@@@@@@@@@@@@@W@@@@@Q@D@D@O@d@ORdMOdGMO4JZJHJCHUCUUCJC~CJC\n",
      "~C~J~JjJCHJUJjJHJHGHJNORORQNQRD@ND@O@D@D@@D@@@@@@@@@@@@@@@@@@@@@@@@@@@@@@@@@@@@@@W@@@Q@@Q@@R@@D@RD@O@ONOROROdZHGHCHJCUJjJjJ~JC~J\n",
      "~J.J\\JCJjJCHCHGJHCHGZHGdNONR@O@O@R@D@@@@@@@@@@W@@W@@@@@@@@@@@@@@@@@@@@@@@@@@@@@@@@@@@@W@@R@Q@R@D@DRNO@OdONOdOHJHJ4CH4CHCJCjJ\\J_~\n",
      "~C~JCJ~CJjJUJUHC4J4HJROMOdQNO@dND@D@RD@D@D@@@Q@@@@@@@@@@@@@@@@@@@@@@@@@@@@@@@@@@@W@@W@@Q@@@@D@D@D@D@OdRDNOROZGHCRJHJCJUUjJCJC~J~\n",
      "~J~J~CJjJjCHCHC4HCHJNOdORRNQNO@D@D@@@@@@@@@D@@@@@@@@@@@@@@@@@@@@@@@@@@@@@@@@@@@@@@@@Q@@@WQ@R@D@R@ORd@ONDROdMJMJRJHCHJHCJCHC~J~C~\n",
      "~C~CJ~JjJJHJUJHJHJGHZHGRQMQR@ON@O@ORD@O@D@@@@@W@W@@@@@@@@@@@@@@@@@@@@@@@@@@@@@@@@W@@@@W@@@RQ@@D@O@D@ORDNONOONJZHCHJGCUHCJjJ~CJ~J\n",
      "~J.J~CJCjCJCHCJC4HJRJROHdORdO@ONR@R@@D@@R@D@W@@@@@W@@@@@@@@@@@@@@@@@@@@@@@@@@@@@@@@@W@Q@D@@@RD@RD@4ONDNOdOROHGHJGHCHJCJjJCJCJ\\J:\n",
      "~CJ~J\\J~JUjJUHGHJCHGHJMJRONONRd@OD@O@D@D@@@@Q@@@@@@@@@@@@@@@@@@@@@@@@@@@@@@@@@@@W@Q@@@@@@D@D@@D@DRD@ONO@OMOdZJHGHJJCHUCUjJ\\J~C~J\n",
      "~~~CJ~JCJCHCJCUCH4JHCNJNONONO@OD@ND@D@R@D@D@@@@Q@W@@W@@@@@@@@@@@@@@@@@@@@@@@@@@@@@@@D@D@R@D@DR@J@D@ONDROdOROHGZJCHC4JCHJCJ~CJ~_~\n",
      "J.J~_JC~HJCJHUHJHCHJRJMZOdRQMONNO@D@R@D@@R@@D@W@@@Q@@@W@@@@@@@@@@@@@@@@@@@@@@@@@@@@W@@W@Q@W@RQ@RRDdRONOdROdOOHJHGHJCHJCUjCJ~CJCJ\n",
      "~C~JC~JCJ\\JjCJCHJGJHCHGdOMORdRO@ONRD@O@D@D@D@@@D@@@@W@@@@@@@@@@@@@@@@@@@@@@@@@@Q@D@Q@D@D@RQ@D@D@O@ONDdROOMJMJZHCJCHJCUUCJ~JCJ~~~\n",
      "~J J~J~JCJjJHUJCHJCH4JHORJNOONOdRD@O@O@R@D@@D@D@@W@Q@@Q@@W@@@@@@@@@@@@@@@@@@@@@@W@@@R@@R@D@RDRDRDRDdROOMOdOGHGJHHJC4JCHJ\\JC~~_J:\n",
      ":~C~C~C~J~CJCjJHC4HJCHGHJMONOdRO@ONDNRD@O@D@R@@WQ@@@@@@W@@@@@@@@@@@@@@@@@@@@@Q@R@Q@RQ@D@Q@D@D@D@OdRODNOdORJHCHCJC4JCHCJ\\J~CJCJC~\n",
      "~J J~J_JCJjJjJCUJCJHGJHZGZJMOROMONO@O@O@D@RD@D@D@R@D@R@Q@D@Q@@@@@@@@@@@@@@@Q@@R@D@R@@D@DRRDRDRD4D@ONORORJMJZJHJHJCHJCU~JC~J~_~~_\n",
      ":~J\\_JC~J\\JCJjJjHJHCHJCHJHGdOdOdORdONONDRD@D@D@R@Q@R@Q@@@@W@R@Q@D@@Q@@D@Q@D@R@Q@@D@QR@D@D@D@DWD@OdOROdOHOGHGHC4CHJCU~JC~JC~CJ~J~\n",
      "~C J~~J~CJ~JCJCJCUCJH4JHGHJMZOMONONO@ONR@O@RD@D@D@RQ@@RD@D@D@@R@@D@@R@@@R@@RQ@RD@RD@DRDRDRDWO@OORONOdOHJMJCHJJCJCUjJCjJC~J_J:C C\n",
      ":J~:JC_J~CJ~CHCHJjJHCJCHJZHJHJROdOROdROdONO@DRRD@D@R@D@R@R@@D@Q@R@D@D@D@D@D@@D@RQ@RD@D@D@ORDRONONOOHOORJGHJCHCHJHCJCUC~J_C~CJ~J \n",
      "~ J`J:J~CJ\\J~JCJCUCUJHGJHCJGRHGHOROMOdD@ORDdRD@DR@O@O@D@Q@D@D@R@Q@R@D@D@D@DRD@D@RD@DRDRD4DdDNOdOdORJMJHCHCHJ4JCUCU~J~JC~J~J:~_~C\n",
      ":~.J:C~_J~C~CJ~JjJjJCHCHC4HJCJHJROdORONONOND@ORD@J@ORDRD@DRD@DRD@DRQ@RDR@O@D@ORDRDRD@J@ORDNOONOROHJHJGHJJHCJCHCUJCUC~CJ_~C~CJ J \n",
      "~C~ J_J~C~J_J~C~JCJjJCJUJHCHHGZHJHOdOMJROdOROdDdDRDR@D@DRR@DR@D@RD@RD@D@JRRDRRD@O@JRORdOdOROdOOHJRJMG7JCHCJHCJUC~J~CJ~C~J J C~ C\n",
      ". J:~C~ J JC~JCJC~JCHUCHCJJCJHJCHGJMJROMORONONORDNDdORORDDD@JRDRD@J@ORDR@O@OD@JROdDNOdORONOdOMJRJHGJHCHJGJCUUCU~JC~J_J~_C~C~ J:~\n",
      "~~ J J JC~C~J_~CJ~CJCJjJUCHJHCHJGHCHJHJOdOMJNORONORDRDd@O@4O@O@ORORDRDROORORdONOROROdOROOdOHJRJHGHCHCJCHCUHCJ~CJ\\JC~C~CJ J J:C J\n",
      ".~ C ~C ~J J:JC~JCJ~CJCJCUCUCJGHCJHJGHGHJMJROOdOdONOdOROdORORO4OdDROdDdDNOdOROdOdOdOROOHOHJRJHG7JCJJHJCUJCUC~J~CJ:J_J J:~C~ J ~ \n",
      ":`J J J~_C~C~CJ:J~CJ~~JjJjJHJCJCHJCHCJHCRJHJMJMOROONONOOROdOdOROROdONOROdOROdOROROMJMJNJRJHGHCJHCHJCCUUCU~J~JCJ~C~C~~C~_J J C J \n",
      ": ~ ~ C J J J ~C~_J\\JC~CJC~CUHUJCHJ4JHCJHGJHGJHJHOHJRJMJNOOMOROdONOROONOROONOOHOOJNJOHJHGHCJCHJCJCHJjJCUC~CJ\\~_J_J:J J C~ C ~ ~ \n",
      ":~ J C J:~ C~CJ JC~C~JCJ~JCJCCJjJCUCHCJHJCHCHJRJHJRJMJOMJMJ4JHOOHJMJNJMJOHJHJRJH4HJHGJG7JCJHJCJHCJCUCU~J~JC~_JC~~C~ C~~ J ~_J C \n",
      "  ~ ~ J ~_J J ~C~ J~_J:C~CJ~J~CJCUCJCJHCJHJJCHCHGCHJHGHJ4JHOHJMJRJOHJMJHJRJMJHGJCJHCHCHCHJCJCHCJUjJ~JC~CC~J_7~ J J J J C J ~  ~ \n",
      ": : J :~ C ~ CJ JC JC~J~J_~C~JC~J~JjJCUCUCCHJGJCJHJCHJCHJCHJGHJGHJHGJGJRJHCJG7HJHCJGJJCJCHJjJCUC~JC~CJ~J_J:J~CJ:C~C C J ~ C C .~\n",
      " ~ ~ C C J CJ ~ ~_J:~ C_~JCJ_J~JC~CJ~JCUJHJCUCHJCJHCJCHJCHJCHCJHCHCJHCHCHCHJCHCJCHCJCHJCJCUCU~J~J\\JC~_C~~C~_C ~C J J:~ C ~ ~ J  \n",
      "  .  ~  ~ ~ ~ CJ J'J J~JC ~~C~C~JCJ~CU~C~CUCJUCJHCJCHJCJHCJHJCHCJJGCHJCJJJCHJCJCJJCHJCU~U~J~CJ\\CJ_~J_J~J J J~J J ~ ~ C ~ C .  : \n",
      " :`J  J .J C J  C ~ C~ C~J_J~J_J_~CJ~CJJCJ~J\\J~CUCUJCUJCJGCJCJJCJCHJCJHCjJCJCUjJjCUC~JC~CJ\\JC~J_~C~C~~ C~_C~ C ~C C J C J ~ C  :\n",
      "       ~   ~ :C ~J J J J C~ C J~CJ~_J~_~J\\JC~CJ~J~CU~CUjCJ~UCUCUjJCUCUCJCUjU~JC~J~J~J\\JCJ~_~J_~CJ J J J J~ J ~ J ~ ~  ~      ~  \n",
      "   : ~  C J C ~   C C C J J J~C ~ JC~CJ~_~CJ~JC~CJ~CJ~CJ~JCU~J~CJ~J~J~J~J~CJC~JC~CJ_C~~_~CJ:C~J ~C~C C~C C C J : J C J : C J    \n",
      "      .      J J ~ ~ J ~ C~ C J~CJ ~ J CJ~ J_~CJ_~J_~J~CJ\\~CJC~JC~CC~C~CCJ_~J_~J_J~CJ JCJ ~J J CJ J J ~ J J ~ C C      ~        \n"
     ]
    }
   ],
   "source": [
    "\n",
    "char_to_brightness_map = generate_brightness_map(CHAR_SET, FONT, W_H_WIN_SHAPE, normalize=True)\n",
    "ascii_arr = quantize_grayscale_wxh(\n",
    "    img=proc_img, \n",
    "    char_to_brightness_map=char_to_brightness_map,\n",
    "    brightness_hw_shape=(W_H_WIN_SHAPE[1], W_H_WIN_SHAPE[0]),\n",
    "    dither=DITHER_MODES.FS)\n",
    "for i in range(len(ascii_arr)):\n",
    "    for j in range(len(ascii_arr[i])):\n",
    "        print(ascii_arr[i][j], sep='', end='')\n",
    "    print('\\n', end='')"
   ]
  },
  {
   "cell_type": "code",
   "execution_count": 8,
   "metadata": {},
   "outputs": [
    {
     "name": "stdout",
     "output_type": "stream",
     "text": [
      "classifier score no noise 0.7578947368421053\n",
      "classifier score noise 0.308\n",
      "        ` ```````''^^^^^^^^^^\"\"\"\"~^~^~\"~\"~~\"~~~~~~~~~~~~~~~~~~~~~~~~~~~~~~~~~~~~~~~\"~~\"~\"~\"~\"\"~^\"\"\"\"^^^^^^^^^''''`````` `       \n",
      "    ````'^^^^^\"~^~^~^~~~~~~~~~~~~~~~~~~~~~~~~~~\\~~\\~~\\~~~~~~~~~~~~~~~~~~~~~\\~\\~\\~~\\~~\\~~~~~~~~~~~~~~~~~~~~\"~\"~\"~^\"\"\"^^^^'''``   \n",
      "  ```'^^^^~^~~^~^~\"~~\"~\"~~~~~~~~~~~\\~\\~~~~~~u\\~u\\u~u~uu~J~Ju~jJuu)uuu~jJ~juu~u~u\\u~u\\u~~~\\~\\~\\~\\~~~~~~~\"~~~~~\"~\"~~~\"~\"~^\"^^^^'``\n",
      " ``^^^^~^~^~^~\"~~~~~~~~~~~~~~~\\~\\~~~~u\\u\\u~)~u~u~u\\u)uuuu)uuuuuuuuuuuuuuu~u)u~u)~~u\\~~u\\u~u\\~~~~\\~\\~\\~\\~~~\"~~~~~\"~\"~~\"~\"~\"~^\"^^'\n",
      " '^^~^~^~^~~^~~\"~\"~~\"~~~~~\\~\\~~~~~~~~~u\\u~u~u~ujjjjuuJJJuuuJJuJJJJGGnJJuJuJuuJuuuJu)u)~u\\~~u~u\\u\\~~~~\\~\\~\\~\\\"~\"~~~\"~\"~\"~\"~\"~\"~^^\n",
      "`^^~^~^~~^~^~~~~~~~~~~\\~\\\\\\\\~~~~~~u~u~~u)uuuJuJuuJJJGGGGGGGGGGGGGGGGGGGGGGGGGGGGGJuJuuuJju)~~)~~~u\\~~~~\\\\\\\\\\~~~~\"~~~~\"~~\"~\"~\"\"~^\n",
      "`^~^~^~^~~~~~\"~~\"~~\"~~~\\\\~~u\\u\\u~~~~u)uJuJGJGGGGGGGGGGnGGhGGHGGHGGghnGGGGGGGGnGJGGGGGGGuJuuuuuu)~~u\\u\\~~~~\\\\\\\\\\~~~\"~\"~\"~~\"~\"~\"\"\"\n",
      "`^~^~^~~^~\"~~~\"~~~~~~\\\\~u\\u\\)~u)~uu)uuJJGGGGGGGGJGGJGnGhnGGGGGGGGghnnGnGhGnGnnGnnnnnnJGnGGGJGJuuuu)~~u\\u\\~u\\)\\\\\\\\\\~~~~~\"~\"~\"~~~\"\n",
      "'^~^~~^~~~~\"~~~~~~\\~\\\\u\\~)~u~uuuuJuJJGGGGGGGGGGGGGGGGGnGGGhGhGhGhGnGGGGGnGGhnGnGGnnJGhJGnJGGJGGGJuuuuj)\\j)\\~~~\\\\\\\\\\\\--\"~\"~~\"~\"\"\"\n",
      "^~^~\"~~~\"~~~\"~~~-\\\\\\u\\~)u~ujJJJGJGGGGGGGGGGGnGnGGGhGhGGGGGGGGGGGGGGGGGghGGGGGGGGnGGGGnGnGnnnGnJGGGGJuuuu~~u\\)~)~)\\\\\\\\\\\\~~\"~\"~~~\"\n",
      "^~~~~~\"~~\"~~~~~-\\\\~~~ju~~jJuJuGGGGGGGGGGGGnGGGGGhGGGGGGgggggggggggHgHGHGGHGGGGhGGGGhGGhnGnGnJGGnJGJGGGuJuu)~~u\\~~~)\\\\\\\\\\\\~\"~\"\"~\"\n",
      "^^~^~\"~~~~~~~\\\\\\~u)u)~jjJuJJGGGGGGGGGGGGGGGhGGhGGGHGHHHHHHHHHHHHHHgHgHgHgHgHHgGGHGGGhGGGGGnGGhJGhnnnJnnJJuuuu~~j)~~\\)\\\\\\\\\\~~~\"~\"\n",
      "^~~~~~~\"~~--\\\\\\u\\~~~~jJuJJGGGGGJGGnGGGGGhGGGGGGHHgHgHggHggggggH5ggHgHgHgHgHgHHHgHgHGGGGhGGGGhGGnnnJGnJGnGnJJuuu~~u\\\\\\\\\\C\\\\\\--\"~\"\n",
      "^~\"~\"~~~~-\\\\\\)~)u)uuJuJJGGGGJGGGhGGGGhGGGGGGGGGHgH5H5H55HgHHH5gH5H5gH5gH5gHgggHgHgHHgHGGGgghnGGGGGGnGnnJnnJnnJuuuu\\\\\\\\\\\\\\\\\\C\\\\~\"\n",
      "^~~~~~\"~\\\\\\)~u~uuuJuJJGGGuGGGGhnGGhGGGGGGGGGGGH4H5gHB5gHBHN55555m5gHB5HBH55H5gH5gGgHgHHgHHGGGGhGhnGnnnGnnJnnJJnJuu\\~~~)\\\\\\\\\\\\\\\\~\n",
      "\"~~~~~~~\\\\u\\u~uJuGJGGGGuGGGGGGGGGGGGGGGGGGGGGHHN5g%5mg5ABAmmmmmmmg5ABABAAmmmgHBgH5H5ggHgHgGHGHGGGGGGGnGnJGnJnnJnnJ~u\\~~~\\~\\\\\\\\\\-\n",
      "\"~~~-\\\\\\~~)~~juJJGGJGGGGGGGhGhGGGGGGGGGGGGGGH%5mg%g5mmmmmg5mmmmg5BBBNABBBBmg5Amg5mmgHggHgGHgHgGGGgghnGnGGnGnnJnJJJuj\\)~~)~\\\\\\\\\\-\n",
      "\"~~\\\\\\\\u\\u\\ujuJuGGJGGnGGGhGGGGGGGGGGGGGGGHH4%g555m5Bmmg5BBBB5BBBABANNNNNNN5BBB5BBmgg5H5gH5gHgGHHHGhhGGGnGnnJGnnnJnj~u\\~u\\\\\\~\\\\\\-\n",
      "~~~\\\\~)\\)~j~uJuGGnnnnJGhnGGGGGGGGGGGGGGHHNN555dAmBBBBBBBNNNNNNNNNNNNNNNNNNNNBABAB55mmmg5mgHgHgHggGGGGGhGnnnGnJnJnJuJu\\~\\\\\\~)~\\\\\\\n",
      "\"~~\\~~u\\u~uJuGGnJGnnGGGnGGGGGGGGGGGGGHHNN5dBdBBBBNBANNNNNNNNNNNNNNNNNNNN%%NNNNNNNAAmgmgggHBggHgHgHHGHGGGGGGnGnnnnnjj~~jj~j~\\~\\\\~\n",
      "~~~~~~~)~uJuGuGnnnJGGhGGGGGGGGGGGGGHHNN5dBBNANANNNNNNNNNNMMMMMMMMMMMMMMMMMMMMMMMNN%HB5B5BAgH5gggGHgHgGGHGGhnnJGJnJJJJu\\u\\)~~)~\\\\\n",
      "\"~\\~~~~uuuJGJGnJGGGhJGGhGGGGGGGGGHHNN5dBBBBBNNN%%%NNMMMMMMMMMMMMMMMMMMMMMMMMMMMMMMNNNNABBNBAmgHgH5gGGHHgGGGGGGhnJnnJJJJ)~~u\\\\\\~\\\n",
      "~~~~~u)uJJuGnnnGnnGGGhGGGGGGGGGGH4N5dBBBNANNNN%H%%%MMMMMMMMMMMMMMMMMMMMMMMMMMMMMMMMMMNNNNBBB5mgggHgHHgGGHGGhGnnJGnnnnJj~u\\\\\\\\~~\\\n",
      "~~~~~\\~uuGGnJGnJGnGhGGGGGGGGGGGH4%gNBBNANNNN%%%%%%%MMMMMMMMMMMMMMMMMMMMMMMMMMMMMMMMMMMMNNNNNAg5gggHmgGHHgGGGhnGGhJnJnJJuJ\\~~u\\\\~\n",
      "~\\~~u~uJGJnnnJGhnGnGGhGGGGGGGGH%HB5BBBBN%%%%%%%%%%MMMMMMMMMMMMMMMMMMMMMMMMMMMMMMMMMMMMMMMMNN%5B5gggGHgHgGGHGGGGnGGnnJnJUj~u\\\\~)~\n",
      "~~u\\~)uuGnJGnGnnGGGGhGGGGGGGGHHBBBdNBNNN%H%%%%%%MMMMMMMMMMMMMMMMMMMMMMMMMMMMMMMMMMMMMMMMMMMMNNBB55gggHgGGHGGGGhnGnJGhJnjuu)~~~\\~\n",
      "~~\\u~uuGJGnJnnnGnGhGGGGGGGGGH4NdNBBBNNN%%%%%%%%MMMMMMMMMMMMMMMMMMMMMMMMMMMMMMMMMMMMMMMMMMMMMMMNNAB5gHmGHHgGHGGGGnGhJnnJjj~~u\\j~\\\n",
      "~~~)uuGJnJnGnnJGGGGGhGHHHHHHN5dBB5BNNNN%%%%%%MMMMMMMMMMMMMMMMMMMMMMMMMMMMMMMMMMMMMMMMMMMMMMMMMMNNBB5AQ5ggGHGHGGhnnJhJnnJuuu~~)~~\n",
      "~~u~uJuGnnnJGGGhnGhGGHgHgHN5mgN5dBANNN%%%%%%MMMMMMMMMMMMMMMMMMMMMMMMMMMMMMMMMMMMMMMMMMMMMMMMMMMMNNABmggGGHHgGGGGGGGnnJnJUUj\\u\\~~\n",
      "~\\~uuJGnJnJhnnnGGGGGGGHgH5ggHB5dAN%%%%%%%%%MMMMMMMMMMMMMMMMMMMMMMMMMMMMMMMMMMMMMMMMMMMMMMMMMMMMMMNNB5ggHgHQHGGGGhnGnnJnnjj\\\\\\~j\\\n",
      "~~~uuGnJnnGJGnJGGhGgHgHH5gHBBmmB5N%H%%%HMMMMMMMMMMMMMMMMMMMMMMMMMMMMMMMMMMMMMMMMMMMMMMMMMMMMMMMMMMNNB5ggGgHgGGHGGnGnJGnJJj~u\\~j~\n",
      "~~uuJJnnJnnnnGGhnGGhGHgHgHAggHBBN%%%%HMMMMMMMMMMMMMMMMMMMMMMMMMMMMMMMMMMMMMMMMMMMMMMMMMMMMMMMMMMMMMNNBgGHgGGGGGGGGnGnnJnj~u\\~j~~\n",
      "~~~uunJnJnJnJGnGGGhGGHHgHmQ55A5BN%H%%%MMMMMMMMMMMMMMMMMMMMMMMMMMMMMMMMMMMMMMMMMMMMMMMMMMMMMMMMMMMMMMNNgggGHHHGGGGhnnJnnJJuj\\u\\)~\n",
      "~~~uunJjJnnJGhnGhGGGHgGHQmgggg5A%%%H%%MMMMMMMMMMMMMMMMMMMMMMMMMMMMMMMMMMMMMMMMMMMMMMMMMMMMMMMMMMMMMMMN5gGHQgGGGGGGnGnJnnJj~\\\\~~~\n",
      "~~uuJjJjJJnGnnJGGGhGGGHgHgHgHBBN%H%%%%MMMMMMMMMMMMMMMMMMMMMMMMMMMMMMMMMMMMMMMMMMMMMMMMMMMMMMMMMMMMMMMNNgGgHgGGGHGhnnnnJnJJu\\u\\u\\\n",
      "~\\~uujujJnnnJGGhnGGGHHHggGggg5BN%%H%%%MMMMMMMMMMMMMMMMMMMMMMMMMMMMMMMMMMMMMMMMMMMMMMMMMMMMMMMMMMMMMMMNNgGHgGGGGGGGnJGnJnJjj\\~\\\\\\\n",
      "~~~uuj)juUnJhnnnGGhGGGHGHgHgHABN%H%%HMMMMMMMMMMMMMMMMMMMMMMMMMMMMMMMMMMMMMMMMMMMMMMMMMMMMMMMMMMMMMMMMMNggGGGGGGGGGGnnJnnJj\\~u\\~~\n",
      "~~~uuj\\~JjJnJGJGGnGGGGHgGHmgg5BN%%H%%MMMMMMMMMMMMMMMMMMMMMMMMMMMMMMMMMMMMMMMMMMMMMMMMMMMMMMMMMMMMMMMMMNHgGGGGGGHGhnnJGnJju\\\\\\~u\\\n",
      "~\\~uu)~uJjJnnnGnGhGGHGGHgGGGgg5B%H%%%MMMMMMMMMMMMMMMMMMMMMMMMMMMMMMMMMMMMMMMMMMMMMMMMMMMMMMMMMMMMMMMMMNNgGGGGHGGGnJGhJnJj)~~u\\\\\\\n",
      "~~~~uu~ujujJJnnnnGnGGGHGGHgHgHBBN%H%%MMMMMMMMMMMMMMMMMMMMMMMMMMMMMMMMMMMMMMMMMMMMMMMMMMMMMMMMMMMMMMMMMNHgGGGGGGGGnGnJnnju~u\\\\~\\~\n",
      "~\\~~uu)~~ujJnJnJGnGGGGGGHgGHgg5BN%H%%MMMMMMMMMMMMMMMMMMMMMMMMMMMMMMMMMMMMMMMMMMMMMMMMMMMMMMMMMMMMMMMMN%5gGGGHGGGhJnnnJJj~~\\~~~~\\\n",
      "~~~~uu)uuj~JJnnGnGnGhGHGGGHgOgg55N%H%MMMMMMMMMMMMMMMMMMMMMMMMMMMMMMMMMMMMMMMMMMMMMMMMMMMMMMMMMMMMMMMMN%HgGGGGGGGnnnJnnJJu~u\\~)\\~\n",
      "\"~~~~~u))~uJnnJnJGnGGGGGHGGHgGHBB5N%HMMMMMMMMMMMMMMMMMMMMMMMMMMMMMMMMMMMMMMMMMMMMMMMMMMMMMMMMMMMMMMMN%H5hGGGGGGnnJGnJnjj~~\\\\~~\\\\\n",
      "~\\~~uu~~~uJjJJnnnnnnGhGGGGHGGHmg5B%H%MMMMMMMMMMMMMMMMMMMMMMMMMMMMMMMMMMMMMMMMMMMMMMMMMMMMMMMMMMMMMMN%H5gQGGGGGhJGnnnnJj~~u\\~)\\\\\\\n",
      "\"~~\\~~uuuj~ujJnJnJGnnGGGGGGGHgGGggHN%%MMMMMMMMMMMMMMMMMMMMMMMMMMMMMMMMMMMMMMMMMMMMMMMMMMMMMMMMMMMMN%H5ggGGGGGnnnnJnJJj~~u~\\\\\\\\~\\\n",
      "~~\\~~uu)\\\\~~ujJnJnnJGnGGGGHGGGGGGHB5%HMMMMMMMMMMMMMMMMMMMMMMMMMMMMMMMMMMMMMMMMMMMMMMMMMMMMMMMMMMMN%H55gnJGGGnJGnJnnJj~~uu\\~\\~\\\\~\n",
      "\"~\\\\\\\\~~~~u~ujjuUnJhnnnGhGGGGGGGHggH%%%MMMMMMMMMMMMMMMMMMMMMMMMMMMMMMMMMMMMMMMMMMMMMMMMMMMMMMMMN%HH5ggGJGGuGGnnJnnJj~~uu~\\\\~\\~\\\\\n",
      "\"~\\\\)\\\\~~~~u~~~ujJnJnJGnGGGGGGHGGGGgGH%%MMMMMMMMMMMMMMMMMMMMMMMMMMMMMMMMMMMMMMMMMMMMMMMMMMMMMNN%H%gghOnGuGGnnJnnJJj~~uu)\\~\\\\\\\\~\"\n",
      "\"~~\\\\\\\\\\~ju~~uuj~unJnnnnnnGGGGGGGGGGOgH%%MMMMMMMMMMMMMMMMMMMMMMMMMMMMMMMMMMMMMMMMMMMMMMMMMMNN%HHHgGhGnJGGGGnJnnJJj~~uu)\\~\\~\\~\\~~\n",
      "^~~\\\\\\~\\\\\\\\~u~~~~ujJJnJnJGnGGGGGGGGGGGgHH%%MMMMMMMMMMMMMMMMMMMMMMMMMMMMMMMMMMMMMMMMMMMMMMNN%HHggghhnJGuGGJnnnJJjj~~uu)\\~\\\\\\~\\\\--\n",
      "^~\"\\\\\\\\\\\\\\\\\\\\\\u~uujjJJnnnnnnnGGGGGGGGGGGgH%%%MMMMMMMMMMMMMMMMMMMMMMMMMMMMMMMMMMMMMMMMMNN%%HHggGhGQnJGuGGJnJnJJj~~~~u~\\~\\~\\~\\~--\"\n",
      "^~~\\\\~-\\~~\\~\\~\\\\\\\\\\~ujJJnJnJGnhGGGGGGGGGGOHH%%%%NNMMMMMMMMMMMMMMMMMMMMMMMMMMMMMMMMMNN%%HHHggGhOnnnJGGGJGnnnJjj~~~uu~~\\\\\\\\~---\\-\"\n",
      "^\"~------\\\\~\\\\~~~~u\\\\~JjJJnnnJnnnGGGGGGGGOggHHH%H%%%NNNNMMMMMMMMMMMMMMMMMMMMMMNNN%%HHHHgggGOnnnnJGuGuGnJnJJj~~~~uu~~~\\\\~\\-\\\\---\"\n",
      "^~^\"---\\---\\~\\\\~j\\\\~~~~ujjJnJnnJGnhnGGGGGGJGQgHHHHHH%H%HN%NNNNNNNNNNNNNNNN%%%%H%HHH5ggghGQnnnJGJGGuGGJnJJj~~~~~uu~~~\\\\\\~-\\--\\--^\n",
      "'\"~\"-\\---\\-\\\\~\\\\\\~~u\\u~u)~ujJnJnnJnnnnGGGGGGGngggg55gHH5HHHH%HH%H%H%HH%HHHHHHHHgggghgGnOnJnJGuGGuGGJnJjj~~~~~uu~~~~\\\\\\~-\\-\\-\\--^\n",
      "^~^~\"-\"\"~---\\~\\~\\\\\\\\\\\\\\\\~~ujjuUnnnJnJGnnJGGuGuGJGnhhgggggggggggHggHggggggggggggGnOnOJnJnJGuGuGuGJJJJjj~~~~~~uu~~~~\\\\\\~-\\-\\--\\--^\n",
      "`^~^\"\"~\"\"~~----\\~\\~\\~\\~~~~~~~ujjujJnnJnnnnJGGGGGuGuJnnGnGOOGGGhgGOQGGGOGnOOnOnnnnJnJnJGuGuGGJGnJJJJj~~~~~u~uu\\~~~\\\\\\\\-\\-\\-\\----^\n",
      "`^^~\"~\"~\"\"\"~~~\\-\\\\~\\~\\~~~uu~~~~~~ujJjJnJJnnnJGJGGJGGuGuJGJQnJnJnJQnnJnJnJnJnJJJJJGuGuGuGGJGJJnJJJj~~~~~uuu~~~~\\\\\\\\\\~--\\-----\\-\"^\n",
      "`^~^~^\"~\"~\"\"\"\"~---\\\\~\\\\\\\\\\\\~u~u~u~uj~uUjJnJnnnJnJGGuGGGGuGGuGuGJGGuGuGuGuGuGuGuGuGGuGGGJJJJJJjj~~~~~~~uu~~~~~~\\\\\\\\--\\--\\-\\----\"^\n",
      "`^^^^~^\"~\"~~\"~\"\"~~--\\~\\\\\\~\\\\\\\\~~~~~~~ujj~uUnJJnnnJnnJJGJGJGJGGuGuGuGuGGJGGGuGGGGGJGnJJJJJj~u)\\\\~\\\\\\\\\\~~~~~~~~~\\\\--\\--\\-------\"^'\n",
      "`^^~^^~^\"~\"\"~\"~\"\"\"~~--\\~\\\\~\\~\\\\\\~~u~u~~~~uUjjjujJJJnJJnnnJnnJnnGnJGnnJJnJJnnJJnJJJJJjj~u)\\))\\~\\\\~\\\\\\\\\\\\\\\\\\\\\\\\\\-\\-\\--\\---\\----\"^'\n",
      " '^^^^^~^\"~\"\"~\"~~\"\"\"~\"~--\\~\\~\\~\\\\\\\\\\\\\\\\~~u)\\\\\\\\\\))juUjjujJJJJJnJJJjJJJJJJJJJJjjuj))\\\\\\\\)\\\\\\\\\\~\\~\\\\~\\\\\\\\\\\\\\\\-\\-\\---\\---------\"'^'\n",
      " `^^~^^^~^\"~\"\"~\"\"~~\"~\"\"-~--\\\\\\\\~\\\\~\\~\\\\\\\\\\\\~~\\~~~~~~~~~uj~u>jj~u>j~uj))~u>j~~~~~\\\\\\\\~~~\\~~-\\~\\~\\\\~\\\\~----\\-\\-\\--\\----\\-----\"'^'`\n",
      " `'^^^~^^~^\"~\"\"~\"\"\"~\"~\"\"\"~----\\-\\~\\~\\~\\~\\~\\\\\\~\\\\\\~~~~~~~~~~~~~~~~~~~~~~~u)\\\\\\~~\\~\\~~\\\\\\~-\\-----------\\-\\--\\----\\---\\------\"'''' \n"
     ]
    }
   ],
   "source": [
    "noise = 0.2\n",
    "cls, char_to_brightness_map = train_classifier(CHAR_SET, FONT, W_H_WIN_SHAPE, (8,8,8), 100, noise)\n",
    "\n",
    "brightness_X = np.array([b.flatten() for b in char_to_brightness_map.values()])\n",
    "brightness_y = list(char_to_brightness_map.keys())\n",
    "\n",
    "repetitions = 50\n",
    "\n",
    "test_X = np.tile(brightness_X, (repetitions,1))\n",
    "test_y = list(char_to_brightness_map.keys()) * repetitions\n",
    "test_X += ((np.random.random(test_X.shape)-0.5) * noise)\n",
    "test_X = np.clip(test_X, a_min=0, a_max=1)\n",
    "\n",
    "print('classifier score no noise', cls.score(brightness_X, brightness_y))\n",
    "print('classifier score noise', cls.score(test_X, test_y))\n",
    "\n",
    "ascii_arr = quantize_grayscale_wxh(\n",
    "    img=proc_img, \n",
    "    char_to_brightness_map=char_to_brightness_map,\n",
    "    brightness_hw_shape=(W_H_WIN_SHAPE[1], W_H_WIN_SHAPE[0]),\n",
    "    dither=DITHER_MODES.FS,\n",
    "    cls=cls)\n",
    "for i in range(len(ascii_arr)):\n",
    "    for j in range(len(ascii_arr[i])):\n",
    "        print(ascii_arr[i][j], sep='', end='')\n",
    "    print('\\n', end='')"
   ]
  },
  {
   "cell_type": "code",
   "execution_count": 9,
   "metadata": {},
   "outputs": [
    {
     "name": "stdout",
     "output_type": "stream",
     "text": [
      "0123456789abcdefghijklmnopqrstuvwxyzABCDEFGHIJKLMNOPQRSTUVWXYZ!\"#$%&'()*+,-./:;<=>?@[\\]^_`{|}~ \n",
      "0123456789abcdefghijklmnopqrstuvwxyzABCDEFGHIJKLMNOPQRSTUVWXYZ!\"#$%&'()*+,-./:;<=>?@[\\]^_`{|}~ \n",
      "$12344A7$WabvdKfghijwldnoogrstuvwx]t$dCgE{GHIJa!NNhPQ$3xUVWXYZ!\"#$4&'()**,-./:;<=U?@[\\]^_`{|}~ \n"
     ]
    }
   ],
   "source": [
    "char_to_brightness_map = generate_brightness_map(CHAR_SET, FONT, W_H_WIN_SHAPE, normalize=True)\n",
    "maps = np.concatenate([i for i in char_to_brightness_map.values()], axis=1)\n",
    "maps = np.array(maps * 255, dtype=np.ubyte)\n",
    "maps_img = Image.fromarray(maps, 'L')\n",
    "print(''.join(char_to_brightness_map.keys()))\n",
    "\n",
    "ascii_arr = quantize_grayscale_wxh(\n",
    "    img=maps_img, \n",
    "    char_to_brightness_map=char_to_brightness_map,\n",
    "    brightness_hw_shape=(W_H_WIN_SHAPE[1], W_H_WIN_SHAPE[0]),\n",
    "    dither=DITHER_MODES.FS)\n",
    "for i in range(len(ascii_arr)):\n",
    "    for j in range(len(ascii_arr[i])):\n",
    "        print(ascii_arr[i][j], sep='', end='')\n",
    "    print('\\n', end='')\n",
    "\n",
    "ascii_arr = quantize_grayscale_wxh(\n",
    "    img=maps_img, \n",
    "    char_to_brightness_map=char_to_brightness_map,\n",
    "    brightness_hw_shape=(W_H_WIN_SHAPE[1], W_H_WIN_SHAPE[0]),\n",
    "    dither=DITHER_MODES.FS,\n",
    "    cls=cls)\n",
    "for i in range(len(ascii_arr)):\n",
    "    for j in range(len(ascii_arr[i])):\n",
    "        print(ascii_arr[i][j], sep='', end='')\n",
    "    print('\\n', end='')"
   ]
  }
 ],
 "metadata": {
  "kernelspec": {
   "display_name": "ascii_brightness_test",
   "language": "python",
   "name": "python3"
  },
  "language_info": {
   "codemirror_mode": {
    "name": "ipython",
    "version": 3
   },
   "file_extension": ".py",
   "mimetype": "text/x-python",
   "name": "python",
   "nbconvert_exporter": "python",
   "pygments_lexer": "ipython3",
   "version": "3.12.5"
  }
 },
 "nbformat": 4,
 "nbformat_minor": 2
}
