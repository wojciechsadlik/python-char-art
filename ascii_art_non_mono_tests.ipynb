{
 "cells": [
  {
   "cell_type": "code",
   "execution_count": 1,
   "metadata": {},
   "outputs": [],
   "source": [
    "import string\n",
    "import random\n",
    "from PIL import Image, ImageOps, ImageDraw, ImageFont, ImageChops\n",
    "import matplotlib.pyplot as plt\n",
    "import numpy as np\n",
    "import ipywidgets\n",
    "from ipywidgets import interactive, HBox, VBox\n",
    "from img_processing import preprocess_img, DITHER_MODES\n",
    "from ascii_art_non_mono_utils import *\n",
    "from ascii_art_non_mono_algorithms import *\n",
    "from skimage import metrics"
   ]
  },
  {
   "cell_type": "code",
   "execution_count": 2,
   "metadata": {},
   "outputs": [],
   "source": [
    "font_path = \"fonts/OpenSans-Regular.ttf\"\n",
    "size = 18\n",
    "font = ImageFont.truetype(font_path, size)"
   ]
  },
  {
   "cell_type": "code",
   "execution_count": 3,
   "metadata": {},
   "outputs": [
    {
     "name": "stdout",
     "output_type": "stream",
     "text": [
      "(512, 512)\n"
     ]
    }
   ],
   "source": [
    "orig_img = Image.open(\"imgs/irad_grad.bmp\").convert(\"L\")\n",
    "#orig_img = ImageOps.invert(orig_img)\n",
    "\n",
    "print(orig_img.size)"
   ]
  },
  {
   "cell_type": "code",
   "execution_count": 4,
   "metadata": {},
   "outputs": [],
   "source": [
    "def i_preprocess_img(scale_factor, contrast, brightness, quantize_colors, eq, dither):\n",
    "    proc_img = preprocess_img(orig_img, 0.3, 1.1, 0.5, 0.2, 128, DITHER_MODES.NONE)\n",
    "    plt.imshow(proc_img, cmap='gray', vmin=0, vmax=255, interpolation='none')\n",
    "\n",
    "    plt.figure(figsize=(9, 3))\n",
    "    plt.xticks([x for x in range(0, len(proc_img.histogram()), 25)])\n",
    "    plt.bar([x for x in range(0, len(proc_img.histogram()))], proc_img.histogram())\n",
    "    plt.grid()\n",
    "    plt.show()\n",
    "\n",
    "    return proc_img\n",
    "\n",
    "interactive_preprocess = interactive(i_preprocess_img,\n",
    "            scale_factor=(0.01, 1, 0.01),\n",
    "            contrast=(0, 2, 0.01),\n",
    "            brightness=(0, 2, 0.01),\n",
    "            eq=(0, 1, 0.01),\n",
    "            quantize_colors=(1, 256, 1),\n",
    "            dither=DITHER_MODES)\n",
    "\n",
    "controls = VBox(interactive_preprocess.children[:-1])\n",
    "#display(HBox((controls, interactive_preprocess.children[-1])))"
   ]
  },
  {
   "cell_type": "code",
   "execution_count": 5,
   "metadata": {},
   "outputs": [],
   "source": [
    "proc_img = interactive_preprocess.result"
   ]
  },
  {
   "cell_type": "code",
   "execution_count": 6,
   "metadata": {},
   "outputs": [
    {
     "name": "stdout",
     "output_type": "stream",
     "text": [
      "95\n",
      "['0', '1', '2', '3', '4', '5', '6', '7', '8', '9', 'a', 'b', 'c', 'd', 'e', 'f', 'g', 'h', 'i', 'j', 'k', 'l', 'm', 'n', 'o', 'p', 'q', 'r', 's', 't', 'u', 'v', 'w', 'x', 'y', 'z', 'A', 'B', 'C', 'D', 'E', 'F', 'G', 'H', 'I', 'J', 'K', 'L', 'M', 'N', 'O', 'P', 'Q', 'R', 'S', 'T', 'U', 'V', 'W', 'X', 'Y', 'Z', '!', '\"', '#', '$', '%', '&', \"'\", '(', ')', '*', '+', ',', '-', '.', '/', ':', ';', '<', '=', '>', '?', '@', '[', '\\\\', ']', '^', '_', '`', '{', '|', '}', '~', ' ']\n"
     ]
    }
   ],
   "source": [
    "palette = list(filter(lambda a: a.isprintable(), string.printable))\n",
    "print(len(palette))\n",
    "print(palette)"
   ]
  },
  {
   "cell_type": "code",
   "execution_count": 7,
   "metadata": {},
   "outputs": [
    {
     "name": "stdout",
     "output_type": "stream",
     "text": [
      "7\n"
     ]
    },
    {
     "data": {
      "image/jpeg": "[encoded data removed]",
      "image/png": "[encoded data removed]",
      "text/plain": [
       "<PIL.Image.Image image mode=L size=154x24>"
      ]
     },
     "metadata": {},
     "output_type": "display_data"
    },
    {
     "data": {
      "image/jpeg": "[encoded data removed]",
      "image/png": "[encoded data removed]",
      "text/plain": [
       "<PIL.Image.Image image mode=L size=154x24>"
      ]
     },
     "metadata": {},
     "output_type": "display_data"
    },
    {
     "data": {
      "image/jpeg": "[encoded data removed]",
      "image/png": "[encoded data removed]",
      "text/plain": [
       "<PIL.Image.Image image mode=L size=154x24>"
      ]
     },
     "metadata": {},
     "output_type": "display_data"
    }
   ],
   "source": [
    "all_lines = split_lines(proc_img, palette, font)\n",
    "print(len(all_lines))\n",
    "lines = [all_lines[len(all_lines) // 4], all_lines[len(all_lines) // 2], all_lines[-len(all_lines) // 4]]\n",
    "for l in lines:\n",
    "    display(l)"
   ]
  },
  {
   "cell_type": "code",
   "execution_count": 8,
   "metadata": {},
   "outputs": [],
   "source": [
    "# for l in lines:\n",
    "#     text_arr = generate_greedy_line(l, palette, font)\n",
    "#     print(evaluate_text_arr(text_arr, l, font))\n",
    "#     bg_img, bg_draw = new_img_draw(l.size)\n",
    "#     draw_text_arr(bg_draw, text_arr, font)\n",
    "#     display(ImageChops.difference(bg_img, l))"
   ]
  },
  {
   "cell_type": "code",
   "execution_count": 9,
   "metadata": {},
   "outputs": [],
   "source": [
    "# for l in lines:\n",
    "#     lhs = lazy_generate_harmony_line(l, palette, font, 10, 0.8, 0.3, len(palette)//2)\n",
    "#     for i in range(101):\n",
    "#         p_ids_arr, fit = next(lhs)\n",
    "#         if i % 100 == 0:\n",
    "#             print(fit)\n",
    "#     bg_img, bg_draw = new_img_draw(l.size)\n",
    "#     draw_text_arr(bg_draw, palette_id_arr_to_text_arr(p_ids_arr, palette), font)\n",
    "#     display(ImageChops.difference(bg_img, l))"
   ]
  },
  {
   "cell_type": "code",
   "execution_count": 10,
   "metadata": {},
   "outputs": [
    {
     "name": "stdout",
     "output_type": "stream",
     "text": [
      "              ...             \n",
      "      II@@@@JJJI     \n",
      "   II@@@@@@JJI   \n",
      "   I@@@@@@$JII  \n",
      "     II@@@@$JJII    \n",
      "          IIIIIIIIIII         \n",
      "                              \n",
      "\n",
      "0.738859345391049\n"
     ]
    },
    {
     "data": {
      "image/jpeg": "[encoded data removed]",
      "image/png": "[encoded data removed]",
      "text/plain": [
       "<PIL.Image.Image image mode=L size=154x154>"
      ]
     },
     "execution_count": 10,
     "metadata": {},
     "output_type": "execute_result"
    }
   ],
   "source": [
    "text = greedy_algorithm(proc_img, palette, font)\n",
    "print(''.join(text))\n",
    "\n",
    "bg_img, draw = new_img_draw(proc_img.size)\n",
    "draw_text_arr(draw, text, font)\n",
    "print(evaluate_text_arr(text, proc_img, font))\n",
    "ImageChops.add(proc_img, bg_img)"
   ]
  },
  {
   "cell_type": "code",
   "execution_count": 11,
   "metadata": {},
   "outputs": [
    {
     "name": "stdout",
     "output_type": "stream",
     "text": [
      "0.7229225574527331\n",
      "0.7234326788566666\n",
      "0.723009369036871\n",
      "-=.|~+,<; m ^</^/~\n",
      "~~~I|'3&HgJx}{,^~_\n",
      " -=Q8}lpg[B8M}?~ f\n",
      "1!~@@$$p8$kf(IF=\n",
      ". _\"^?E@p8@kt,~`- \n",
      " >~+ ^...Ev3><0+`-.+\n",
      ":~ \"  1:*_| ~.*=>'`9\n",
      "\n",
      "0.7231816693619597\n"
     ]
    },
    {
     "data": {
      "image/jpeg": "[encoded data removed]",
      "image/png": "[encoded data removed]",
      "text/plain": [
       "<PIL.Image.Image image mode=L size=154x154>"
      ]
     },
     "execution_count": 11,
     "metadata": {},
     "output_type": "execute_result"
    }
   ],
   "source": [
    "lhs = pool_harmony_search(proc_img, palette, font, 1000, 5, 0.9, 0.3, len(palette)//2)\n",
    "\n",
    "for i in range(3):\n",
    "    text = next(lhs)\n",
    "    if i % 1 == 0:\n",
    "        print(evaluate_text_arr(text, proc_img, font))\n",
    "\n",
    "for i in range(len(text)):\n",
    "    text[i] = text[i][:find_end_of_line(text[i], proc_img, font)] + '\\n'\n",
    "print(''.join(text))\n",
    "\n",
    "bg_img, draw = new_img_draw(proc_img.size)\n",
    "draw_text_arr(draw, text, font)\n",
    "print(evaluate_text_arr(text, proc_img, font))\n",
    "ImageChops.add(proc_img, bg_img)"
   ]
  }
 ],
 "metadata": {
  "kernelspec": {
   "display_name": "ascii_brightness_test",
   "language": "python",
   "name": "python3"
  },
  "language_info": {
   "codemirror_mode": {
    "name": "ipython",
    "version": 3
   },
   "file_extension": ".py",
   "mimetype": "text/x-python",
   "name": "python",
   "nbconvert_exporter": "python",
   "pygments_lexer": "ipython3",
   "version": "3.12.3"
  }
 },
 "nbformat": 4,
 "nbformat_minor": 2
}
