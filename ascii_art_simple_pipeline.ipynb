{
 "cells": [
  {
   "cell_type": "code",
   "execution_count": 1,
   "metadata": {},
   "outputs": [],
   "source": [
    "from PIL import Image, ImageOps, ImageFont\n",
    "import matplotlib.pyplot as plt\n",
    "import numpy as np\n",
    "import ipywidgets\n",
    "from ipywidgets import interactive, HBox, VBox\n",
    "from ascii_art_conversion_simple import img2ascii_arr\n",
    "from ascii_art_conversion_v2 import img2ascii_arr_v2\n",
    "from img_processing import preprocess_img, DITHER_MODES\n",
    "from braille_art import img2braille_arr, get_braille_chars\n",
    "from generate_ascii_palette import *"
   ]
  },
  {
   "cell_type": "code",
   "execution_count": 2,
   "metadata": {},
   "outputs": [],
   "source": [
    "ASCII_SET = get_asciis()\n",
    "BRAILLE_SET = get_braille_chars()\n",
    "ASCII_AND_BRAILLE_SET = ASCII_SET + BRAILLE_SET"
   ]
  },
  {
   "cell_type": "code",
   "execution_count": 3,
   "metadata": {},
   "outputs": [],
   "source": [
    "FONT = ImageFont.truetype(\"fonts/CascadiaMono.ttf\", 16)\n",
    "IMG_PATH = \"imgs/irad_grad.bmp\""
   ]
  },
  {
   "cell_type": "code",
   "execution_count": 4,
   "metadata": {},
   "outputs": [
    {
     "name": "stdout",
     "output_type": "stream",
     "text": [
      "(512, 512)\n"
     ]
    }
   ],
   "source": [
    "orig_img = Image.open(IMG_PATH).convert(\"L\")\n",
    "#orig_img = ImageOps.invert(orig_img)\n",
    "\n",
    "print(orig_img.size)"
   ]
  },
  {
   "cell_type": "code",
   "execution_count": 5,
   "metadata": {},
   "outputs": [
    {
     "data": {
      "application/vnd.jupyter.widget-view+json": {
       "model_id": "ffc8c23222a44844981368f04e863601",
       "version_major": 2,
       "version_minor": 0
      },
      "text/plain": [
       "HBox(children=(VBox(children=(FloatSlider(value=0.5, description='scale_factor', max=1.0, min=0.01, step=0.01)…"
      ]
     },
     "metadata": {},
     "output_type": "display_data"
    }
   ],
   "source": [
    "def i_preprocess_img(scale_factor, contrast, brightness, quantize_colors, eq, dither):\n",
    "    proc_img = preprocess_img(orig_img, 0.1, contrast, brightness, eq, quantize_colors, dither)\n",
    "    plt.imshow(proc_img, cmap='gray', vmin=0, vmax=255, interpolation='none')\n",
    "\n",
    "    plt.figure(figsize=(9, 3))\n",
    "    plt.xticks([x for x in range(0, len(proc_img.histogram()), 25)])\n",
    "    plt.bar([x for x in range(0, len(proc_img.histogram()))], proc_img.histogram())\n",
    "    plt.grid()\n",
    "    plt.show()\n",
    "\n",
    "    return proc_img\n",
    "\n",
    "interactive_preprocess = interactive(i_preprocess_img,\n",
    "            scale_factor=(0.01, 1, 0.01),\n",
    "            contrast=(0, 2, 0.01),\n",
    "            brightness=(0, 2, 0.01),\n",
    "            eq=(0, 1, 0.01),\n",
    "            quantize_colors=(1, 256, 1),\n",
    "            dither=DITHER_MODES)\n",
    "\n",
    "controls = VBox(interactive_preprocess.children[:-1])\n",
    "display(HBox((controls, interactive_preprocess.children[-1])))"
   ]
  },
  {
   "cell_type": "code",
   "execution_count": 6,
   "metadata": {},
   "outputs": [],
   "source": [
    "proc_img = interactive_preprocess.result"
   ]
  },
  {
   "cell_type": "code",
   "execution_count": 7,
   "metadata": {},
   "outputs": [
    {
     "name": "stdout",
     "output_type": "stream",
     "text": [
      "   ....,,','~,;~;;^;~;\";\"!\"^\"~~!^~^;~`~,,:'.`...   \n",
      " ..`.,::`^-~!~-^\"\"\"\"\"=\"\"|\"\"/\"\"<\"\"\"\"!;^~;^^`^,`:.:..\n",
      ".,_:`;!!^--^\"\"\"<\"|\"><c\\|=>?v+v\"v>\"?\"\"\"\"\"^-;;,,:'`..\n",
      ".,:,~`~;~\"\"\"?\"<|=>>+?L?*\\?\\?vLucc<*vv>\"\"\"\"\"!;~!_'',\n",
      ":'-_;~!\"\"\">\"=>cc?=iulz1nnYCuxnvT>jc<+|>v\"<\"\";^^^-,'\n",
      "';^~^\"\"\"*\"=<*+|Tnsunjjl]lItxyCzTj1Luv><?v\">\"\"\";^;_'\n",
      ",--^\"\"L\"v|=Llrx1xJJoZ3a[S77feyXf]xfxls\\<>+L\">\"\"\"-!!\n",
      "-~!\"\"\"|<>|}=Yjns]7IbV6pKG9Ew443p[3alYCC}+>?+\"v\"\"!^~\n",
      "~!\"\"<\"c=|\\}1Ci7{yd2bPEpq4gKdEG6Pp{[IXV(}n++++\"?\"\"\"!\n",
      "^;\"\"+<\\?vxYThfX4U9E6PMRgM&#%8&mmHp5X{V11(nu+\\L\"<\"^!\n",
      "-\"\"+\"<<|nC)nayaPqH&R&gRQWWN$Q&%D6mPGdoee}i*LvLc\"\"\"\"\n",
      "^\"\"/\"/*(cJ)othp]E6gg8QWW@$@BBWQ&gDHq22FZ}xxY<c\"=\"\"\"\n",
      "-\"\"+>>>>u(ja2yApKRR%0NN@@@Q@WBNDRH5Hd7Ffz)i*/=\\\">\"-\n",
      "^\"\"\"\\/*+nCll7XPm650D0QBQQ@$@Q$gR&&Eba5[X1n(=\\c*\"\"\"\"\n",
      ";\"<\"*\"?(*Ci]hIVHE9p0%8$NWNQ$MW&8EE52w2Xril=xc+\"*\"\"\"\n",
      ";\"\"\"\\cv<?11uuh{ZEK66DD##R&0R#RE&b4d]3VUu((=vL/\"\"\"\";\n",
      "!~\"\"\"\"cL>cTJxUyUU2wmK6p&KR%55H5pyU{htos)x|(<\"=\"=\"\"-\n",
      "!;;\"\"|\">L+c1liiey3e2hqZ4GAP5ppV5ZHeFnCrT>?=<\">\"\";~!\n",
      "`-~\"\"\"|\"//\\cLz}ju1]Zf]oFa{X[y3tFUT(jr)*vL*\"/\"\"\"\"-;`\n",
      "'-;!-\"\"\"\"+\"<c>?ljsn(zS2y{t7Y]()1rCT+z+==v\"|\"\"\"\"^^^_\n",
      "`':!^;\"\"\"\">\"<c/|L+*}J?C}nlT)J}l\\l?Lv|*\"|\"\"\"\"\"\"^~_`'\n",
      ".,,';---\"\"\"\"+\"\"><==<<\\>|=>?>L>*|*/L|\"?\"\"\"\"\"\"!~,,::'\n",
      ".'_```~^-^\"\"\"\"\\\"\"\"\\\"*=<v/?L=+?\"/\"v\"\"\"\"\"\"\"\";;`^',`:.\n",
      " ..`:_`:_^;-;-^\"\"\"\"\"\"\"\"\"\"\"\"\"\"\"v\"\"\"\"\"\"\";!^^:,`:_`...\n",
      " .....``,_`,-!!!^\"\"\"\"\"\"\"\"\"\"\"\"\"-\"\";!~!;;_~:',`..... \n"
     ]
    }
   ],
   "source": [
    "palette, palette_br = generate_1_1_palette(ASCII_SET, FONT, 12, normalize=True)\n",
    "ascii_arr = img2ascii_arr(proc_img, palette, palette_br, dither=DITHER_MODES.FS)\n",
    "for i in range(len(ascii_arr)):\n",
    "    for j in range(len(ascii_arr[i])):\n",
    "        print(ascii_arr[i][j], sep='', end='')\n",
    "    print('\\n', end='')"
   ]
  },
  {
   "cell_type": "code",
   "execution_count": 8,
   "metadata": {},
   "outputs": [
    {
     "name": "stdout",
     "output_type": "stream",
     "text": [
      "   . -::-:::~;-~~~!~!~!!!!!!!!!~~~!!;-!:---:- -    \n",
      "  : :::--;-~!!~~*!*<+/>*||+|+\\/<<<!!!~!!!;-::-: :  \n",
      " ---::-!;~!~!+<>>+**+\\|=|>>|=\\+=*>*|<<<~~~~;--::- -\n",
      "::-:-~~!!!+<|>+=|*\\c)C1l}YhCU)>h=|\\|>>>/<!~!!;---::\n",
      "-:--~!~~><|++\\=ICV(tU]{J]2}[I]t2}YhY\\|\\**|<~~!~;---\n",
      "-:~!~!=<>>>*+}Y}tUU22{kZV%hb]V{}IhIU(h\\|=\\==/!!~;--\n",
      ":~!!!>~*+\\=h)IhU}{GO6%db6G%d%654Ah2hI1t((>+\\\\!|~!~:\n",
      ";~!///|>Y(JhhtIZ%Z%d%bGGGQbd%46%66ZK]11}2Y\\>>|<~~!~\n",
      ";~!+~\\*+tYUhhUb46%6GW$WBWW$WRWRGG44dESh1t]l\\+*+<<~!\n",
      "!~</=+C>VV1IK4%b%bW#QWWWWWWWWWW#W$d%43S]{IVC+>>|~!!\n",
      "~~>=\\|Y2Y[2H[6%G#&DWWWW@W@@W@WWWWR%d%6HK{V2(*Y|>/<~\n",
      "!<~=+*CcCJX54G4NdWWWWW@@@@@@@@WWWWR#%G6KJ2JJ)*+|!+~\n",
      "~/<*|Y|tVI]bKGbNWNWWW@@@@@@@@@@WWWN86bGHOV}I>l>*\\~!\n",
      "!~*|=\\(2h{UEd4b#6WWWW@@@@@@@@@WWWWRNbG%SI1}IY==></~\n",
      "!<!=|+CiCJ2S43dNRWRWWWW@@@@@WWWWWB$$G%5XIVUC(===<~~\n",
      "!!//+>+])}[[E6%GR4W0WWWWWWWWWWW8W80463EO}}I)l>+|<!!\n",
      "~~<~|=\\))[IhAVG4Gd0GW0WDWWBW#W$8d4b4O3XJUJl+>*\\<!/!\n",
      "!~!<<+|*C>1[1tA2%bdB68dN8%W#R%DbDd33S2]][CY+Y=/~/!~\n",
      "-~!!/!**(=l2C]1OI5A43%d#%NGbG%%X4X5]2{JYY=Y\\>/~/!!-\n",
      ":-~!<<//>*>C(t)}h1A1HA2dAZZSKhE}SJ1J1Y))=Y+/<~/!!--\n",
      "---~!!!!|+|+\\llY}YhUtX]JA[EU3tOltJ([+l+l*/<!/~~!--:\n",
      "-----~<!/!+<|\\\\)=Y(YI>}]Yh(]CU)Yl|C=l=\\<<<!/!~---::\n",
      " ------!~!!<</<+>>(*+(>Y+C(+(+l>C\\>=|<<!<!!~----: :\n",
      " : -:----!~~~~<~\\<</+||===++|=>/<<<!/~~!!!----: - -\n",
      "   : --::---~~!~!~<!/~<~//~//!<!/!~/~!~-----: : -  \n"
     ]
    }
   ],
   "source": [
    "palette, palette_br = generate_1_2_palette(ASCII_SET, FONT, (8,8), normalize=True)\n",
    "ascii_arr = img2ascii_arr_v2(proc_img, palette, palette_br, dither=DITHER_MODES.FS)\n",
    "for i in range(len(ascii_arr)):\n",
    "    for j in range(len(ascii_arr[i])):\n",
    "        print(ascii_arr[i][j], sep='', end='')\n",
    "    print('\\n', end='')"
   ]
  },
  {
   "cell_type": "code",
   "execution_count": 9,
   "metadata": {},
   "outputs": [
    {
     "name": "stdout",
     "output_type": "stream",
     "text": [
      "⠀⠀⠠⢀⠂⠔⡐⡐⢔⢐⢅⠢⡊⢔⡐⢅⠢⡂⡂⡂⡂⠄⠂⡀⠀\n",
      "⠀⠌⡐⠄⢅⠕⡐⡅⡕⡌⡆⡇⡣⡣⡪⢪⢨⢢⠱⡐⢌⠌⡐⠠⢁\n",
      "⠈⠔⡨⠨⡢⡑⡅⡇⣕⢕⡕⡵⡱⣕⢵⡱⡕⡕⡕⠥⡑⡌⢌⠌⢄\n",
      "⢈⠢⡊⢜⠔⡕⡕⡵⡕⡧⣫⣞⣝⢮⣺⢜⡮⡪⡎⡇⡇⡕⢅⠪⡐\n",
      "⢐⢅⠪⡊⡎⡮⡺⡪⡯⣞⣗⡷⣽⣽⣺⣳⢽⣹⣪⢺⡸⡸⡨⡊⠔\n",
      "⠰⡐⢕⢕⢕⢵⢝⡽⣝⡾⣞⣿⢷⣿⣞⣷⡻⡮⡮⡣⡇⡇⡎⡜⡨\n",
      "⠨⠪⡸⢸⢸⢪⡳⣝⡾⣽⣻⡿⣿⣿⣽⡾⣯⣻⡪⣏⢞⢜⢜⠔⢌\n",
      "⠨⡱⡘⡜⡜⣕⢝⡞⣞⣽⣳⢿⣻⣽⢾⢯⣗⢗⣝⢮⢪⢣⢱⢑⠅\n",
      "⠨⢂⢪⠸⡸⣘⢮⢺⢕⢷⢽⢽⢽⡺⡯⣳⡳⣝⢮⢺⢸⢸⢐⢅⠊\n",
      "⢈⠢⠡⡱⡘⡔⡕⡵⡹⡱⣝⢮⡳⣝⢝⢮⢺⡸⡸⡸⡘⢔⠅⡢⠡\n",
      "⢀⠊⠌⠔⢌⠢⡣⢱⢱⢹⢸⢸⢸⢸⢱⢱⢱⢱⢑⢅⠣⡑⠌⠄⠅\n",
      "⠀⠄⠡⠑⡐⠡⡊⢌⠆⢕⢜⠸⡘⢜⠸⡘⢌⠢⡑⠔⡡⠂⠅⠌⠠\n"
     ]
    }
   ],
   "source": [
    "ascii_arr = img2braille_arr(proc_img, dither=DITHER_MODES.FS)\n",
    "for i in range(len(ascii_arr)):\n",
    "    for j in range(len(ascii_arr[i])):\n",
    "        print(ascii_arr[i][j], sep='', end='')\n",
    "    print('\\n', end='')"
   ]
  }
 ],
 "metadata": {
  "kernelspec": {
   "display_name": "ascii_brightness_test",
   "language": "python",
   "name": "python3"
  },
  "language_info": {
   "codemirror_mode": {
    "name": "ipython",
    "version": 3
   },
   "file_extension": ".py",
   "mimetype": "text/x-python",
   "name": "python",
   "nbconvert_exporter": "python",
   "pygments_lexer": "ipython3",
   "version": "3.12.4"
  }
 },
 "nbformat": 4,
 "nbformat_minor": 2
}
