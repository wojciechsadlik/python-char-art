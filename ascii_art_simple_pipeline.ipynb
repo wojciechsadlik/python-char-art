{
 "cells": [
  {
   "cell_type": "code",
   "execution_count": 14,
   "metadata": {},
   "outputs": [],
   "source": [
    "from PIL import Image, ImageEnhance, ImageOps\n",
    "import matplotlib.pyplot as plt\n",
    "import numpy as np\n",
    "import ipywidgets\n",
    "from ipywidgets import interactive\n",
    "from simple_ascii_art import img2ascii_arr, img2ascii_arr_v2\n",
    "from img_processing import preprocess_img"
   ]
  },
  {
   "cell_type": "code",
   "execution_count": 15,
   "metadata": {},
   "outputs": [
    {
     "name": "stdout",
     "output_type": "stream",
     "text": [
      "(512, 512)\n"
     ]
    }
   ],
   "source": [
    "orig_img = Image.open(\"imgs/irad_grad.bmp\").convert(\"RGB\")\n",
    "\n",
    "print(orig_img.size)"
   ]
  },
  {
   "cell_type": "code",
   "execution_count": 16,
   "metadata": {},
   "outputs": [
    {
     "data": {
      "application/vnd.jupyter.widget-view+json": {
       "model_id": "c566a8a1566644219afe797d8627c3fe",
       "version_major": 2,
       "version_minor": 0
      },
      "text/plain": [
       "interactive(children=(FloatSlider(value=0.5, description='scale_factor', max=1.0, min=0.01, step=0.01), FloatS…"
      ]
     },
     "metadata": {},
     "output_type": "display_data"
    }
   ],
   "source": [
    "def i_preprocess_img(scale_factor, contrast, brightness, quantize_colors, eq):\n",
    "    proc_img = preprocess_img(orig_img, scale_factor, contrast, brightness, eq, quantize_colors)\n",
    "\n",
    "    plt.imshow(proc_img, cmap='gray', vmin=0, vmax=255, interpolation='none')\n",
    "\n",
    "    plt.figure(figsize=(15, 5))\n",
    "    plt.xticks([x for x in range(0, len(proc_img.histogram()), 25)])\n",
    "    plt.bar([x for x in range(0, len(proc_img.histogram()))], proc_img.histogram())\n",
    "    plt.grid()\n",
    "    plt.show()\n",
    "\n",
    "    return proc_img\n",
    "\n",
    "interactive_preprocess = interactive(i_preprocess_img,\n",
    "            scale_factor=(0.01, 1, 0.01),\n",
    "            contrast=(0, 2, 0.01),\n",
    "            brightness=(0, 2, 0.01),\n",
    "            quantize_colors=(0, 255, 1),\n",
    "            eq=(0, 1, 0.01))\n",
    "\n",
    "display(interactive_preprocess)"
   ]
  },
  {
   "cell_type": "code",
   "execution_count": 22,
   "metadata": {},
   "outputs": [],
   "source": [
    "proc_img = interactive_preprocess.result\n",
    "proc_img_arr = np.array(proc_img)"
   ]
  },
  {
   "cell_type": "code",
   "execution_count": 23,
   "metadata": {},
   "outputs": [],
   "source": [
    "ascii_arr = img2ascii_arr(proc_img_arr)"
   ]
  },
  {
   "cell_type": "code",
   "execution_count": 24,
   "metadata": {},
   "outputs": [
    {
     "name": "stdout",
     "output_type": "stream",
     "text": [
      "          ........::::::::::::::;;;;;;;;;;;;;;;;;;;;;;;;;;;;;;;;;;;;;;;;::::::::::::..........        \n",
      "      ..........::::::::::;;;;;;;;;;;;;;;;;;;;;;;;;;;;;;;;;;;;;;;;;;;;;;;;;;;;::::::::..........      \n",
      "    ........::::::::::;;;;;;;;;;;;;;;;~~;;~~~~~~~~~~~~~~~~~~~~;;;;;;;;;;;;;;;;;;::::::::::........    \n",
      "  ........::::::::::;;;;;;;;;;;;;;~~~~~~~~~~~~~~~~~~~~~~~~~~~~~~~~~~~~;;;;;;;;;;;;::::::::::........  \n",
      "  ......::::::::::;;;;;;;;;;;;~~~~~~~~~~~~~~~~~~~~~~~~~~~~~~~~~~~~~~~~~~~~;;;;;;;;;;::::::::::........\n",
      "......::::::::;;;;;;;;;;;;~~~~~~~~~~~~~~++++++++++++++++++++++++~~~~~~~~~~~~;;;;;;;;;;;;::::::::......\n",
      "....::::::::;;;;;;;;;;;;~~~~~~~~~~++++++++++++++++++++++++++++++++++~~~~~~~~~~~~;;;;;;;;;;::::::::....\n",
      "....::::::;;;;;;;;;;~~~~~~~~~~++++++++++++++++++oooooo++oo++++++++++++++~~~~~~~~~~;;;;;;;;;;::::::::..\n",
      "..::::::::;;;;;;;;~~~~~~~~++++++++++++oooooooooooooooooooooooooo++++++++++++~~~~~~~~;;;;;;;;;;::::::..\n",
      "::::::::;;;;;;;;~~~~~~~~++++++++++oooooooooooooooooooooooooooooooooo++++++++++~~~~~~~~;;;;;;;;;;::::::\n",
      "::::::;;;;;;;;~~~~~~~~++++++++oooooooooooooooooooooooooooooooooooooooo++++++++++~~~~~~~~;;;;;;;;::::::\n",
      "::::::;;;;;;~~~~~~~~++++++++ooooooooooooooXXXXXXXXXXXXXXXXXXoooooooooooooo++++++++~~~~~~~~;;;;;;;;::::\n",
      "::::;;;;;;;;~~~~~~++++++++ooooooooooooXXXXXXXXXXXXXXXXXXXXXXXXXXoooooooooooo++++++++~~~~~~;;;;;;;;::::\n",
      "::;;;;;;;;~~~~~~++++++++ooooooooooXXXXXXXXXXXXXXXXXXDDXXXXXXXXXXXXXXoooooooooo++++++++~~~~~~;;;;;;;;::\n",
      "::;;;;;;;;~~~~~~++++++ooooooooooXXXXXXXXXXDDDDDDDDDDDDDDDDDDXXXXXXXXXXoooooooooo++++++++~~~~~~;;;;;;::\n",
      "::;;;;;;~~~~~~++++++++ooooooooXXXXXXXXDDDDDDDDDDDDDDDDDDDDDDDDDDXXXXXXXXoooooooooo++++++~~~~~~;;;;;;;;\n",
      ";;;;;;;;~~~~~~++++++ooooooooXXXXXXXXDDDDDDDDDDDDNNNNDDDDDDDDDDDDDDXXXXXXXXoooooooo++++++~~~~~~;;;;;;;;\n",
      ";;;;;;~~~~~~++++++ooooooooXXXXXXXXDDDDDDDDNNNNNNNNNNNNNNNNNNDDDDDDDDXXXXXXXXoooooooo++++++~~~~~~;;;;;;\n",
      ";;;;;;~~~~~~++++++ooooooooXXXXXXDDDDDDDDNNNNNNNNNNNNNNNNNNNNNNDDDDDDDDXXXXXXoooooooo++++++~~~~~~;;;;;;\n",
      ";;;;;;~~~~~~++++++ooooooXXXXXXDDDDDDDDNNNNNNNNNNNNNNNNNNNNNNNNNNDDDDDDDDXXXXXXoooooooo++++++~~~~~~;;;;\n",
      ";;;;~~~~~~++++++ooooooooXXXXXXDDDDDDNNNNNNNNNNQQQQQQQQQQNNNNNNNNNNDDDDDDDDXXXXXXoooooo++++++~~~~~~;;;;\n",
      ";;;;~~~~~~++++++ooooooXXXXXXDDDDDDNNNNNNNNNNQQQQQQQQQQQQQQNNNNNNNNNNDDDDDDXXXXXXoooooo++++++~~~~~~;;;;\n",
      ";;;;~~~~~~++++++ooooooXXXXXXDDDDDDNNNNNNNNQQQQQQQQQQQQQQQQQQNNNNNNNNDDDDDDXXXXXXoooooo++++++~~~~~~;;;;\n",
      ";;;;~~~~~~++++++ooooooXXXXXXDDDDDDNNNNNNQQQQQQQQ@@@@@@QQQQQQQQNNNNNNNNDDDDXXXXXXoooooooo++++~~~~~~;;;;\n",
      ";;;;~~~~~~++++ooooooooXXXXXXDDDDDDNNNNNNQQQQQQ@@@@@@@@@@QQQQQQNNNNNNNNDDDDDDXXXXoooooooo++++++~~~~;;;;\n",
      ";;;;~~~~++++++++ooooooXXXXXXDDDDNNNNNNNNQQQQQQ@@@@@@@@@@@@QQQQNNNNNNNNDDDDXXXXXXoooooooo++++~~~~~~~~;;\n",
      ";;;;~~~~~~++++++ooooooXXXXDDDDDDNNNNNNNNQQQQQQ@@@@@@@@@@QQQQQQNNNNNNNNDDDDDDXXXXoooooooo++++++~~~~~~;;\n",
      ";;;;~~~~~~++++ooooooooXXXXXXDDDDDDNNNNNNQQQQQQQQ@@@@@@@@QQQQQQNNNNNNNNDDDDXXXXXXoooooo++++++++~~~~;;;;\n",
      ";;;;~~~~~~++++++ooooooXXXXXXDDDDDDNNNNNNQQQQQQQQQQ@@QQQQQQQQQQNNNNNNDDDDDDXXXXXXoooooooo++++~~~~~~;;;;\n",
      ";;;;~~~~~~++++++ooooooXXXXXXDDDDDDNNNNNNNNNNQQQQQQQQQQQQQQQQNNNNNNNNDDDDDDXXXXXXoooooo++++++~~~~~~;;;;\n",
      ";;;;~~~~~~++++++ooooooooXXXXXXDDDDDDNNNNNNNNNNQQQQQQQQQQQQNNNNNNNNDDDDDDDDXXXXoooooooo++++++~~~~~~;;;;\n",
      ";;;;;;~~~~~~++++ooooooooXXXXXXDDDDDDDDNNNNNNNNNNNNNNNNNNNNNNNNNNDDDDDDDDXXXXXXoooooooo++++++~~~~~~;;;;\n",
      ";;;;;;~~~~~~++++++ooooooXXXXXXXXDDDDDDDDNNNNNNNNNNNNNNNNNNNNNNDDDDDDDDXXXXXXXXoooooo++++++~~~~~~;;;;;;\n",
      ";;;;;;~~~~~~++++++ooooooooXXXXXXXXDDDDDDDDNNNNNNNNNNNNNNNNNNDDDDDDDDXXXXXXXXoooooooo++++++~~~~~~;;;;;;\n",
      ";;;;;;;;~~~~~~++++++ooooooooXXXXXXXXDDDDDDDDDDNNNNNNNNNNDDDDDDDDDDXXXXXXXXoooooooo++++++++~~~~~~;;;;;;\n",
      ";;;;;;;;~~~~~~++++++++ooooooooXXXXXXXXDDDDDDDDDDDDDDDDDDDDDDDDDDXXXXXXXXoooooooooo++++++~~~~~~;;;;;;;;\n",
      "::;;;;;;~~~~~~~~++++++ooooooooooXXXXXXXXXXDDDDDDDDDDDDDDDDDDDDXXXXXXXXoooooooooo++++++++~~~~~~;;;;;;::\n",
      "::;;;;;;;;~~~~~~++++++++ooooooooooXXXXXXXXXXXXXXDDDDDDXXXXXXXXXXXXXXoooooooooo++++++++~~~~~~;;;;;;;;::\n",
      "::::;;;;;;;;~~~~~~++++++++ooooooooooXXXXXXXXXXXXXXXXXXXXXXXXXXXXXXoooooooooo++++++++~~~~~~~~;;;;;;;;::\n",
      "::::;;;;;;;;;;~~~~~~++++++++ooooooooooooooXXXXXXXXXXXXXXXXXXoooooooooooooo++++++++~~~~~~~~;;;;;;;;::::\n",
      "::::::;;;;;;;;~~~~~~~~++++++++oooooooooooooooooooooooooooooooooooooooooo++++++++~~~~~~~~;;;;;;;;::::::\n",
      "::::::::;;;;;;;;~~~~~~~~++++++++++oooooooooooooooooooooooooooooooooo++++++++++~~~~~~~~;;;;;;;;;;::::::\n",
      "..::::::;;;;;;;;;;~~~~~~~~++++++++++++oooooooooooooooooooooooooo++++++++++++~~~~~~~~;;;;;;;;;;::::::..\n",
      "....::::::;;;;;;;;;;~~~~~~~~++++++++++++++++++oooooooooo++++++++++++++++++~~~~~~~~;;;;;;;;;;::::::::..\n",
      "....::::::::;;;;;;;;;;~~~~~~~~~~~~++++++++++++++++++++++++++++++++++++~~~~~~~~~~;;;;;;;;;;::::::::....\n",
      "......::::::::;;;;;;;;;;;;~~~~~~~~~~~~++++++++++++++++++++++++++~~~~~~~~~~~~;;;;;;;;;;;;::::::::......\n",
      "........::::::::;;;;;;;;;;;;~~~~~~~~~~~~~~~~~~~~++++++~~~~~~~~~~~~~~~~~~~~;;;;;;;;;;;;::::::::........\n",
      "  ........::::::::::;;;;;;;;;;;;;;~~~~~~~~~~~~~~~~~~~~~~~~~~~~~~~~~~~~;;;;;;;;;;;;;;::::::::........  \n",
      "    ........::::::::::;;;;;;;;;;;;;;;;~~~~~~~~~~~~~~~~~~~~~~~~~~;;;;;;;;;;;;;;;;::::::::::........    \n",
      "      ........::::::::::;;;;;;;;;;;;;;;;;;;;;;;;;;;;;;;;;;;;;;;;;;;;;;;;;;;;;;::::::::::........      \n",
      "        ..........::::::::::::;;;;;;;;;;;;;;;;;;;;;;;;;;;;;;;;;;;;;;;;;;::::::::::::..........        \n"
     ]
    }
   ],
   "source": [
    "for i in range(len(ascii_arr)):\n",
    "    for j in range(len(ascii_arr[i])):\n",
    "        print(ascii_arr[i][j],ascii_arr[i][j], sep='', end='')\n",
    "    print('\\n', end='')"
   ]
  },
  {
   "cell_type": "code",
   "execution_count": 25,
   "metadata": {},
   "outputs": [],
   "source": [
    "ascii_arr = img2ascii_arr_v2(proc_img_arr)"
   ]
  },
  {
   "cell_type": "code",
   "execution_count": 26,
   "metadata": {},
   "outputs": [
    {
     "name": "stdout",
     "output_type": "stream",
     "text": [
      "     ..:::::~~+++++++++++++++++++++++~~::::::.     \n",
      "   .:::::~+++++++vvcvccccccccccvvvv++++++~~::::.   \n",
      " .:::::~+++++vvccccccccccccccccccccccv++++++~::::. \n",
      ".::::~++++vvcccccckkJJJJJJJJJJJkkcccccccv+++++~::::\n",
      ":::~++++vccccckkJJJJJJJJJAJJJJJJJJJJkcccccv++++~:::\n",
      "::++++vccccckJJJJJAAAGGGGGGGGGAAAJJJJJkcccccv++++::\n",
      ":++++vcccckJJJJAGGGGGGGGGGdGGGGGGGGAJJJJkccccv++++:\n",
      "++++vccccJJJJAGGGGGddQQQQQQQQQddGGGGGAJJJJkcccc++++\n",
      "+++vccccJJJJAGGGGdQQQQQQQQQQQQQQQdGGGGGJJJJkcccv+++\n",
      "+++ccccJJJJGGGGdQQQQQQQQQQQQQQQQQQQdGGGGJJJJkcccv++\n",
      "++ccccJJJJAGGGdQQQQQQQQQQQQQQQQQQQQQQGGGGJJJJcccc++\n",
      "++ccccJJJJGGGGQQQQQQQQQ@@@@@QQQQQQQQQGGGGJJJJcccc++\n",
      "++ccccJJJJGGGGQQQQQQQQ@@@@@@@@QQQQQQQ#GGGAJJJkcccv+\n",
      "++ccccJJJJGGG#QQQQQQQQ@@@@@@@QQQQQQQQ#GGGJJJJcccc>+\n",
      "++ccccJJJJGGGGQQQQQQQQQQ@@@QQQQQQQQQQGGGGJJJJcccc++\n",
      "++>ccc\\JJJJGGGGQQQQQQQQQQQQQQQQQQQQQ#GGG2JJJJcccc++\n",
      "+++ccccJJJJ2GGGG#QQQQQQQQQQQQQQQQQ#GGGG2JJJJcccc+++\n",
      "++++ccccJJJJJGGGGG#QQQQQQQQQQQQQ#GGGGG2JJJJcccc>+++\n",
      ":+++>cccc\\JJJJ2GGGGGG###QQQ####GGGGG2JJJJ\\cccc>++++\n",
      "::++++>cccc\\JJJJ22GGGGGGGGGGGGGGG22JJJJJ\\cccc>++++:\n",
      ":::++++>ccccc\\JJJJJJ222222G2222JJJJJJ\\\\cccc>++++:::\n",
      "::::+++++>ccccc\\\\JJJJJJJJJJJJJJJJJ\\\\ccccc>+++++::::\n",
      " :::::+++++>>ccccccc\\\\\\\\\\\\\\\\\\\\\\\\cccccc>>+++++::::: \n",
      "   ::::::+++++>>>cccccccccccccccccc>>++++++:::::   \n",
      "     :::::::+++++++>>>>>>>>>>>>>+++++++:::::::     \n"
     ]
    }
   ],
   "source": [
    "for i in range(len(ascii_arr)):\n",
    "    for j in range(len(ascii_arr[i])):\n",
    "        print(ascii_arr[i][j], sep='', end='')\n",
    "    print('\\n', end='')"
   ]
  }
 ],
 "metadata": {
  "kernelspec": {
   "display_name": "ascii_brightness_test",
   "language": "python",
   "name": "python3"
  },
  "language_info": {
   "codemirror_mode": {
    "name": "ipython",
    "version": 3
   },
   "file_extension": ".py",
   "mimetype": "text/x-python",
   "name": "python",
   "nbconvert_exporter": "python",
   "pygments_lexer": "ipython3",
   "version": "3.12.2"
  }
 },
 "nbformat": 4,
 "nbformat_minor": 2
}
