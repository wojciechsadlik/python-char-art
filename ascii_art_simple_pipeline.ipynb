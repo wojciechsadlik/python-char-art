{
 "cells": [
  {
   "cell_type": "code",
   "execution_count": 1,
   "metadata": {},
   "outputs": [],
   "source": [
    "from PIL import Image, ImageOps, ImageFont\n",
    "import matplotlib.pyplot as plt\n",
    "import numpy as np\n",
    "import ipywidgets\n",
    "from ipywidgets import interactive, HBox, VBox\n",
    "from ascii_art_conversion_1x1 import img2char_arr_1x1\n",
    "from ascii_art_conversion_1x2 import img2char_arr_1x2\n",
    "from img_processing import preprocess_img, DITHER_MODES\n",
    "from braille_art import img2braille_arr, get_braille_chars\n",
    "from generate_ascii_palette import *"
   ]
  },
  {
   "cell_type": "code",
   "execution_count": 2,
   "metadata": {},
   "outputs": [],
   "source": [
    "ASCII_SET = get_asciis()\n",
    "BRAILLE_SET = get_braille_chars()\n",
    "ASCII_AND_BRAILLE_SET = ASCII_SET + BRAILLE_SET"
   ]
  },
  {
   "cell_type": "code",
   "execution_count": 3,
   "metadata": {},
   "outputs": [],
   "source": [
    "FONT = ImageFont.truetype(\"fonts/CascadiaMono.ttf\", 12)\n",
    "IMG_PATH = \"imgs/irad_grad.bmp\""
   ]
  },
  {
   "cell_type": "code",
   "execution_count": 4,
   "metadata": {},
   "outputs": [
    {
     "name": "stdout",
     "output_type": "stream",
     "text": [
      "(512, 512)\n"
     ]
    }
   ],
   "source": [
    "orig_img = Image.open(IMG_PATH).convert(\"L\")\n",
    "#orig_img = ImageOps.invert(orig_img)\n",
    "\n",
    "print(orig_img.size)"
   ]
  },
  {
   "cell_type": "code",
   "execution_count": 5,
   "metadata": {},
   "outputs": [
    {
     "data": {
      "application/vnd.jupyter.widget-view+json": {
       "model_id": "b55b8cd12e6041d0bc2edacbabac149f",
       "version_major": 2,
       "version_minor": 0
      },
      "text/plain": [
       "HBox(children=(VBox(children=(FloatSlider(value=0.5, description='scale_factor', max=1.0, min=0.01, step=0.01)…"
      ]
     },
     "metadata": {},
     "output_type": "display_data"
    }
   ],
   "source": [
    "def i_preprocess_img(scale_factor, contrast, brightness, quantize_colors, eq, dither):\n",
    "    proc_img = preprocess_img(orig_img, 0.2, contrast, brightness, eq, quantize_colors, dither)\n",
    "    plt.imshow(proc_img, cmap='gray', vmin=0, vmax=255, interpolation='none')\n",
    "\n",
    "    plt.figure(figsize=(9, 3))\n",
    "    plt.xticks([x for x in range(0, len(proc_img.histogram()), 25)])\n",
    "    plt.bar([x for x in range(0, len(proc_img.histogram()))], proc_img.histogram())\n",
    "    plt.grid()\n",
    "    plt.show()\n",
    "\n",
    "    return proc_img\n",
    "\n",
    "interactive_preprocess = interactive(i_preprocess_img,\n",
    "            scale_factor=(0.01, 1, 0.01),\n",
    "            contrast=(0, 2, 0.01),\n",
    "            brightness=(0, 2, 0.01),\n",
    "            eq=(0, 1, 0.01),\n",
    "            quantize_colors=(1, 256, 1),\n",
    "            dither=DITHER_MODES)\n",
    "\n",
    "controls = VBox(interactive_preprocess.children[:-1])\n",
    "display(HBox((controls, interactive_preprocess.children[-1])))"
   ]
  },
  {
   "cell_type": "code",
   "execution_count": 6,
   "metadata": {},
   "outputs": [],
   "source": [
    "proc_img = interactive_preprocess.result"
   ]
  },
  {
   "cell_type": "code",
   "execution_count": 7,
   "metadata": {},
   "outputs": [
    {
     "name": "stdout",
     "output_type": "stream",
     "text": [
      "      ........`.-.'`_:'_-:;-_^,!\":;\"~~;!^;~\"\"^~^~;!^^~;!!^;^~!\"~\"!;!'!!'^-;-`-'_,`:_._.:....... .     \n",
      "  .........-,``'`',__;,!!-!^^\"^\"\"\"^;^~\"^^^;=~=!=;=~=~=~=\"=^\"=~!~!\";~~^!!~;,!^!!-~:`,:,:_`-:._.......  \n",
      " .......:'_'--`'';,;^:;_\"^!;^^~\"!;;=;^=;==^=;=^=^==\"==^=~==^=~=!=^!=~^\"^~;^;^_!^,\"!:;`:-`'-,.-........\n",
      "......,,.-':--'!`;_^,\"~!!;~\"\"~;=^==;====!=======================\"==!=~=!~;^;!!!;!'\"~'~^',`__,-::.:... \n",
      "....:-.````:`~'!`~^\"!!^^\"!^=!=~==~===^==============================!==^==;=;^;;\"\"\";~:!-~-`__-,.:.....\n",
      "..-.:--_`:_\":^`~^\";;\"!^=^=;=============T=>=>=?<c=T\\/=>|=>===============;=;=^=!^^!^!!:\",!!--:,,':_-.'\n",
      ".-.`:__-;';'^!^^!!\"^!=^=^===~=======c+L/Tc/*/v|*c<||TvL??v>|+vT/=v============^=;=~~!\"^;^`;_\"-:-_,'`..\n",
      ".:_-'__;-~,^;-\";~~~=\"=;=========T=c*?\\*?v/+L\\Ll<?r>r?F*/sLL\\/|T?T\\L<<|=======~==^=!^^^~;!;~!_~~'\",`,':\n",
      "_`:_-!:~_\";^^;^^;=;=\"=======L=|*>*L|?L<J*Fol}{\\t1>JJ>)lF+{xlo>i+F>><*c\\c?*========\"==!;~;;^`;:^'_`:-:.\n",
      ",:`:!_~`\"!;^;!=~=;========*<v+v*v1visF}|n(/(cCsli{xorYtxIYt<lC(vi<x\\zL\\?\\>\\Lv=======^==;;\"!^^!~;';'`:`\n",
      "___;_~_^!\"\"~^=\"=!=======**?v*T?{/1vJ*oor{ozC(Fslzosn(1x{)ir1{xzC(nCscC+sc+|L||>======!=;=~^~^\":\"^`;:!'\n",
      "-_~_;\";;~;;\"=\"========Lc?+|T)ct{1rinnJC{z1jye3Vaj37e273ulZCX1(riFFol1Jx<C?n<><|<========^==!;;!!~:;:-,\n",
      ",!:\"`;~^\"~=~=!======/v>T+<}|rt}\\J(({xaCf3]asjXyVXuZ[y333euafff23)1nnxYo{FL{c+L<vcv\\======\"=^=\";!;~~,!,\n",
      "-;_;\"~^~!=!=======+L>\\vLJ*xzlnClx}Zf]ZV][3[S[Zy3]97V6a]X7[yaXVya7f3(si)sFJxol|Iv|T|<======\"=~=~!\"!_\"!`\n",
      "`\"~;\";^=\"=\"======Lc\\?|)<zs(nl{}77V{ayS2feS6uUwAPw[9A3PUkHq]9yh[y][7XXfxYI{tilL}|1?Lv|+======~\"=;!;~^';\n",
      "!,;!~!^^=;======cc/>/x?{rx(Y(rf1SfZ[7f47h62K5yh]mkGhPUub3hmUX42kej3y]2eX7Il{xi)?z??v*|?======^\"~^\"\"\";-\n",
      "^\"~^!!=!=======*>|?*F/s{sIsouI]ueZ[9]5]E9GU6kb6UAAPqwhEHm6Um4bUXUPek7e[7ataznxit?IL+L>|L====;===^!^!!!\n",
      ",;;;!=~==!===+|??+J+r(ICnlIVaajf[HSGEE5GAhmk6Dw0pUDPRbO&E4KAAAHhUuG34XjfeVa(tYx(t+1o++cc+=====^=~=\";\";\n",
      "\"!~!=;=!=====*T//T{|iIizxC7j7][k3U92KmHw5w#HdD0Od8#&0RR#&pdP8GAw5q9kfES4uZS[yi)1J{cx+<?c\\=\\====\"=\";;\";\n",
      "~~!;~=^====cc>|<JTJ1}}IzaajSS2ZPXAqUhm9hDO&ppOD#%ROpOp%R0&D#E%4wU6GqH[qf7y3[3zVY)})FTl/?+|======^=!^\"\"\n",
      ";\"^=~=======c+?+<r<{ozY1y1][3HuPkh55qUOOqRD&88Rg&W0$W%W8RRR0p#RO5qGbEb9ybZfuy3)zo(rcJ+1c+?T====!=\"=^^;\n",
      "~\"^\"=\"=====|v>\\i*ox1FxY7a3uyEjqkuGHHDKpd&%#&WMg%$Wg$ggMgB#gOOdO#&Dqkmbhewemuea2yx}x)l/><<\\L\\=====^^=^\"\n",
      "^;=!=!====\\=?v<Ti|JxIn3ru[yaw[Phqk5H%888DNR$%QWWN$QWMBBWNB#N8Qpp&A8hPGh6Vw]e]Sunfn1lxIn+|+\\=>===~==!;;\n",
      ";~\"=^=====LT|TL{*sF1is7j3ufU26]E5G8E#pp%R$RgQNggM@W@NWMWWQggRDDp00kDwGbkhSPa]feailss\\)LI\\+|/=====^!=~!\n",
      "!^!=!======T?/x*YFstoCetfeZkaq4EAhUdp8&8$&B$gQ$@$@@$@@WQ$$QQBM#ppd%EhHHH[9SE[uS(ZtlnxT)<LT\\<======^!\"~\n",
      "^!=!=;====>Lv|<1*r+Fn3tZuZ6e6eh9Uk&G%d&8Qd$B$$@B@g@@@W@@Q$QWORg8&d848HG6h2kZV]auxyoIxY+(LT?L?===;==!=;\n",
      "^~\"=;=====v<*>+i|C1xxXf322eu6GAH6h%#H88dQRWWB$B@g@@@g@gWgW$gN#80R#8PhAAA5Shy7VyfioFoCLI|\\c?+=====;=;^!\n",
      ";~=;=!=====|\\\\?FvI}rYnsSVj[5a2G9PUK8dR&D#MDQNggW@g$@g@QB@MQDgRW&&dP&4PwE7Pj[qfu3{et{I*z/Yv/c=====~=!^\"\n",
      "~;~^======|c*vvz\\)JniVn7SVSVUPaKAGG6&0RD#MOQMMMQN$BMQNWQQDNOg88O#8UpPbG4A3q2y[3iyoCro\\x/vTc|=====^=\"=;\n",
      "~~=;=!=!===c+/cc}+)sstzufa3GVVGUhEHAH&&D#0RO0M#gBBQNg$Ng#B8QR808phOqEGPV5XuZVjeiYYx{L1<>L?*=v===^=~!~^\n",
      "~!!!=~====/=?>+o+FL)IlFyI[u2fKekuGb60EEd8&RW8OgRRB%NRB#OWdD0%d0h#5HG4qykZuwSayC7)ixlcov{vv+=====;=!=;;\n",
      "~;;\"!=\"=====/v*cT(i<iCloV7]e[uw34kUq5bOhRO#Rd8&RW8RR000&0p08D4d4AAHGPj57k3V[aC]1oYY<r*\\?*L=T===^=\"^\"~\"\n",
      "~!!=;=!=====vvc?T<(1(n{Czs2ea2aXbS4Aqw6PPUmR&0pp0d&O#R88%p#K#qmkkGmb[h[aVaVjF7FsI{?Y\\x<>*c=====;=\"=;~;\n",
      "~;;;;!=!======>\\v*\\?I+YizXt[f2aa2UZu4346UqK4ww%w&wOdDdOw89PqG9kPkU[bSfK7223tVII}z/I//TTL|=====^=^^;^\"\"\n",
      ":;\"^^!=~=~===TL/*/nctz{Clxi1faZ[X[u47b5qwbmkEEPHwkUk4wUmEwmHAqKPVmefkS]a2ZFunsY(/z?l/+<|=====;=;=\"\"!\"_\n",
      ";,~!^^^=!======v++/\\cc<{xisIFa)ZSefuhfeyE7Kkhb5m5UK6hGPmU69mjw]h[]Pee3aSsr(n}C+)cz+\\ccT=v====^=^^!^\"\"\"\n",
      "`^^!;!^!=~=;====+/*T/o\\(c{nzotjY][aS7SyjePy]wSG2mE2KU2AuH2fPSuuaXXS]f)7CYaCxCn?rv\\>>\\v=====!=!;\"\";;;':\n",
      "'^'!^!;\"\"=~=======<>cT>vz>loFonltunu]7[]jVyjjZj9faGuZh3uZKSa[9y7377t[)rrlYz*lT1\\+|\\+<=====~=\"=~=\"\"^:!!\n",
      "-!`\"`;^\";~=^=;=====|><c||zT>s}(snYxJ[n2]ee3af7y3ayefVfSa3jZuj7fe3JrFxxY}tJ/}|c\\/vL?v=====!=;~;!!~-;^`:\n",
      "--~:~~~~;^^;=~=======c?LcL\\I**)<I{tFnxzif}7u2y[VXX7aVju]aerZYns}o)(o{rii*v(T/<><|c======~=;=!;;;;;_:^,\n",
      ",'`;,'~^;^\"~~=~\"=======v/c?\\**t\\{*Y1r1sYi{ssxlFr1]zsIJYzrCJsiFiCnFIo1|>>t\\T+|/?L======;=^~!;\"!^-;_^,',\n",
      "',-'^`;'!!;~\"^=\"~=\"======cc>*v|\\vs>/l+sit1ItYCxt{n{I1sts)n)I{iCscoc\\\\i<\\\\+/<|>=====~=!=!\"=^;^~-^`^`:-`\n",
      "_'',:!_\"'~:\"!~~~=~=^=======\\c+*v*+T*?FcT>o|{/isJzr1InlFnYr*}rT*)||CL|<<|<\\v======^==\"~^!^~!\",~:;'_,_`-\n",
      ".::,_-`_~_~^!^!\"^\"\"=;;========\\T\\>*/\\<>*vv><ITc|>+c/L?*?|>Jv+?(**<++T/c+=======\"==!\"~=!;\"\"`;`!``_^_'``\n",
      ".`.':,-`;`~`^-~;\"\";;=!;=!=========L*vL++//\\>L<?IL\\1*tcLF+\\T+L\\<\\\\v\\=T========!=~=!^=~!!~'~!-^:~:'::`..\n",
      ".._:_:```,__^_;_!\"^~~!=~;=!=^==========c>+<*|*/Tv>+?|*T|>/+vv=+===========^=!=!^~;;\";_!-\"'_;_:-:_-.'..\n",
      ".....',`,':'';-^:;!~^!^~~~\"\"=!\"=~=====================================\"=;=\"^!!;;~;~_~\",~-~,,'---._..'.\n",
      "....,..`,_`_`,-;:^,-\":~\";~~\"~=^=!=\"!=!==========================!=~=^!=~^^\"=!^^^^;'\"`^`,^:__'`.,..,...\n",
      " .......,.''_-`--,^`^^'!;!\"\"^^~;~~=~~=;^~=^=!==\"===!===\"=!=~=^^=\"=;^=;;~!~!^;~,~`~:!_'\"`',-,._..'.... \n",
      "  .......,.`_'-::,_:,;_~,\":;^~!!\";!^!;=!;\"!^=\"~=!!=!=;!=\"=;!^=\"\";~\"!~;;~\";^`~`!`!_```:_`.'.-..:.... . \n",
      "    ........`.':'-:'`-:`^_\"_^-^'~~~!!^\"\"!~=;!!!^^~\"!\";^~;;^~\";;!;~!\"~,^\"-!:\":`;--:__`::`.:..'.... .   \n"
     ]
    }
   ],
   "source": [
    "palette, palette_br = generate_1_1_palette(ASCII_SET, FONT, 12, normalize=True)\n",
    "ascii_arr = img2char_arr_1x1(proc_img, palette, palette_br, dither=DITHER_MODES.FS)\n",
    "for i in range(len(ascii_arr)):\n",
    "    for j in range(len(ascii_arr[i])):\n",
    "        print(ascii_arr[i][j], sep='', end='')\n",
    "    print('\\n', end='')"
   ]
  },
  {
   "cell_type": "code",
   "execution_count": 8,
   "metadata": {},
   "outputs": [
    {
     "name": "stdout",
     "output_type": "stream",
     "text": [
      "      . :.::::::::::;:;:~!;~!~~~~~~~~~~~~~=~~=~L=~\\~v\\~\\~v>~~~~~~~~~~~~~!~!;!;;:;::;::::::.::: .      \n",
      "   . :::::::::::;!!:~!;~!~~;~~~~~~~~~L~<v=~=L<v~v/v<~L/L<~L~/v>~v~~~~~~~~~~~!;~!;!!:;!::::::.:::: :   \n",
      "  : :.::::::::!:;;!~:~~;~~~~~~~v~\\L/~L\\L~c\\v\\Lv>v>L/iv=v>v/L=v\\L~L=~>L~~~~~~~~~~!~!!;:~:!:::::.::: : :\n",
      " :::::::::::~!:~!;~!~~~~~~~v/~v~=v~rL<L\\zLcr1v1izr||ivc|rz|viL<Lv<L>v~<L>~L~~~~~~~~!~!;!:!:;::::.:::: \n",
      " .::::::::~:;!~:~~~~~~~~v=~L~c~rL/1Liic1cLczv1|rz|zi1c1c|rv1viiv|1Lr\\zL\\v\\v~<~v~~~~~~~!~!!:;::::::.:::\n",
      ".:::::::~:;!;~!~~~~~~~<v~>L>v<cLizzv1|r|11|1i||jznzozJio|zcr1|iz|cL1iiLzL/L>r~L~~v~~~~~!~!~:!;!:::::.:\n",
      ".:::::~:;!;~;~~~~~~/v<v~r<Li1ri111iricniCjX4i4}oVJ)Jlj)o[j3Sclj1ni1||z1Lcc1<L=v=v~~L~~~~~~:~!;:!::::::\n",
      "::::!:;!;~;~~~~~~L\\~L>L<crzri1iczor{oFJ6]4Fj2tA4A}U4622l42)nA{J4i(nCorcz|iiz|cv/L=L~~v~~~~~~!;!!!:!:::\n",
      ":::!;!;!;~~~~~~v~v<L\\zL||c||ccj]nInS(6J242AU44UAUAU6SjAS4242422n4A[nVj]o||cii1vcrv<L<~v~~~~~~!~!!;!:::\n",
      "::!;:~!~~~~~~/v~L=L/11v||r|JljVJSCU2A6SAUU6444UAS44A44SU6US2422AjAA6(6Votn3in1icL1v/zv~/L~~~~~~!~:;!::\n",
      ":!;!~!~~~~~~=L~rL>cc1r11cVJZJAtSA2SSU4S2AAG6#H#A0Edk#EDGRU94k4ASAAAU46S2C6Fn|jc|zzvzv=v\\v~=~~~~~~!;!!:\n",
      ":~:~~~~~~~\\v=v=Lcr|i|c1o32)2SAUUA4USSHU9H0GDHDm00G0k0m0m0d0kk%E#Um42SUAU4A[UniZoic|iLi\\vv<v\\~~~~~~!;!!\n",
      ":~!;~~~~~>L~zv<zLzzrznlJ6[SAj4666SH0G600G000000000m0000000m0H0E9mH9SG66A22A2CU[nr]ri|z1v<L~i~=~~~~~!~:\n",
      ";!~~~~~~\\L>L/v1ri|rj)oSj2AA24SAm8G8EO0000000000Q00Q00Q000000000m0m0kGb6ES64S26SZ4)otic|1|cv=v<~~~~~~!~\n",
      ";~~~~~~=v=L\\1czc1cjVoSJ2ASSU6mdGk#0000000QBNBWN0@0QNQ0@$N@$NB000000H0E0mSm64A42A[o)oXz1rzLzL/v\\~<~~~~!\n",
      ";~~~~~=v>v<rcrzcoZJZ4j42U24mDmkOE00000QNBQ0WNQNWNWBWB@0@BQ0@NNWB000000H0GUkAUU62A4tJXnlrzcv<L~1~<~~~~~\n",
      ";~~~~>v<v<i||i|zntAAS4U6SUHU0m00000Q$$Q0@BWB@@@@W@WWW@W@WWWB@BQ0@NN00000m0EK2A6U6ASX4cjrrrzci/L=L<~~~~\n",
      ";~~~/L>v/zcri|n[j4ln6424G#m800000Q0QBQN@WW@W@WWWW@W@@@W@WQ@W@@$W0W0WN00000HKkDSA4A62(oJ3czccr/L~v~~~~~\n",
      "~~~/v~zv>cz|r|nlJ266SUAEU0H00000Q0Q0@W@@WWW@W@@@@@@@@@@@@WW@@@@WWB@0Q$$0000k0k%62U6SA3jVjzrc|i>v=v<~~~\n",
      "~~~v~zL>ii|ciZn2}n2USUkA00E000QN0@B@@QW@@@@@@@@@@@@@@@@@@@@@@@WWWW$W0@$N00000m#Ak4SU42}oCo1||izL>L~=~~\n",
      "~~~L/v<iz|riFJIoA62SS4EO000000Q0@$@WWWWWW@@@@@@@@@@@@@@@@@@@@@@@W@@WNW0@N0000H8kSA6AU2ZU|n1|||v=LL/~~~\n",
      "~~L~=v1iciz|IjSIAAS6UOG00000$QNQN@@@W@W@@@@@@@@@@@@@@@@@@@@@@@@@@@@WW$W0QB0000mOkK6A2S2XoI1cccziv~=v\\~\n",
      "~~v\\L/vzi1|ZnVo24S6AA8mR0000Q0QB@@WW@W@@@@@@@@@@@@@@@@@@@@@@@@@@@@@@W$WB0Q00000GSmS4US4F4Zn[|izL\\i~L~~\n",
      "~~L~cv<c1izo3U[jA62S9GD00000Q0WB@W@@W@@@@@@@@@@@@@@@@@@@@@@@@@@@@@@W@WBWN0QB000Gd6m6A6A6{oicrzcz=v\\~L~\n",
      "~~v<L<|1zi||6r66UA24#m00000Q0@0@WWW@@@@@@@@@@@@@@@@@@@@@@@@@@@@@@@@W@WW$WB00000GdGAS64UZj]nZz|i1cL/v~~\n",
      "~~v~r=i||rrVj3n4S464OH500000Q0WWQW@WW@@@@@@@@@@@@@@@@@@@@@@@@@@@@@@WWWBQ0W$N0000H2dASS4U]S|IzirzL<v~v/\n",
      "~~L<v>rr1icIj(SUUSA6Omh000B0Q$Q0Q@@@@@@@@@@@@@@@@@@@@@@@@@@@@@@@@@@WWW@$W0000000EOSUAU6[n3JFi1c1v/L~~~\n",
      "~~L~1>r|1|z]j]AoSSU48H800000Q0WN@@@WW@@@@@@@@@@@@@@@@@@@@@@@@@@@@@@WWW0@0@$$0000kK6S2ASSXAizir||v=v=~=\n",
      "~~v\\L\\rc|ci)nlSjAASS4E%00000Q0@$W$@WW@@@@@@@@@@@@@@@@@@@@@@@@@@@@@@WWNWBB0000000UG9US22n}JIzzizv>L=~/~\n",
      "~~~v=v<1iii|VJXj42SAAHbD00000Q0@N@WW@@@@@@@@@@@@@@@@@@@@@@@@@@@@@@WWW$WB$N$$000DHAAA4UVnS|Vzi1|/L~1<~~\n",
      "~~v~=L>1rz1iXnl2F2AUA4bD000000Q0W0Q@@@W@@@@@@@@@@@@@@@@@@@@@@@@@W@@BQBQ0B000000G42466S)6|{ri|zci<L/~~>\n",
      "~~~L=v>rzz1z|[n6[22SSUhKd000000QNWNQ@@WWW@@@@@@@@@@@@@@@@@@@@@@W@WB@$$QN000000m6UUA2S4{o[lizri1L<v<~~~\n",
      "~~~~v~r>L|z||3JrAACA4SA5dO000000Q0Q0QQ$W@@@WW@@@@@@@@@@@@@@@WWW@0@$QN00000000m2R62UUAJFZj]zcriv/L~v\\~~\n",
      ";~~~L>v/r/i1ci|2|6444S44#5K0000000QB0@NW$W@@@@@WW@@W@@@@WWWWNWQNW$Q0BNB00000k226624S|U3n||1zcL/L~L~~~~\n",
      "~~~~~~v>z/||r|r1Vno{62U6S8m990000000W0@$WNQQBW@B@@W@W@W$@W0@WNQ$0Q00000000#EU8A6S62J)n3|ci||1L>L~~~~~~\n",
      ";~~~~~L/L/11zcrliCnAX62U6U6Km%0000B0000Q0Q0@BQB@BQ0QQ0@BQNW0Q00$00000000b%m2SS666[J3JVzzi|zzL<L~~\\~~~~\n",
      ";~!~~~~L~\\|L||i1X|j]2}o4US64U520#0000$0000Q00Q0Q$BW0WN0@00Q000N$0000000KkOUU64UA}A[]n11|1|1L/v~~/~~~~!\n",
      ":~~~~~~~\\v=v\\1ri|izoC}2J6646294O%Dh0000000000000000000Q0B00000000000OHK6U4ASUU(2lJIcci|zz=vv/~v\\~~~~!!\n",
      ":~;!;~~~>~L=\\iL1c|r|loIj{JUS44U6R4hGdO0000000B0$0NBN$00000000000h8E#22S2SSU4[A}nI1)z1ciz\\r~L/~~~~~~!!!\n",
      ":;!~!~~~~~v/<L=v1rir|irC{n2j2FA4U4SU4RADEOO0000000000000000055ED20U664S42S(4)jXiliz1zz|/|~\\~v~~~~!;!!;\n",
      ":;!;!~!~~~~~<v<v\\i1ii1c(i]j|A34442446Ub248U%6hRERkbE9E92hE9SK46SS62AU42lo4)nV|lzi|zciv/i~>=~~~~~!~!!:;\n",
      "::;:~:~~~~~~~v~=v>L\\cz|cc[1[n[j}nAjUUU26U6649UA62U4SS4S54246S226A6UlUJ3Uc)J1F1|1|1rv/L>~=v/~~~~!~:~:!:\n",
      ":::;!:~;!;~~~~~L=~1>1<c11zrrrCJXjIjIJ4ZSAU644U6U6USS662UUS26A24[UJtUr2cFJlr1i11iiL/v/~L/~~~~~!;!;!::::\n",
      "::::;!:~!!~~~~~~~L/~z/i/rr111z1|c{j]jZSzAzUoFAoU}2SXUAIUjUXJ6cUFo(o)iriic||ziz<LL\\L~\\~~~~~~!~!!;:!:!::\n",
      "::::::;:~!;;~!~~~~~=~<v>|L=rzr11|rrri|to|tn})n(oCUzScAXJFnIjZor3rJ|1Z1rircz<v>r~v~~L\\~~~~!~!;!:;!:::::\n",
      ".::!:!:::;:;!~!~~~~~\\~v>~L=cv=zi1|ric11|r)|XzZ1Fjc)zj{1r3iii|rrlzz1zii11<v>i~r~v~~~~~~~!~!;!:!::::::::\n",
      " :.:::::!:!:~:~!;~~~~~~~v~=L~<v<L\\zz|||crizzccC1z|zrc11Cicricc1izc|=|L>\\L>L>~L~~~~~~~!~!;!:!:!::::::::\n",
      " .::::::::::;!:~:~;~!~~~~~~~<L~\\v/L/v/L=1r<1c|1|||c|iz1ccrz<z|<L=L>i~<v>~v~~~~~~~~!;~!:~:!:!:::::::: :\n",
      "  . .:::::::::!:~:;!~!;~~~~~~~~~L~~<L\\L/L<c\\L>L\\v=|v\\rv>L=v=|~|~c~>v/~~v~~~~~~~!~!!;:~::!::::::::: :  \n",
      "   : .:::::::::::;!:;!;!;~!~~~~~~~~=~~~L~>~v=~>L>v>~\\L~<v\\~v<~v>~=~~~~~~~~~!~!;!;!!:!::!:::::::: :    \n",
      "      . .::::!:!::::;!:~:~!;!;~!~~~~~~~~~~~~~<~~~~L/>~~>~~~~~~~~~~~~~~~!~;!~:~:~::!::!:::::::: :  :   \n"
     ]
    }
   ],
   "source": [
    "palette, palette_br = generate_1_2_palette(ASCII_SET, FONT, (8,8), normalize=True)\n",
    "ascii_arr = img2char_arr_1x2(proc_img, palette, palette_br, dither=DITHER_MODES.FS)\n",
    "for i in range(len(ascii_arr)):\n",
    "    for j in range(len(ascii_arr[i])):\n",
    "        print(ascii_arr[i][j], sep='', end='')\n",
    "    print('\\n', end='')"
   ]
  },
  {
   "cell_type": "code",
   "execution_count": 9,
   "metadata": {},
   "outputs": [
    {
     "name": "stdout",
     "output_type": "stream",
     "text": [
      "⠀⠀⠀⠀⡀⠠⠀⠄⢂⠐⡀⡂⢂⢂⢂⢂⠢⢂⠢⡂⢆⢊⠔⡰⢈⠢⡂⡪⢐⠔⡰⢐⠔⡐⠔⡐⡐⡐⡐⠠⢂⠐⠠⠠⠀⠄⢀⠀⠀⠀⠀\n",
      "⠀⠀⠄⢁⠀⢂⠡⠈⠄⡂⠢⠨⡐⡐⢔⢐⠅⢕⠨⠢⡑⢔⢑⢌⠪⡨⡂⢎⠢⡑⢌⠢⡑⢌⢌⠢⡂⡢⠊⢌⢐⠨⠠⠡⢈⠐⡀⠄⠁⠄⠀\n",
      "⠀⠂⡐⠠⠈⠄⡂⠅⠅⠢⠡⡑⠔⢌⠢⣂⢣⢡⢃⢇⠕⡅⡕⢜⢌⢆⢣⢱⢡⢣⠱⡡⢣⢑⢔⢑⠔⢌⢌⢂⢂⢊⠌⡐⡐⢐⠀⡂⠁⠄⠂\n",
      "⢀⠡⠠⠨⠐⠡⠠⠡⡡⢃⠕⢌⠪⡂⢇⢆⢣⠪⡢⡃⡇⡇⡣⡣⡣⡱⡱⡑⡕⡜⡜⢜⢌⢆⠣⡅⡣⡱⡐⡑⢌⠢⡨⠂⢌⢐⢐⠠⢁⠐⡀\n",
      "⠠⠐⠠⡁⡊⢌⢊⢌⠢⡑⠜⡌⡪⡸⡨⡪⡪⡪⡪⡪⡪⡪⣪⢪⡪⡪⡎⡮⡪⡪⡪⡪⡪⡪⡱⡑⡕⡌⡪⡘⡔⡑⢔⠡⡑⡐⡐⠨⢀⠂⠄\n",
      "⠠⢁⠅⠢⡈⡂⢆⢢⠱⡘⢜⢌⢎⢜⢜⢜⢜⢜⢜⡜⣎⢧⢳⡱⣝⢜⢮⢺⢪⢳⡹⡜⣎⢮⢪⢪⢪⢪⢪⠸⡐⠥⡑⢅⠆⡪⢐⠡⢂⠌⡐\n",
      "⠨⢐⢈⢂⠪⠨⢢⠡⡣⡱⡑⡕⡜⡜⣜⢜⡜⣎⢧⡫⡮⢮⡳⣹⢜⡽⣱⣫⢳⣣⡳⣕⢧⡣⡳⡕⡇⡇⡇⡇⡝⡜⡸⡐⡑⡌⠢⡑⡐⡐⠄\n",
      "⠨⢐⢐⠡⡑⢍⠢⡣⢪⢢⢣⢣⢣⢳⡱⣕⢽⢜⢮⡺⡮⣳⢽⣪⣗⢯⣞⢮⣳⣣⢯⡺⣪⢮⡳⣕⢝⢼⢸⡸⡸⡨⡢⡣⢱⢘⠌⡂⡢⠂⠅\n",
      "⢈⢂⠪⡨⡨⢢⢃⢇⢣⢣⢣⢣⡫⣎⢞⡼⣪⢯⡳⡽⡽⣵⣻⡺⡮⣗⡯⣗⣗⣗⡯⣞⡗⣗⢵⡳⣹⢪⡣⣣⢣⢣⢣⢪⢊⢢⢑⢅⠢⡑⠡\n",
      "⢐⠡⡑⢔⠸⡐⡕⡱⡱⡱⡱⣕⢕⢧⡳⣝⢮⣳⢽⢽⢽⣺⢾⢽⡯⣯⣟⣷⣻⢮⣟⡮⡯⣞⣗⣝⢮⡣⣏⢎⢮⢪⢪⢢⢣⢱⠨⡢⢑⠌⢌\n",
      "⢐⠅⡊⡢⢣⠱⡑⡕⡕⣕⠵⣕⢽⡱⣝⢮⢯⢾⣝⣯⢿⣽⣻⣯⣿⣻⣾⣳⣯⢿⣺⡽⣽⡳⡵⣳⡳⣝⣜⢎⢧⢣⡣⡣⡣⡑⡕⢌⠢⡑⡐\n",
      "⢐⠅⡪⡨⢢⠣⡣⡣⡣⡣⡫⡮⡺⣪⢗⡯⡯⣗⡷⣯⢿⣞⣷⣿⣾⣿⣽⣿⢾⣿⡽⣯⣗⡯⣯⡳⣝⢮⣪⢳⢕⢇⢇⢇⢇⢕⢜⠰⡑⢌⢂\n",
      "⢐⠅⡒⠜⡌⢎⢪⢪⢪⡪⣣⡳⣝⢮⡳⡽⣝⣗⣯⢿⣽⣯⣿⣾⣿⣿⣿⣾⣿⢷⣟⡷⣯⣻⢮⣻⡪⣗⢵⢝⢎⢇⢧⢣⢣⢱⢘⢌⠌⢆⠢\n",
      "⢐⢑⠌⡕⢜⢸⠸⡸⡸⡸⡜⣜⢮⡳⡽⡽⣵⣻⣺⢯⡷⣟⣷⣿⢿⣷⣿⣯⣿⢿⣽⢯⡷⡯⡯⣞⣝⢮⡳⡝⡎⣇⢇⢇⢇⢣⢱⠨⡊⡢⢑\n",
      "⢂⠕⡨⡘⡌⢆⢇⢇⢇⢗⢝⣜⢵⢝⢮⢯⣺⣺⣺⢯⣟⣿⣽⣾⢿⣯⣷⣿⡽⡿⣞⣯⢯⣯⣻⡺⣪⡳⡝⣎⢧⢣⡣⡣⡣⢣⢡⢃⠪⡐⡡\n",
      "⢐⠡⠢⡑⢜⠌⡎⡪⡪⡪⡎⡮⣪⡳⣝⢵⡳⣳⢽⢽⣺⣳⢷⣻⡯⡿⣞⣷⣻⢿⢽⣞⢯⣞⢮⢞⡵⣝⢮⢺⡸⡜⡜⡜⢜⢌⠆⢕⢑⠌⡐\n",
      "⢐⠡⡑⢜⠰⡑⡅⢇⢇⢇⢇⢗⢕⣕⢗⣝⢞⡽⣝⡽⣺⢽⢽⣳⡻⡯⣟⡾⡽⡽⣽⡺⣝⢮⣫⡳⣝⢜⡎⡇⡇⡇⡇⢇⢣⠪⡘⢌⠢⢑⠨\n",
      "⢐⠡⢊⠔⡑⡌⡪⡊⡆⡇⡇⡗⣕⢕⢧⢳⢝⢞⢞⣞⢽⢝⡽⡮⡯⡯⣗⢯⢯⡻⣺⡪⣗⢯⢮⢺⢜⡕⡵⡹⡸⡸⡸⡘⡌⡪⡘⡐⠅⢅⠊\n",
      "⢐⠨⢐⠌⡢⢊⢢⠱⡘⡌⡎⡎⡎⡮⡪⡣⡏⣗⢽⡸⣕⢯⡺⣝⢮⢯⡺⣝⢵⡫⡞⡞⣎⢧⢳⢕⢇⢧⢣⢣⢣⠣⡪⡘⢌⠢⡊⢌⠌⠢⡈\n",
      "⠐⠨⢐⠨⡐⡡⢂⢣⢑⠕⢜⢌⢎⢎⢎⢇⢏⢎⢮⢺⡸⣕⢝⡎⣗⡳⣹⢪⡳⡹⣪⢫⡪⡎⡇⡧⡓⡕⡕⢕⢅⠇⡕⡸⠨⡨⢂⠅⠌⡂⢂\n",
      "⠈⠌⡐⡐⡐⠌⡢⢑⠔⡑⡅⡣⢪⢊⢎⢎⢎⠮⡪⡣⡣⣣⢳⢹⡸⡜⡎⡇⡗⡝⣜⢜⢜⢜⢜⢜⢜⠜⡜⢌⢆⠣⡊⢔⠑⢌⠐⠌⡂⠌⡀\n",
      "⠈⠄⢂⢐⠨⠐⢌⢐⠅⡊⡢⡑⢅⢕⠜⡔⢕⢕⢕⢕⢕⢕⢕⢕⢕⢕⢕⢕⢕⢕⢕⢕⢕⢕⠕⡕⢅⢇⠪⡢⡑⢌⠌⡢⠡⡁⡊⡐⢐⠀⠂\n",
      "⠀⠌⠠⠐⠈⠌⡐⡐⠌⡂⢆⢊⠢⡡⢱⢘⢔⠱⡘⡌⢎⢪⢊⢎⢪⠪⡪⢪⠪⡪⡊⢎⢢⠣⡱⡘⢔⠡⡑⠔⢌⢂⠅⡂⠅⡂⡐⠐⠠⠈⡀\n",
      "⠀⠐⠀⠌⢈⠐⡀⡂⠅⡂⡂⡊⠌⢌⠢⠢⡡⡑⡑⠜⢌⢆⠣⡑⢅⠣⡊⢎⢜⠰⡡⠣⡡⠱⡐⢅⠅⢕⠨⢊⢐⢐⠐⠄⠅⠄⠂⠁⠄⠁⠀\n",
      "⠀⠈⠀⠂⡀⠂⠄⠂⠂⡂⠂⠌⠌⡂⠅⠕⡐⠌⡌⡊⡢⠢⡑⢜⠨⡊⢌⠆⡢⡑⢌⠪⡐⡑⠌⡂⡑⢄⢑⢐⢐⠠⠡⢈⠐⢀⠁⡈⠀⡀⠁\n"
     ]
    }
   ],
   "source": [
    "ascii_arr = img2braille_arr(proc_img, dither=DITHER_MODES.FS)\n",
    "for i in range(len(ascii_arr)):\n",
    "    for j in range(len(ascii_arr[i])):\n",
    "        print(ascii_arr[i][j], sep='', end='')\n",
    "    print('\\n', end='')"
   ]
  },
  {
   "cell_type": "code",
   "execution_count": 10,
   "metadata": {},
   "outputs": [
    {
     "name": "stdout",
     "output_type": "stream",
     "text": [
      "::'`._z'z.z[rlll[r[z[ll[ll[ll[[yll[[l}z}`[l l:, l.,\n",
      ",!;:-.[![l\\l}l[ll[[[[[[[[[[[[[[[[[[[[l}}[(l[~.z_`,'\n",
      "ll:;l}.l[zl[[[[[[[[[[[[[[[[[[[[[[[[[[[[ll}}/[}-/`_[\n",
      "['/[v[z[z[[[[[[[[[[[[[[[[b[b[b[[[[[[[[[[[[[[z[z}l\\_\n",
      ":}]zl[y[l[[[[[[[[b[b[b[b[b[b[b[b[b[[[[[[[[[[[yzlz!z\n",
      "[}_[ll[[[[[[[[b[b[b[b[b[bbb[b[b[b[b[b[[[[[[[[[l[[[/\n",
      "!l[[l[[[[[[[[b[b[b[bbbbbbbbbbbbbbb[b[b[b[[[[[[[lzz:\n",
      "l[[l[[[[[[[b[b[bbbbbbbbbbbbbbbbbbbbbb[b[b[[[[[[[zl[\n",
      "}]]l[[[[[[b[b[bbbbbb@g@g@g@gb@gbbbbbbb[b[b[[[[[[ll[\n",
      "z}[[[[[[[b[b[bbbbb@g@@@@@@@@@@@@gbbbbbb[b[b[[[[[[l[\n",
      "ll[[[[[[b[b[bbbb@g@@@@@@@@@@@@@@@@bbbbbb[b[b[[[[[[l\n",
      "l[[[[[[[[b[bbbbb@@@@@@@@@@@@@@@@@@@[bbbbb[b[[[[[[[l\n",
      "}l[[[[[[b[b[bbbb@@@@@@@@@@@@@@@@@@@bbbbb[b[b[[[[[[[\n",
      "[[[[[[[[[b[bbbbb@@@@@@@@@@@@@@@@@@@[bbbbb[b[[[[[[[[\n",
      "l[[[[[[[b[b[bbbb@@@@@@@@@@@@@@@@@@@bbbb[b[b[[[[[[[l\n",
      "[[[[[[[[[b[b[bbbb@@@@@@@@@@@@@@@@bbbbb[b[b[[[[[[[[[\n",
      "}][[[[[[[[b[b[bbbbb@@@@@@@@@@@@bbbbbb[b[b[[[[[[[[[l\n",
      "z}l[[[[[[[[b[b[b[bbbbbb@@b@bbbbbbbbb[b[b[[[[[[[[l[[\n",
      "ll[l[[[[[[[[[[b[b[b[bbbbbbbbbbbbb[b[b[b[[[[[[[[ll[c\n",
      "l}}}}[[[[[[[[[[b[b[b[b[b[b[b[b[b[b[b[b[[[[[[[[[[[fz\n",
      "z!llll[[[[[[[[[[[[b[b[b[b[b[b[b[b[b[[[[[[[[[[l[[f[ \n",
      ".[ll}])ll[[[[[[[[[[[[[[[[b[b[[[[[[[[[[[[[[[lll}|:[[\n",
      "'`_:}]llll[[[[[[[[[[[[[[[[[[[[[[[[[[[[[[l[[[[[f},.,\n",
      "' l_ll.l}[}][[[[[[[[[[[[[[[[[[[[[[[[[ll[l[f/[.:; .'\n",
      "-;.;~ll::l:})}llll[[[[[[[[[[[[[[[l[lll[}[:l[;-_;`_-\n"
     ]
    }
   ],
   "source": [
    "from ascii_art_conversion_mxn import quantize_grayscale_mxn\n",
    "\n",
    "brightness_shape = (2,4)\n",
    "char_to_brightness_map = generate_brightness_map(ASCII_SET, FONT, brightness_shape, normalize=True)\n",
    "ascii_arr = quantize_grayscale_mxn(proc_img, char_to_brightness_map, (brightness_shape[1], brightness_shape[0]), DITHER_MODES.FS, 0.5)\n",
    "for i in range(len(ascii_arr)):\n",
    "    for j in range(len(ascii_arr[i])):\n",
    "        print(ascii_arr[i][j], sep='', end='')\n",
    "    print('\\n', end='')"
   ]
  }
 ],
 "metadata": {
  "kernelspec": {
   "display_name": "ascii_brightness_test",
   "language": "python",
   "name": "python3"
  },
  "language_info": {
   "codemirror_mode": {
    "name": "ipython",
    "version": 3
   },
   "file_extension": ".py",
   "mimetype": "text/x-python",
   "name": "python",
   "nbconvert_exporter": "python",
   "pygments_lexer": "ipython3",
   "version": "3.12.4"
  }
 },
 "nbformat": 4,
 "nbformat_minor": 2
}
