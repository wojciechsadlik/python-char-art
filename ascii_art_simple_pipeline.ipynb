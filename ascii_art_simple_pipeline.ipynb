{
 "cells": [
  {
   "cell_type": "code",
   "execution_count": 1,
   "metadata": {},
   "outputs": [],
   "source": [
    "from PIL import Image, ImageOps\n",
    "import matplotlib.pyplot as plt\n",
    "import numpy as np\n",
    "import ipywidgets\n",
    "from ipywidgets import interactive, HBox, VBox\n",
    "from ascii_art_conversion_simple import img2ascii_arr\n",
    "from ascii_art_conversion_v2 import img2ascii_arr_v2\n",
    "from img_processing import preprocess_img, DITHER_MODES\n",
    "from braille_art import img2braille_arr\n",
    "from ascii_palettes import ascii_palette_rand, ascii_palette_v2_rand"
   ]
  },
  {
   "cell_type": "code",
   "execution_count": 2,
   "metadata": {},
   "outputs": [
    {
     "name": "stdout",
     "output_type": "stream",
     "text": [
      "(512, 512)\n"
     ]
    }
   ],
   "source": [
    "orig_img = Image.open(\"imgs/irad_grad.bmp\").convert(\"L\")\n",
    "#orig_img = ImageOps.invert(orig_img)\n",
    "\n",
    "print(orig_img.size)"
   ]
  },
  {
   "cell_type": "code",
   "execution_count": 3,
   "metadata": {},
   "outputs": [
    {
     "data": {
      "application/vnd.jupyter.widget-view+json": {
       "model_id": "3b33584c1c2440d0ba85120d980501a6",
       "version_major": 2,
       "version_minor": 0
      },
      "text/plain": [
       "HBox(children=(VBox(children=(FloatSlider(value=0.5, description='scale_factor', max=1.0, min=0.01, step=0.01)…"
      ]
     },
     "metadata": {},
     "output_type": "display_data"
    }
   ],
   "source": [
    "def i_preprocess_img(scale_factor, contrast, brightness, quantize_colors, eq, dither):\n",
    "    proc_img = preprocess_img(orig_img, scale_factor, contrast, brightness, eq, quantize_colors, dither)\n",
    "    plt.imshow(proc_img, cmap='gray', vmin=0, vmax=255, interpolation='none')\n",
    "\n",
    "    plt.figure(figsize=(9, 3))\n",
    "    plt.xticks([x for x in range(0, len(proc_img.histogram()), 25)])\n",
    "    plt.bar([x for x in range(0, len(proc_img.histogram()))], proc_img.histogram())\n",
    "    plt.grid()\n",
    "    plt.show()\n",
    "\n",
    "    return proc_img\n",
    "\n",
    "interactive_preprocess = interactive(i_preprocess_img,\n",
    "            scale_factor=(0.01, 1, 0.01),\n",
    "            contrast=(0, 2, 0.01),\n",
    "            brightness=(0, 2, 0.01),\n",
    "            eq=(0, 1, 0.01),\n",
    "            quantize_colors=(1, 256, 1),\n",
    "            dither=DITHER_MODES)\n",
    "\n",
    "controls = VBox(interactive_preprocess.children[:-1])\n",
    "display(HBox((controls, interactive_preprocess.children[-1])))"
   ]
  },
  {
   "cell_type": "code",
   "execution_count": 12,
   "metadata": {},
   "outputs": [],
   "source": [
    "proc_img = interactive_preprocess.result"
   ]
  },
  {
   "cell_type": "code",
   "execution_count": 13,
   "metadata": {},
   "outputs": [
    {
     "name": "stdout",
     "output_type": "stream",
     "text": [
      "   ....:``:,-;;;-_;\"-^;~^_!^-^;!-;--;_:_::'`....   \n",
      " ..:'::'-;-;;L\"\"L^cL>l>1cl1===^1Ll\"!!\";-;;-,```,...\n",
      ".:'''__;-_\"!\"Lc^=>+=l+(>+v>l1Y>1=c>cLcL~~^_;_;,:':.\n",
      ".,',--_!!~c1=c=fv(Tv/fr(E|<Cnv<Fs/n=|+=1!!\"^_-;-`:,\n",
      "`,;_;\"^~^1l=1|n7xxuSkbCkJI[PXbatosisi+s+1=LL~\"__;,'\n",
      ":--!~\"!l=+1xoxrn)K}kRkR5ywHHpkDII[PIvF?/ljc>>\"^!;__\n",
      ";;_\"!Ll+=F7nY{*bt5ywwDODR8HAH8w5ADE4kXvu7s1c=+\"!~;;\n",
      "--!Lcl>vs(uX3bA6HyGy888d09Og#%HNH$wDD[bVi?|Y>1=LL__\n",
      "_\"\"=+c=fFTeC]HpD%y89B&9QGW#WM9W0%y%5yH*]4[fj+llL^!^\n",
      "_^Lc=lvTnaStR550O8&QWQWQWWWWWWG#0%&0DwRpZ*rj</clc~\"\n",
      "~!l=c</FV3CApyG%O#WGQWW@W@W@QWQWWd%g%p6whhk(f=llc^L\n",
      ";L+c=|uzPhywA#pq&QBWW@W@Q@@Q@QQQQQmM0Dy5H*{]f7?+>~!\n",
      "^~c1=7sfX}2wAMOqOQQQWW@W@@@W@W@W9Q$dOdD6HXho7T=++!^\n",
      "_\"l+ljio24yDR5B%dmQQW@Q@@W@@WWQWWB&BBp6w6Ia)(i==1\"!\n",
      "!\"++=?ziIZ}HHp&8B%WWQWWQW@0Q@QWQMQ%N6OyDEeXuY7lcl!L\n",
      ";!\"=+lisj}bHpw6mB8O8MQQWWQQW%Q#%$B$6&Rpw3hPfjc1>1!L\n",
      "-~\"lcc\\ur[t4Pw6yp##&9&9OGWNW9OO#MMypDw{Z[Evvx>1+^!_\n",
      ";\"~Lll>>nYzZ4KAywAy0D%qGNG8MBNg5GAHw6bVbUj7+>c+^^\";\n",
      "'-^~!1lc\\lr\\J3{)yDpARw%ABAAwypRwRA6hXtKosrcF+1~~~_;\n",
      ",__~L^\"+>c|sno|3K{{DypewwpyDA5A[DIC2ej<s>+c+L~^~--_\n",
      ",--;;L!L>>++=vx/nzCYS]CIUbSCeUa])/zxs\\=|=1+\"!~~;--`\n",
      ".:'---L!L!Ll1+>7?/vs(v74u]Vztu<TYYz>>=+>~+\"^\"--;:::\n",
      ".',``;_;_!\"~c^=+11>=rj>zT=ruc7vl1>+=l+!!~L-_;-`,',.\n",
      "...:''`-;;-\"\"L~\"\"!=lL>ll+=c+c1~++!1~LL!!;-;;``,`...\n",
      "  ...',,''_;-;-!~L\"L!\"~~LL!~LL\"\"~\"L\"-_-;_`:,`:.... \n"
     ]
    }
   ],
   "source": [
    "ascii_arr = img2ascii_arr(proc_img, scale_vertically=True, palette=ascii_palette_rand, dither=DITHER_MODES.FS)\n",
    "for i in range(len(ascii_arr)):\n",
    "    for j in range(len(ascii_arr[i])):\n",
    "        print(ascii_arr[i][j], sep='', end='')\n",
    "    print('\\n', end='')"
   ]
  },
  {
   "cell_type": "code",
   "execution_count": 21,
   "metadata": {},
   "outputs": [
    {
     "name": "stdout",
     "output_type": "stream",
     "text": [
      "    .:::::;:;;;;;;;;;;;L;L;L;;;;;;;;;;;:;::::. .   \n",
      " .::::::;;;;;;~;lcc===ccc==1l1==c1L!;;;;;;;:::::.  \n",
      ".:.::;;;;;;!cL==Ll=x1svvzxzslvls1l1lclL~;;;;;:::::.\n",
      ":::;:;;;~~cLlclz1ooooijkkJkkzkzvozscslll1L;;;;;::::\n",
      "::;;;;~;1Lc=xsxzkjJJJjJJJJJJJJjkkijvzn11cc1L~;;;;::\n",
      ":;;;;!1==1slnjikJJJJJwwwwwwwwwJJJJJjijvocl1Ll;!;;;:\n",
      ";;;~~=L=s=xjjjJJJwwwwwwwwwwwwwwwwwJJJkJksn1==cL;;;;\n",
      ";;!LcLlocJkJJJJwwww&O&&&&&&&&&&d&wwwwJJjkjxolll=;;;\n",
      ";;!=llvckjJJJwwww&&&&&&W&W&&&&&&d&OwwwwJJiJvclLl;!;\n",
      ";~=L1csJJJJJwww&&G&&WQQQQQQQQW&&&&&GwwwwJJjin=l=l;;\n",
      ";1LlcsjJiJJwwdw&&&WQQQQQQQQQQQQQW&&&dwwwwkJJvv11L~;\n",
      ";~1ccvjjJJwwww&&&WQQQQQ@@@@@QQQQQ&W&&dwwwkJJknlllL!\n",
      ";cLlsljJJJwwOw&&W&QQQ@@@@@@@@QQQQW&&&wdwwwJjks=clL;\n",
      ";l=l1oJiiJwwwd&&&WQQQQQ@@@@Q@QQQQ&W&d&ww)wjJjz1==c;\n",
      ";!L==vjjkJwwwwO&&&WQQQQQQQQQQQQQW&&&GwGwwjJkks=1L~;\n",
      ";!ccllxijJUwwwO&d&&WWQQQQQQQQQW&W&&G&wwhwikjxl1l1;~\n",
      ";;lLl=skjkkZwwwdmG&&&WWWQWQWW&W&&G&OwwwAJkkkxclL=;;\n",
      ";;~~11csjikJ2Zwwwdd&d&&&&&&&&&&G&wwwwb)JkJJoc=lL;!;\n",
      "-;;~Lcl=xkkkkj2wAwwwGwOGO&GOOGwwGwwb)Jikkoc=ccL!;;;\n",
      "-;;!;lL=l=xJjkijA[wwwwwwwwwwwwww[ZbjkjJJn+l1L!;~;--\n",
      ":--;;!;1lc=1zjkkkkkZA]X)UUwbXUhhkkjkjkxc==1L~;~;;--\n",
      "::--;;!;;l=cl=v+njJkJJJkkjkkikkjjkin1=1c1L;!;;;--::\n",
      "::::--;;!;;cL11=lc1s\\vijJJkkjJn(vc=l1lcL;~;;;---:::\n",
      "  ::::--;;~;~;=L=l=ccl1c11=l=1=c11=Lc;;!;;----:::  \n",
      "   :::::---;;;;!;;~L!1LlL1LlL!=;~;;~;~;;----:::    \n"
     ]
    }
   ],
   "source": [
    "ascii_arr = img2ascii_arr_v2(proc_img, palette=ascii_palette_v2_rand, dither=DITHER_MODES.FS)\n",
    "for i in range(len(ascii_arr)):\n",
    "    for j in range(len(ascii_arr[i])):\n",
    "        print(ascii_arr[i][j], sep='', end='')\n",
    "    print('\\n', end='')"
   ]
  },
  {
   "cell_type": "code",
   "execution_count": 15,
   "metadata": {},
   "outputs": [
    {
     "name": "stdout",
     "output_type": "stream",
     "text": [
      "⠀⠀⠠⢀⠂⠔⡐⡐⢔⢐⢅⠢⡊⢔⡐⢅⠢⡂⡂⡂⡂⠄⠂⡀⠀\n",
      "⠀⠌⡐⠄⢅⠕⡐⡅⡕⡌⡆⡇⡣⡣⡪⢪⢨⢢⠱⡐⢌⠌⡐⠠⢁\n",
      "⠈⠔⡨⠨⡢⡑⡅⡇⣕⢕⡕⡵⡱⣕⢵⡱⡕⡕⡕⠥⡑⡌⢌⠌⢄\n",
      "⢈⠢⡊⢜⠔⡕⡕⡵⡕⡧⣫⣞⣝⢮⣺⢜⡮⡪⡎⡇⡇⡕⢅⠪⡐\n",
      "⢐⢅⠪⡊⡎⡮⡺⡪⡯⣺⣳⣳⣽⢽⣺⣳⢽⣹⡪⣺⢸⢸⢨⠢⡊\n",
      "⠰⡐⢕⢕⢕⢵⢝⡽⡽⡽⣾⣽⣾⣿⣻⢾⡽⣺⢺⡪⡎⡎⡆⡣⢊\n",
      "⠨⠪⡸⢸⢸⢪⡳⡽⣝⣯⢿⣽⣿⣯⣿⢯⡯⣗⢯⡺⡪⡪⡪⡊⡢\n",
      "⠨⡱⡘⡜⡜⣕⢝⢮⢗⡯⣿⢽⣾⣻⢾⢯⢯⢯⡳⡹⡜⡕⢕⢌⠢\n",
      "⠨⢂⢪⠸⡸⣘⢎⡏⣗⢯⢯⣻⡺⡽⡽⡽⣝⢵⡹⡪⡪⡪⡊⡢⢑\n",
      "⢈⠢⠡⡱⡘⡔⡕⡕⣇⢯⢺⢜⡞⣝⣕⢯⢺⢸⡸⡸⡸⡐⢕⢈⢂\n",
      "⢀⠊⠌⠔⢌⠢⡃⡇⡣⡣⡳⡱⡹⡸⡰⡕⡕⡕⡪⡊⡢⢊⠔⡐⠐\n",
      "⠀⠄⠡⢁⠢⢑⠌⡢⠱⡘⡌⡪⡊⢎⠪⡘⢌⠢⡑⠔⡨⢐⠐⡀⠅\n"
     ]
    }
   ],
   "source": [
    "ascii_arr = img2braille_arr(proc_img, dither=DITHER_MODES.FS)\n",
    "for i in range(len(ascii_arr)):\n",
    "    for j in range(len(ascii_arr[i])):\n",
    "        print(ascii_arr[i][j], sep='', end='')\n",
    "    print('\\n', end='')"
   ]
  }
 ],
 "metadata": {
  "kernelspec": {
   "display_name": "ascii_brightness_test",
   "language": "python",
   "name": "python3"
  },
  "language_info": {
   "codemirror_mode": {
    "name": "ipython",
    "version": 3
   },
   "file_extension": ".py",
   "mimetype": "text/x-python",
   "name": "python",
   "nbconvert_exporter": "python",
   "pygments_lexer": "ipython3",
   "version": "3.12.3"
  }
 },
 "nbformat": 4,
 "nbformat_minor": 2
}
