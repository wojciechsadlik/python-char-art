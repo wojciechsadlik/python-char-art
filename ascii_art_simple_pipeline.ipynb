{
 "cells": [
  {
   "cell_type": "code",
   "execution_count": 1,
   "metadata": {},
   "outputs": [],
   "source": [
    "from PIL import Image, ImageEnhance, ImageOps\n",
    "import matplotlib.pyplot as plt\n",
    "import numpy as np\n",
    "import ipywidgets\n",
    "from ipywidgets import interactive, HBox, VBox\n",
    "from simple_ascii_art import img2ascii_arr, img2ascii_arr_v2\n",
    "from img_processing import preprocess_img, DITHER_MODES"
   ]
  },
  {
   "cell_type": "code",
   "execution_count": 2,
   "metadata": {},
   "outputs": [
    {
     "name": "stdout",
     "output_type": "stream",
     "text": [
      "(512, 512)\n"
     ]
    }
   ],
   "source": [
    "orig_img = Image.open(\"imgs/irad_grad.bmp\").convert(\"L\")\n",
    "\n",
    "print(orig_img.size)"
   ]
  },
  {
   "cell_type": "code",
   "execution_count": 3,
   "metadata": {},
   "outputs": [
    {
     "data": {
      "application/vnd.jupyter.widget-view+json": {
       "model_id": "f45e005578f54df897591bece51b5ab7",
       "version_major": 2,
       "version_minor": 0
      },
      "text/plain": [
       "HBox(children=(VBox(children=(FloatSlider(value=0.5, description='scale_factor', max=1.0, min=0.01, step=0.01)…"
      ]
     },
     "metadata": {},
     "output_type": "display_data"
    }
   ],
   "source": [
    "def i_preprocess_img(scale_factor, contrast, brightness, quantize_colors, eq, dither):\n",
    "    proc_img = preprocess_img(orig_img, scale_factor, contrast, brightness, eq, quantize_colors, dither)\n",
    "\n",
    "    plt.imshow(proc_img, cmap='gray', vmin=0, vmax=255, interpolation='none')\n",
    "\n",
    "    plt.figure(figsize=(9, 3))\n",
    "    plt.xticks([x for x in range(0, len(proc_img.histogram()), 25)])\n",
    "    plt.bar([x for x in range(0, len(proc_img.histogram()))], proc_img.histogram())\n",
    "    plt.grid()\n",
    "    plt.show()\n",
    "\n",
    "    return proc_img\n",
    "\n",
    "interactive_preprocess = interactive(i_preprocess_img,\n",
    "            scale_factor=(0.01, 1, 0.01),\n",
    "            contrast=(0, 2, 0.01),\n",
    "            brightness=(0, 2, 0.01),\n",
    "            eq=(0, 1, 0.01),\n",
    "            quantize_colors=(1, 255, 1),\n",
    "            dither=DITHER_MODES)\n",
    "\n",
    "controls = VBox(interactive_preprocess.children[:-1])\n",
    "display(HBox((controls, interactive_preprocess.children[-1])))"
   ]
  },
  {
   "cell_type": "code",
   "execution_count": 9,
   "metadata": {},
   "outputs": [],
   "source": [
    "proc_img = interactive_preprocess.result\n",
    "proc_img_arr = np.array(proc_img)"
   ]
  },
  {
   "cell_type": "code",
   "execution_count": 10,
   "metadata": {},
   "outputs": [],
   "source": [
    "ascii_arr = img2ascii_arr(proc_img_arr)"
   ]
  },
  {
   "cell_type": "code",
   "execution_count": 11,
   "metadata": {},
   "outputs": [
    {
     "name": "stdout",
     "output_type": "stream",
     "text": [
      "      ..  ....::..::::;;::;;;;;;;;;;;;~~;;;;;;~~;;;;;;;;::;;::;;..::..::  ..  ..  \n",
      "    ........::::::::;;;;;;;;;;;;;;;;~~~~~~;;~~;;;;;;;;;;;;;;;;::::::::........    \n",
      "  ..  ....::::;;::;;;;;;;;~~;;~~;;~~~~~~~~~~~~~~;;~~;;~~;;~~;;;;::;;::::..::....  \n",
      "........::::::::;;;;;;;;~~~~~~~~~~~~~~~~++~~++~~~~~~~~~~~~;;;;;;;;::::::::........\n",
      "  ....::::;;::;;;;~~;;~~~~~~~~++~~++~~++~~++~~++~~++~~++~~~~;;~~;;;;::;;::::..::  \n",
      "....::::::::;;;;~~~~~~~~~~~~++++++++++++++++++++++++++++~~~~~~~~~~;;;;;;::::::....\n",
      "..::::;;::;;;;~~;;~~~~++~~++++oo++oo++oo++oo++oo++oo++++~~++~~~~~~~~;;;;::;;::::..\n",
      "::::::::;;;;~~~~~~~~++++++++oooooooooooooooooooooooooo++++++++~~~~~~~~;;;;;;::::::\n",
      "..::::;;;;~~~~++~~++++oo++ooooXXooXXooXXooXXooXXoooooooo++oo++++~~~~~~~~;;;;::;;..\n",
      "::::;;;;;;~~~~~~++++++ooooooXXooXXXXXXXXXXXXXXXXXXooXXoooo++oo++++~~~~~~~~;;;;::::\n",
      "::;;;;~~;;~~~~++++oo++ooooXXooXXXXDDXXDDXXDDXXDDXXXXooXXoooo++oo++++~~~~;;~~;;;;::\n",
      ";;;;;;;;~~~~++++++++ooooXXXXXXXXDDXXDDDDDDDDDDXXDDXXXXXXXXoooo++++++++~~~~;;;;;;;;\n",
      "::;;;;~~~~++~~oo++ooooXXooXXXXDDXXDDDDNNDDDDDDDDXXDDXXDDooXXoooo++++++++~~~~;;;;::\n",
      ";;;;~~~~~~~~++++ooooXXXXXXXXDDDDDDDDNNNNNNDDNNDDDDDDDDXXXXXXXXoooo++++++~~~~~~;;;;\n",
      ";;~~;;~~~~++++ooooXXooXXXXDDDDNNDDNNDDNNNNNNDDNNDDNNDDDDXXXXooXXoooo++++~~~~;;~~;;\n",
      ";;;;~~~~++++++ooooooXXXXDDDDDDDDNNNNNNNNQQNNNNNNNNDDDDDDDDXXXXoooooo++++++~~~~;;;;\n",
      ";;~~~~++~~++++ooooXXXXDDXXDDDDNNNNQQNNQQNNQQNNQQNNNNDDNNXXDDXXXXoooo++oo~~++~~~~;;\n",
      ";;;;~~~~++++ooooooXXXXXXDDDDNNNNNNNNQQQQQQQQQQQQNNNNNNDDDDXXXXXXoooooo++++~~~~~~;;\n",
      ";;~~~~++~~oo++ooooXXXXDDDDNNDDQQNNQQQQ@@QQ@@QQQQNNQQDDNNDDDDXXXXoooo++oo++++~~~~;;\n",
      ";;;;~~~~++++ooooXXXXXXDDDDDDNNNNQQQQ@@@@@@@@@@QQQQNNNNDDDDDDXXXXXXoooo++++~~~~~~;;\n",
      ";;~~~~++~~oo++XXooXXXXDDDDNNNNQQNN@@QQ@@@@@@QQ@@NNQQNNNNDDDDXXXXoooo++oo~~++~~~~;;\n",
      ";;;;~~~~++++ooooXXXXDDDDDDDDNNNNQQQQ@@@@@@@@@@QQQQNNNNNNDDDDDDXXXXoooo++++~~~~~~;;\n",
      ";;~~~~++~~oo++ooooXXXXDDDDNNDDQQNNQQQQ@@QQ@@QQQQNNQQNNNNDDDDXXXXoooo++oo++++~~~~;;\n",
      ";;;;~~~~++++ooooXXXXXXXXDDDDNNNNQQQQQQQQQQQQQQQQQQNNNNDDDDXXXXXXXXoooo++++~~~~;;;;\n",
      ";;~~~~++~~++++ooooXXXXDDXXDDDDNNNNQQNNQQNNQQNNQQNNNNDDNNXXDDXXXXoooo++oo~~++~~~~;;\n",
      ";;;;~~~~++++ooooooooXXXXDDDDDDNNNNNNNNNNQQNNQQNNNNDDDDDDDDXXXXXXoooooo++++~~~~;;;;\n",
      "::~~;;~~~~++++ooooXXooXXXXDDDDNNDDNNDDNNNNNNNNNNDDNNDDDDXXDDooXXoooo++++~~~~;;~~;;\n",
      ";;;;~~~~~~++++++ooooooXXXXXXDDDDDDDDNNDDNNNNNNDDDDDDDDXXXXXXXXoooo++++~~~~~~~~;;;;\n",
      "::;;;;~~~~++++oo++ooooXXooXXXXDDXXDDDDNNDDDDDDDDXXDDXXDDooXXoooo++oo++++~~~~;;;;::\n",
      "::;;;;;;~~~~++++++++ooooXXXXXXXXXXXXDDDDDDDDDDDDXXXXXXXXXXoooooo++++++~~~~;;;;;;;;\n",
      "::;;;;~~;;~~~~++++oo++ooooXXooXXXXDDXXDDXXDDXXDDXXXXooXXoooo++oo++++~~~~;;~~;;;;::\n",
      "::::;;;;~~~~~~~~++++++++ooooooooXXXXXXXXXXXXXXXXXXoooooooooo++++++~~~~~~~~;;;;::::\n",
      "..::::;;;;~~~~++~~++++oo++ooooXXooXXooXXooXXooXXoooooooo++oo++++~~~~~~~~;;;;::;;..\n",
      "::::::;;;;;;~~~~~~~~++++++++oooooooooooooooooooooooooo++++++++~~~~~~~~;;;;::;;::::\n",
      "..::::;;::;;;;~~~~~~~~++++++++oo++oo++oo++oo++oo++oo++++++++~~++~~~~;;;;::;;::::..\n",
      "....::::;;;;;;;;~~~~~~~~++++++++++++++++oo++++++++++++++++~~~~~~~~;;;;;;;;::::....\n",
      "  ....::::;;::;;;;~~;;~~~~++~~++~~++++++~~++++++~~++~~++~~~~;;~~;;;;::;;::::..::..\n",
      "........::::;;;;;;;;~~~~~~~~~~~~~~~~++~~++~~++~~~~~~~~~~~~;;~~;;;;::;;::::........\n",
      "  ....::..::::;;::;;;;~~;;~~;;~~~~~~~~~~~~~~~~~~~~~~;;~~;;~~;;;;::;;::::..::....  \n",
      "    ........::::::::;;;;;;;;;;;;~~;;~~;;~~~~~~;;~~;;;;;;;;;;;;::::::::........    \n",
      "      ..  ....::..::::;;::;;;;;;;;;;;;~~;;~~;;~~;;;;;;;;::;;::;;..::..::....  ..  \n"
     ]
    }
   ],
   "source": [
    "for i in range(len(ascii_arr)):\n",
    "    for j in range(len(ascii_arr[i])):\n",
    "        print(ascii_arr[i][j],ascii_arr[i][j], sep='', end='')\n",
    "    print('\\n', end='')"
   ]
  },
  {
   "cell_type": "code",
   "execution_count": 12,
   "metadata": {},
   "outputs": [],
   "source": [
    "ascii_arr = img2ascii_arr_v2(proc_img_arr)"
   ]
  },
  {
   "cell_type": "code",
   "execution_count": 13,
   "metadata": {},
   "outputs": [
    {
     "name": "stdout",
     "output_type": "stream",
     "text": [
      "      .:.:~+~+++++vcv+v>++++~+~:.:.      \n",
      "    .:::~+++vcvcvccckckcvcvcv>++~:::.    \n",
      "  .:::~+vcvccckJkJkJkJkJkJkJccvcv+~+::.  \n",
      ".:::~+vcvckJkJJJJJJJJJJJJJJJkJkcccv+~+::.\n",
      ".:~++cc\\kJJJJJA2AGAGAGAGAJAJJJJJkcccv+~:.\n",
      "~++>vckJJJJJAGAGd#dQdQd#dGAGAJJJJJkcv>++~\n",
      "~+vcc\\kJJJAGAGdQdQQQQQQQdQd#AGAJJJJJccv+~\n",
      "+>vckJJJJ2AGdQQQQQQQQQQQQQQQdGA2JJJJkcv>+\n",
      "+>c\\kJJJJGG#dQQQQQQ@Q@Q@QQQQd#GGJJJJk\\cc+\n",
      "+>c\\kJJJAGGQQQQQQ@@@@@@@QQQQQQGGAJJJJ\\cc+\n",
      "+>c\\kJJ2AGdQQQQQQ@@@@@@@QQQQQQdGAJJJk\\cc+\n",
      "+>c\\kJJJAGG#QQQQQ@@@@@@@QQQQQ#GGAJJJJ\\c>+\n",
      "+>c\\kJJJJ2G#dQQQQQQQQQQQQQQQd#GGJJJJk\\c>+\n",
      "~>vccJJJJ2JGG#QQQQQQQQQQQQQ#G#A2JJJ\\ccv>+\n",
      ":++>c\\JJJJJ2AGG#G#QQQQQQG#G#A2JJJJJ\\c>++~\n",
      "::+>vcc\\JJJJJ2J2G#G#G#G#G2J2JJJJJ\\ccv>+::\n",
      ".::++>c\\c\\JJJJJ2J2J2J2J2JJJJJJJ\\ccc>+:~:.\n",
      "  ::~++>ccc\\JJJJJJJJJJJJJJJJJ\\c\\c>++~::  \n",
      "    ::~++>vcc\\c\\c\\J\\k\\J\\c\\c\\c>v>+:~::    \n",
      "      ::::+>+>+>c>c>ccc>c>+>+>+::::      \n"
     ]
    }
   ],
   "source": [
    "for i in range(len(ascii_arr)):\n",
    "    for j in range(len(ascii_arr[i])):\n",
    "        print(ascii_arr[i][j], sep='', end='')\n",
    "    print('\\n', end='')"
   ]
  }
 ],
 "metadata": {
  "kernelspec": {
   "display_name": "ascii_brightness_test",
   "language": "python",
   "name": "python3"
  },
  "language_info": {
   "codemirror_mode": {
    "name": "ipython",
    "version": 3
   },
   "file_extension": ".py",
   "mimetype": "text/x-python",
   "name": "python",
   "nbconvert_exporter": "python",
   "pygments_lexer": "ipython3",
   "version": "3.12.2"
  }
 },
 "nbformat": 4,
 "nbformat_minor": 2
}
