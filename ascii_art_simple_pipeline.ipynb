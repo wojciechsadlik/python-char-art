{
 "cells": [
  {
   "cell_type": "code",
   "execution_count": 1,
   "metadata": {},
   "outputs": [],
   "source": [
    "from PIL import Image\n",
    "import matplotlib.pyplot as plt\n",
    "import numpy as np\n",
    "import ipywidgets\n",
    "from ipywidgets import interactive, HBox, VBox\n",
    "from simple_ascii_art import img2ascii_arr, img2ascii_arr_v2\n",
    "from img_processing import preprocess_img, DITHER_MODES\n",
    "from braille_art import img2braille_arr\n",
    "from ascii_palettes import ascii_palette_rand, ascii_palette_v2_rand"
   ]
  },
  {
   "cell_type": "code",
   "execution_count": 2,
   "metadata": {},
   "outputs": [
    {
     "name": "stdout",
     "output_type": "stream",
     "text": [
      "(512, 512)\n"
     ]
    }
   ],
   "source": [
    "orig_img = Image.open(\"imgs/irad_grad.bmp\").convert(\"L\")\n",
    "\n",
    "print(orig_img.size)"
   ]
  },
  {
   "cell_type": "code",
   "execution_count": 3,
   "metadata": {},
   "outputs": [
    {
     "data": {
      "application/vnd.jupyter.widget-view+json": {
       "model_id": "b26ac371d678499d92f80e8df5051c4c",
       "version_major": 2,
       "version_minor": 0
      },
      "text/plain": [
       "HBox(children=(VBox(children=(FloatSlider(value=0.5, description='scale_factor', max=1.0, min=0.01, step=0.01)…"
      ]
     },
     "metadata": {},
     "output_type": "display_data"
    }
   ],
   "source": [
    "def i_preprocess_img(scale_factor, contrast, brightness, quantize_colors, eq, dither):\n",
    "    proc_img = preprocess_img(orig_img, scale_factor, contrast, brightness, eq, quantize_colors, dither)\n",
    "    plt.imshow(proc_img, cmap='gray', vmin=0, vmax=255, interpolation='none')\n",
    "\n",
    "    plt.figure(figsize=(9, 3))\n",
    "    plt.xticks([x for x in range(0, len(proc_img.histogram()), 25)])\n",
    "    plt.bar([x for x in range(0, len(proc_img.histogram()))], proc_img.histogram())\n",
    "    plt.grid()\n",
    "    plt.show()\n",
    "\n",
    "    return proc_img\n",
    "\n",
    "interactive_preprocess = interactive(i_preprocess_img,\n",
    "            scale_factor=(0.01, 1, 0.01),\n",
    "            contrast=(0, 2, 0.01),\n",
    "            brightness=(0, 2, 0.01),\n",
    "            eq=(0, 1, 0.01),\n",
    "            quantize_colors=(1, 256, 1),\n",
    "            dither=DITHER_MODES)\n",
    "\n",
    "controls = VBox(interactive_preprocess.children[:-1])\n",
    "display(HBox((controls, interactive_preprocess.children[-1])))"
   ]
  },
  {
   "cell_type": "code",
   "execution_count": 8,
   "metadata": {},
   "outputs": [],
   "source": [
    "proc_img = interactive_preprocess.result"
   ]
  },
  {
   "cell_type": "code",
   "execution_count": 9,
   "metadata": {},
   "outputs": [
    {
     "name": "stdout",
     "output_type": "stream",
     "text": [
      " ..,'';;_-L\"\"-L^_;_-',`.. \n",
      ".',___^!l=^l>=>l+!~^^_-,'.\n",
      ":-;_\"+l11furj/rxvlol~!;;;`\n",
      "`_L!++7ft[S}R[yabn\\Fcc!^;;\n",
      ";!^l>xvb256G6ORA5a2??c1~^-\n",
      ";\"=cxx45RA$GWWQ8NRACz\\+l\";\n",
      "_~=>|KIXR&WQ@QQ8NDpbJr+l\"^\n",
      "L^Lcio4yD&9mQQ90ND}auF+c~-\n",
      "-^!11jFCKwA5g5$D6JK2F11^^;\n",
      "'-\"~l=xYvtCJ6)a}I)?1>=L!;_\n",
      ":;;_L+\"=xYsusf7iul++c^__-,\n",
      ".'`-;;!~~>>ll=++^=^!;--',.\n",
      " ..:'---!;_~LL!!;;;-:''...\n"
     ]
    }
   ],
   "source": [
    "ascii_arr = img2ascii_arr(proc_img, scale_vertically=True, palette=ascii_palette_rand, dither=DITHER_MODES.FS)\n",
    "for i in range(len(ascii_arr)):\n",
    "    for j in range(len(ascii_arr[i])):\n",
    "        print(ascii_arr[i][j], sep='', end='')\n",
    "    print('\\n', end='')"
   ]
  },
  {
   "cell_type": "code",
   "execution_count": 10,
   "metadata": {},
   "outputs": [
    {
     "name": "stdout",
     "output_type": "stream",
     "text": [
      " -::;;;;L;LcLcLL;L;;;;::. \n",
      "::~;;L+cxoJ+Jnk+JcnLc;;~::\n",
      ";;;cc+okjjwwwJwwjiicx++;;~\n",
      ";;++zikw6666d&66&wwiJc+LL;\n",
      ";ccski666&ddddddd666kwv+c;\n",
      ";++kiw6&ddQdQQQddd&66JJ++!\n",
      "Lcvjj66dddQQ@QQQQdG66jj\\cL\n",
      "!++ji}6&dWWQQQQWdd666kjcc!\n",
      ";++lki66G6ddWdWdd6G6ijccc;\n",
      ";;!c/JJ266G6G6d666ki</cc;;\n",
      ":;!LcclkJjKkAbj4Jk/\\+++;;:\n",
      ":::;!!c!+<cJ1J/ic\\+c!;;:::\n",
      " ::::;;;!+!+!c!!!;!;;:::: \n"
     ]
    }
   ],
   "source": [
    "ascii_arr = img2ascii_arr_v2(proc_img, palette=ascii_palette_v2_rand, dither=DITHER_MODES.FS)\n",
    "for i in range(len(ascii_arr)):\n",
    "    for j in range(len(ascii_arr[i])):\n",
    "        print(ascii_arr[i][j], sep='', end='')\n",
    "    print('\\n', end='')"
   ]
  },
  {
   "cell_type": "code",
   "execution_count": 11,
   "metadata": {},
   "outputs": [
    {
     "name": "stdout",
     "output_type": "stream",
     "text": [
      "⠀⠄⡂⡢⢢⢱⢐⢅⢆⠢⡂⢄⠀\n",
      "⢈⢢⢱⢸⡸⣜⢮⢎⡮⡪⡪⡐⠌\n",
      "⡐⡅⡇⣗⣽⣺⣽⢷⣝⢮⡪⡪⠨\n",
      "⡐⢕⢝⢼⣺⣽⢿⡿⡽⣕⢇⢇⠣\n",
      "⠨⢊⢪⢣⡳⡽⣝⢽⡹⡜⡜⢔⠡\n",
      "⠈⡂⠕⡱⢸⠸⡸⡸⢸⠨⡊⠔⠈\n"
     ]
    }
   ],
   "source": [
    "ascii_arr = img2braille_arr(proc_img, dither=DITHER_MODES.FS)\n",
    "for i in range(len(ascii_arr)):\n",
    "    for j in range(len(ascii_arr[i])):\n",
    "        print(ascii_arr[i][j], sep='', end='')\n",
    "    print('\\n', end='')"
   ]
  }
 ],
 "metadata": {
  "kernelspec": {
   "display_name": "ascii_brightness_test",
   "language": "python",
   "name": "python3"
  },
  "language_info": {
   "codemirror_mode": {
    "name": "ipython",
    "version": 3
   },
   "file_extension": ".py",
   "mimetype": "text/x-python",
   "name": "python",
   "nbconvert_exporter": "python",
   "pygments_lexer": "ipython3",
   "version": "3.12.3"
  }
 },
 "nbformat": 4,
 "nbformat_minor": 2
}
