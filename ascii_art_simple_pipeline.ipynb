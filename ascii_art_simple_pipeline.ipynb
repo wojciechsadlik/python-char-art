{
 "cells": [
  {
   "cell_type": "code",
   "execution_count": 17,
   "metadata": {},
   "outputs": [],
   "source": [
    "from PIL import Image, ImageEnhance, ImageOps\n",
    "import matplotlib.pyplot as plt\n",
    "import numpy as np\n",
    "import ipywidgets\n",
    "from ipywidgets import interactive\n",
    "from simple_ascii_art import img2ascii_arr, img2ascii_arr_v2\n",
    "from img_processing import preprocess_img"
   ]
  },
  {
   "cell_type": "code",
   "execution_count": 18,
   "metadata": {},
   "outputs": [
    {
     "name": "stdout",
     "output_type": "stream",
     "text": [
      "(512, 512)\n"
     ]
    }
   ],
   "source": [
    "orig_img = Image.open(\"imgs/irad_grad.bmp\").convert(\"L\")\n",
    "\n",
    "print(orig_img.size)"
   ]
  },
  {
   "cell_type": "code",
   "execution_count": 19,
   "metadata": {},
   "outputs": [
    {
     "data": {
      "application/vnd.jupyter.widget-view+json": {
       "model_id": "ea3aae34f59e46699605e64571b31c99",
       "version_major": 2,
       "version_minor": 0
      },
      "text/plain": [
       "interactive(children=(FloatSlider(value=0.5, description='scale_factor', max=1.0, min=0.01, step=0.01), FloatS…"
      ]
     },
     "metadata": {},
     "output_type": "display_data"
    }
   ],
   "source": [
    "def i_preprocess_img(scale_factor, contrast, brightness, quantize_colors, eq):\n",
    "    proc_img = preprocess_img(orig_img, scale_factor, contrast, brightness, eq, quantize_colors)\n",
    "\n",
    "    plt.imshow(proc_img, cmap='gray', vmin=0, vmax=255, interpolation='none')\n",
    "\n",
    "    plt.figure(figsize=(15, 5))\n",
    "    plt.xticks([x for x in range(0, len(proc_img.histogram()), 25)])\n",
    "    plt.bar([x for x in range(0, len(proc_img.histogram()))], proc_img.histogram())\n",
    "    plt.grid()\n",
    "    plt.show()\n",
    "\n",
    "    return proc_img\n",
    "\n",
    "interactive_preprocess = interactive(i_preprocess_img,\n",
    "            scale_factor=(0.01, 1, 0.01),\n",
    "            contrast=(0, 2, 0.01),\n",
    "            brightness=(0, 2, 0.01),\n",
    "            quantize_colors=(1, 255, 1),\n",
    "            eq=(0, 1, 0.01))\n",
    "\n",
    "display(interactive_preprocess)"
   ]
  },
  {
   "cell_type": "code",
   "execution_count": 25,
   "metadata": {},
   "outputs": [],
   "source": [
    "proc_img = interactive_preprocess.result\n",
    "proc_img_arr = np.array(proc_img)"
   ]
  },
  {
   "cell_type": "code",
   "execution_count": 26,
   "metadata": {},
   "outputs": [],
   "source": [
    "ascii_arr = img2ascii_arr(proc_img_arr)"
   ]
  },
  {
   "cell_type": "code",
   "execution_count": 27,
   "metadata": {},
   "outputs": [
    {
     "name": "stdout",
     "output_type": "stream",
     "text": [
      "                      ..........::..::::::::::;;::;;;;;;;;;;;;;;;;;;;;;;;;;;;;;;;;;;;;;;;;;;::;;::::::::::::..::........  ..                    \n",
      "                ............::::::::::::;;::;;;;;;;;;;;;;;;;;;;;;;;;;;;;;;;;;;;;;;;;;;;;;;;;;;;;;;;;;;::;;::::::::::..........                  \n",
      "              ..  ........::..::::::;;;;;;;;;;;;;;;;;;;;;;;;;;;;;;;;;;;;;;;;;;;;;;;;;;;;;;;;;;;;;;;;;;;;;;::;;::::::::............              \n",
      "            ..  ......::::::::::;;::;;;;;;;;;;;;;;;;;;;;;;;;;;;;;;;;;;;;;;;;;;;;;;;;;;;;;;;;;;;;;;;;;;;;;;;;::;;::::::::::........  ..          \n",
      "            ......::..::::::;;::;;;;;;;;;;;;;;;;;;;;;;;;;;;;;;;;~~;;~~;;~~;;~~;;~~;;;;;;;;;;;;;;;;;;;;;;;;;;;;;;::::::::::::........            \n",
      "          ........::::::::::;;;;;;;;;;;;;;;;;;;;;;~~;;~~~~~~~~~~~~~~~~~~~~~~~~~~;;~~~~~~;;~~;;;;;;;;;;;;;;;;;;;;;;;;;;::::::::..........        \n",
      "        ......::::::::::;;;;;;;;;;;;;;;;;;;;;;~~;;~~~~;;~~~~~~~~~~~~~~~~~~~~~~~~~~~~~~~~~~;;~~;;~~;;;;;;;;;;;;;;;;;;;;::;;::::::::......        \n",
      "    ..........::..::::;;::;;;;;;;;;;;;;;;;~~;;~~~~~~~~~~~~~~~~~~~~++~~++~~++~~++~~++~~~~~~~~~~~~~~;;~~;;;;;;;;;;;;;;;;;;::::::::..::........    \n",
      "  ..  ....::..::::;;::;;;;;;;;;;;;;;;;~~;;~~~~~~~~~~~~++~~++++++++++++~~++++++~~++~~++~~++~~~~~~~~~~;;~~;;;;;;;;;;;;;;;;;;;;::::::::........    \n",
      "  ........::::::::;;;;;;;;;;;;;;;;;;~~;;~~~~~~~~~~++~~++++++++++++++++++++++++++++++++++++++++~~~~~~~~~~~~;;~~;;;;;;;;;;;;;;;;::::::::........  \n",
      "  ......::::::::;;::;;;;;;;;;;;;~~;;~~~~~~~~~~++++++++++++++++++++oo++oooo++oo++oo++++++++++++++++~~++~~~~~~;;;;;;;;;;;;;;;;;;;;::::::::........\n",
      "......::..::::;;;;;;;;;;;;;;;;~~;;~~~~~~~~++++~~++++++++oo++oooooooooooooooooooo++oooo++oo++++++++++~~~~~~~~~~~~~~;;;;;;;;;;;;;;;;::::::::......\n",
      "......::::::;;::;;;;;;;;;;;;~~;;~~~~~~++++~~++++++oo++oooooooooooooooooooooooooooooooooo++oo++++++++++++~~++~~~~;;~~;;;;;;;;;;;;;;;;::::::::....\n",
      "....::::::;;;;;;;;;;;;;;;;~~;;~~~~~~++~~++++++oo++ooooooooooooooooooooXXoooooooooooooooooooooooo++++++++++~~~~~~~~~~;;;;;;;;;;;;;;;;::::::::....\n",
      "..::..::::;;;;;;;;;;;;;;~~;;~~~~++~~++++++oo++ooooooooooooXXooXXXXXXXXXXXXXXXXXXXXXXooXXoooooooooo++oo++++++++~~~~~~~~;;;;;;;;;;;;;;;;;;::::::..\n",
      "..::::;;::;;;;;;;;;;;;;;~~~~~~~~++++++++++ooooooooooXXooXXXXXXXXXXXXXXXXXXXXXXXXXXXXXXooXXoooooooooooo++++++++++~~~~~~~~;;;;;;;;;;;;;;::::::::..\n",
      "..::::::;;;;;;;;;;;;;;~~~~~~~~++~~++++ooooooooooooXXooXXXXXXXXXXXXXXXXXXXXXXXXXXXXXXXXXXXXXXXXoooooooooooo++++++++~~~~~~~~;;;;;;;;;;;;;;;;::::::\n",
      "::::::;;;;;;;;;;;;;;~~;;~~~~++++++++oo++ooooooXXXXXXXXXXXXXXXXXXXXXXXXXXXXXXXXXXXXXXXXXXXXXXXXXXXXoooooooo++++++++++~~~~~~~~;;;;;;;;;;;;;;::::::\n",
      "::::;;;;;;;;;;;;;;;;~~~~~~++~~++++oo++ooooooXXooXXXXXXXXXXXXXXXXXXXXXXXXXXXXXXXXXXXXXXXXXXXXXXXXXXXXoooooooooo++++++~~~~~~~~;;;;;;;;;;;;;;::::::\n",
      "::::;;::;;;;;;;;;;~~~~~~++~~++++ooooooooXXooXXXXXXXXXXXXXXXXXXXXXXXXXXDDXXDDXXXXXXXXXXXXXXXXXXXXXXXXXXoooooooo++++++++++~~~~~~~~;;;;;;;;;;;;;;::\n",
      "::::;;;;;;;;;;;;~~;;~~~~++++++oo++ooooooXXXXXXXXXXXXXXXXXXXXDDXXDDDDDDDDXXDDDDDDDDXXXXXXXXXXXXXXXXXXXXXXoooooooooo++++++~~~~~~;;;;;;;;;;;;;;::::\n",
      "::;;;;;;;;;;;;;;~~~~~~++++++++ooooooooXXXXXXXXXXXXXXXXXXDDXXDDDDDDDDDDDDDDDDDDDDDDDDDDXXDDXXXXXXXXXXXXXXXXoooooooo++++++++~~~~~~~~;;;;;;;;;;;;::\n",
      "::;;;;;;;;;;;;~~~~~~~~++++++oo++ooooXXXXXXXXXXXXXXXXDDXXDDDDDDDDDDDDDDNNDDDDDDDDDDDDDDDDXXDDXXXXXXXXXXXXXXXXoooooooo++++++~~~~~~;;;;;;;;;;;;;;::\n",
      "::;;;;;;;;;;;;~~~~~~++~~++++ooooooXXXXXXXXXXXXXXXXXXDDDDDDDDDDNNDDNNNNDDNNNNNNNNDDDDDDDDDDDDXXXXXXXXXXXXXXXXXXoooooo++++++++~~~~~~~~;;;;;;;;;;;;\n",
      ";;;;;;;;;;;;;;~~~~~~++++++ooooooXXooXXXXXXXXXXXXDDDDDDDDDDNNNNNNNNNNNNNNNNNNNNNNNNNNNNDDDDDDDDDDXXXXXXXXXXXXXXoooooooo++++++~~~~~~;;;;;;;;;;;;;;\n",
      "::;;;;;;;;;;~~~~~~++++++oo++ooooXXXXXXXXXXXXXXXXDDDDDDDDNNDDNNNNNNNNNNQQNNNNNNNNNNNNNNNNDDDDDDDDXXXXXXXXXXXXXXXXoooooo++++++++~~~~~~;;;;;;;;;;;;\n",
      ";;;;;;;;;;;;~~~~~~~~++++ooooooooXXXXXXXXXXXXXXDDDDDDDDNNNNNNNNNNQQQQNNQQQQQQQQNNQQNNNNNNNNDDDDDDDDDDXXXXXXXXXXXXXXoooooo++++++~~~~~~~~;;;;;;;;;;\n",
      ";;;;;;;;;;;;~~~~++++++++ooooooXXXXXXXXXXXXDDXXDDDDDDNNNNNNNNQQQQNNQQQQQQQQQQQQQQNNQQNNNNNNNNDDDDDDXXXXXXXXXXXXXXoooooooo++++++++~~~~;;;;;;;;;;;;\n",
      ";;;;;;;;;;~~~~~~~~++++++ooooooXXXXXXXXXXXXXXDDDDDDNNNNNNNNQQNNQQQQQQQQ@@QQQQQQQQQQQQNNNNNNNNNNNNDDDDDDXXXXXXXXXXXXoooooooo++++~~~~~~~~;;;;;;;;;;\n",
      ";;;;;;;;;;~~~~~~++++++ooooooooXXXXXXXXXXXXDDDDDDNNDDNNNNQQNNQQQQ@@@@QQ@@@@QQ@@QQQQQQQQQQNNNNNNDDDDDDDDXXXXXXXXXXXXXXoooooo++++++~~~~~~;;;;;;;;;;\n",
      ";;;;;;;;;;~~~~~~++++++++ooooXXXXXXXXXXXXDDDDDDDDNNNNNNQQQQQQQQ@@QQ@@@@@@@@@@@@@@@@QQQQQQQQNNNNNNDDDDDDXXXXXXXXXXXXXXoooooo++++++~~~~~~~~;;;;;;;;\n",
      ";;;;;;;;~~;;~~~~++++++ooooooXXXXXXXXXXXXXXDDDDDDNNNNNNQQQQQQQQ@@@@@@@@@@@@@@@@@@QQ@@QQQQQQNNNNNNNNDDDDDDXXXXXXXXXXXXoooooo++++++++~~~~;;;;;;;;;;\n",
      ";;;;;;;;;;~~~~++~~++ooooooooXXXXXXXXXXXXDDDDDDNNNNNNQQNNQQQQ@@@@@@@@@@@@@@@@@@@@@@@@QQQQQQQQNNNNDDNNDDDDXXXXXXXXXXXXoooooooo++++~~~~~~~~;;;;;;;;\n",
      ";;;;;;;;~~~~~~~~++++++ooooooXXXXXXXXXXXXDDDDDDNNNNNNQQQQQQ@@@@@@@@@@@@@@@@@@@@@@@@@@@@QQQQQQNNNNNNDDDDDDXXXXXXXXXXXXXXoooo++++++++~~~~;;;;;;;;;;\n",
      ";;;;;;;;;;~~~~++++++oo++ooXXooXXXXXXXXXXDDDDDDNNNNNNNNQQQQ@@@@@@@@@@@@@@@@@@@@@@@@@@@@QQQQQQNNNNNNDDDDDDDDXXXXXXXXXXoooooooo++++++~~~~~~;;;;;;;;\n",
      ";;;;;;;;~~~~~~~~++++ooooooXXXXXXXXXXXXXXDDDDDDNNNNNNQQQQQQ@@@@@@@@@@@@@@@@@@@@@@@@@@@@QQQQQQNNNNNNNNDDDDXXXXXXXXXXXXXXoooo++oo++~~~~~~~~;;;;;;;;\n",
      ";;;;;;;;;;~~~~++++++++ooooooXXXXXXXXXXDDDDDDDDNNNNNNQQQQ@@QQ@@@@@@@@@@@@@@@@@@@@@@@@@@QQQQQQQQNNNNDDDDDDXXXXXXXXXXXXoooooooo++++++~~~~~~;;;;;;;;\n",
      ";;;;;;;;~~~~~~~~++++ooooooXXooXXXXXXXXXXDDDDDDNNNNNNQQQQQQ@@@@@@@@@@@@@@@@@@@@@@@@@@@@QQQQQQNNNNNNDDDDDDDDXXXXXXXXXXXXoooo++++++~~++~~;;~~;;;;;;\n",
      ";;;;;;;;;;~~~~++++++++ooooooXXXXXXXXXXDDXXDDDDNNNNNNQQQQQQQQ@@@@@@@@@@@@@@@@@@@@@@@@QQ@@QQQQNNNNNNNNDDDDXXXXXXXXXXXXooXXoooo++++++~~~~~~;;;;;;;;\n",
      ";;;;;;;;~~~~~~~~++++++ooooooXXXXXXXXXXXXDDDDDDNNNNNNNNQQQQ@@@@@@@@@@@@@@@@@@@@@@@@@@QQQQQQNNQQNNDDDDDDDDXXXXXXXXXXXXoooooo++++++~~~~~~;;;;;;;;;;\n",
      ";;;;;;;;;;~~~~~~++++++ooooooXXXXXXXXXXXXDDDDDDDDNNNNQQNNQQQQQQ@@@@@@@@@@@@@@@@@@@@@@QQQQQQNNNNNNNNDDDDDDXXXXXXXXXXXXXXoooo++++++++~~~~~~;;;;;;;;\n",
      ";;;;;;;;;;~~~~~~++++++ooooooXXXXXXXXXXXXXXDDDDDDNNNNNNQQQQQQQQQQ@@@@@@@@@@@@@@@@QQQQQQQQQQNNNNNNDDDDDDXXXXXXXXXXXXXXoooooo++++++~~~~~~;;;;;;;;;;\n",
      ";;;;;;;;;;~~~~~~++++++++ooooooXXXXXXXXXXXXDDDDDDNNNNNNNNNNQQQQQQ@@QQ@@@@@@@@@@QQ@@QQQQQQNNNNNNNNDDDDDDXXDDXXXXXXXXoooooooo++++++~~~~~~;;;;;;;;;;\n",
      ";;;;;;;;;;~~~~~~~~++++ooooooXXooXXXXXXXXXXDDDDDDDDDDNNNNQQNNQQQQQQQQQQQQQQQQQQQQQQQQNNNNNNNNNNDDDDDDDDXXXXXXXXXXXXXXoooo++oo++~~++~~;;~~;;;;;;;;\n",
      ";;;;;;;;;;;;~~~~++++++++ooooooXXXXXXXXXXXXXXXXDDDDNNNNNNNNNNQQQQQQQQQQQQ@@QQQQQQQQQQNNQQNNNNDDDDDDDDXXXXXXXXXXXXoooooooo++++++~~~~~~~~;;;;;;;;;;\n",
      ";;;;;;;;;;~~~~~~~~++++++++ooooooXXXXXXXXXXXXDDDDDDDDDDNNNNNNNNNNQQQQQQQQNNQQQQQQNNNNNNNNNNDDNNDDDDXXXXXXXXXXXXXXXXoooooo++++++++~~~~;;;;;;;;;;;;\n",
      ";;;;;;;;;;;;;;~~~~~~++++ooooooooXXXXXXXXXXXXXXXXDDDDDDDDNNNNNNNNNNNNNNQQNNQQNNNNNNNNNNNNDDDDDDDDXXDDXXXXXXXXXXoooooooo++++++++~~~~~~;;;;;;;;;;;;\n",
      "::;;;;;;;;;;~~~~~~++~~++++++ooooooXXXXXXXXXXXXXXDDDDDDDDDDNNDDNNNNNNNNNNNNNNNNNNNNNNDDNNDDDDDDDDXXXXXXXXXXXXXXXXoooooo++++++~~~~~~;;~~;;;;;;;;;;\n",
      ";;;;;;;;;;;;;;~~~~~~++++++ooooooooXXXXXXXXXXXXXXXXXXDDDDDDDDNNDDNNNNNNNNNNNNNNDDNNDDDDDDDDDDXXXXXXXXXXXXXXXXoooooooooo++++++~~~~~~;;;;;;;;;;;;::\n",
      "::;;;;;;;;;;;;~~~~~~~~++++++++ooooooXXXXXXXXXXXXXXXXDDXXDDDDDDDDDDDDDDDDDDDDNNDDDDDDDDDDDDXXDDXXXXXXXXXXXXXXooXXoo++++++++~~++~~~~;;;;;;;;;;;;::\n",
      "::;;;;;;;;;;;;;;~~~~~~++++++ooooooooooXXXXXXXXXXXXXXXXXXDDDDDDDDDDDDNNDDDDDDDDDDDDDDDDDDXXXXXXXXXXXXXXXXooXXoooooo++oo++++~~~~~~;;;;;;;;;;;;;;::\n",
      "::::;;;;;;;;;;;;;;~~~~~~++++++++ooooooooXXXXXXXXXXXXXXXXXXXXXXDDDDDDDDDDDDDDDDDDDDXXXXXXXXXXXXXXXXXXXXXXoooooooo++++++++~~~~~~;;~~;;;;;;;;;;;;::\n",
      "::::;;;;;;;;;;;;~~;;~~~~~~++++++++ooooooooXXXXXXXXXXXXXXXXXXXXXXXXXXXXXXDDXXXXXXXXDDXXXXXXXXXXXXXXXXXXooXXoooo++oo++++~~~~~~~~;;;;;;;;;;;;;;::::\n",
      "::::;;;;;;;;;;;;;;~~~~~~~~++++++++ooooooooooXXXXXXXXXXXXXXXXXXXXXXXXDDXXXXXXXXDDXXXXXXXXXXXXXXXXXXXXoooooooo++oo++++~~++~~~~~~;;;;;;;;;;;;;;::::\n",
      "::::::;;;;;;;;;;;;;;~~~~~~~~~~++++++++ooooooooXXXXXXXXXXXXXXXXXXXXXXXXXXXXXXXXXXXXXXXXXXXXXXXXXXooXXoooooooo++++++++~~~~~~~~;;;;;;;;;;;;;;::::::\n",
      "..::::::;;;;;;;;;;;;;;~~~~~~++~~++++oo++ooooooooooXXXXXXXXXXXXXXXXXXXXXXXXXXXXXXXXXXXXXXXXXXXXooXXoooooo++++++++++~~~~~~~~;;;;;;;;;;;;;;::::::::\n",
      "..::::::;;;;;;;;;;;;;;;;~~~~~~++~~++++++ooooooooooooXXooXXXXXXXXXXXXXXXXXXXXXXXXXXXXXXXXXXoooooooooooo++oo++++++~~~~~~~~;;;;;;;;;;;;;;;;::;;::..\n",
      "..::::::::;;;;;;;;;;;;;;;;~~~~~~~~++++++++++ooooooooooooXXooXXXXXXXXXXXXXXXXXXXXXXooXXooooXXoooooo++oo++++++++~~~~~~~~;;~~;;;;;;;;;;;;::::::..::\n",
      "....::::::::;;;;;;;;;;;;;;;;~~~~~~~~++~~++++++++ooooooooooooooooooXXooXXooXXooooXXoooooooooooooo++oo++++++~~~~~~~~~~;;;;;;;;;;;;;;;;::;;::::....\n",
      "......::::;;::;;;;;;;;;;;;;;;;~~~~~~~~++++++++++++++ooooooooooooooooooooooooXXoooooooooooooo++++++++++++~~++~~~~~~;;~~;;;;;;;;;;;;::;;::::..::..\n",
      "......::::::::;;;;;;;;;;;;;;;;;;~~~~~~~~~~++++++++++++++oo++oooooooooooooooooooooooo++oo++++++++++++~~++~~~~~~~~;;;;;;;;;;;;;;;;::;;::::..::....\n",
      "  ......::::::::;;;;;;;;;;;;;;;;;;~~~~~~~~~~~~++++++++++++++oo++oo++oooo++oo++++++++oo++++++++++++~~++~~~~~~;;~~;;;;;;;;;;;;;;::;;::::::......  \n",
      "  ........::::::::::;;;;;;;;;;;;;;;;;;~~~~~~~~~~~~++++++++++++++++++++++++++oo++++++++++++++++~~~~~~~~~~;;~~;;;;;;;;;;;;;;;;;;::::::::........  \n",
      "    ........::::::;;;;;;;;;;;;;;;;;;;;;;~~~~~~~~~~~~~~~~++++~~++++++++++++++++++++++++~~++~~~~~~++~~~~;;~~;;;;;;;;;;;;;;;;;;::::::::..........  \n",
      "    ........::..::::::::;;;;;;;;;;;;;;;;;;;;~~~~~~~~~~~~~~~~++~~++~~++++~~++~~++~~~~~~~~~~~~~~~~~~;;~~;;;;;;;;;;;;;;;;;;;;::::::::..::....      \n",
      "        ......::::::::;;::;;;;;;;;;;;;;;;;;;;;;;~~;;~~~~~~~~~~~~~~~~~~~~++~~~~~~~~~~~~~~~~~~~~;;~~;;;;;;;;;;;;;;;;;;;;;;::::::::::........  ..  \n",
      "        ..........::::::::;;;;;;;;;;;;;;;;;;;;;;;;~~;;~~~~~~~~~~~~~~~~~~~~~~~~~~~~~~~~~~~~;;~~;;;;;;;;;;;;;;;;;;;;;;::::::::::::......          \n",
      "            ........::::::::::;;;;;;;;;;;;;;;;;;;;;;;;;;;;;;;;;;~~~~;;~~;;~~;;~~;;~~;;;;;;;;;;;;;;;;;;;;;;;;;;;;;;::;;::::::........  ..        \n",
      "            ..........::::::::::::;;;;;;;;;;;;;;;;;;;;;;;;;;;;;;;;;;~~;;;;~~;;;;;;;;;;;;;;;;;;;;;;;;;;;;;;;;;;::::::::::::..::......            \n",
      "                ..........::::::::::;;::;;;;;;;;;;;;;;;;;;;;;;;;;;;;;;;;;;;;;;;;;;;;;;;;;;;;;;;;;;;;;;;;;;::;;::::::::..........                \n",
      "              ..  ........::..::::::::;;::;;;;;;;;;;;;;;;;;;;;;;;;;;;;;;;;;;;;;;;;;;;;;;;;;;;;;;;;;;::;;::::::::::::..::......  ..              \n",
      "                    ..........::::::::::::::;;::;;;;;;;;;;;;;;;;;;;;;;;;;;;;;;;;;;;;;;;;;;;;;;;;::;;::::::::::::..::........                    \n"
     ]
    }
   ],
   "source": [
    "for i in range(len(ascii_arr)):\n",
    "    for j in range(len(ascii_arr[i])):\n",
    "        print(ascii_arr[i][j],ascii_arr[i][j], sep='', end='')\n",
    "    print('\\n', end='')"
   ]
  },
  {
   "cell_type": "code",
   "execution_count": 28,
   "metadata": {},
   "outputs": [],
   "source": [
    "ascii_arr = img2ascii_arr_v2(proc_img_arr)"
   ]
  },
  {
   "cell_type": "code",
   "execution_count": 29,
   "metadata": {},
   "outputs": [
    {
     "name": "stdout",
     "output_type": "stream",
     "text": [
      "        ...:::::::::~:~+~+++++++++++++++++++++~+~~~:~:::::::.:.         \n",
      "      . .:::::::~:+++++++++++++++++++++++++++++++++++~:~::::::::: .     \n",
      "     .::::::::+~+++++++++v+vvvvvcvcvcvcv>vvv+v++++++++++~~~:::::::..    \n",
      "  ..:::::::~:++++++++v+cvccvccccckckckckckcccvcvc+v++++++++~::::::::..  \n",
      " :.::::::+~+++++++v>vcccckcJkJJJJJJkJJJkJkJkJkkcccvcv+v+++++++~:::::::. \n",
      ".::::::~+~+++++v>vccckk\\JJJJJJJJJJJJJJJJJJJJJJJJJk\\cccvvv+++++++~:::::::\n",
      ":::::~+~+++++v>vcck\\JkJJJJJJJJJJJJJAJJJJJJJJJJJJJJJJk\\ccvc++++++++::::::\n",
      ":::~:+++++++cvccJkJJJJJJJJAJAGAGGGGGGGGGGGA2AJJJJJJJJJJkcccv+++++++:::::\n",
      ":::~++++++v>cckJkJJJJJJAAGAGGGGGGGGGGGGGGGGGGGGAAJJJJJJJJkcccv+++++++:::\n",
      "::+:+++++vcck\\kJJJJJAJGAGGGGGGGGGGGdGdGGGGGGGGGGGGAJJJJJJJkkccvv+++++~~:\n",
      ":~++++++cvckJJJJJJJAGGGGGGGGdGQdQQQQdQQQQddGdGGGGGGGAJJJJJJJkccvv+++++~:\n",
      ":++++++ccck\\JJJJJAGGGGGGGGQdQQQQQQQQQQQQQQQQdQGGGGGGGGAJJJJJJkccvv+++++~\n",
      ":+++++vcckJJJJJJGAGGGGGGQQQQQQQQQQQQQQQQQQQQQQQQGGGGGGGAJJJJJJkccv++++++\n",
      "++++++cckkJJJJJAGGGGGdGQQQQQQQQQQQQQQQQQQQQQQQQQQ#GGGGGG2JJJJJJkcc>+++++\n",
      "+++++ccckJJJJJJGGGGGGdQQQQQQQQQQQQQ@QQQQQQQQQQQQQQQGGGGGGAJJJJJkccc+++++\n",
      "++++v>ccJJJJJJGGGGGG#QQQQQQQQQQ@Q@@@@@@@QQQQQQQQQQQdGGGGGGJJJJJJkcc>++++\n",
      "++++vcc\\kJJJJJGGGGGGQQQQQQQQQQ@@@@@@@@@@@@QQQQQQQQQQGGGGGGAJJJJJkcc>++++\n",
      "++++vcc\\JJJJJGAGGGGGQQQQQQQQQ@@@@@@@@@@@@@@QQQQQQQQQ#GGGGGAJJJJJ\\ccc++++\n",
      "++++vcc\\JJJJJA2GGGG#QQQQQQQQQQ@@@@@@@@@@@@@QQQQQQQQQdGGGGGAJJJJJ\\kc>v+++\n",
      "++++vcc\\JJJJJJGGGGG#dQQQQQQQQQ@@@@@@@@@@@@QQQQQQQQQQGGGGGGJ2JJJJ\\cc>++++\n",
      "+++++cccJJJJJJGGGGGG#QQQQQQQQQQQ@@@@@@@@QQQQQQQQQQQ#GGGGGG2JJJJJ\\cc>++++\n",
      "+++++ccc\\JJJJJA2GGGGGQQQQQQQQQQQQQQQQQQQQQQQQQQQQQQG#GGGGAJJJJJ\\kc>v++++\n",
      "+++++vcc\\JJJJJJ2GGGGGGdQQQQQQQQQQQQQQQQQQQQQQQQQQ#GGGGGGAJJJJJJkcc>+++++\n",
      ":+++++vcck\\JJJJJ2GGGGGGGQQQQQQQQQQQQQQQQQQQQQQQQG#GGGGGAJJJJJJ\\cc>v+++++\n",
      ":++++++ccc\\JJJJJJ2GGGGGGGGQ#QQQQQQQQQQQQQQQQQ#dGGGGGGGJAJJJJJ\\kcc++++++:\n",
      "::++++++>cc\\JJJJJJJ2GGGGGGGG###QQQQQQQQQQ###GGGGGGGGJ2JJJJJJ\\cc>v++++++:\n",
      "::++++++>vcccJJJJJJJJ2GGGGGGGGGGGGdG#GGdG#GGGGGGGG2J2JJJJJ\\kccc+++++++::\n",
      "::::++++++>ccck\\JJJJJJJ22GGGGGGGGGGGGGGGGGGGGGG2A2JJJJJJJ\\ccc>++++++::::\n",
      ":::::+++++++>cc\\cJJJJJJJJJ2JG2GGGGGGGGGGG2G22AJJJJJJJJJ\\ccc>v++++++:::::\n",
      ":::::~:+++++++>ccc\\kJJJJJJJJJJJJJ2J2J2AJ2JJJJJJJJJJJ\\kccc>v++++++:~:::::\n",
      " :::::::++++++++>cccc\\\\JJJJJJJJJJJJJJJJJJJJJJJJJJ\\k\\cc>c+++++++:~:::::: \n",
      "  :::::::~+++++++++>ccccc\\\\\\JJ\\JJJJJJJJJJJJ\\J\\\\ckcc>v>++++++++::::::::: \n",
      "    :::::::~:+++++++++>>c>cccc\\c\\c\\\\k\\c\\ccccccc>c+>+++++++++::::::::: . \n",
      "      :::::::::++++++++++>+>>>>>cc>c>c>c>c>>>+>++++++++++:~::::::: .    \n",
      "        ::::::::::+:++++++++++++++>++>+++++++++++++++:+:::::::::        \n",
      "          ::::::::::::+:++++++++++++++++++++++++:+::::::::::::          \n"
     ]
    }
   ],
   "source": [
    "for i in range(len(ascii_arr)):\n",
    "    for j in range(len(ascii_arr[i])):\n",
    "        print(ascii_arr[i][j], sep='', end='')\n",
    "    print('\\n', end='')"
   ]
  }
 ],
 "metadata": {
  "kernelspec": {
   "display_name": "ascii_brightness_test",
   "language": "python",
   "name": "python3"
  },
  "language_info": {
   "codemirror_mode": {
    "name": "ipython",
    "version": 3
   },
   "file_extension": ".py",
   "mimetype": "text/x-python",
   "name": "python",
   "nbconvert_exporter": "python",
   "pygments_lexer": "ipython3",
   "version": "3.12.2"
  }
 },
 "nbformat": 4,
 "nbformat_minor": 2
}
