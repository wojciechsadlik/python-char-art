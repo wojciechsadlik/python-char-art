{
 "cells": [
  {
   "cell_type": "code",
   "execution_count": 1,
   "metadata": {},
   "outputs": [],
   "source": [
    "from PIL import Image, ImageEnhance, ImageOps\n",
    "import matplotlib.pyplot as plt\n",
    "import numpy as np\n",
    "import ipywidgets\n",
    "from ipywidgets import interactive\n",
    "from simple_ascii_art import img2ascii_arr, img2ascii_arr_v2\n",
    "from img_processing import quantize"
   ]
  },
  {
   "cell_type": "code",
   "execution_count": 2,
   "metadata": {},
   "outputs": [
    {
     "name": "stdout",
     "output_type": "stream",
     "text": [
      "(512, 512)\n"
     ]
    }
   ],
   "source": [
    "orig_img = Image.open(\"imgs/irad_grad.bmp\").convert(\"RGB\")\n",
    "\n",
    "print(orig_img.size)"
   ]
  },
  {
   "cell_type": "code",
   "execution_count": 3,
   "metadata": {},
   "outputs": [
    {
     "data": {
      "application/vnd.jupyter.widget-view+json": {
       "model_id": "ebdcd129b7e1407aaf4142f8f7beb116",
       "version_major": 2,
       "version_minor": 0
      },
      "text/plain": [
       "interactive(children=(FloatSlider(value=0.5, description='scale_factor', max=1.0, min=0.01, step=0.01), FloatS…"
      ]
     },
     "metadata": {},
     "output_type": "display_data"
    }
   ],
   "source": [
    "def preprocess_img(scale_factor, contrast, brightness, quantize_colors, eq):\n",
    "    proc_img = orig_img\n",
    "    proc_img = ImageOps.scale(proc_img, scale_factor, Image.Resampling.BOX)\n",
    "    proc_img = ImageEnhance.Contrast(proc_img).enhance(contrast)\n",
    "    proc_img = ImageEnhance.Brightness(proc_img).enhance(brightness)\n",
    "    proc_img = Image.blend(proc_img, ImageOps.equalize(proc_img), eq)\n",
    "    proc_img = quantize(proc_img, quantize_colors)\n",
    "    proc_img = proc_img.convert(\"L\")\n",
    "\n",
    "    plt.imshow(proc_img, cmap='gray', vmin=0, vmax=255, interpolation='none')\n",
    "\n",
    "    plt.figure(figsize=(15, 5))\n",
    "    plt.xticks([x for x in range(0, len(proc_img.histogram()), 25)])\n",
    "    plt.bar([x for x in range(0, len(proc_img.histogram()))], proc_img.histogram())\n",
    "    plt.grid()\n",
    "    plt.show()\n",
    "\n",
    "    return proc_img\n",
    "\n",
    "interactive_preprocess = interactive(preprocess_img,\n",
    "            scale_factor=(0.01, 1, 0.01),\n",
    "            contrast=(0, 2, 0.01),\n",
    "            brightness=(0, 2, 0.01),\n",
    "            quantize_colors=(0, 255, 1),\n",
    "            eq=(0, 1, 0.01))\n",
    "\n",
    "display(interactive_preprocess)"
   ]
  },
  {
   "cell_type": "code",
   "execution_count": 9,
   "metadata": {},
   "outputs": [],
   "source": [
    "proc_img = interactive_preprocess.result\n",
    "proc_img_arr = np.array(proc_img)"
   ]
  },
  {
   "cell_type": "code",
   "execution_count": 10,
   "metadata": {},
   "outputs": [],
   "source": [
    "ascii_arr = img2ascii_arr(proc_img_arr)"
   ]
  },
  {
   "cell_type": "code",
   "execution_count": 11,
   "metadata": {},
   "outputs": [
    {
     "name": "stdout",
     "output_type": "stream",
     "text": [
      "        ........::::::::::::;;;;;;;;;;;;;;;;;;;;;;;;;;;;;;;;;;;;::::::::::::........        \n",
      "      ........::::::::::;;;;;;;;;;;;;;;;;;;;;;;;;;;;;;;;;;;;;;;;;;;;;;::::::::........      \n",
      "    ........::::::;;;;;;;;;;;;;;;;~~~~~~~~~~~~~~~~~~~~~~~~;;;;;;;;;;;;;;::::::::::......    \n",
      "  ......::::::::;;;;;;;;;;;;~~~~~~~~~~~~~~~~~~~~~~~~~~~~~~~~~~~~;;;;;;;;;;;;::::::::......  \n",
      "........::::::;;;;;;;;;;~~~~~~~~~~~~~~++++++++++++++++~~~~~~~~~~~~~~;;;;;;;;;;::::::::......\n",
      "......::::::;;;;;;;;;;~~~~~~~~~~++++++++++++++++++++++++++++++~~~~~~~~~~;;;;;;;;::::::::....\n",
      "....::::::;;;;;;;;~~~~~~~~~~++++++++++++++++++oo++++++++++++++++~~~~~~~~~~;;;;;;;;::::::....\n",
      "..::::::;;;;;;;;~~~~~~~~++++++++++++oooooooooooooooooooo++++++++++++~~~~~~~~;;;;;;;;::::::..\n",
      "::::::;;;;;;;;~~~~~~~~++++++++++oooooooooooooooooooooooooooo++++++++++~~~~~~~~;;;;;;;;::::::\n",
      "::::::;;;;;;~~~~~~~~++++++++oooooooooooooooooooooooooooooooooooo++++++++~~~~~~~~;;;;;;::::::\n",
      "::::;;;;;;;;~~~~~~++++++++ooooooooooooXXXXXXXXXXXXXXXXoooooooooooooo++++++~~~~~~;;;;;;;;::::\n",
      "::::;;;;;;~~~~~~++++++++ooooooooooXXXXXXXXXXXXXXXXXXXXXXXXoooooooooo++++++++~~~~~~;;;;;;;;::\n",
      "::;;;;;;~~~~~~++++++++ooooooooXXXXXXXXXXXXDDDDDDDDXXXXXXXXXXXXoooooooooo++++++~~~~~~;;;;;;::\n",
      "::;;;;;;~~~~~~++++++ooooooooXXXXXXXXDDDDDDDDDDDDDDDDDDDDXXXXXXXXoooooooo++++++~~~~~~;;;;;;;;\n",
      ";;;;;;~~~~~~++++++ooooooooXXXXXXXXDDDDDDDDDDDDDDDDDDDDDDDDDDXXXXXXoooooooo++++++~~~~~~;;;;;;\n",
      ";;;;;;~~~~~~++++++ooooooXXXXXXDDDDDDDDDDNNNNNNNNNNNNDDDDDDDDDDXXXXXXoooooooo++++~~~~~~;;;;;;\n",
      ";;;;;;~~~~++++++ooooooXXXXXXXXDDDDDDNNNNNNNNNNNNNNNNNNNNDDDDDDDDXXXXXXoooooo++++++~~~~~~;;;;\n",
      ";;;;~~~~~~++++++ooooooXXXXXXDDDDDDNNNNNNNNNNNNNNNNNNNNNNNNDDDDDDXXXXXXoooooo++++++~~~~~~;;;;\n",
      ";;;;~~~~~~++++ooooooXXXXXXDDDDDDNNNNNNNNNNQQQQQQQQQQNNNNNNNNDDDDDDXXXXXXoooooo++++~~~~~~;;;;\n",
      ";;;;~~~~++++++ooooooXXXXXXDDDDDDNNNNNNQQQQQQQQQQQQQQQQNNNNNNNNDDDDXXXXXXoooooo++++++~~~~;;;;\n",
      ";;;;~~~~++++++ooooooXXXXXXDDDDNNNNNNNNQQQQQQ@@@@QQQQQQQQNNNNNNDDDDDDXXXXoooooo++++++~~~~;;;;\n",
      ";;;;~~~~++++++ooooooXXXXDDDDDDNNNNNNQQQQQQ@@@@@@@@QQQQQQNNNNNNDDDDDDXXXXoooooo++++++~~~~;;;;\n",
      ";;;;~~~~++++++ooooooXXXXDDDDDDNNNNNNQQQQQQ@@@@@@@@@@QQQQNNNNNNDDDDDDXXXXoooooooo++++~~~~~~;;\n",
      ";;;;~~~~++++++ooooooXXXXDDDDDDNNNNNNQQQQ@@@@@@@@@@@@QQQQNNNNNNDDDDDDXXXXoooooooo++++~~~~~~;;\n",
      ";;;;~~~~++++++ooooooXXXXDDDDDDNNNNNNQQQQQQ@@@@@@@@QQQQQQNNNNNNDDDDDDXXXXoooooo++++++~~~~;;;;\n",
      ";;;;~~~~++++++ooooooXXXXXXDDDDNNNNNNNNQQQQQQ@@@@QQQQQQQQNNNNNNDDDDDDXXXXoooooo++++++~~~~;;;;\n",
      ";;;;~~~~~~++++ooooooXXXXXXDDDDNNNNNNNNQQQQQQQQQQQQQQQQNNNNNNNNDDDDXXXXXXoooooo++++++~~~~;;;;\n",
      ";;;;~~~~~~++++ooooooooXXXXDDDDDDNNNNNNNNQQQQQQQQQQQQNNNNNNNNDDDDDDXXXXoooooooo++++++~~~~;;;;\n",
      ";;;;~~~~~~++++++ooooooXXXXXXDDDDDDNNNNNNNNNNNNNNNNNNNNNNNNDDDDDDXXXXXXoooooooo++++~~~~~~;;;;\n",
      ";;;;~~~~~~++++++ooooooXXXXXXDDDDDDDDNNNNNNNNNNNNNNNNNNNNDDDDDDDDXXXXXXoooooo++++++~~~~~~;;;;\n",
      ";;;;;;~~~~~~++++++ooooooXXXXXXDDDDDDDDDDNNNNNNNNNNNNNNDDDDDDDDXXXXXXoooooooo++++++~~~~;;;;;;\n",
      ";;;;;;~~~~~~++++++ooooooooXXXXXXDDDDDDDDDDDDDDDDDDDDDDDDDDDDXXXXXXoooooooo++++++~~~~~~;;;;;;\n",
      ";;;;;;;;~~~~~~++++++ooooooooXXXXXXXXDDDDDDDDDDDDDDDDDDDDDDXXXXXXXXoooooooo++++~~~~~~;;;;;;;;\n",
      "::;;;;;;~~~~~~++++++ooooooooooXXXXXXXXXXXXDDDDDDDDDDXXXXXXXXXXoooooooooo++++++~~~~~~;;;;;;::\n",
      "::::;;;;;;~~~~~~++++++++ooooooooXXXXXXXXXXXXXXXXXXXXXXXXXXXXoooooooo++++++++~~~~~~;;;;;;;;::\n",
      "::::;;;;;;;;~~~~~~++++++ooooooooooooXXXXXXXXXXXXXXXXXXXXoooooooooooo++++++~~~~~~~~;;;;;;::::\n",
      "::::::;;;;;;~~~~~~~~++++++++ooooooooooooooooXXoooooooooooooooooooo++++++~~~~~~~~;;;;;;;;::::\n",
      "::::::;;;;;;;;~~~~~~~~++++++++++oooooooooooooooooooooooooooooo++++++++~~~~~~~~;;;;;;;;::::::\n",
      "..::::::;;;;;;;;~~~~~~~~++++++++++++oooooooooooooooooooooo++++++++++~~~~~~~~;;;;;;;;::::::..\n",
      "....::::::;;;;;;;;~~~~~~~~++++++++++++++++++++oo++++++++++++++++~~~~~~~~~~;;;;;;;;::::::::..\n",
      "....::::::::;;;;;;;;;;~~~~~~~~~~++++++++++++++++++++++++++++++~~~~~~~~~~;;;;;;;;::::::::....\n",
      "......::::::::;;;;;;;;;;~~~~~~~~~~~~++++++++++++++++++++~~~~~~~~~~~~;;;;;;;;;;::::::::......\n",
      "  ......::::::::;;;;;;;;;;;;~~~~~~~~~~~~~~~~~~~~~~~~~~~~~~~~~~~~;;;;;;;;;;;;::::::::......  \n",
      "    ......::::::::::;;;;;;;;;;;;;;~~~~~~~~~~~~~~~~~~~~~~~~;;;;;;;;;;;;;;;;::::::::......    \n",
      "      ........::::::::;;;;;;;;;;;;;;;;;;;;;;~~~~;;;;;;;;;;;;;;;;;;;;;;::::::::::......      \n",
      "        ........::::::::::;;;;;;;;;;;;;;;;;;;;;;;;;;;;;;;;;;;;;;;;::::::::::........        \n"
     ]
    }
   ],
   "source": [
    "for i in range(len(ascii_arr)):\n",
    "    for j in range(len(ascii_arr[i])):\n",
    "        print(ascii_arr[i][j],ascii_arr[i][j], sep='', end='')\n",
    "    print('\\n', end='')"
   ]
  },
  {
   "cell_type": "code",
   "execution_count": 12,
   "metadata": {},
   "outputs": [],
   "source": [
    "ascii_arr = img2ascii_arr_v2(proc_img_arr)"
   ]
  },
  {
   "cell_type": "code",
   "execution_count": 13,
   "metadata": {},
   "outputs": [
    {
     "name": "stdout",
     "output_type": "stream",
     "text": [
      "    ..:::::~~+++++++++++++++++++++~:::::..    \n",
      "  .::::~~+++++vvvccccccccccccvvv++++++:::::.  \n",
      " ::::~+++++vcccccccckkkkkkkcccccccvv++++~::::.\n",
      ":::~++++vccccckkJJJJJJJJJJJJJJkkcccccv++++~:::\n",
      "::~+++vcccccJJJJJJJAAAAAAAAAJJJJJJkccccv+++~::\n",
      ":~+++vccccJJJJJAGGGGGGGGGGGGGGAJJJJJkcccv++++:\n",
      "~+++cccckJJJAGGGGGdddQQQQdddGGGGGAJJJJcccc++++\n",
      "+++ccccJJJJAGGGddQQQQQQQQQQQQQdGGGGJJJJcccc+++\n",
      "++vcccJJJJGGGGdQQQQQQQQQQQQQQQQQGGGGJJJJcccc++\n",
      "++ccccJJJAGGGQQQQQQQQQQQQQQQQQQQQGGGGJJJJccc++\n",
      "++cccJJJJGGGdQQQQQQQ@@@@@@QQQQQQQQGGGJJJJccc++\n",
      "++cccJJJJGGGQQQQQQQQ@@@@@@@QQQQQQQGGGGJJJcccc+\n",
      "++cccJJJJGGG#QQQQQQQ@@@@@@QQQQQQQQGGGJJJJccc++\n",
      "++ccc\\JJJGGGGQQQQQQQQQQQQQQQQQQQQGGGGJJJ\\ccc++\n",
      "++ccccJJJJGGGGQQQQQQQQQQQQQQQQQQGGGGJJJJcccc++\n",
      "+++ccccJJJJGGGG#QQQQQQQQQQQQQQ#GGGGJJJJcccc+++\n",
      "++++ccccJJJJ2GGGGG###QQQQQ###GGGG2JJJJcccc++++\n",
      "::+++>ccc\\JJJJ22GGGGGGGGGGGGGG22JJJJ\\cccc++++:\n",
      ":::+++>cccc\\JJJJJJ22222G2222JJJJJJ\\cccc>++++::\n",
      "::::++++>ccccc\\\\JJJJJJJJJJJJJJ\\\\ccccc>++++::::\n",
      " :::::+++++>ccccccc\\\\\\\\\\\\\\\\ccccccc>>++++::::: \n",
      "   ::::::+++++>>>cccccccccccc>>>++++++:::::   \n",
      "     :::::::++++++++++>>++++++++++:::::::     \n"
     ]
    }
   ],
   "source": [
    "for i in range(len(ascii_arr)):\n",
    "    for j in range(len(ascii_arr[i])):\n",
    "        print(ascii_arr[i][j], sep='', end='')\n",
    "    print('\\n', end='')"
   ]
  }
 ],
 "metadata": {
  "kernelspec": {
   "display_name": "ascii_brightness_test",
   "language": "python",
   "name": "python3"
  },
  "language_info": {
   "codemirror_mode": {
    "name": "ipython",
    "version": 3
   },
   "file_extension": ".py",
   "mimetype": "text/x-python",
   "name": "python",
   "nbconvert_exporter": "python",
   "pygments_lexer": "ipython3",
   "version": "3.12.2"
  }
 },
 "nbformat": 4,
 "nbformat_minor": 2
}
