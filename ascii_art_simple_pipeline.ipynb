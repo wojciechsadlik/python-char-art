{
 "cells": [
  {
   "cell_type": "code",
   "execution_count": 1,
   "metadata": {},
   "outputs": [],
   "source": [
    "from PIL import Image, ImageOps, ImageFont\n",
    "import matplotlib.pyplot as plt\n",
    "import numpy as np\n",
    "import ipywidgets\n",
    "from ipywidgets import interactive, HBox, VBox\n",
    "from ascii_art_conversion_1x1 import img2char_arr_1x1\n",
    "from ascii_art_conversion_1x2 import img2char_arr_1x2\n",
    "from img_processing import preprocess_img, DITHER_MODES\n",
    "from braille_art import img2braille_arr, get_braille_chars\n",
    "from generate_ascii_palette import *"
   ]
  },
  {
   "cell_type": "code",
   "execution_count": 2,
   "metadata": {},
   "outputs": [],
   "source": [
    "ASCII_SET = get_asciis()\n",
    "BRAILLE_SET = get_braille_chars()\n",
    "ASCII_AND_BRAILLE_SET = ASCII_SET + BRAILLE_SET"
   ]
  },
  {
   "cell_type": "code",
   "execution_count": 3,
   "metadata": {},
   "outputs": [],
   "source": [
    "FONT = ImageFont.truetype(\"fonts/CascadiaMono.ttf\", 16)\n",
    "IMG_PATH = \"imgs/irad_grad.bmp\""
   ]
  },
  {
   "cell_type": "code",
   "execution_count": 4,
   "metadata": {},
   "outputs": [
    {
     "name": "stdout",
     "output_type": "stream",
     "text": [
      "(512, 512)\n"
     ]
    }
   ],
   "source": [
    "orig_img = Image.open(IMG_PATH).convert(\"L\")\n",
    "#orig_img = ImageOps.invert(orig_img)\n",
    "\n",
    "print(orig_img.size)"
   ]
  },
  {
   "cell_type": "code",
   "execution_count": 5,
   "metadata": {},
   "outputs": [
    {
     "data": {
      "application/vnd.jupyter.widget-view+json": {
       "model_id": "a57fa3b75aeb4ce49cd6494105cef9be",
       "version_major": 2,
       "version_minor": 0
      },
      "text/plain": [
       "HBox(children=(VBox(children=(FloatSlider(value=0.5, description='scale_factor', max=1.0, min=0.01, step=0.01)…"
      ]
     },
     "metadata": {},
     "output_type": "display_data"
    }
   ],
   "source": [
    "def i_preprocess_img(scale_factor, contrast, brightness, quantize_colors, eq, dither):\n",
    "    proc_img = preprocess_img(orig_img, 0.1, contrast, brightness, eq, quantize_colors, dither)\n",
    "    plt.imshow(proc_img, cmap='gray', vmin=0, vmax=255, interpolation='none')\n",
    "\n",
    "    plt.figure(figsize=(9, 3))\n",
    "    plt.xticks([x for x in range(0, len(proc_img.histogram()), 25)])\n",
    "    plt.bar([x for x in range(0, len(proc_img.histogram()))], proc_img.histogram())\n",
    "    plt.grid()\n",
    "    plt.show()\n",
    "\n",
    "    return proc_img\n",
    "\n",
    "interactive_preprocess = interactive(i_preprocess_img,\n",
    "            scale_factor=(0.01, 1, 0.01),\n",
    "            contrast=(0, 2, 0.01),\n",
    "            brightness=(0, 2, 0.01),\n",
    "            eq=(0, 1, 0.01),\n",
    "            quantize_colors=(1, 256, 1),\n",
    "            dither=DITHER_MODES)\n",
    "\n",
    "controls = VBox(interactive_preprocess.children[:-1])\n",
    "display(HBox((controls, interactive_preprocess.children[-1])))"
   ]
  },
  {
   "cell_type": "code",
   "execution_count": 6,
   "metadata": {},
   "outputs": [],
   "source": [
    "proc_img = interactive_preprocess.result"
   ]
  },
  {
   "cell_type": "code",
   "execution_count": 7,
   "metadata": {},
   "outputs": [
    {
     "name": "stdout",
     "output_type": "stream",
     "text": [
      "   ....,::''\"_!!-!^~^\"!\"~^\";!;^;!\"\"-`-,_'`'.'...   \n",
      " ..,._``!_-!-~\"~\"\"\"\"\"\\\"\"+\"*\"*\"\"\"\"\"\"\"\"~\"^!\",;_'`._..\n",
      "._,_,\"!'-^^\"\"\"\">\"/?>?\"l?>L?*>=L?L\"*\"\"\"\"\"\"^\"!`_:'`..\n",
      ".`,_^,~;^\"\"\"<\"\\=*<>/<Y??+>\\/+/L=+\\\\?L+\"/\"\"^!\";;____\n",
      "'`~:!^!\"\"\"/+\\<?//?\\rTLTzi)J))7Yc+J>?|\\\\\"+\"\"\"\"~~~~:_\n",
      "'^;;;\"\"\"|L\">\\L=u)J(jn}iXeSSSj3JrJ(rjL<|=L/\"?\"\"!~'!:\n",
      "';-;\"\"L\"/=<*)jvT)IstfyaXy[2{I}yS{oTY(Tr?+>+\"\"\"\"\"~-'\n",
      "!~\";\"<\"L=?ci(1)]XaS5{GbUdbmGphE}XFIe(rY(\\*+?>\\\"\"\"~^\n",
      "!-~\"<\"|L*J+1xrsee5{96q46%P&6hwb4k6sIC2rzT=r>|\">\"\"--\n",
      ";;\"\">*\\=T\\i1[]ob}6dk%%&%80g0RMkm4qdX2e[jzY+|LL\"<\"\"^\n",
      ";\"\"/\"=>>TvvVC3yd6GRM5g&BNBN$RM80bUKdV3CtY)J=||+\"\"\"\"\n",
      "-\"\"<?L\\v\\uFz[53OhH%MDW$QB@$WNBBR%PqKd[aaxic=?=L\"L\"~\n",
      "!\"\"<\"+>*j(7a[ewGG#d#BNQ@@@@@WWQD#M4k9[oI}cjn/*L\"\"\"\"\n",
      "~\"\"\\*>=j)zvoZkZkPEg#%$BQB@Q$N$%&DOEPZp3[7lz+>*L\"/\"\"\n",
      ";\"\"\"=\"</x(vI[2a6dk8g0&NWWNBNBRD8AhbPo3Zsxr7|L=\"\\\"\"\"\n",
      ";\"\"=\"+|><7)1eSVq}466wgM&M#8%8RgPHG5esSeYv1<<\\?+\"\"\";\n",
      "^!\"\"L\"\\\\=uLvJVZIIPyKUwhU%5&E5Uh96stf23ZJc/i/L\"\"*\"\";\n",
      "!;\"\"\"=\"L>=TxuY(ZZ22m3KE5kwkpqb[tyV2SFxjz+/||\"/\"\"\"\"^\n",
      "`\"\"^\"\"\\\"+L/**n11jaZ3Z{X]}C[F}SVsaXSTnz>\\//\\\"<\"\"\"^\"_\n",
      "'-:\"\"\"\"|\"=\">+?|xTJc)Y2lZ3{Ieeia(n)j(+<><=\"\\\"\"\"\"!~_;\n",
      "`_!\"-;!\"\"\"\\\"=+/\\\\=7xcc)J1nvilu1(n/??\\*/\"+\"\"\"\"\";^,',\n",
      ".,,_:--^\"\"\"|\">\"*>|L+<+L<*?/|<>?\\/|L=\"+\"L\"\"\"\"!;,'',,\n",
      ".:_,,_;\"^-!\"\"\"\"<\"\">\"=<\\*\\<L>?+\"/\">\"\"+\"\"\"\"\"^;_;_,_`.\n",
      " ..::_,'_~\";~\"\"\"\"\"\"\"\"\"\"\"\"\\\"\"\"*\"\"\"\"\"\"\"^~--;`_,,__...\n",
      " .....:'_:':\"~!--\"\"\"\"\"\"\"\"\"\"\"\"\"\"\"\"\"\"\"~-,~_`:::..... \n"
     ]
    }
   ],
   "source": [
    "palette, palette_br = generate_1_1_palette(ASCII_SET, FONT, 12, normalize=True)\n",
    "ascii_arr = img2char_arr_1x1(proc_img, palette, palette_br, dither=DITHER_MODES.FS)\n",
    "for i in range(len(ascii_arr)):\n",
    "    for j in range(len(ascii_arr[i])):\n",
    "        print(ascii_arr[i][j], sep='', end='')\n",
    "    print('\\n', end='')"
   ]
  },
  {
   "cell_type": "code",
   "execution_count": 8,
   "metadata": {},
   "outputs": [
    {
     "name": "stdout",
     "output_type": "stream",
     "text": [
      "   .:--:-:-;-!;~!~~!~!!!!!!!!!!!!~!~;!~;-:-::.: .  \n",
      " --::----;~!~~!~!>!+=*++>/*==/*\\\\<!!!!!;~;--:-.-.- \n",
      "...-:-:!;!~!!=\\//>|*|+++>==>=>=*+>>|\\\\!!!~~;--:-.: \n",
      ".:--;-~~!!=\\/*+/>*n/txY{)U)I(c)j>//|==>|<!~~!;-:---\n",
      ":--;!~!!+\\!/=>J))jtIj}3][}IV2JVr2C(J)/*|=<\\!!!~;--:\n",
      "-;-~~~+<*>/)iln]3VIUtkIkhkX{k213C2Vilx(/=+|*<!~!;-:\n",
      "-;!!!+!+**c>tj12IkS6HkOAkdE6Eb6HOU{I[Iilc>|//!/!~!;\n",
      ";!!!/>=/)j)3t1tkhk6A6KO&b&AQ4dbEbGbh1}{cYcl|>>!>~!;\n",
      ";~<!+===nl132k5kKKAW#$QQN&B&WN0WOOddSk}}}xY==+/!/~!\n",
      "~!!>=>=Ii[]Uk5Kd4QdBQBBBBB@WBBBQbBG64kS}}})cl++>~!~\n",
      "!<<=>=J>t1[{kObOW%BBBB@@@@@@B@BBBBQKEK6}k{3j=|=|<<~\n",
      "~!+!*j=2[tVOSd6WABBB@@@@@@@@@@B@BBQbOAAk}{Vx)>**!/~\n",
      "~\\\\*>*tj[[IbAdGQBBB@B@@@@@@@@@@BBBQNA6OktUIn)==>|~!\n",
      "~!|+>/n=}{]kKbbW8BBB@@@@@@@@@@@BBBBAWOd1Z3](cl>>\\\\~\n",
      "~<!||>cY1V}kH4G6Q$BBB@B@@@@@@B@BBB#4EGdZCUtYr*>+<!!\n",
      "~~=\\*/=)x}V1GZbE4B$BBBB@B@BBBBBBBWDbOdh}t[[r/>=/~<~\n",
      "~!!*\\++lJ(t{tdhGKdRBBBBBBBBBBBBDE64OGX}X2}+x>**<~~~\n",
      "!!!\\!|++n)Ut]VXkZOdODd%R$NB0NW%KEOOX}X2CCY=>|=\\~\\!!\n",
      ";~!\\\\\\=**|cY[C}{kh56OOE$4DGDOKOAhhV5C1{(xl+l><~<!!~\n",
      "-;~!~!><=>+cY(U]U[CkH24Zd54SXkh]HCXV]()j>/>=~<!!!~-\n",
      "::;-\\!!\\\\|*|=)i)V[tI{3}}{2[}3}I}3V)jYY=+=+\\~\\~!!~--\n",
      "::--!~~!~<!+>=>+>JYcY[l}C[[{]Y{Yn(+///|*\\!<!!!~----\n",
      ".:----!~\\~\\\\!*|>>|==/|l>r>+j*Y==+/*|/\\<!\\!!!!~-:---\n",
      " .:::-:-~!~!!~!>~>\\|=/>>=/*=*|>=<\\\\~\\~!!!~!------ .\n",
      "  ..:-:----~!\\~<!!~!+!\\!|!=~\\~!!\\~~!!!~~~-:-::: :  \n"
     ]
    }
   ],
   "source": [
    "palette, palette_br = generate_1_2_palette(ASCII_SET, FONT, (8,8), normalize=True)\n",
    "ascii_arr = img2char_arr_1x2(proc_img, palette, palette_br, dither=DITHER_MODES.FS)\n",
    "for i in range(len(ascii_arr)):\n",
    "    for j in range(len(ascii_arr[i])):\n",
    "        print(ascii_arr[i][j], sep='', end='')\n",
    "    print('\\n', end='')"
   ]
  },
  {
   "cell_type": "code",
   "execution_count": 9,
   "metadata": {},
   "outputs": [
    {
     "name": "stdout",
     "output_type": "stream",
     "text": [
      "⠀⠀⠠⢀⠂⠔⡐⡐⢔⢐⢅⠢⡊⢔⡐⢅⠢⡂⡂⡂⡂⠄⠂⡀⠀\n",
      "⠀⠌⡐⠄⢅⠕⡐⡅⡕⡌⡆⡇⡣⡣⡪⢪⢨⢢⠱⡐⢌⠌⡐⠠⢁\n",
      "⠈⠔⡨⠨⡢⡑⡅⡇⣕⢕⡕⡵⡱⣕⢵⡱⡕⡕⡕⠥⡑⡌⢌⠌⢄\n",
      "⢈⠢⡊⢜⠔⡕⡕⡵⡕⡧⣫⣞⣝⢮⣺⢜⡮⡪⡎⡇⡇⡕⢅⠪⡐\n",
      "⢐⢅⠪⡊⡎⡮⡺⡪⡯⣞⣗⡷⣽⣽⣺⣳⢽⣹⣪⢺⡸⡸⡨⡊⠔\n",
      "⠰⡐⢕⢕⢕⢵⢝⡽⣝⡾⣞⣿⢷⣿⣞⣷⡻⡮⡮⡣⡇⡇⡎⡜⡨\n",
      "⠨⠪⡸⢸⢸⢪⡳⣝⡾⣽⣻⡿⣿⣿⣽⡾⣯⣻⡪⣏⢞⢜⢜⠔⢌\n",
      "⠨⡱⡘⡜⡜⣕⢝⡞⣞⣽⣳⢿⣻⣽⢾⢯⣗⢗⣝⢮⢪⢣⢱⢑⠅\n",
      "⠨⢂⢪⠸⡸⣘⢮⢺⢕⢷⢽⢽⢽⡺⡯⣳⡳⣝⢮⢺⢸⢸⢐⢅⠊\n",
      "⢈⠢⠡⡱⡘⡔⡕⡵⡹⡱⣝⢮⡳⣝⢝⢮⢺⡸⡸⡸⡘⢔⠅⡢⠡\n",
      "⢀⠊⠌⠔⢌⠢⡣⢱⢱⢹⢸⢸⢸⢸⢱⢱⢱⢱⢑⢅⠣⡑⠌⠄⠅\n",
      "⠀⠄⠡⠑⡐⠡⡊⢌⠆⢕⢜⠸⡘⢜⠸⡘⢌⠢⡑⠔⡡⠂⠅⠌⠠\n"
     ]
    }
   ],
   "source": [
    "ascii_arr = img2braille_arr(proc_img, dither=DITHER_MODES.FS)\n",
    "for i in range(len(ascii_arr)):\n",
    "    for j in range(len(ascii_arr[i])):\n",
    "        print(ascii_arr[i][j], sep='', end='')\n",
    "    print('\\n', end='')"
   ]
  },
  {
   "cell_type": "code",
   "execution_count": 10,
   "metadata": {},
   "outputs": [
    {
     "name": "stdout",
     "output_type": "stream",
     "text": [
      ".::;!||||}}}}}}}}|||;;::.\n",
      ":;|||}}[[[[[[[[[[[[[|||;:\n",
      ";||[[[[[[Q[Q[Q[Q[[[[[[[|;\n",
      "||[[[[[Q[QQQQQQQQ[E[[[[[|\n",
      "|[[[[[QQQQ@@@@@@QQ[E[[[[[\n",
      "[[[[[QQQ$@@@@@@@@$$[E[[[[\n",
      "}}[[[Q$$$$$@@@@@$$$[E[[[[\n",
      "[[[[[Q[$$$$$$$$$$$[E[[[[[\n",
      "||[[[[[$[$$$$$$$$[E[[[[[|\n",
      "||}[[[[[[[$[$[E[E[[[[[[[|\n",
      "!|||[[[[[[[[[[[[[[[[[[||!\n",
      "::!|||[[[[[[[[[[[[[[||!::\n"
     ]
    }
   ],
   "source": [
    "from ascii_art_conversion_mxn import quantize_grayscale_mxn\n",
    "\n",
    "brightness_shape = (2,4)\n",
    "char_to_brightness_map = generate_brightness_map(ASCII_SET, FONT, brightness_shape, normalize=True)\n",
    "ascii_arr = quantize_grayscale_mxn(proc_img, char_to_brightness_map, (brightness_shape[1], brightness_shape[0]), DITHER_MODES.FS)\n",
    "for i in range(len(ascii_arr)):\n",
    "    for j in range(len(ascii_arr[i])):\n",
    "        print(ascii_arr[i][j], sep='', end='')\n",
    "    print('\\n', end='')"
   ]
  }
 ],
 "metadata": {
  "kernelspec": {
   "display_name": "ascii_brightness_test",
   "language": "python",
   "name": "python3"
  },
  "language_info": {
   "codemirror_mode": {
    "name": "ipython",
    "version": 3
   },
   "file_extension": ".py",
   "mimetype": "text/x-python",
   "name": "python",
   "nbconvert_exporter": "python",
   "pygments_lexer": "ipython3",
   "version": "3.12.4"
  }
 },
 "nbformat": 4,
 "nbformat_minor": 2
}
