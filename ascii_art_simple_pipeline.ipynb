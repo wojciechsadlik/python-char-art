{
 "cells": [
  {
   "cell_type": "code",
   "execution_count": 1,
   "metadata": {},
   "outputs": [],
   "source": [
    "from PIL import Image, ImageEnhance, ImageOps\n",
    "import matplotlib.pyplot as plt\n",
    "import numpy as np\n",
    "import ipywidgets\n",
    "from ipywidgets import interactive, HBox, VBox\n",
    "from simple_ascii_art import img2ascii_arr, img2ascii_arr_v2\n",
    "from img_processing import preprocess_img, DITHER_MODES"
   ]
  },
  {
   "cell_type": "code",
   "execution_count": 2,
   "metadata": {},
   "outputs": [
    {
     "name": "stdout",
     "output_type": "stream",
     "text": [
      "(512, 512)\n"
     ]
    }
   ],
   "source": [
    "orig_img = Image.open(\"imgs/irad_grad.bmp\").convert(\"L\")\n",
    "\n",
    "print(orig_img.size)"
   ]
  },
  {
   "cell_type": "code",
   "execution_count": 3,
   "metadata": {},
   "outputs": [
    {
     "data": {
      "application/vnd.jupyter.widget-view+json": {
       "model_id": "f82273b9245f4eb7876678555ce29f58",
       "version_major": 2,
       "version_minor": 0
      },
      "text/plain": [
       "HBox(children=(VBox(children=(FloatSlider(value=0.5, description='scale_factor', max=1.0, min=0.01, step=0.01)…"
      ]
     },
     "metadata": {},
     "output_type": "display_data"
    }
   ],
   "source": [
    "def i_preprocess_img(scale_factor, contrast, brightness, quantize_colors, eq, dither):\n",
    "    proc_img = preprocess_img(orig_img, scale_factor, contrast, brightness, eq, quantize_colors, dither)\n",
    "\n",
    "    plt.imshow(proc_img, cmap='gray', vmin=0, vmax=255, interpolation='none')\n",
    "\n",
    "    plt.figure(figsize=(9, 3))\n",
    "    plt.xticks([x for x in range(0, len(proc_img.histogram()), 25)])\n",
    "    plt.bar([x for x in range(0, len(proc_img.histogram()))], proc_img.histogram())\n",
    "    plt.grid()\n",
    "    plt.show()\n",
    "\n",
    "    return proc_img\n",
    "\n",
    "interactive_preprocess = interactive(i_preprocess_img,\n",
    "            scale_factor=(0.01, 1, 0.01),\n",
    "            contrast=(0, 2, 0.01),\n",
    "            brightness=(0, 2, 0.01),\n",
    "            eq=(0, 1, 0.01),\n",
    "            quantize_colors=(1, 255, 1),\n",
    "            dither=DITHER_MODES)\n",
    "\n",
    "controls = VBox(interactive_preprocess.children[:-1])\n",
    "display(HBox((controls, interactive_preprocess.children[-1])))"
   ]
  },
  {
   "cell_type": "code",
   "execution_count": 9,
   "metadata": {},
   "outputs": [],
   "source": [
    "proc_img = interactive_preprocess.result\n",
    "proc_img_arr = np.array(proc_img)"
   ]
  },
  {
   "cell_type": "code",
   "execution_count": 10,
   "metadata": {},
   "outputs": [],
   "source": [
    "ascii_arr = img2ascii_arr(proc_img_arr)"
   ]
  },
  {
   "cell_type": "code",
   "execution_count": 11,
   "metadata": {},
   "outputs": [
    {
     "name": "stdout",
     "output_type": "stream",
     "text": [
      "              ..  ....::..::::;;::;;::;;::;;;;!!;;;;;;;;;;;;;;;;::;;::;;::::..::........              \n",
      "            ........::::::::;;;;;;;;;;;;;;;;!!;;;;;;!!;;;;;;!!;;;;;;;;;;;;::::::::........            \n",
      "          ....::..::::;;::;;::;;;;!!;;!!;;!!;;!!;;!!;;!!;;!!;;!!;;!!;;;;;;;;::;;::::..::....  ..      \n",
      "        ........::::::::;;;;;;;;!!!!!!!!!!!!!!!!!!!!!!!!!!!!!!!!!!!!!!;;;;;;;;::;;::::..::....        \n",
      "      ....::..::::;;::;;;;!!;;!!;;!!!!++!!++!!++!!++!!++!!++!!++!!!!!!!!;;!!;;;;::;;::::..::....      \n",
      "    ........::::;;;;;;;;!!!!!!!!!!!!++++++++++++++++++++++++++++++!!++!!!!!!!!;;;;;;;;::::..::....    \n",
      "  ....::..::::;;::!!;;!!!!!!!!++!!++++++++++++++++++++++++++++++++++!!++!!++;;!!;;!!::;;::::..::....  \n",
      "........::::;;;;;;;;!!!!!!!!++++++++++++++++++++++++++++++++++++++++++++++!!!!!!!!;;;;;;;;::::::......\n",
      "  ....::::;;;;!!;;!!!!++!!++++++++++++++++oo++oo++oo++oo++oo++++++++++++++++!!++!!!!;;!!::;;::::..::..\n",
      "....::::::;;;;;;!!!!!!++++++++++++++++++oo++oooooooooooooo++oo++++++++++++++++++!!!!!!;;;;;;;;::::....\n",
      "..::::;;::;;;;!!!!++!!++++++++++++oo++oooooooo44oo44oooooooooooo++oo++++++++++++!!++!!!!;;!!::;;::::..\n",
      "::::::::;;;;!!!!!!!!++++++++++++oooooooooooo44oo44oo44oo44oooooooooooo++++++++++++!!!!!!!!;;;;;;::::::\n",
      "..::::;;;;!!!!++!!++++++++++++oo++oooo44oo44444444444444oo44oo44oooooooo++++++++++++!!++;;!!;;;;::::::\n",
      "::::;;;;;;!!!!!!++++++++++++oooooooo44444444DD444444DD444444444444oooooooo++++++++++++!!!!!!!!;;;;::::\n",
      "::;;::!!;;!!!!++++++++++++oo++44oo4444DD44DD44DDDDDD44DD44DD44DD4444oo44oooo++++++++++++!!!!;;!!;;;;::\n",
      "::;;;;;;!!!!++++++++++++oooooooo44444444DDDDDDDDDDDDDDDDDDDDDD44DD4444oooooooo++++++++++++!!!!;;;;;;::\n",
      "::;;;;!!;;++!!++++++++oo++44oo4444DD44DDDDNNDDNNDDNNDDNNDDNNDDDD44DD4444oo44oooo++++++++!!++!!!!;;;;::\n",
      ";;;;!!!!!!!!++++++++oooooooo44444444DDDDNNNNNNNNNNNNNNNNNNNNNNDDDD44DD4444oooooo++++++++++!!!!!!;;;;;;\n",
      "::;;;;!!!!++++++++oo++oooo4444DD44DDDDNNNNQQNNQQNNQQNNQQNNQQNNNNDDDD44DD4444oooo++oo++++++++!!!!;;;;::\n",
      ";;;;!!!!++++++++++++oooo44444444DDDDNNNNNNNNQQQQQQQQQQQQQQNNNNNNNNDDDD44444444oooo++++++++++++!!!!;;;;\n",
      "::;;;;++!!++++++++oooo44oo4444DDDDNNNNQQNNQQQQ@@QQ@@QQ@@QQQQNNQQDDNNDDDD4444oo44oooo++++++++!!++;;!!;;\n",
      ";;;;!!!!++++++++++++oooo4444DDDDDDNNNNNNQQQQ@@@@@@@@@@@@QQQQQQNNNNNNNNDDDD4444oooo++++++++++++!!!!;;;;\n",
      ";;!!;;++!!++++++++oooo4444DD44DDDDNNNNQQQQ@@QQ@@@@@@@@@@QQ@@QQQQNNNNDDNN44DD4444oooo++++++++!!++!!!!;;\n",
      ";;;;!!!!++++++++++oooooo4444DDDDNNNNQQQQQQ@@@@@@@@@@@@@@@@@@QQQQQQNNNNDDDD444444oooo++++++++++!!!!;;;;\n",
      ";;!!!!++!!++++++++oooo4444DDDDNNDDNNNNQQQQ@@@@@@@@@@@@@@@@@@QQ@@NNNNDDNNDDDD4444oooo++++++++++++;;!!;;\n",
      ";;;;!!!!++++++++++oooo444444DDDDNNNNQQQQQQ@@@@@@@@@@@@@@@@@@@@QQQQNNNNDDDD444444oooooo++++++++!!!!;;;;\n",
      ";;!!;;++!!++++++++oooo4444DD44NNDDNNNNQQQQ@@@@@@@@@@@@@@@@@@QQQQNNQQDDNNDDDD4444oooo++++++++!!++!!!!;;\n",
      ";;;;!!!!++++++++++oooooo4444DDDDNNNNQQQQQQ@@@@@@@@@@@@@@@@@@QQQQQQNNNNDDDD444444oooooo++++++++!!!!;;;;\n",
      ";;!!!!++!!++++++++oooo44ooDD44NNDDNNNNQQQQ@@QQ@@@@@@@@@@QQ@@QQQQNNNNDDNN44DD4444oooo++++++++!!++;;!!;;\n",
      ";;;;!!!!++++++++++++oooo4444DDDDDDNNNNNNQQQQ@@@@@@@@@@@@QQQQQQQQNNNNNNDDDD4444oooo++++++++++++!!!!;;;;\n",
      ";;!!;;!!!!++++++++oooo44oo4444DDDDNNNNQQNNQQQQ@@QQ@@QQ@@QQQQNNQQNNNNDDDD44DDoo44oooo++++++++!!!!;;!!;;\n",
      ";;;;!!!!++++++++++++oooo44444444DDDDNNNNNNNNQQQQQQQQQQQQQQNNNNNNNNDDDDDD444444oooo++++++++++++!!!!;;;;\n",
      "::;;;;!!!!++++++++++++oooo4444DD44DDDDNNDDNNNNQQNNQQNNQQNNQQNNNNDDDD44DD4444oo44++oo++++++++!!!!;;;;::\n",
      ";;;;!!!!!!!!++++++++oooooooo44444444DDDDNNNNNNNNNNNNNNNNNNNNNNDDDDDDDD4444oooooooo++++++++!!!!!!;;;;;;\n",
      "::;;;;!!!!++!!++++++++oooo44oo4444DD44DDDDNNDDNNDDNNDDNNDDNNDDDD44DD4444oo44oooo++++++++!!++!!!!;;;;::\n",
      "::::;;;;!!!!++++++++++++oooooooo4444DD44DDDDDDDDNNDDDDDDDDDDDDDDDD4444oooooooo++++++++++++!!!!;;;;;;::\n",
      "::;;;;!!;;!!!!++++++++oo++oooo44oo4444DD44DDDDDDDDDDDDDD44DD44DD4444oo44oooo++oo++++++++!!!!;;!!::;;::\n",
      "::::;;;;;;!!!!!!++++++++++++oooooooo44444444DD44DD44DD444444444444oo44oooo++++++++++++++!!!!!!;;;;::::\n",
      "..::::;;;;!!;;++!!++++++++++++oooo44oo44oo44444444DD44444444oo44oo44oooo++oo++++++++!!++!!!!;;;;::;;..\n",
      "::::::::;;;;!!!!!!++++++++++++++oooooooooooo44444444444444oooooooooooo++++++++++++++!!!!!!;;;;;;::::::\n",
      "..::::;;::;;;;!!!!++!!++++++++oo++oo++oooooooo44oo44oo44oooooooo++oo++++++++++++!!++!!!!;;;;;;;;::::..\n",
      "....::::;;;;;;;;!!!!++++++++++++++++++++oo++oooooooooooooo++oo++++++++++++++++++!!!!!!;;;;;;;;::::....\n",
      "..::..::::;;::!!;;!!!!++!!++++++++++++++++oo++oo++oo++oo++oo++++++++++++++++!!++!!!!;;!!;;;;::::..::..\n",
      "........::::;;;;;;;;!!!!!!!!++++++++++++++++++++++++++++++++++++++++++++++!!!!!!!!;;;;;;;;::::::::....\n",
      "  ....::..::::;;::;;;;!!;;!!!!++!!++++++++++++++++++++++++++++++++++++++!!!!!!!!;;;;;;;;::::..::....  \n",
      "    ........::::;;;;;;;;!!!!!!!!!!!!++++++++++++++++++++++++++++++!!++!!!!!!!!;;;;;;;;::::::::....    \n",
      "  ..  ....::..::::;;::;;;;!!;;!!!!++!!++!!++!!++!!++!!++!!++!!++!!++!!!!;;!!;;;;::;;::::..::....  ..  \n",
      "        ......::::::;;;;;;;;;;;;!!!!!!!!!!!!!!!!++!!!!!!!!!!!!!!!!!!!!;;;;;;;;;;;;::::::::....        \n",
      "      ..  ....::..::::;;::;;;;!!;;!!;;!!;;!!!!!!;;!!!!!!;;!!;;!!;;!!;;!!::;;::;;::::..::....  ..      \n",
      "            ........::::::::;;;;;;;;;;;;;;;;!!;;!!;;!!;;!!;;!!;;;;;;;;;;;;::::::::..::....  ..        \n",
      "          ..  ....::..::..::::;;::;;::;;;;;;;;;;;;!!;;;;;;;;;;;;::;;::;;::::..::..::....  ..          \n"
     ]
    }
   ],
   "source": [
    "for i in range(len(ascii_arr)):\n",
    "    for j in range(len(ascii_arr[i])):\n",
    "        print(ascii_arr[i][j],ascii_arr[i][j], sep='', end='')\n",
    "    print('\\n', end='')"
   ]
  },
  {
   "cell_type": "code",
   "execution_count": 12,
   "metadata": {},
   "outputs": [],
   "source": [
    "ascii_arr = img2ascii_arr_v2(proc_img_arr)"
   ]
  },
  {
   "cell_type": "code",
   "execution_count": 13,
   "metadata": {},
   "outputs": [
    {
     "name": "stdout",
     "output_type": "stream",
     "text": [
      "      .:.:::::~+~+~+~+v>++v+++v+~+~+~:::::::.      \n",
      "    .:::::::~+~+vcvcvcvcvcvcvcvcvcv+++~:~:::::.    \n",
      "  .:::::~+~+vcvcvcccccccccccccccccccvcv+~+~:::::.  \n",
      ".:::::~+~>vccccccccckJkJkJkJkJk\\kcccccvcv>~+~:::::.\n",
      ".::::++>vccccckJkJkJA2AGAGAGA2AJkJkJccccccv>~+~::::\n",
      "::::~+vccccckJkJAGAGGGGGGGGGGGGGAGAJkJkcccccv>~+:::\n",
      "::~++ccccckJkJAGAGGGGGdGGGdGGGGGGGGGAJJJkcccvcv+~::\n",
      ":+~>vccccJkJAGAGGGG#dQdQQQdQdQd#dGGGGGAJkJccccv>++:\n",
      "~+vcvcc\\kJAGAGGGG#dQQQQQQQQQQQQQd#dGGGGGJJk\\cccc++~\n",
      "~+vcccc\\k2AGGGG#dQQQQQQQQQQQQQQQQQd#GGGGA2k\\ccccv+~\n",
      "~+vccckJJ2GGGGdQQQQQQQQ@Q@Q@QQQQQQQQdGGGG2JJccccv>+\n",
      "+>vccckJJGGGG#dQQQQQQ@Q@@@@@Q@QQQQQQd#GGGGJJkcccc>+\n",
      "+>cccckJJGGGG#QQQQQQQ@@@@@@@@@QQQQQQQ#GGGGAJk\\ccv>+\n",
      "+>vcc\\kJJGGGG#dQQQQQQ@@@@@@@@@QQQQQQQ#GGGGAJk\\ccc>+\n",
      "+>cccckJJ2GGG#dQQQQQQQQ@@@@@QQQQQQQQd#GGG2JJccccv>+\n",
      "+>vcccc\\J2GGGGG#QQQQQQQQQQQQQQQQQQQQG#GGG2JJccccv>+\n",
      "~+vcccc\\kJAGGGG#G#QQQQQQQQQQQQQQQQd#GGGGA2J\\cccc++~\n",
      "::+>cccccJJ2GGGGG#d#QQQQQQQQQQQQd#GGGGG2JJc\\ccc>++:\n",
      "::+>+cccc\\k2J2GGGGG#G#Q#Q#Q#G#G#GGGGG2J2k\\ccccv>~::\n",
      "::::+>vcccc\\kJJ2GGGGGGGGG#GGGGGGGGG2J2k\\ccccc>++:::\n",
      "::::~++>ccccc\\k2J2J2G2GGGGGGG2G2J2JJk\\ccccc>+++::::\n",
      "::::::~>+>ccccc\\c\\k\\J2J2J2J2J2JJJ\\c\\ccccc>+>+::::::\n",
      "  ::::::~++>vcccccc\\c\\c\\c\\c\\c\\c\\ccccccc>+++::::::  \n",
      "    ::::::~++>+>ccccccccccccccccccc>+>++~::::::    \n",
      "      ::::::::+>+>+>+>c>v>c>v>v>+>+>~:::::::: .    \n"
     ]
    }
   ],
   "source": [
    "for i in range(len(ascii_arr)):\n",
    "    for j in range(len(ascii_arr[i])):\n",
    "        print(ascii_arr[i][j], sep='', end='')\n",
    "    print('\\n', end='')"
   ]
  }
 ],
 "metadata": {
  "kernelspec": {
   "display_name": "ascii_brightness_test",
   "language": "python",
   "name": "python3"
  },
  "language_info": {
   "codemirror_mode": {
    "name": "ipython",
    "version": 3
   },
   "file_extension": ".py",
   "mimetype": "text/x-python",
   "name": "python",
   "nbconvert_exporter": "python",
   "pygments_lexer": "ipython3",
   "version": "3.12.2"
  }
 },
 "nbformat": 4,
 "nbformat_minor": 2
}
