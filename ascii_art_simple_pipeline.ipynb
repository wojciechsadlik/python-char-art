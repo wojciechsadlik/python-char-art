{
 "cells": [
  {
   "cell_type": "code",
   "execution_count": 1,
   "metadata": {},
   "outputs": [],
   "source": [
    "from PIL import Image, ImageEnhance, ImageOps\n",
    "import matplotlib.pyplot as plt\n",
    "import numpy as np\n",
    "import ipywidgets\n",
    "from ipywidgets import interactive\n",
    "from simple_ascii_art import img2ascii_arr, img2ascii_arr_v2\n",
    "from img_processing import preprocess_img"
   ]
  },
  {
   "cell_type": "code",
   "execution_count": 2,
   "metadata": {},
   "outputs": [
    {
     "name": "stdout",
     "output_type": "stream",
     "text": [
      "(512, 512)\n"
     ]
    }
   ],
   "source": [
    "orig_img = Image.open(\"imgs/irad_grad.bmp\").convert(\"RGB\")\n",
    "\n",
    "print(orig_img.size)"
   ]
  },
  {
   "cell_type": "code",
   "execution_count": 3,
   "metadata": {},
   "outputs": [
    {
     "data": {
      "application/vnd.jupyter.widget-view+json": {
       "model_id": "18fde6cb8c6442109dda6429db85672b",
       "version_major": 2,
       "version_minor": 0
      },
      "text/plain": [
       "interactive(children=(FloatSlider(value=0.5, description='scale_factor', max=1.0, min=0.01, step=0.01), FloatS…"
      ]
     },
     "metadata": {},
     "output_type": "display_data"
    }
   ],
   "source": [
    "def i_preprocess_img(scale_factor, contrast, brightness, quantize_colors, eq):\n",
    "    proc_img = preprocess_img(orig_img, scale_factor, contrast, brightness, eq, quantize_colors)\n",
    "\n",
    "    plt.imshow(proc_img, cmap='gray', vmin=0, vmax=255, interpolation='none')\n",
    "\n",
    "    plt.figure(figsize=(15, 5))\n",
    "    plt.xticks([x for x in range(0, len(proc_img.histogram()), 25)])\n",
    "    plt.bar([x for x in range(0, len(proc_img.histogram()))], proc_img.histogram())\n",
    "    plt.grid()\n",
    "    plt.show()\n",
    "\n",
    "    return proc_img\n",
    "\n",
    "interactive_preprocess = interactive(i_preprocess_img,\n",
    "            scale_factor=(0.01, 1, 0.01),\n",
    "            contrast=(0, 2, 0.01),\n",
    "            brightness=(0, 2, 0.01),\n",
    "            quantize_colors=(0, 255, 1),\n",
    "            eq=(0, 1, 0.01))\n",
    "\n",
    "display(interactive_preprocess)"
   ]
  },
  {
   "cell_type": "code",
   "execution_count": 12,
   "metadata": {},
   "outputs": [],
   "source": [
    "proc_img = interactive_preprocess.result\n",
    "proc_img_arr = np.array(proc_img)"
   ]
  },
  {
   "cell_type": "code",
   "execution_count": 13,
   "metadata": {},
   "outputs": [],
   "source": [
    "ascii_arr = img2ascii_arr(proc_img_arr)"
   ]
  },
  {
   "cell_type": "code",
   "execution_count": 14,
   "metadata": {},
   "outputs": [
    {
     "name": "stdout",
     "output_type": "stream",
     "text": [
      "      ......::::::::;;;;;;;;;;;;;;;;;;;;;;;;::::::......      \n",
      "    ......::::;;;;;;;;;;~~~~~~~~~~~~~~;;;;;;;;;;::::::....    \n",
      "  ....::::::;;;;;;~~~~~~~~~~++++++++~~~~~~~~;;;;;;::::::....  \n",
      "....::::::;;;;~~~~~~++++++++++++++++++++++~~~~~~;;;;::::::....\n",
      "....::::;;;;~~~~++++++oooooooooooooooooo++++++~~~~;;;;::::::..\n",
      "..::::;;;;~~~~++++++oooooooooooooooooooooooo++++~~~~;;;;::::..\n",
      "::::;;;;~~~~++++ooooooXXXXXXXXXXXXXXXXXXoooooo++++~~~~;;;;::::\n",
      "::;;;;~~~~++++ooooooXXXXXXDDDDDDDDDDXXXXXXXXoooo++++~~~~;;;;::\n",
      "::;;;;~~++++ooooXXXXXXDDDDDDDDDDDDDDDDDDXXXXXXoooo++++~~;;;;::\n",
      ";;;;~~~~++ooooXXXXXXDDDDDDNNNNNNNNNNDDDDDDXXXXXXoooo++~~~~;;;;\n",
      ";;;;~~++++ooooXXXXDDDDNNNNNNNNNNNNNNNNNNDDDDXXXXoooo++++~~;;;;\n",
      ";;;;~~++ooooooXXDDDDDDNNNNNNNNQQNNNNNNNNNNDDDDXXXXoooo++~~;;;;\n",
      ";;~~~~++ooooXXXXDDDDNNNNNNQQQQQQQQQQNNNNNNDDDDDDXXoooo++~~~~;;\n",
      ";;~~~~++ooooXXDDDDNNNNNNQQQQQQQQQQQQQQNNNNNNDDDDXXoooo++++~~;;\n",
      ";;~~++++ooooXXDDDDNNNNNNQQQQ@@@@@@QQQQQQNNNNDDDDXXXXoo++++~~;;\n",
      ";;~~++++ooooXXDDDDNNNNQQQQQQ@@@@@@@@QQQQNNNNDDDDXXoooo++++~~;;\n",
      ";;~~++++ooooXXDDDDNNNNNNQQQQ@@@@@@@@QQNNNNNNDDDDXXXXoo++++~~;;\n",
      ";;~~++++ooooXXDDDDNNNNNNQQQQQQ@@QQQQQQNNNNNNDDDDXXoooo++++~~;;\n",
      ";;~~~~++ooooXXXXDDDDNNNNNNQQQQQQQQQQNNNNNNNNDDDDXXoooo++++~~;;\n",
      ";;;;~~++ooooXXXXDDDDNNNNNNNNNNQQQQNNNNNNNNDDDDXXXXoooo++~~~~;;\n",
      ";;;;~~++++ooooXXXXDDDDNNNNNNNNNNNNNNNNNNDDDDXXXXoooo++++~~;;;;\n",
      ";;;;~~~~++ooooXXXXXXDDDDDDNNNNNNNNNNDDDDDDDDXXXXoooo++~~~~;;;;\n",
      "::;;;;~~++++ooooXXXXXXDDDDDDDDDDDDDDDDDDXXXXXXoooo++++~~;;;;::\n",
      "::;;;;~~~~++++ooooXXXXXXXXDDDDDDDDDDDDXXXXXXoooo++++~~~~;;;;::\n",
      "::::;;;;~~~~++++ooooooXXXXXXXXXXXXXXXXXXoooooo++++~~~~;;;;::::\n",
      "..::::;;;;~~~~++++ooooooooooXXooXXoooooooooo++++~~~~;;;;::::..\n",
      "..::::::;;;;~~~~++++++oooooooooooooooooo++++++~~~~;;;;;;::::..\n",
      "....::::::;;;;~~~~~~++++++++++++++++++++++~~~~~~;;;;;;::::....\n",
      "  ....::::::;;;;;;~~~~~~~~++++++++++~~~~~~~~;;;;;;;;::::....  \n",
      "    ....::::::;;;;;;;;~~~~~~~~~~~~~~~~~~;;;;;;;;::::::......  \n",
      "      ....::::::::;;;;;;;;;;;;;;;;;;;;;;;;;;::::::::......    \n"
     ]
    }
   ],
   "source": [
    "for i in range(len(ascii_arr)):\n",
    "    for j in range(len(ascii_arr[i])):\n",
    "        print(ascii_arr[i][j],ascii_arr[i][j], sep='', end='')\n",
    "    print('\\n', end='')"
   ]
  },
  {
   "cell_type": "code",
   "execution_count": 15,
   "metadata": {},
   "outputs": [],
   "source": [
    "ascii_arr = img2ascii_arr_v2(proc_img_arr)"
   ]
  },
  {
   "cell_type": "code",
   "execution_count": 16,
   "metadata": {},
   "outputs": [
    {
     "name": "stdout",
     "output_type": "stream",
     "text": [
      "   .:::~~+++vvvvvvv+++~~:::.   \n",
      " .::~~+vvccckkkkkkkcccvv++~::. \n",
      "::~++vcckJJJAAAAAAAJJJkccv++~::\n",
      ":~+vcckJJAGGGdddddGGGAJJkccv+~:\n",
      "~+vckJJAGGdQQQQQQQQQdGGAJJkcv++\n",
      "++ccJJGGdQQQQQQQQQQQQQdGGJJkc++\n",
      "+ccJJGGdQQQQQQQQQQQQQQQQGGJJcc+\n",
      "+ccJJGGQQQQQQ@@@@@QQQQQQGGJJcc+\n",
      "+ccJJGGQQQQQQ@@@@@QQQQQQGGJJcc+\n",
      "+>c\\J2GGQQQQQQQQQQQQQQQ#G2JJcc+\n",
      "++ccJJ2GG#QQQQQQQQQQQQGG2JJcc++\n",
      ":++cc\\JJ2GG##QQQQQQ#GGG2JJcc++:\n",
      "::++>cc\\JJ22GGGGGGG22JJJ\\c>++::\n",
      " :::++>cc\\\\JJJJJJJJJ\\\\cc>++::: \n",
      "   ::::++>>ccccccccc>>++::::   \n"
     ]
    }
   ],
   "source": [
    "for i in range(len(ascii_arr)):\n",
    "    for j in range(len(ascii_arr[i])):\n",
    "        print(ascii_arr[i][j], sep='', end='')\n",
    "    print('\\n', end='')"
   ]
  }
 ],
 "metadata": {
  "kernelspec": {
   "display_name": "ascii_brightness_test",
   "language": "python",
   "name": "python3"
  },
  "language_info": {
   "codemirror_mode": {
    "name": "ipython",
    "version": 3
   },
   "file_extension": ".py",
   "mimetype": "text/x-python",
   "name": "python",
   "nbconvert_exporter": "python",
   "pygments_lexer": "ipython3",
   "version": "3.12.2"
  }
 },
 "nbformat": 4,
 "nbformat_minor": 2
}
