{
 "cells": [
  {
   "cell_type": "code",
   "execution_count": 1,
   "metadata": {},
   "outputs": [],
   "source": [
    "from PIL import Image\n",
    "import matplotlib.pyplot as plt\n",
    "import numpy as np\n",
    "import ipywidgets\n",
    "from ipywidgets import interactive, HBox, VBox\n",
    "from simple_ascii_art import img2ascii_arr, img2ascii_arr_v2\n",
    "from img_processing import preprocess_img, DITHER_MODES\n",
    "from braille_art import img2braille_arr"
   ]
  },
  {
   "cell_type": "code",
   "execution_count": 2,
   "metadata": {},
   "outputs": [
    {
     "name": "stdout",
     "output_type": "stream",
     "text": [
      "(512, 512)\n"
     ]
    }
   ],
   "source": [
    "orig_img = Image.open(\"imgs/irad_grad.bmp\").convert(\"L\")\n",
    "\n",
    "print(orig_img.size)"
   ]
  },
  {
   "cell_type": "code",
   "execution_count": 3,
   "metadata": {},
   "outputs": [
    {
     "data": {
      "application/vnd.jupyter.widget-view+json": {
       "model_id": "981ae58ccdf7480f87fe6ed5c43612ca",
       "version_major": 2,
       "version_minor": 0
      },
      "text/plain": [
       "HBox(children=(VBox(children=(FloatSlider(value=0.5, description='scale_factor', max=1.0, min=0.01, step=0.01)…"
      ]
     },
     "metadata": {},
     "output_type": "display_data"
    }
   ],
   "source": [
    "def i_preprocess_img(scale_factor, contrast, brightness, quantize_colors, eq, dither):\n",
    "    proc_img = preprocess_img(orig_img, scale_factor, contrast, brightness, eq, quantize_colors, dither)\n",
    "    plt.imshow(proc_img, cmap='gray', vmin=0, vmax=255, interpolation='none')\n",
    "\n",
    "    plt.figure(figsize=(9, 3))\n",
    "    plt.xticks([x for x in range(0, len(proc_img.histogram()), 25)])\n",
    "    plt.bar([x for x in range(0, len(proc_img.histogram()))], proc_img.histogram())\n",
    "    plt.grid()\n",
    "    plt.show()\n",
    "\n",
    "    return proc_img\n",
    "\n",
    "interactive_preprocess = interactive(i_preprocess_img,\n",
    "            scale_factor=(0.01, 1, 0.01),\n",
    "            contrast=(0, 2, 0.01),\n",
    "            brightness=(0, 2, 0.01),\n",
    "            eq=(0, 1, 0.01),\n",
    "            quantize_colors=(1, 255, 1),\n",
    "            dither=DITHER_MODES)\n",
    "\n",
    "controls = VBox(interactive_preprocess.children[:-1])\n",
    "display(HBox((controls, interactive_preprocess.children[-1])))"
   ]
  },
  {
   "cell_type": "code",
   "execution_count": 11,
   "metadata": {},
   "outputs": [],
   "source": [
    "proc_img = interactive_preprocess.result"
   ]
  },
  {
   "cell_type": "code",
   "execution_count": 12,
   "metadata": {},
   "outputs": [],
   "source": [
    "ascii_arr = img2ascii_arr(proc_img, scale_vertically=True)"
   ]
  },
  {
   "cell_type": "code",
   "execution_count": 13,
   "metadata": {},
   "outputs": [
    {
     "name": "stdout",
     "output_type": "stream",
     "text": [
      " ...::;;;;!!!!!!;;;;:::.. \n",
      "..::;;!!!!++++++!!!!;;:::.\n",
      "::;;!!+++oooooooo+++!!;;::\n",
      ":;!!++oo4444DD4444oo++!!;:\n",
      ";;!++oo44DDNNNNDDD44o++!!;\n",
      ";!!+oo4DDNNQQQQNNDD4oo++!;\n",
      ";!++o44DDNQQ@@QQNND44o++!;\n",
      ";!!+oo4DDNNQQQQNNDD4oo++!;\n",
      ";!!++oo4DDDNNNNDDD44o++!!;\n",
      ":;!!++oo4444DD4444oo++!!;:\n",
      "::;;!!++oooooooooo++!!;;::\n",
      ".:::;;!!!++++++++!!!;;:::.\n",
      " ..:::;;;;!!!!!!;;;;:::.. \n"
     ]
    }
   ],
   "source": [
    "for i in range(len(ascii_arr)):\n",
    "    for j in range(len(ascii_arr[i])):\n",
    "        print(ascii_arr[i][j], sep='', end='')\n",
    "    print('\\n', end='')"
   ]
  },
  {
   "cell_type": "code",
   "execution_count": 14,
   "metadata": {},
   "outputs": [],
   "source": [
    "ascii_arr = img2ascii_arr_v2(proc_img)"
   ]
  },
  {
   "cell_type": "code",
   "execution_count": 15,
   "metadata": {},
   "outputs": [
    {
     "name": "stdout",
     "output_type": "stream",
     "text": [
      "  .::~;;;LLLLLLLL;;;~::.  \n",
      ".::~;LL++oooooooo++LL;;~:.\n",
      ":~;L++oiiiwwwwwwiiio++L;~:\n",
      ";;L+oiiw666&&&&666wiio+L;;\n",
      ";L+oii66&dddddddd&66iio+L;\n",
      ";++ii66&ddQQQQQQddd66ii++;\n",
      ";++ii66ddQQ@@@@QQdd66ii++;\n",
      ";++ii66GdWQQQQQQWdd66ii++;\n",
      ";!+1ii66GddWWWWddG66ii1+!;\n",
      ";;!+1iiZ66GGGGGG66Zii1+!;;\n",
      "::;!++1iiiZZZZZZiii1++!;::\n",
      " ::;;!!++11111111++!!;;:::\n",
      "   :::;;;!!!!!!!!;;;::::  \n"
     ]
    }
   ],
   "source": [
    "for i in range(len(ascii_arr)):\n",
    "    for j in range(len(ascii_arr[i])):\n",
    "        print(ascii_arr[i][j], sep='', end='')\n",
    "    print('\\n', end='')"
   ]
  },
  {
   "cell_type": "code",
   "execution_count": 16,
   "metadata": {},
   "outputs": [],
   "source": [
    "ascii_arr = img2braille_arr(proc_img, dither=DITHER_MODES.BAYER)"
   ]
  },
  {
   "cell_type": "code",
   "execution_count": 17,
   "metadata": {},
   "outputs": [
    {
     "name": "stdout",
     "output_type": "stream",
     "text": [
      "⠀⠀⠠⠠⠠⠨⡠⡨⡠⠀⠀⠀⠀\n",
      "⠀⠨⡨⡪⣪⣺⣪⣺⣪⡪⡠⠀⠀\n",
      "⠠⠨⣪⣺⣾⣿⣿⣿⣾⣺⡪⡪⠀\n",
      "⠨⠪⣪⣺⣿⣿⣿⣿⣿⣻⡪⡪⠠\n",
      "⠀⠨⡨⡺⣺⣻⣿⣿⣺⡺⡪⠪⠀\n",
      "⠀⠈⠨⠪⠪⠺⡪⠺⠪⠪⠨⠈⠀\n"
     ]
    }
   ],
   "source": [
    "for i in range(len(ascii_arr)):\n",
    "    for j in range(len(ascii_arr[i])):\n",
    "        print(ascii_arr[i][j], sep='', end='')\n",
    "    print('\\n', end='')"
   ]
  }
 ],
 "metadata": {
  "kernelspec": {
   "display_name": "ascii_brightness_test",
   "language": "python",
   "name": "python3"
  },
  "language_info": {
   "codemirror_mode": {
    "name": "ipython",
    "version": 3
   },
   "file_extension": ".py",
   "mimetype": "text/x-python",
   "name": "python",
   "nbconvert_exporter": "python",
   "pygments_lexer": "ipython3",
   "version": "3.12.3"
  }
 },
 "nbformat": 4,
 "nbformat_minor": 2
}
