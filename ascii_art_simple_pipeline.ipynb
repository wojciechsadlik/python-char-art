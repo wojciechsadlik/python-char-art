{
 "cells": [
  {
   "cell_type": "code",
   "execution_count": 1,
   "metadata": {},
   "outputs": [],
   "source": [
    "from PIL import Image\n",
    "import matplotlib.pyplot as plt\n",
    "import numpy as np\n",
    "import ipywidgets\n",
    "from ipywidgets import interactive, HBox, VBox\n",
    "from simple_ascii_art import img2ascii_arr, img2ascii_arr_v2\n",
    "from img_processing import preprocess_img, DITHER_MODES\n",
    "from braille_art import img2braille_arr"
   ]
  },
  {
   "cell_type": "code",
   "execution_count": 2,
   "metadata": {},
   "outputs": [
    {
     "name": "stdout",
     "output_type": "stream",
     "text": [
      "(512, 512)\n"
     ]
    }
   ],
   "source": [
    "orig_img = Image.open(\"imgs/irad_grad.bmp\").convert(\"L\")\n",
    "\n",
    "print(orig_img.size)"
   ]
  },
  {
   "cell_type": "code",
   "execution_count": 3,
   "metadata": {},
   "outputs": [
    {
     "data": {
      "application/vnd.jupyter.widget-view+json": {
       "model_id": "cf241a24d08145d892190f484a89ea4a",
       "version_major": 2,
       "version_minor": 0
      },
      "text/plain": [
       "HBox(children=(VBox(children=(FloatSlider(value=0.5, description='scale_factor', max=1.0, min=0.01, step=0.01)…"
      ]
     },
     "metadata": {},
     "output_type": "display_data"
    }
   ],
   "source": [
    "def i_preprocess_img(scale_factor, contrast, brightness, quantize_colors, eq, dither):\n",
    "    proc_img = preprocess_img(orig_img, scale_factor, contrast, brightness, eq, quantize_colors, dither)\n",
    "    plt.imshow(proc_img, cmap='gray', vmin=0, vmax=255, interpolation='none')\n",
    "\n",
    "    plt.figure(figsize=(9, 3))\n",
    "    plt.xticks([x for x in range(0, len(proc_img.histogram()), 25)])\n",
    "    plt.bar([x for x in range(0, len(proc_img.histogram()))], proc_img.histogram())\n",
    "    plt.grid()\n",
    "    plt.show()\n",
    "\n",
    "    return proc_img\n",
    "\n",
    "interactive_preprocess = interactive(i_preprocess_img,\n",
    "            scale_factor=(0.01, 1, 0.01),\n",
    "            contrast=(0, 2, 0.01),\n",
    "            brightness=(0, 2, 0.01),\n",
    "            eq=(0, 1, 0.01),\n",
    "            quantize_colors=(1, 255, 1),\n",
    "            dither=DITHER_MODES)\n",
    "\n",
    "controls = VBox(interactive_preprocess.children[:-1])\n",
    "display(HBox((controls, interactive_preprocess.children[-1])))"
   ]
  },
  {
   "cell_type": "code",
   "execution_count": 18,
   "metadata": {},
   "outputs": [],
   "source": [
    "proc_img = interactive_preprocess.result"
   ]
  },
  {
   "cell_type": "code",
   "execution_count": 19,
   "metadata": {},
   "outputs": [],
   "source": [
    "ascii_arr = img2ascii_arr(proc_img, scale_vertically=True)"
   ]
  },
  {
   "cell_type": "code",
   "execution_count": 20,
   "metadata": {},
   "outputs": [
    {
     "name": "stdout",
     "output_type": "stream",
     "text": [
      "     . . . o . o .        \n",
      "   . o o o +!o!+!o .      \n",
      "   o o!o!+!Qo+oQo+!o .    \n",
      "   o!oo+oQ4@4Q4@+Qo+!o .  \n",
      " . oo+oQ4@@@@@@@4@+Qoo!o .\n",
      " o oo@o@@@@@@@@@@@4@oooo +\n",
      " o+oooo@@@@@@@@@@@@@oooo  \n",
      " !.oo@o@Q@@@@@@@Q@+@oooo +\n",
      "   o 4o@+@Q@@@@@+@o@oooo  \n",
      "   o++o4o@+@Q@Q@o@o4oo.o  \n",
      "   !.oo+o4o@+4o@o4o+.o !  \n",
      "     !.o.!.4o+.4.!.o !    \n",
      "       +   !.+ !   +      \n"
     ]
    }
   ],
   "source": [
    "for i in range(len(ascii_arr)):\n",
    "    for j in range(len(ascii_arr[i])):\n",
    "        print(ascii_arr[i][j], sep='', end='')\n",
    "    print('\\n', end='')"
   ]
  },
  {
   "cell_type": "code",
   "execution_count": 21,
   "metadata": {},
   "outputs": [],
   "source": [
    "ascii_arr = img2ascii_arr_v2(proc_img)"
   ]
  },
  {
   "cell_type": "code",
   "execution_count": 22,
   "metadata": {},
   "outputs": [
    {
     "name": "stdout",
     "output_type": "stream",
     "text": [
      "           ^   ^          \n",
      "     ^ ^ ^ ^_^_^_^        \n",
      "   ^ ^_^_^_@_^_@_^_^      \n",
      "   ^_^_^_@_@_@_@_@_^_^    \n",
      "   ^_^_@_@@@@@@@_@_@_^_^  \n",
      " ^ ^_@_@@@@@@@@@@@_@_^_^ ^\n",
      " ^_^_^_@@@@@@@@@@@@@_^_^  \n",
      " ^ ^_@_@@@@@@@@@@@_@_^_^ ^\n",
      "   ^ ^_@_@@@@@@@_@_@_^_^  \n",
      "   ^_^_^_@_@@@@@_@_^_^ ^  \n",
      "   ^ ^_^_^_@_^_@_^_^ ^ ^  \n",
      "     ^ ^ ^ ^_^ ^ ^ ^ ^    \n",
      "       ^   ^ ^ ^   ^      \n"
     ]
    }
   ],
   "source": [
    "for i in range(len(ascii_arr)):\n",
    "    for j in range(len(ascii_arr[i])):\n",
    "        print(ascii_arr[i][j], sep='', end='')\n",
    "    print('\\n', end='')"
   ]
  },
  {
   "cell_type": "code",
   "execution_count": 23,
   "metadata": {},
   "outputs": [],
   "source": [
    "ascii_arr = img2braille_arr(proc_img)"
   ]
  },
  {
   "cell_type": "code",
   "execution_count": 24,
   "metadata": {},
   "outputs": [
    {
     "name": "stdout",
     "output_type": "stream",
     "text": [
      "⠀⠀⠠⠠⠠⠨⡠⡨⡠⠀⠀⠀⠀\n",
      "⠀⠨⡨⡪⣪⣺⣪⣺⣪⡪⡠⠀⠀\n",
      "⠠⠨⣪⣺⣾⣿⣿⣿⣾⣺⡪⡪⠠\n",
      "⠨⠪⣪⣺⣿⣿⣿⣿⣿⣻⡪⡪⠠\n",
      "⠀⠨⡨⡺⣺⣻⣿⣿⣺⡺⡪⠪⠀\n",
      "⠀⠈⠨⠪⠪⠺⡪⠺⠪⠪⠨⠈⠀\n"
     ]
    }
   ],
   "source": [
    "for i in range(len(ascii_arr)):\n",
    "    for j in range(len(ascii_arr[i])):\n",
    "        print(ascii_arr[i][j], sep='', end='')\n",
    "    print('\\n', end='')"
   ]
  }
 ],
 "metadata": {
  "kernelspec": {
   "display_name": "ascii_brightness_test",
   "language": "python",
   "name": "python3"
  },
  "language_info": {
   "codemirror_mode": {
    "name": "ipython",
    "version": 3
   },
   "file_extension": ".py",
   "mimetype": "text/x-python",
   "name": "python",
   "nbconvert_exporter": "python",
   "pygments_lexer": "ipython3",
   "version": "3.12.2"
  }
 },
 "nbformat": 4,
 "nbformat_minor": 2
}
