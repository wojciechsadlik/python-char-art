{
 "cells": [
  {
   "cell_type": "code",
   "execution_count": 1,
   "metadata": {},
   "outputs": [],
   "source": [
    "from PIL import Image, ImageEnhance, ImageOps\n",
    "import matplotlib.pyplot as plt\n",
    "import numpy as np\n",
    "import ipywidgets\n",
    "from ipywidgets import interactive, HBox, VBox\n",
    "from simple_ascii_art import img2ascii_arr, img2ascii_arr_v2\n",
    "from img_processing import preprocess_img, DITHER_MODES"
   ]
  },
  {
   "cell_type": "code",
   "execution_count": 2,
   "metadata": {},
   "outputs": [
    {
     "name": "stdout",
     "output_type": "stream",
     "text": [
      "(512, 512)\n"
     ]
    }
   ],
   "source": [
    "orig_img = Image.open(\"imgs/irad_grad.bmp\").convert(\"L\")\n",
    "\n",
    "print(orig_img.size)"
   ]
  },
  {
   "cell_type": "code",
   "execution_count": 3,
   "metadata": {},
   "outputs": [
    {
     "data": {
      "application/vnd.jupyter.widget-view+json": {
       "model_id": "1bd1cb48395945dc882e3738bd362d9e",
       "version_major": 2,
       "version_minor": 0
      },
      "text/plain": [
       "HBox(children=(VBox(children=(FloatSlider(value=0.5, description='scale_factor', max=1.0, min=0.01, step=0.01)…"
      ]
     },
     "metadata": {},
     "output_type": "display_data"
    }
   ],
   "source": [
    "def i_preprocess_img(scale_factor, contrast, brightness, quantize_colors, eq, dither):\n",
    "    proc_img = preprocess_img(orig_img, scale_factor, contrast, brightness, eq, quantize_colors, dither)\n",
    "\n",
    "    plt.imshow(proc_img, cmap='gray', vmin=0, vmax=255, interpolation='none')\n",
    "\n",
    "    plt.figure(figsize=(9, 3))\n",
    "    plt.xticks([x for x in range(0, len(proc_img.histogram()), 25)])\n",
    "    plt.bar([x for x in range(0, len(proc_img.histogram()))], proc_img.histogram())\n",
    "    plt.grid()\n",
    "    plt.show()\n",
    "\n",
    "    return proc_img\n",
    "\n",
    "interactive_preprocess = interactive(i_preprocess_img,\n",
    "            scale_factor=(0.01, 1, 0.01),\n",
    "            contrast=(0, 2, 0.01),\n",
    "            brightness=(0, 2, 0.01),\n",
    "            eq=(0, 1, 0.01),\n",
    "            quantize_colors=(1, 255, 1),\n",
    "            dither=DITHER_MODES)\n",
    "\n",
    "controls = VBox(interactive_preprocess.children[:-1])\n",
    "display(HBox((controls, interactive_preprocess.children[-1])))"
   ]
  },
  {
   "cell_type": "code",
   "execution_count": 9,
   "metadata": {},
   "outputs": [],
   "source": [
    "proc_img = interactive_preprocess.result\n",
    "proc_img_arr = np.array(proc_img)"
   ]
  },
  {
   "cell_type": "code",
   "execution_count": 10,
   "metadata": {},
   "outputs": [],
   "source": [
    "ascii_arr = img2ascii_arr(proc_img_arr)"
   ]
  },
  {
   "cell_type": "code",
   "execution_count": 11,
   "metadata": {},
   "outputs": [
    {
     "name": "stdout",
     "output_type": "stream",
     "text": [
      "      ..........::::::::::::;;::;;;;;;;;;;;;;;;;;;;;;;;;;;;;;;;;;;;;;;::;;::::::::::..::......  ..    \n",
      "  ..........::::::::::;;;;;;;;;;;;;;;;!!;;!!!!!!!!!!!!!!!!!!;;!!;;;;;;;;;;;;;;;;::::::::::........    \n",
      "  ........::::::::::;;::;;;;;;;;!!!!;;!!!!!!!!!!!!!!!!!!;;!!!!!!!!;;!!;;;;;;;;;;::;;::::::::::........\n",
      "......::::::::::;;;;;;;;;;;;!!!!;;!!!!!!!!!!!!!!!!!!!!!!!!!!!!!!!!!!!!!!!!;;;;;;;;;;::::::::..::......\n",
      "......::..::::;;::;;;;;;!!;;!!!!!!!!!!!!++!!++!!++!!++++++!!++!!!!!!!!!!;;!!;;!!;;;;;;;;::::::::......\n",
      "....::::::::;;;;;;;;;;!!;;!!!!!!!!++!!++++!!++++++++++++!!++++!!++!!!!!!!!!!!!;;;;;;;;;;;;::::::::::..\n",
      "..::::::::;;;;;;;;;;!!!!!!!!!!++!!++++++++++++++++++++++++++++++++++++!!++!!!!!!!!;;;;;;;;::;;::::..::\n",
      "..::::::;;::;;;;;;!!!!!!!!++!!++++++++++++oo++oo++oo++oo++oo++++++++++++!!++!!!!!!!!;;;;;;;;::::::::..\n",
      "::::::;;;;;;;;;;!!!!!!!!!!++++++++++++oo++oooooooooooooooo++oooo++++++++++!!++!!!!!!!!;;;;;;;;;;::::::\n",
      "::::::;;;;;;;;!!!!!!!!++++++++++++oooooooooooooooooooooooooooooooo++oo++++++++!!!!!!!!!!;;!!;;::;;::::\n",
      "::::;;::;;;;!!!!!!!!!!++!!++++oooo++oooooooooooooooo44oooooooooooooo++oo++++++++++!!!!!!!!;;;;;;;;::::\n",
      "::;;;;;;;;!!!!!!!!++++++++++oo++oooooooo44oo44444444oo444444oooooooooooooo++++++!!++!!!!!!;;;;;;;;;;::\n",
      "::::;;;;!!;;!!!!!!++!!++oo++oooooo44oo4444444444444444444444444444oooooooo++oo++++++!!!!!!!!!!;;;;::;;\n",
      ";;;;;;;;!!!!!!!!++++++++oooooooooo444444444444444444DD4444444444oo4444oooooo++oo++++++!!!!!!;;!!;;;;::\n",
      "::;;;;!!;;!!!!++++++++oooooooo4444oo44444444DDDDDDDD44DD44DD44444444oo44oooooo++++++++++!!!!!!;;;;;;;;\n",
      ";;;;;;!!!!!!++!!++++oo++oooooo44444444DDDDDD44DDDDDDDDDDDD44DD44DD4444oo44oooooooo++++++++!!!!!!;;;;;;\n",
      ";;;;;;!!!!!!++++++++oooooo44oo444444DD44DDDDDDDDDDDDDDDDDDDDDDDD4444444444oooooooo++++++!!!!!!!!!!;;;;\n",
      ";;;;!!!!!!!!++++++oooooooo44444444DD44DDDDDDDDNNDDNNDDNNDDDDDDDDDDDD44444444oooooooo++++++++!!!!;;;;;;\n",
      ";;;;!!!!!!++!!++++oooooooo44444444DDDDDDDDNNNNNNNNNNNNNNNNNNDDDDDDDD44DD4444oooooooo++++++!!!!!!!!;;;;\n",
      ";;;;!!!!!!++++++oooooooo444444DDDDDDDDNNDDNNNNNNNNNNNNNNNNNNNNDDDDDDDD44444444oooooooo++++++!!!!!!!!;;\n",
      ";;!!;;!!!!++++++oo++oo44oo444444DDDDDDNNNNNNNNNNNNQQNNNNNNNNNNNNDDDDDDDD44444444oooo++++++++++!!!!;;;;\n",
      ";;!!!!!!++!!++++oooooo444444DDDDDDDDNNDDNNNNQQQQQQQQQQQQNNNNNNNNDDNNDDDD444444oooooooooo++++!!!!!!!!;;\n",
      ";;!!!!!!++++++oooooooo44444444DDDDDDNNNNNNNNQQNNQQQQQQQQQQNNNNNNNNDDDDDDDD444444oooooo++++++++!!!!!!;;\n",
      ";;;;!!!!!!++++++oooooo444444DDDDDDDDNNNNNNQQQQQQQQQQQQQQQQQQQQNNNNDDDDDD44DD4444oooooooo++++!!!!!!!!;;\n",
      ";;!!!!!!++++++oo++oo44oo4444DDDDDDNNNNNNQQNNQQQQ@@@@@@QQQQQQNNNNNNNNDDDDDD44444444oooo++++++++!!!!!!;;\n",
      ";;!!!!!!++++++oooooooo444444DDDDDDDDNNNNNNQQQQ@@QQ@@@@QQQQQQQQNNNNDDNNDDDD444444oooooooo++++++!!!!!!;;\n",
      ";;!!!!!!++++++++oooo44oo44DD44DDDDNNNNNNQQQQQQQQ@@@@QQ@@QQQQNNNNNNNNDDDD44DD4444oooooo++++++!!++!!!!;;\n",
      ";;!!!!!!!!++++oo++oooo444444DDDDDDDDNNNNNNQQQQQQQQQQ@@QQQQQQNNNNNNDDDDDDDD444444oooooooo++++++!!!!;;!!\n",
      ";;!!!!!!++++++++oooo44oo444444DDDDDDNNNNNNNNQQQQQQQQQQQQNNQQNNNNNNNNDDDD44444444oooooo++++++!!!!!!!!;;\n",
      ";;;;!!!!!!++++++oooooo444444DDDDDDDDNNNNNNNNNNQQQQQQQQQQNNNNNNNNDDDDDDDDDD444444oooooooo++++++!!!!;;!!\n",
      ";;!!!!!!!!++++++oooooooo44444444DDDDDDNNNNNNNNNNQQNNNNNNQQNNNNNNDDNNDD44444444oooooooo++++++!!!!!!!!;;\n",
      ";;;;!!!!!!++++++++oooooo444444DDDDDDDDDDNNNNNNNNNNNNQQNNNNNNDDNNDDDDDD44DD4444oooooo++++++++!!!!!!;;;;\n",
      ";;;;!!!!!!!!++++oo++oooo44oo444444DDDDDDDDDDNNNNNNNNNNNNDDNNDDDDDDDD44DD44oo44oooooooo++++!!++!!!!;;;;\n",
      ";;;;!!!!!!++++++++oooooooo444444DD44DDDDDDNNDDNNDDNNDDNNDDDDDDDDDD4444444444oooooooo++++++!!!!!!;;!!;;\n",
      ";;;;;;!!!!!!!!++++++oooooo44oo444444DDDDDDDDDDDDDDDDDDDDDDDDDDDDDD44444444oooooooo++++++++!!!!!!;;;;;;\n",
      ";;;;;;!!!!!!++!!++++oooooooo44oo44444444DD44DDDDDDDDDDDDDDDDDD4444444444oo44oooo++oo++++!!!!!!!!;;;;;;\n",
      "::;;;;;;!!!!!!++++++++++oooooo444444444444DD44DDDDDDDDDD44DD4444444444oooooooooo++++++!!++!!!!;;!!;;;;\n",
      ";;;;;;!!;;!!!!!!++++++oo++oooooooo4444444444444444444444444444444444oo44oooo++++++++++!!!!!!!!;;;;;;::\n",
      "::;;;;;;!!!!!!!!++!!++++++oooooooooooo44444444444444444444444444oo44oooooo++oo++++++!!++!!!!;;;;;;;;::\n",
      "::::;;;;;;;;!!!!!!++++++++++++oooooooooo44oo4444444444444444oo44oooooooo++oo++++++!!++!!!!;;!!;;;;::;;\n",
      "::::;;;;;;;;!!!!!!!!!!++++++oo++oooooooooooooo44oo44oooooooooooooooooo++oo++++++!!++!!;;!!;;;;;;;;::::\n",
      "::::::;;;;;;;;!!!!!!!!++++++++++++oooooooooooooooooooooo44oooooooo++++++++++++!!!!!!!!!!;;!!;;;;::::::\n",
      "::::::::;;;;;;;;!!!!!!!!!!++++++++++++oo++oooooooooooooooo++oo++oo++oo++++++!!++!!!!!!;;;;;;;;::;;::::\n",
      "..::::;;::;;;;;;;;!!!!!!!!!!++++++++++++++oo++++oo++oo++++oo++++++++++++!!!!!!!!!!;;!!;;;;;;::::::::..\n",
      "..::::::::;;;;;;;;;;!!!!!!!!!!!!++++++++++++++++++++++++++++++++++++!!++!!++!!!!!!;;;;;;;;;;::;;::::..\n",
      "....::::::::;;;;;;;;;;!!;;!!!!!!!!!!++!!++++++++++++++++++++++++!!++!!!!!!!!!!;;;;!!;;;;::::::::..::..\n",
      "....::..::::::::;;;;;;;;!!!!!!!!!!!!!!++!!++!!++!!++++!!++!!++!!!!!!!!!!!!;;!!;;;;;;;;::;;::::::......\n",
      "......::::::::;;::;;;;;;;;;;;;!!!!!!!!!!!!!!!!!!++!!!!!!!!!!!!!!!!!!!!!!;;!!;;;;;;;;::;;::::::..::....\n",
      "  ........::::::::;;::;;;;;;!!;;;;!!;;!!!!!!!!!!!!!!!!!!!!!!!!!!!!;;!!;;;;;;;;;;;;::::::::::..........\n",
      "  ..........::::::::;;::;;;;;;;;;;;;!!;;!!;;!!!!;;!!!!!!!!;;!!;;;;!!;;;;;;;;;;::::;;::::::..::......  \n",
      "    ..........::::::::::::;;::;;;;;;;;;;;;;;;;;;!!;;;;;;;;!!;;;;;;;;;;;;;;::;;::::::::..::......      \n"
     ]
    }
   ],
   "source": [
    "for i in range(len(ascii_arr)):\n",
    "    for j in range(len(ascii_arr[i])):\n",
    "        print(ascii_arr[i][j],ascii_arr[i][j], sep='', end='')\n",
    "    print('\\n', end='')"
   ]
  },
  {
   "cell_type": "code",
   "execution_count": 12,
   "metadata": {},
   "outputs": [],
   "source": [
    "ascii_arr = img2ascii_arr_v2(proc_img_arr)"
   ]
  },
  {
   "cell_type": "code",
   "execution_count": 13,
   "metadata": {},
   "outputs": [
    {
     "name": "stdout",
     "output_type": "stream",
     "text": [
      "      ..:::~~~+~+++v+vvvvvvvvv+v+++~+~~~::.:.      \n",
      "   ..:::~~+~++vv>cvcccccccccvccccvcvv+++~+:::: .   \n",
      "  .:.:~+~++v>vccckckJcJkJkJJ\\kJckcccvcv>++++~:::.. \n",
      " :::~:+++vccckcJkJJJJJJJJJJJJJJJJJJk\\kcccv+++~:::. \n",
      ":::++++vccckkJJJJJJJJJJJJJJJJJJJJJJJJkJccccv+v+:~::\n",
      ":~+~+vccckkJkJJJJJJJAJAAAA2AAAJJJJJJJJJJ\\kccc++++~:\n",
      "~~++cvcckJkJJJJJJGAGGGGGGGdGGGGG2AAJJJJJJJkccc>v+~:\n",
      "~++cvck\\JJJJJJJGGAGddd#QQQdQd#dGdGA2AJJJJJJJkccv+++\n",
      "++vcccJJJJJJJGAGGd#dQQQQQQQQQQQQddGGGAJJJJJJkkcc>++\n",
      "++cccJkJJJJJAGGddQQQQQQQQQQQQQQQQQd#GGAJJJJJJkcccv+\n",
      "+cvck\\JJJJJGAGddQQQQQQQQQ@QQQQQQQQQQGGG2JJJJJJ\\ccv+\n",
      "+>cc\\JJJJJJGGGdQQQQQQQ@Q@@@@@QQQQQQQ#dGGJJJJJJ\\ccc+\n",
      "+cccJJJJJJ2AGGQQQQQQQQ@@@@@@@@QQQQQQQGGG2JJJJJJccc+\n",
      "+ccc\\JJJJJ2AG#dQQQQQQ@@@@@@@@@QQQQQQd#GGJJJJJJk\\c>v\n",
      "+>cc\\JJJJJ2AGGdQQQQQQQQ@@@@@QQQQQQQQdGGGJJJJJJkcc>v\n",
      "+>cccJJJJJJJGGGdQQQQQQQQQQQQQQQQQQQGdGGJJJJJJJccc>+\n",
      "++ccckJJJJJJ2AGGd#QQQQQQQQQQQQQQQ#G#GA2JJJJJJc\\c>v+\n",
      "+++ccck\\JJJJJ2A2GG##Q#QQQQQQQQQ##GGG2AJJJJJJ\\ccc+++\n",
      "~++v>cc\\JJJJJJJ22GGGG#G#####G#GGGG2AJJJJJJJc\\cc+>+:\n",
      "::++>>cc\\kJJJJJJJJJ2G2GGGGGGGG2GJ2JJJJJJJ\\k\\c>v++:~\n",
      ":::+++>ccccJJJJJJJJJJJJ2J2JJAJJJJJJJJJJ\\c\\cv>v++:::\n",
      " ::~:+++>cccc\\JJJJJJJJJJJJJJJJJJJJJJ\\\\c\\c>c+++:::: \n",
      "  ::::++++>c>ccc\\\\J\\JJJJJJJJJJJJ\\Jc\\c\\c>>v++:::: : \n",
      "   .:::~:+++>>>cccc\\c\\c\\k\\\\c\\c\\ccccc>v>+++:~::: .  \n",
      "      ::::~:++>++>v>c>cc>cccc>c>>v>++++::~::: .    \n"
     ]
    }
   ],
   "source": [
    "for i in range(len(ascii_arr)):\n",
    "    for j in range(len(ascii_arr[i])):\n",
    "        print(ascii_arr[i][j], sep='', end='')\n",
    "    print('\\n', end='')"
   ]
  }
 ],
 "metadata": {
  "kernelspec": {
   "display_name": "ascii_brightness_test",
   "language": "python",
   "name": "python3"
  },
  "language_info": {
   "codemirror_mode": {
    "name": "ipython",
    "version": 3
   },
   "file_extension": ".py",
   "mimetype": "text/x-python",
   "name": "python",
   "nbconvert_exporter": "python",
   "pygments_lexer": "ipython3",
   "version": "3.12.2"
  }
 },
 "nbformat": 4,
 "nbformat_minor": 2
}
