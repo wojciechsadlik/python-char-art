{
 "cells": [
  {
   "cell_type": "code",
   "execution_count": 1,
   "metadata": {},
   "outputs": [],
   "source": [
    "from PIL import Image\n",
    "import matplotlib.pyplot as plt\n",
    "import numpy as np\n",
    "import ipywidgets\n",
    "from ipywidgets import interactive, HBox, VBox\n",
    "from simple_ascii_art import img2ascii_arr, img2ascii_arr_v2\n",
    "from img_processing import preprocess_img, DITHER_MODES\n",
    "from braille_art import img2braille_arr"
   ]
  },
  {
   "cell_type": "code",
   "execution_count": 2,
   "metadata": {},
   "outputs": [
    {
     "name": "stdout",
     "output_type": "stream",
     "text": [
      "(512, 512)\n"
     ]
    }
   ],
   "source": [
    "orig_img = Image.open(\"imgs/irad_grad.bmp\").convert(\"L\")\n",
    "\n",
    "print(orig_img.size)"
   ]
  },
  {
   "cell_type": "code",
   "execution_count": 3,
   "metadata": {},
   "outputs": [
    {
     "data": {
      "application/vnd.jupyter.widget-view+json": {
       "model_id": "665f0de3b8a64b9b92c77db1c40096fc",
       "version_major": 2,
       "version_minor": 0
      },
      "text/plain": [
       "HBox(children=(VBox(children=(FloatSlider(value=0.5, description='scale_factor', max=1.0, min=0.01, step=0.01)…"
      ]
     },
     "metadata": {},
     "output_type": "display_data"
    }
   ],
   "source": [
    "def i_preprocess_img(scale_factor, contrast, brightness, quantize_colors, eq, dither):\n",
    "    proc_img = preprocess_img(orig_img, scale_factor, contrast, brightness, eq, quantize_colors, dither)\n",
    "    plt.imshow(proc_img, cmap='gray', vmin=0, vmax=255, interpolation='none')\n",
    "\n",
    "    plt.figure(figsize=(9, 3))\n",
    "    plt.xticks([x for x in range(0, len(proc_img.histogram()), 25)])\n",
    "    plt.bar([x for x in range(0, len(proc_img.histogram()))], proc_img.histogram())\n",
    "    plt.grid()\n",
    "    plt.show()\n",
    "\n",
    "    return proc_img\n",
    "\n",
    "interactive_preprocess = interactive(i_preprocess_img,\n",
    "            scale_factor=(0.01, 1, 0.01),\n",
    "            contrast=(0, 2, 0.01),\n",
    "            brightness=(0, 2, 0.01),\n",
    "            eq=(0, 1, 0.01),\n",
    "            quantize_colors=(1, 256, 1),\n",
    "            dither=DITHER_MODES)\n",
    "\n",
    "controls = VBox(interactive_preprocess.children[:-1])\n",
    "display(HBox((controls, interactive_preprocess.children[-1])))"
   ]
  },
  {
   "cell_type": "code",
   "execution_count": 11,
   "metadata": {},
   "outputs": [],
   "source": [
    "proc_img = interactive_preprocess.result"
   ]
  },
  {
   "cell_type": "code",
   "execution_count": 12,
   "metadata": {},
   "outputs": [],
   "source": [
    "ascii_arr = img2ascii_arr(proc_img, scale_vertically=True, dither=DITHER_MODES.FS)"
   ]
  },
  {
   "cell_type": "code",
   "execution_count": 13,
   "metadata": {},
   "outputs": [
    {
     "name": "stdout",
     "output_type": "stream",
     "text": [
      "   ..:::;;!!!!!;;;;::..   \n",
      " ..:;;!+++o+o+oo++!!;;::. \n",
      ".:;;!+oo444DDD4D44oo+!;;:.\n",
      ":;!++o44DNNNNNNNDDD4oo+!;:\n",
      ":!!ooDDNNNNQQQNQNNDD44++;;\n",
      ";!+o4DDNNQQ@Q@@QQQNND4o++;\n",
      ";++44DNNQQ@@@@@@QQNND44+!!\n",
      ";!+o4DDNQQQ@@@QQQNNDD4oo!;\n",
      ";!++44DNDNQNQQQQNNND44++!;\n",
      "::!++o44DNDNNNNDND44oo+;;:\n",
      ".::;++oo444DD4D444oo+!;;:.\n",
      " .::;;!!++o+ooo+++!!;;::. \n",
      "  ...::;;;!!!!!!;;;::..   \n"
     ]
    }
   ],
   "source": [
    "for i in range(len(ascii_arr)):\n",
    "    for j in range(len(ascii_arr[i])):\n",
    "        print(ascii_arr[i][j], sep='', end='')\n",
    "    print('\\n', end='')"
   ]
  },
  {
   "cell_type": "code",
   "execution_count": 14,
   "metadata": {},
   "outputs": [],
   "source": [
    "ascii_arr = img2ascii_arr_v2(proc_img, dither=DITHER_MODES.FS)"
   ]
  },
  {
   "cell_type": "code",
   "execution_count": 15,
   "metadata": {},
   "outputs": [
    {
     "name": "stdout",
     "output_type": "stream",
     "text": [
      "   .::~~;LLLL+LLL;~~::.   \n",
      " .:~;L+ooiiwwiwioio+L;~:. \n",
      ":~;L+oiw6&&&&&&&&wwiooL;~:\n",
      ":;+oiw6&ddddWdWddd&6wio+;~\n",
      ";L+iw&dddQQQQQQQQddd&6i++;\n",
      ";+iwG&dQQQQ@@@QQQQQdd6ii+;\n",
      ";oiZ6ddQQQ@@@@@@QQddd66i++\n",
      ";1ii6ddWQQQ@Q@@QQQWdd6Zi+;\n",
      ";!+i6GdddQQQQQQQWQddGZi++;\n",
      ":;+1iZ6GddWdWWWWdGG6Zi1+;:\n",
      "::;!+1iZZ6GGdG6G66Zi1+!;::\n",
      "  ::;!!+1i1iZiZi111!!;::: \n",
      "   : :;:!!!!+!!!!;;;::    \n"
     ]
    }
   ],
   "source": [
    "for i in range(len(ascii_arr)):\n",
    "    for j in range(len(ascii_arr[i])):\n",
    "        print(ascii_arr[i][j], sep='', end='')\n",
    "    print('\\n', end='')"
   ]
  },
  {
   "cell_type": "code",
   "execution_count": 16,
   "metadata": {},
   "outputs": [],
   "source": [
    "ascii_arr = img2braille_arr(proc_img, dither=DITHER_MODES.FS)"
   ]
  },
  {
   "cell_type": "code",
   "execution_count": 17,
   "metadata": {},
   "outputs": [
    {
     "name": "stdout",
     "output_type": "stream",
     "text": [
      "⠀⠀⢄⢂⢆⢦⢱⢰⢂⠆⡄⠄⠀\n",
      "⠠⡡⡣⣣⢗⣗⣯⣗⣗⣇⢇⠪⡀\n",
      "⢐⢕⣝⣞⣿⣽⣷⣿⣾⣺⡕⡇⡆\n",
      "⢨⢪⣺⣺⣽⣿⣿⣿⣾⣳⢯⢪⠢\n",
      "⢐⢑⠮⣺⣳⣻⡽⣾⡳⡯⡺⡘⡐\n",
      "⠀⠂⠕⢕⠪⡎⡯⡚⡎⡎⠪⠐⠀\n"
     ]
    }
   ],
   "source": [
    "for i in range(len(ascii_arr)):\n",
    "    for j in range(len(ascii_arr[i])):\n",
    "        print(ascii_arr[i][j], sep='', end='')\n",
    "    print('\\n', end='')"
   ]
  }
 ],
 "metadata": {
  "kernelspec": {
   "display_name": "ascii_brightness_test",
   "language": "python",
   "name": "python3"
  },
  "language_info": {
   "codemirror_mode": {
    "name": "ipython",
    "version": 3
   },
   "file_extension": ".py",
   "mimetype": "text/x-python",
   "name": "python",
   "nbconvert_exporter": "python",
   "pygments_lexer": "ipython3",
   "version": "3.12.3"
  }
 },
 "nbformat": 4,
 "nbformat_minor": 2
}
